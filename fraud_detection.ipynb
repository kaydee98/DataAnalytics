{
 "cells": [
  {
   "cell_type": "code",
   "execution_count": 101,
   "id": "3d320f56-f619-4bac-bec4-e19f7bd75ef5",
   "metadata": {},
   "outputs": [],
   "source": [
    "import pandas as pd\n",
    "import numpy as np\n",
    "from geopy.distance import geodesic"
   ]
  },
  {
   "cell_type": "markdown",
   "id": "51c5ff54-e7f9-4159-8811-1b6c2117952e",
   "metadata": {},
   "source": [
    "## 1. Gather Data ##\n",
    "#### This a sample credit card transactions dataset obtained from Ahmed M., the goal is to predict the anomalies in the dataset and potential use the data to train a model for detecting anomalies"
   ]
  },
  {
   "cell_type": "code",
   "execution_count": 104,
   "id": "81291545-c0f4-4cbd-8025-bd9edee83cfa",
   "metadata": {},
   "outputs": [],
   "source": [
    "df = pd.read_csv(\"data/credit_card_transactions.csv\")"
   ]
  },
  {
   "cell_type": "markdown",
   "id": "99f3b9c6-ef31-446d-842e-cfbd7fddcd6f",
   "metadata": {},
   "source": [
    "## 2. Assess Data\n",
    "Assess the dataset for quality and tidiness issues"
   ]
  },
  {
   "cell_type": "code",
   "execution_count": 107,
   "id": "248db00d-c683-4477-8ae8-225b3c393bc4",
   "metadata": {},
   "outputs": [
    {
     "name": "stdout",
     "output_type": "stream",
     "text": [
      "<class 'pandas.core.frame.DataFrame'>\n",
      "RangeIndex: 5000 entries, 0 to 4999\n",
      "Data columns (total 24 columns):\n",
      " #   Column                 Non-Null Count  Dtype  \n",
      "---  ------                 --------------  -----  \n",
      " 0   Unnamed: 0             5000 non-null   int64  \n",
      " 1   trans_date_trans_time  5000 non-null   object \n",
      " 2   cc_num                 5000 non-null   int64  \n",
      " 3   merchant               5000 non-null   object \n",
      " 4   category               5000 non-null   object \n",
      " 5   amt                    5000 non-null   float64\n",
      " 6   first                  5000 non-null   object \n",
      " 7   last                   5000 non-null   object \n",
      " 8   gender                 5000 non-null   object \n",
      " 9   street                 5000 non-null   object \n",
      " 10  city                   5000 non-null   object \n",
      " 11  state                  5000 non-null   object \n",
      " 12  zip                    5000 non-null   int64  \n",
      " 13  lat                    5000 non-null   float64\n",
      " 14  long                   5000 non-null   float64\n",
      " 15  city_pop               5000 non-null   int64  \n",
      " 16  job                    5000 non-null   object \n",
      " 17  dob                    5000 non-null   object \n",
      " 18  trans_num              5000 non-null   object \n",
      " 19  unix_time              5000 non-null   int64  \n",
      " 20  merch_lat              5000 non-null   float64\n",
      " 21  merch_long             5000 non-null   float64\n",
      " 22  is_fraud               5000 non-null   int64  \n",
      " 23  merch_zipcode          4214 non-null   float64\n",
      "dtypes: float64(6), int64(6), object(12)\n",
      "memory usage: 937.6+ KB\n"
     ]
    }
   ],
   "source": [
    "df.info()"
   ]
  },
  {
   "cell_type": "code",
   "execution_count": 109,
   "id": "1dc52cd7-50d5-4509-a9ce-a451af68bb4a",
   "metadata": {},
   "outputs": [
    {
     "data": {
      "text/plain": [
       "(5000, 24)"
      ]
     },
     "execution_count": 109,
     "metadata": {},
     "output_type": "execute_result"
    }
   ],
   "source": [
    "df.shape"
   ]
  },
  {
   "cell_type": "markdown",
   "id": "0541012d-27a3-46c8-bc52-d7b749e0128c",
   "metadata": {},
   "source": [
    "#### 2.1 Key Observations: ####\n",
    "- Target Column: is_fraud is likely ground truth for fraud detection (binary: 0 for normal, 1 for fraud).\n",
    "- Mixed Data Types: Includes numerical, categorical, and geospatial data.\n",
    "- Incomplete Data: merch_zipcode has missing values.\n",
    "- Temporal Component: trans_date_trans_time and unix_time represent time-based data.\n",
    "- Geospatial Features: Latitude/longitude of transactions and merchants (lat, long, merch_lat, merch_long).\n",
    "\n",
    "#### 2.2 Potential Anomalies: ####\n",
    "- Unusually large transactions (amt).\n",
    "- Geographical mismatches (e.g., large distance between lat/long and merch_lat/merch_long)\n",
    "- Suspicious temporal patterns (e.g., multiple transactions in short bursts).\n",
    "- Rare categories or merchants."
   ]
  },
  {
   "cell_type": "code",
   "execution_count": 112,
   "id": "f957f84a-8f65-4010-8255-04f38f376811",
   "metadata": {},
   "outputs": [
    {
     "data": {
      "text/html": [
       "<div>\n",
       "<style scoped>\n",
       "    .dataframe tbody tr th:only-of-type {\n",
       "        vertical-align: middle;\n",
       "    }\n",
       "\n",
       "    .dataframe tbody tr th {\n",
       "        vertical-align: top;\n",
       "    }\n",
       "\n",
       "    .dataframe thead th {\n",
       "        text-align: right;\n",
       "    }\n",
       "</style>\n",
       "<table border=\"1\" class=\"dataframe\">\n",
       "  <thead>\n",
       "    <tr style=\"text-align: right;\">\n",
       "      <th></th>\n",
       "      <th>Unnamed: 0</th>\n",
       "      <th>trans_date_trans_time</th>\n",
       "      <th>cc_num</th>\n",
       "      <th>merchant</th>\n",
       "      <th>category</th>\n",
       "      <th>amt</th>\n",
       "      <th>first</th>\n",
       "      <th>last</th>\n",
       "      <th>gender</th>\n",
       "      <th>street</th>\n",
       "      <th>...</th>\n",
       "      <th>long</th>\n",
       "      <th>city_pop</th>\n",
       "      <th>job</th>\n",
       "      <th>dob</th>\n",
       "      <th>trans_num</th>\n",
       "      <th>unix_time</th>\n",
       "      <th>merch_lat</th>\n",
       "      <th>merch_long</th>\n",
       "      <th>is_fraud</th>\n",
       "      <th>merch_zipcode</th>\n",
       "    </tr>\n",
       "  </thead>\n",
       "  <tbody>\n",
       "    <tr>\n",
       "      <th>0</th>\n",
       "      <td>0</td>\n",
       "      <td>2019-01-01 00:00:18</td>\n",
       "      <td>2703186189652095</td>\n",
       "      <td>fraud_Rippin, Kub and Mann</td>\n",
       "      <td>misc_net</td>\n",
       "      <td>4.97</td>\n",
       "      <td>Jennifer</td>\n",
       "      <td>Banks</td>\n",
       "      <td>F</td>\n",
       "      <td>561 Perry Cove</td>\n",
       "      <td>...</td>\n",
       "      <td>-81.1781</td>\n",
       "      <td>3495</td>\n",
       "      <td>Psychologist, counselling</td>\n",
       "      <td>1988-03-09</td>\n",
       "      <td>0b242abb623afc578575680df30655b9</td>\n",
       "      <td>1325376018</td>\n",
       "      <td>36.011293</td>\n",
       "      <td>-82.048315</td>\n",
       "      <td>0</td>\n",
       "      <td>28705.0</td>\n",
       "    </tr>\n",
       "    <tr>\n",
       "      <th>1</th>\n",
       "      <td>1</td>\n",
       "      <td>2019-01-01 00:00:44</td>\n",
       "      <td>630423337322</td>\n",
       "      <td>fraud_Heller, Gutmann and Zieme</td>\n",
       "      <td>grocery_pos</td>\n",
       "      <td>107.23</td>\n",
       "      <td>Stephanie</td>\n",
       "      <td>Gill</td>\n",
       "      <td>F</td>\n",
       "      <td>43039 Riley Greens Suite 393</td>\n",
       "      <td>...</td>\n",
       "      <td>-118.2105</td>\n",
       "      <td>149</td>\n",
       "      <td>Special educational needs teacher</td>\n",
       "      <td>1978-06-21</td>\n",
       "      <td>1f76529f8574734946361c461b024d99</td>\n",
       "      <td>1325376044</td>\n",
       "      <td>49.159047</td>\n",
       "      <td>-118.186462</td>\n",
       "      <td>0</td>\n",
       "      <td>NaN</td>\n",
       "    </tr>\n",
       "    <tr>\n",
       "      <th>2</th>\n",
       "      <td>2</td>\n",
       "      <td>2019-01-01 00:00:51</td>\n",
       "      <td>38859492057661</td>\n",
       "      <td>fraud_Lind-Buckridge</td>\n",
       "      <td>entertainment</td>\n",
       "      <td>220.11</td>\n",
       "      <td>Edward</td>\n",
       "      <td>Sanchez</td>\n",
       "      <td>M</td>\n",
       "      <td>594 White Dale Suite 530</td>\n",
       "      <td>...</td>\n",
       "      <td>-112.2620</td>\n",
       "      <td>4154</td>\n",
       "      <td>Nature conservation officer</td>\n",
       "      <td>1962-01-19</td>\n",
       "      <td>a1a22d70485983eac12b5b88dad1cf95</td>\n",
       "      <td>1325376051</td>\n",
       "      <td>43.150704</td>\n",
       "      <td>-112.154481</td>\n",
       "      <td>0</td>\n",
       "      <td>83236.0</td>\n",
       "    </tr>\n",
       "    <tr>\n",
       "      <th>3</th>\n",
       "      <td>3</td>\n",
       "      <td>2019-01-01 00:01:16</td>\n",
       "      <td>3534093764340240</td>\n",
       "      <td>fraud_Kutch, Hermiston and Farrell</td>\n",
       "      <td>gas_transport</td>\n",
       "      <td>45.00</td>\n",
       "      <td>Jeremy</td>\n",
       "      <td>White</td>\n",
       "      <td>M</td>\n",
       "      <td>9443 Cynthia Court Apt. 038</td>\n",
       "      <td>...</td>\n",
       "      <td>-112.1138</td>\n",
       "      <td>1939</td>\n",
       "      <td>Patent attorney</td>\n",
       "      <td>1967-01-12</td>\n",
       "      <td>6b849c168bdad6f867558c3793159a81</td>\n",
       "      <td>1325376076</td>\n",
       "      <td>47.034331</td>\n",
       "      <td>-112.561071</td>\n",
       "      <td>0</td>\n",
       "      <td>NaN</td>\n",
       "    </tr>\n",
       "    <tr>\n",
       "      <th>4</th>\n",
       "      <td>4</td>\n",
       "      <td>2019-01-01 00:03:06</td>\n",
       "      <td>375534208663984</td>\n",
       "      <td>fraud_Keeling-Crist</td>\n",
       "      <td>misc_pos</td>\n",
       "      <td>41.96</td>\n",
       "      <td>Tyler</td>\n",
       "      <td>Garcia</td>\n",
       "      <td>M</td>\n",
       "      <td>408 Bradley Rest</td>\n",
       "      <td>...</td>\n",
       "      <td>-79.4629</td>\n",
       "      <td>99</td>\n",
       "      <td>Dance movement psychotherapist</td>\n",
       "      <td>1986-03-28</td>\n",
       "      <td>a41d7549acf90789359a9aa5346dcb46</td>\n",
       "      <td>1325376186</td>\n",
       "      <td>38.674999</td>\n",
       "      <td>-78.632459</td>\n",
       "      <td>0</td>\n",
       "      <td>22844.0</td>\n",
       "    </tr>\n",
       "  </tbody>\n",
       "</table>\n",
       "<p>5 rows × 24 columns</p>\n",
       "</div>"
      ],
      "text/plain": [
       "   Unnamed: 0 trans_date_trans_time            cc_num  \\\n",
       "0           0   2019-01-01 00:00:18  2703186189652095   \n",
       "1           1   2019-01-01 00:00:44      630423337322   \n",
       "2           2   2019-01-01 00:00:51    38859492057661   \n",
       "3           3   2019-01-01 00:01:16  3534093764340240   \n",
       "4           4   2019-01-01 00:03:06   375534208663984   \n",
       "\n",
       "                             merchant       category     amt      first  \\\n",
       "0          fraud_Rippin, Kub and Mann       misc_net    4.97   Jennifer   \n",
       "1     fraud_Heller, Gutmann and Zieme    grocery_pos  107.23  Stephanie   \n",
       "2                fraud_Lind-Buckridge  entertainment  220.11     Edward   \n",
       "3  fraud_Kutch, Hermiston and Farrell  gas_transport   45.00     Jeremy   \n",
       "4                 fraud_Keeling-Crist       misc_pos   41.96      Tyler   \n",
       "\n",
       "      last gender                        street  ...      long city_pop  \\\n",
       "0    Banks      F                561 Perry Cove  ...  -81.1781     3495   \n",
       "1     Gill      F  43039 Riley Greens Suite 393  ... -118.2105      149   \n",
       "2  Sanchez      M      594 White Dale Suite 530  ... -112.2620     4154   \n",
       "3    White      M   9443 Cynthia Court Apt. 038  ... -112.1138     1939   \n",
       "4   Garcia      M              408 Bradley Rest  ...  -79.4629       99   \n",
       "\n",
       "                                 job         dob  \\\n",
       "0          Psychologist, counselling  1988-03-09   \n",
       "1  Special educational needs teacher  1978-06-21   \n",
       "2        Nature conservation officer  1962-01-19   \n",
       "3                    Patent attorney  1967-01-12   \n",
       "4     Dance movement psychotherapist  1986-03-28   \n",
       "\n",
       "                          trans_num   unix_time  merch_lat  merch_long  \\\n",
       "0  0b242abb623afc578575680df30655b9  1325376018  36.011293  -82.048315   \n",
       "1  1f76529f8574734946361c461b024d99  1325376044  49.159047 -118.186462   \n",
       "2  a1a22d70485983eac12b5b88dad1cf95  1325376051  43.150704 -112.154481   \n",
       "3  6b849c168bdad6f867558c3793159a81  1325376076  47.034331 -112.561071   \n",
       "4  a41d7549acf90789359a9aa5346dcb46  1325376186  38.674999  -78.632459   \n",
       "\n",
       "  is_fraud  merch_zipcode  \n",
       "0        0        28705.0  \n",
       "1        0            NaN  \n",
       "2        0        83236.0  \n",
       "3        0            NaN  \n",
       "4        0        22844.0  \n",
       "\n",
       "[5 rows x 24 columns]"
      ]
     },
     "execution_count": 112,
     "metadata": {},
     "output_type": "execute_result"
    }
   ],
   "source": [
    "df.head(5)"
   ]
  },
  {
   "cell_type": "markdown",
   "id": "2677c319-6927-4afb-93af-2d2a273a834a",
   "metadata": {},
   "source": [
    "## Clean Data/Pre-Processing"
   ]
  },
  {
   "cell_type": "code",
   "execution_count": 115,
   "id": "cdb6329f-7c71-4899-aee4-67a85b5c367a",
   "metadata": {},
   "outputs": [],
   "source": [
    "# Make copy of data before cleaning\n",
    "df_cleaned = df.copy()"
   ]
  },
  {
   "cell_type": "markdown",
   "id": "e721fe6d-5f40-489f-833f-a37a0a41655f",
   "metadata": {},
   "source": [
    "### 3.1 merch_zipcode has missing values and is float"
   ]
  },
  {
   "cell_type": "code",
   "execution_count": 118,
   "id": "8001a92f-9c9a-440f-b94e-8aecf78f221f",
   "metadata": {},
   "outputs": [
    {
     "data": {
      "text/plain": [
       "merch_zipcode\n",
       "43436.0    5\n",
       "95637.0    4\n",
       "21773.0    4\n",
       "6615.0     4\n",
       "10541.0    4\n",
       "          ..\n",
       "82327.0    1\n",
       "76834.0    1\n",
       "65247.0    1\n",
       "13343.0    1\n",
       "13036.0    1\n",
       "Name: count, Length: 3729, dtype: int64"
      ]
     },
     "execution_count": 118,
     "metadata": {},
     "output_type": "execute_result"
    }
   ],
   "source": [
    "df.merch_zipcode.value_counts()"
   ]
  },
  {
   "cell_type": "code",
   "execution_count": 120,
   "id": "db20c4b3-06d2-4272-bedc-2ddfd9cd872d",
   "metadata": {},
   "outputs": [],
   "source": [
    "## calculate distance between lat/long and merch_lat/merch_long\n",
    "\n",
    "df_cleaned['distance'] = df_cleaned.apply(\n",
    "    lambda x: geodesic((x['lat'], x['long']), (x['merch_lat'], x['merch_long'])).miles, axis=1\n",
    ")\n"
   ]
  },
  {
   "cell_type": "markdown",
   "id": "15b719d1-3dde-4214-b860-45f53acde46c",
   "metadata": {},
   "source": [
    "### 4. Exploring Data/Analysis"
   ]
  },
  {
   "cell_type": "code",
   "execution_count": 153,
   "id": "c03ef5df-e84a-4950-a599-a09b8a9b957b",
   "metadata": {},
   "outputs": [],
   "source": [
    "#Using Isolation Forest to generate anomaly score \n",
    "from sklearn.ensemble import IsolationForest\n",
    "from sklearn.preprocessing import OneHotEncoder, StandardScaler\n",
    "\n",
    "# Select features\n",
    "numerical_features = ['amt', 'distance', 'city_pop']\n",
    "categorical_features = ['category', 'gender']\n",
    "\n",
    "# Encode categorical features\n",
    "encoder = OneHotEncoder()\n",
    "encoded_categorical = encoder.fit_transform(df_cleaned[categorical_features]).toarray()\n",
    "\n",
    "# Scale numerical features\n",
    "scaler = StandardScaler()\n",
    "scaled_numerical = scaler.fit_transform(df_cleaned[numerical_features])\n",
    "\n",
    "# Combine features\n",
    "combined_features = np.hstack([scaled_numerical, encoded_categorical])\n",
    "\n",
    "# Fit Isolation Forest\n",
    "model = IsolationForest(contamination=0.05, random_state=42)\n",
    "df_cleaned['anomaly_score'] = model.fit_predict(combined_features)\n",
    "\n",
    "df_cleaned['predicted_fraud'] = (df_cleaned['anomaly_score'] == -1 ).astype(int)"
   ]
  },
  {
   "cell_type": "code",
   "execution_count": 157,
   "id": "1c012451-dcb8-4c06-8b98-6092f2190ca6",
   "metadata": {
    "scrolled": true
   },
   "outputs": [
    {
     "name": "stdout",
     "output_type": "stream",
     "text": [
      "Precision: 0.06\n",
      "Recall: 0.64\n",
      "F1-Score: 0.10\n",
      "Confusion Matrix:\n",
      "[[4742  236]\n",
      " [   8   14]]\n"
     ]
    }
   ],
   "source": [
    "from sklearn.metrics import precision_score, recall_score, f1_score, confusion_matrix\n",
    "\n",
    "# Ground truth and predictions\n",
    "y_true = df_cleaned['is_fraud']  # Ground truth\n",
    "y_pred = df_cleaned['predicted_fraud']  # Detected anomalies\n",
    "\n",
    "# Calculate metrics\n",
    "precision = precision_score(y_true, y_pred)\n",
    "recall = recall_score(y_true, y_pred)\n",
    "f1 = f1_score(y_true, y_pred)\n",
    "\n",
    "# Print results\n",
    "print(f\"Precision: {precision:.2f}\")\n",
    "print(f\"Recall: {recall:.2f}\")\n",
    "print(f\"F1-Score: {f1:.2f}\")\n",
    "\n",
    "# Confusion Matrix\n",
    "conf_matrix = confusion_matrix(y_true, y_pred)\n",
    "print(\"Confusion Matrix:\")\n",
    "print(conf_matrix)\n"
   ]
  },
  {
   "cell_type": "code",
   "execution_count": 155,
   "id": "ddc87761-566f-47cf-b638-6161a89be4a1",
   "metadata": {},
   "outputs": [
    {
     "data": {
      "image/png": "[encoded data removed]",
      "text/plain": [
       "<Figure size 640x480 with 2 Axes>"
      ]
     },
     "metadata": {},
     "output_type": "display_data"
    }
   ],
   "source": [
    "import matplotlib.pyplot as plt\n",
    "\n",
    "plt.scatter(df_cleaned['amt'], df_cleaned['distance'], c=df_cleaned['anomaly_score'], cmap='coolwarm', alpha=0.6)\n",
    "plt.xlabel('Transaction Amount')\n",
    "plt.ylabel('Distance')\n",
    "plt.title('Anomaly Detection Results')\n",
    "plt.colorbar(label='Anomaly Score')\n",
    "plt.show()\n"
   ]
  },
  {
   "cell_type": "code",
   "execution_count": null,
   "id": "095a31c3-7931-4ad2-ada7-0bc4a592a29e",
   "metadata": {},
   "outputs": [],
   "source": []
  }
 ],
 "metadata": {
  "kernelspec": {
   "display_name": "Python 3 (ipykernel)",
   "language": "python",
   "name": "python3"
  },
  "language_info": {
   "codemirror_mode": {
    "name": "ipython",
    "version": 3
   },
   "file_extension": ".py",
   "mimetype": "text/x-python",
   "name": "python",
   "nbconvert_exporter": "python",
   "pygments_lexer": "ipython3",
   "version": "3.12.4"
  }
 },
 "nbformat": 4,
 "nbformat_minor": 5
}
