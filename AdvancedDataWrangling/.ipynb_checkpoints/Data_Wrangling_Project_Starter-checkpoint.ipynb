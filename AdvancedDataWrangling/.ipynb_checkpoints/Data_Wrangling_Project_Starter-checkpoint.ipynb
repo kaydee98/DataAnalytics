{
 "cells": [
  {
   "cell_type": "markdown",
   "metadata": {
    "id": "GNIwe5N7s0e_"
   },
   "source": [
    "# Real-world Data Wrangling"
   ]
  },
  {
   "cell_type": "code",
   "execution_count": 8,
   "metadata": {},
   "outputs": [
    {
     "name": "stdout",
     "output_type": "stream",
     "text": [
      "Requirement already satisfied: kaggle==1.6.12 in /opt/anaconda3/lib/python3.12/site-packages (1.6.12)\n",
      "Requirement already satisfied: six>=1.10 in /opt/anaconda3/lib/python3.12/site-packages (from kaggle==1.6.12) (1.16.0)\n",
      "Requirement already satisfied: certifi>=2023.7.22 in /opt/anaconda3/lib/python3.12/site-packages (from kaggle==1.6.12) (2024.8.30)\n",
      "Requirement already satisfied: python-dateutil in /opt/anaconda3/lib/python3.12/site-packages (from kaggle==1.6.12) (2.9.0.post0)\n",
      "Requirement already satisfied: requests in /opt/anaconda3/lib/python3.12/site-packages (from kaggle==1.6.12) (2.32.2)\n",
      "Requirement already satisfied: tqdm in /opt/anaconda3/lib/python3.12/site-packages (from kaggle==1.6.12) (4.66.4)\n",
      "Requirement already satisfied: python-slugify in /opt/anaconda3/lib/python3.12/site-packages (from kaggle==1.6.12) (5.0.2)\n",
      "Requirement already satisfied: urllib3 in /opt/anaconda3/lib/python3.12/site-packages (from kaggle==1.6.12) (2.2.2)\n",
      "Requirement already satisfied: bleach in /opt/anaconda3/lib/python3.12/site-packages (from kaggle==1.6.12) (4.1.0)\n",
      "Requirement already satisfied: packaging in /opt/anaconda3/lib/python3.12/site-packages (from bleach->kaggle==1.6.12) (23.2)\n",
      "Requirement already satisfied: webencodings in /opt/anaconda3/lib/python3.12/site-packages (from bleach->kaggle==1.6.12) (0.5.1)\n",
      "Requirement already satisfied: text-unidecode>=1.3 in /opt/anaconda3/lib/python3.12/site-packages (from python-slugify->kaggle==1.6.12) (1.3)\n",
      "Requirement already satisfied: charset-normalizer<4,>=2 in /opt/anaconda3/lib/python3.12/site-packages (from requests->kaggle==1.6.12) (2.0.4)\n",
      "Requirement already satisfied: idna<4,>=2.5 in /opt/anaconda3/lib/python3.12/site-packages (from requests->kaggle==1.6.12) (3.7)\n"
     ]
    }
   ],
   "source": [
    "!python -m pip install kaggle==1.6.12"
   ]
  },
  {
   "cell_type": "code",
   "execution_count": 9,
   "metadata": {},
   "outputs": [],
   "source": [
    "## !pip install --target=/workspace ucimlrepo numpy==1.24.3"
   ]
  },
  {
   "cell_type": "markdown",
   "metadata": {},
   "source": [
    "**Note:** Restart the kernel to use updated package(s)."
   ]
  },
  {
   "cell_type": "code",
   "execution_count": 11,
   "metadata": {},
   "outputs": [],
   "source": [
    "import pandas as pd\n",
    "import numpy as np\n",
    "import requests"
   ]
  },
  {
   "cell_type": "markdown",
   "metadata": {
    "id": "lDYDkH-Zs7Nn"
   },
   "source": [
    "## 1. Gather data"
   ]
  },
  {
   "cell_type": "markdown",
   "metadata": {
    "id": "LbN7z7rcuqpO"
   },
   "source": [
    "### **1.1.** Problem Statement\n",
    "In this project, we will investigate the educational attainment levels among individuals employed in computer-related occupations in King County, Washington, by gathering, cleaning, and analyzing relevant data to identify trends, distributions, and potential correlations within the local workforce"
   ]
  },
  {
   "cell_type": "markdown",
   "metadata": {
    "id": "8AQfBAdUypMm"
   },
   "source": [
    "### **1.2.** Gather at least two datasets using two different data gathering methods"
   ]
  },
  {
   "cell_type": "markdown",
   "metadata": {
    "id": "7e6gS0wL1KTu"
   },
   "source": [
    "#### **Dataset 1**\n",
    "\n",
    "Type: XLS file\n",
    "\n",
    "Method: The data was gathered using the \"Downloading files\" method from U.S Bureau of Labor Statistics (Occupational Employment and Wage Statistics tables)\n",
    "\n",
    "Dataset variables:\n",
    "\n",
    "*   *AREA:* Area code\n",
    "*   *AREA_TITLE:* Title of the metropolitan area\n",
    "*   *OCC_CODE:* Occupational Code\n",
    "*   *OCC_TITLE:* Occupational Title\n",
    "*   *A_MEAN:* Mean Annual Wage"
   ]
  },
  {
   "cell_type": "code",
   "execution_count": 16,
   "metadata": {
    "id": "Su8E0uLuYkHU"
   },
   "outputs": [],
   "source": [
    "## Load OEW Dataset to access king county/seattle-tacoma area dataset\n",
    "OEW_data = pd.read_excel('MSA_M2023_dl.xlsx')"
   ]
  },
  {
   "cell_type": "code",
   "execution_count": 17,
   "metadata": {
    "scrolled": true
   },
   "outputs": [
    {
     "data": {
      "text/html": [
       "<div>\n",
       "<style scoped>\n",
       "    .dataframe tbody tr th:only-of-type {\n",
       "        vertical-align: middle;\n",
       "    }\n",
       "\n",
       "    .dataframe tbody tr th {\n",
       "        vertical-align: top;\n",
       "    }\n",
       "\n",
       "    .dataframe thead th {\n",
       "        text-align: right;\n",
       "    }\n",
       "</style>\n",
       "<table border=\"1\" class=\"dataframe\">\n",
       "  <thead>\n",
       "    <tr style=\"text-align: right;\">\n",
       "      <th></th>\n",
       "      <th>AREA</th>\n",
       "      <th>AREA_TITLE</th>\n",
       "      <th>AREA_TYPE</th>\n",
       "      <th>PRIM_STATE</th>\n",
       "      <th>NAICS</th>\n",
       "      <th>NAICS_TITLE</th>\n",
       "      <th>I_GROUP</th>\n",
       "      <th>OWN_CODE</th>\n",
       "      <th>OCC_CODE</th>\n",
       "      <th>OCC_TITLE</th>\n",
       "      <th>...</th>\n",
       "      <th>H_MEDIAN</th>\n",
       "      <th>H_PCT75</th>\n",
       "      <th>H_PCT90</th>\n",
       "      <th>A_PCT10</th>\n",
       "      <th>A_PCT25</th>\n",
       "      <th>A_MEDIAN</th>\n",
       "      <th>A_PCT75</th>\n",
       "      <th>A_PCT90</th>\n",
       "      <th>ANNUAL</th>\n",
       "      <th>HOURLY</th>\n",
       "    </tr>\n",
       "  </thead>\n",
       "  <tbody>\n",
       "    <tr>\n",
       "      <th>0</th>\n",
       "      <td>10180</td>\n",
       "      <td>Abilene, TX</td>\n",
       "      <td>4</td>\n",
       "      <td>TX</td>\n",
       "      <td>0</td>\n",
       "      <td>Cross-industry</td>\n",
       "      <td>cross-industry</td>\n",
       "      <td>1235</td>\n",
       "      <td>00-0000</td>\n",
       "      <td>All Occupations</td>\n",
       "      <td>...</td>\n",
       "      <td>18.6</td>\n",
       "      <td>28.03</td>\n",
       "      <td>40.08</td>\n",
       "      <td>22750</td>\n",
       "      <td>28710</td>\n",
       "      <td>38680</td>\n",
       "      <td>58310</td>\n",
       "      <td>83360</td>\n",
       "      <td>NaN</td>\n",
       "      <td>NaN</td>\n",
       "    </tr>\n",
       "    <tr>\n",
       "      <th>1</th>\n",
       "      <td>10180</td>\n",
       "      <td>Abilene, TX</td>\n",
       "      <td>4</td>\n",
       "      <td>TX</td>\n",
       "      <td>0</td>\n",
       "      <td>Cross-industry</td>\n",
       "      <td>cross-industry</td>\n",
       "      <td>1235</td>\n",
       "      <td>11-0000</td>\n",
       "      <td>Management Occupations</td>\n",
       "      <td>...</td>\n",
       "      <td>39.09</td>\n",
       "      <td>58.27</td>\n",
       "      <td>81.79</td>\n",
       "      <td>42080</td>\n",
       "      <td>59290</td>\n",
       "      <td>81310</td>\n",
       "      <td>121200</td>\n",
       "      <td>170130</td>\n",
       "      <td>NaN</td>\n",
       "      <td>NaN</td>\n",
       "    </tr>\n",
       "    <tr>\n",
       "      <th>2</th>\n",
       "      <td>10180</td>\n",
       "      <td>Abilene, TX</td>\n",
       "      <td>4</td>\n",
       "      <td>TX</td>\n",
       "      <td>0</td>\n",
       "      <td>Cross-industry</td>\n",
       "      <td>cross-industry</td>\n",
       "      <td>1235</td>\n",
       "      <td>11-1011</td>\n",
       "      <td>Chief Executives</td>\n",
       "      <td>...</td>\n",
       "      <td>97.28</td>\n",
       "      <td>#</td>\n",
       "      <td>#</td>\n",
       "      <td>98490</td>\n",
       "      <td>135280</td>\n",
       "      <td>202340</td>\n",
       "      <td>#</td>\n",
       "      <td>#</td>\n",
       "      <td>NaN</td>\n",
       "      <td>NaN</td>\n",
       "    </tr>\n",
       "    <tr>\n",
       "      <th>3</th>\n",
       "      <td>10180</td>\n",
       "      <td>Abilene, TX</td>\n",
       "      <td>4</td>\n",
       "      <td>TX</td>\n",
       "      <td>0</td>\n",
       "      <td>Cross-industry</td>\n",
       "      <td>cross-industry</td>\n",
       "      <td>1235</td>\n",
       "      <td>11-1021</td>\n",
       "      <td>General and Operations Managers</td>\n",
       "      <td>...</td>\n",
       "      <td>37.19</td>\n",
       "      <td>57.85</td>\n",
       "      <td>86.97</td>\n",
       "      <td>34440</td>\n",
       "      <td>49430</td>\n",
       "      <td>77360</td>\n",
       "      <td>120330</td>\n",
       "      <td>180900</td>\n",
       "      <td>NaN</td>\n",
       "      <td>NaN</td>\n",
       "    </tr>\n",
       "    <tr>\n",
       "      <th>4</th>\n",
       "      <td>10180</td>\n",
       "      <td>Abilene, TX</td>\n",
       "      <td>4</td>\n",
       "      <td>TX</td>\n",
       "      <td>0</td>\n",
       "      <td>Cross-industry</td>\n",
       "      <td>cross-industry</td>\n",
       "      <td>1235</td>\n",
       "      <td>11-2021</td>\n",
       "      <td>Marketing Managers</td>\n",
       "      <td>...</td>\n",
       "      <td>45.31</td>\n",
       "      <td>72.66</td>\n",
       "      <td>97.35</td>\n",
       "      <td>60130</td>\n",
       "      <td>74980</td>\n",
       "      <td>94240</td>\n",
       "      <td>151130</td>\n",
       "      <td>202490</td>\n",
       "      <td>NaN</td>\n",
       "      <td>NaN</td>\n",
       "    </tr>\n",
       "  </tbody>\n",
       "</table>\n",
       "<p>5 rows × 32 columns</p>\n",
       "</div>"
      ],
      "text/plain": [
       "    AREA   AREA_TITLE  AREA_TYPE PRIM_STATE  NAICS     NAICS_TITLE  \\\n",
       "0  10180  Abilene, TX          4         TX      0  Cross-industry   \n",
       "1  10180  Abilene, TX          4         TX      0  Cross-industry   \n",
       "2  10180  Abilene, TX          4         TX      0  Cross-industry   \n",
       "3  10180  Abilene, TX          4         TX      0  Cross-industry   \n",
       "4  10180  Abilene, TX          4         TX      0  Cross-industry   \n",
       "\n",
       "          I_GROUP  OWN_CODE OCC_CODE                        OCC_TITLE  ...  \\\n",
       "0  cross-industry      1235  00-0000                  All Occupations  ...   \n",
       "1  cross-industry      1235  11-0000           Management Occupations  ...   \n",
       "2  cross-industry      1235  11-1011                 Chief Executives  ...   \n",
       "3  cross-industry      1235  11-1021  General and Operations Managers  ...   \n",
       "4  cross-industry      1235  11-2021               Marketing Managers  ...   \n",
       "\n",
       "  H_MEDIAN H_PCT75 H_PCT90 A_PCT10 A_PCT25  A_MEDIAN  A_PCT75 A_PCT90 ANNUAL  \\\n",
       "0     18.6   28.03   40.08   22750   28710     38680    58310   83360    NaN   \n",
       "1    39.09   58.27   81.79   42080   59290     81310   121200  170130    NaN   \n",
       "2    97.28       #       #   98490  135280    202340        #       #    NaN   \n",
       "3    37.19   57.85   86.97   34440   49430     77360   120330  180900    NaN   \n",
       "4    45.31   72.66   97.35   60130   74980     94240   151130  202490    NaN   \n",
       "\n",
       "  HOURLY  \n",
       "0    NaN  \n",
       "1    NaN  \n",
       "2    NaN  \n",
       "3    NaN  \n",
       "4    NaN  \n",
       "\n",
       "[5 rows x 32 columns]"
      ]
     },
     "execution_count": 17,
     "metadata": {},
     "output_type": "execute_result"
    }
   ],
   "source": [
    "## Check the datasets' first 5 rows\n",
    "OEW_data.head(5)"
   ]
  },
  {
   "cell_type": "markdown",
   "metadata": {
    "id": "hoUjq1tPzz7P"
   },
   "source": [
    "#### Dataset 2\n",
    "\n",
    "Type: API\n",
    "\n",
    "Method: The data was gathered using the \"API\" method from the United States Census Bureau Public Use Microdata Sample site\n",
    "\n",
    "Dataset variables:\n",
    "\n",
    "*   *SOCP:* Standard Occupational Classification (SOC) codes for 2018 and later based oin 2018 SOC codes\n",
    "*   *SCHL:* Educational Attainment\n",
    "*   *SCHL_RC1:* Educational Attainment recode "
   ]
  },
  {
   "cell_type": "code",
   "execution_count": 19,
   "metadata": {
    "id": "6zT0QxRyYmm7"
   },
   "outputs": [],
   "source": [
    "## Access PUMS API for census information for king county/seattle-tacoma dataset\n",
    "url = 'https://api.census.gov/data/2023/acs/acs1/pums?get=PWGTP,SOCP,SCHL_RC1,SCHL&ucgid=795P200US5323304&recode+SCHL_RC1=%7B%22b%22:%22SCHL%22,%22d%22:%5B%5B%220%22,%2201%22,%2202%22,%2203%22,%2204%22,%2205%22,%2206%22,%2207%22,%2208%22,%2209%22,%2210%22,%2211%22,%2212%22,%2213%22,%2214%22,%2215%22%5D,%5B%2216%22,%2217%22%5D,%5B%2218%22,%2219%22%5D,%5B%2220%22,%2221%22%5D,%5B%2222%22,%2223%22,%2224%22%5D%5D%7D'\n",
    "PUMS_response = requests.get(url)\n",
    "PUMS_response.raise_for_status()\n",
    "\n",
    "## Get the json\n",
    "PUMS_response_data = PUMS_response.json()\n",
    "\n",
    "## Create dataframe from json\n",
    "PUMS_data = pd.DataFrame(PUMS_response_data)"
   ]
  },
  {
   "cell_type": "code",
   "execution_count": 20,
   "metadata": {},
   "outputs": [
    {
     "name": "stdout",
     "output_type": "stream",
     "text": [
      "       0       1         2     3      4      5\n",
      "0  PWGTP    SOCP  SCHL_RC1  SCHL   PUMA  STATE\n",
      "1     68       N         5    22  23304     53\n",
      "2     63  151252         5    22  23304     53\n",
      "3     62       N         5    22  23304     53\n",
      "4     49       N         1     6  23304     53\n"
     ]
    }
   ],
   "source": [
    "## Check the data returns\n",
    "print(PUMS_data.head(5))"
   ]
  },
  {
   "cell_type": "markdown",
   "metadata": {},
   "source": [
    "## Assess Dataset 1 - OEW ##"
   ]
  },
  {
   "cell_type": "markdown",
   "metadata": {},
   "source": [
    "#### Framework for completion ###\n",
    "- 1. Issue Assessment\n",
    "- -- State issue\n",
    "- -- Identify issue: identification technique (visually or programmatically)\n",
    "- -- Issue type (Data quality or Tidiness)\n",
    "- -- Provide justification for issue\n",
    "- 2. Clean Issue\n",
    "- -- Cleaning strategy: \n",
    "- -- cleaning verification"
   ]
  },
  {
   "cell_type": "code",
   "execution_count": 33,
   "metadata": {},
   "outputs": [],
   "source": [
    "## Make copy of dataset before assessment and cleaning\n",
    "OEW_data_copy = OEW_data.copy()"
   ]
  },
  {
   "cell_type": "code",
   "execution_count": 35,
   "metadata": {},
   "outputs": [
    {
     "name": "stdout",
     "output_type": "stream",
     "text": [
      "<class 'pandas.core.frame.DataFrame'>\n",
      "RangeIndex: 149591 entries, 0 to 149590\n",
      "Data columns (total 32 columns):\n",
      " #   Column        Non-Null Count   Dtype  \n",
      "---  ------        --------------   -----  \n",
      " 0   AREA          149591 non-null  int64  \n",
      " 1   AREA_TITLE    149591 non-null  object \n",
      " 2   AREA_TYPE     149591 non-null  int64  \n",
      " 3   PRIM_STATE    149591 non-null  object \n",
      " 4   NAICS         149591 non-null  int64  \n",
      " 5   NAICS_TITLE   149591 non-null  object \n",
      " 6   I_GROUP       149591 non-null  object \n",
      " 7   OWN_CODE      149591 non-null  int64  \n",
      " 8   OCC_CODE      149591 non-null  object \n",
      " 9   OCC_TITLE     149591 non-null  object \n",
      " 10  O_GROUP       149591 non-null  object \n",
      " 11  TOT_EMP       149591 non-null  object \n",
      " 12  EMP_PRSE      149591 non-null  object \n",
      " 13  JOBS_1000     149591 non-null  object \n",
      " 14  LOC_QUOTIENT  149591 non-null  object \n",
      " 15  PCT_TOTAL     0 non-null       float64\n",
      " 16  PCT_RPT       0 non-null       float64\n",
      " 17  H_MEAN        149591 non-null  object \n",
      " 18  A_MEAN        149591 non-null  object \n",
      " 19  MEAN_PRSE     149591 non-null  object \n",
      " 20  H_PCT10       149591 non-null  object \n",
      " 21  H_PCT25       149591 non-null  object \n",
      " 22  H_MEDIAN      149591 non-null  object \n",
      " 23  H_PCT75       149591 non-null  object \n",
      " 24  H_PCT90       149591 non-null  object \n",
      " 25  A_PCT10       149591 non-null  object \n",
      " 26  A_PCT25       149591 non-null  object \n",
      " 27  A_MEDIAN      149591 non-null  object \n",
      " 28  A_PCT75       149591 non-null  object \n",
      " 29  A_PCT90       149591 non-null  object \n",
      " 30  ANNUAL        7912 non-null    object \n",
      " 31  HOURLY        228 non-null     object \n",
      "dtypes: float64(2), int64(4), object(26)\n",
      "memory usage: 36.5+ MB\n"
     ]
    }
   ],
   "source": [
    "## visual assessments\n",
    "OEW_data_copy.info()"
   ]
  },
  {
   "cell_type": "markdown",
   "metadata": {
    "jp-MarkdownHeadingCollapsed": true
   },
   "source": [
    "#### AD1 - Issues List -  ####\n",
    "**Issue #1** column not needed for analysis\n",
    "Issue Assessment\n",
    "-- State issue: Dataset has columns not need for analysis, reduce footprint to only needed columns\n",
    "-- identification technique: visually\n",
    "-- Issue type: Tidiness\n",
    "-- Provide justification for issue"
   ]
  },
  {
   "cell_type": "markdown",
   "metadata": {},
   "source": [
    "#### AD1 - Issues  -  ####\n",
    "**Issue #1** column not needed for analysis\n",
    "Clean Issue\n",
    "-- Cleaning strategy: select only needed columns\n",
    "-- cleaning verification: .info() to verify columns"
   ]
  },
  {
   "cell_type": "code",
   "execution_count": 37,
   "metadata": {},
   "outputs": [],
   "source": [
    "# Create subset of dataset needed for analysis\n",
    "OEW_cleaned = OEW_data_copy[['AREA', 'OCC_CODE', 'OCC_TITLE', 'A_MEAN']].reindex()"
   ]
  },
  {
   "cell_type": "code",
   "execution_count": 39,
   "metadata": {
    "id": "SpW59kh-zl8d",
    "scrolled": true
   },
   "outputs": [
    {
     "name": "stdout",
     "output_type": "stream",
     "text": [
      "<class 'pandas.core.frame.DataFrame'>\n",
      "RangeIndex: 149591 entries, 0 to 149590\n",
      "Data columns (total 4 columns):\n",
      " #   Column     Non-Null Count   Dtype \n",
      "---  ------     --------------   ----- \n",
      " 0   AREA       149591 non-null  int64 \n",
      " 1   OCC_CODE   149591 non-null  object\n",
      " 2   OCC_TITLE  149591 non-null  object\n",
      " 3   A_MEAN     149591 non-null  object\n",
      "dtypes: int64(1), object(3)\n",
      "memory usage: 4.6+ MB\n"
     ]
    }
   ],
   "source": [
    "# Inspecting the dataframe visually\n",
    "OEW_cleaned.info()"
   ]
  },
  {
   "cell_type": "markdown",
   "metadata": {},
   "source": [
    "#### AD1 - Issues List -  ####\n",
    "issue: A_MEAN is object instead of float\n",
    "justification: calculations/graphs with columns require conversion"
   ]
  },
  {
   "cell_type": "code",
   "execution_count": 41,
   "metadata": {},
   "outputs": [
    {
     "data": {
      "text/html": [
       "<div>\n",
       "<style scoped>\n",
       "    .dataframe tbody tr th:only-of-type {\n",
       "        vertical-align: middle;\n",
       "    }\n",
       "\n",
       "    .dataframe tbody tr th {\n",
       "        vertical-align: top;\n",
       "    }\n",
       "\n",
       "    .dataframe thead th {\n",
       "        text-align: right;\n",
       "    }\n",
       "</style>\n",
       "<table border=\"1\" class=\"dataframe\">\n",
       "  <thead>\n",
       "    <tr style=\"text-align: right;\">\n",
       "      <th></th>\n",
       "      <th>AREA</th>\n",
       "      <th>OCC_CODE</th>\n",
       "      <th>OCC_TITLE</th>\n",
       "      <th>A_MEAN</th>\n",
       "    </tr>\n",
       "  </thead>\n",
       "  <tbody>\n",
       "    <tr>\n",
       "      <th>140301</th>\n",
       "      <td>49660</td>\n",
       "      <td>17-3027</td>\n",
       "      <td>Mechanical Engineering Technologists and Techn...</td>\n",
       "      <td>63870</td>\n",
       "    </tr>\n",
       "    <tr>\n",
       "      <th>10248</th>\n",
       "      <td>12580</td>\n",
       "      <td>43-5032</td>\n",
       "      <td>Dispatchers, Except Police, Fire, and Ambulance</td>\n",
       "      <td>51220</td>\n",
       "    </tr>\n",
       "    <tr>\n",
       "      <th>72109</th>\n",
       "      <td>30460</td>\n",
       "      <td>39-5092</td>\n",
       "      <td>Manicurists and Pedicurists</td>\n",
       "      <td>41040</td>\n",
       "    </tr>\n",
       "    <tr>\n",
       "      <th>42762</th>\n",
       "      <td>22140</td>\n",
       "      <td>25-9099</td>\n",
       "      <td>Educational Instruction and Library Workers, A...</td>\n",
       "      <td>41290</td>\n",
       "    </tr>\n",
       "    <tr>\n",
       "      <th>8781</th>\n",
       "      <td>12420</td>\n",
       "      <td>21-1029</td>\n",
       "      <td>Social Workers, All Other</td>\n",
       "      <td>72250</td>\n",
       "    </tr>\n",
       "    <tr>\n",
       "      <th>64338</th>\n",
       "      <td>28140</td>\n",
       "      <td>43-4199</td>\n",
       "      <td>Information and Record Clerks, All Other</td>\n",
       "      <td>42890</td>\n",
       "    </tr>\n",
       "    <tr>\n",
       "      <th>54987</th>\n",
       "      <td>25860</td>\n",
       "      <td>29-2052</td>\n",
       "      <td>Pharmacy Technicians</td>\n",
       "      <td>39620</td>\n",
       "    </tr>\n",
       "    <tr>\n",
       "      <th>81907</th>\n",
       "      <td>33340</td>\n",
       "      <td>27-2031</td>\n",
       "      <td>Dancers</td>\n",
       "      <td>*</td>\n",
       "    </tr>\n",
       "    <tr>\n",
       "      <th>120778</th>\n",
       "      <td>43340</td>\n",
       "      <td>39-3031</td>\n",
       "      <td>Ushers, Lobby Attendants, and Ticket Takers</td>\n",
       "      <td>28790</td>\n",
       "    </tr>\n",
       "    <tr>\n",
       "      <th>129022</th>\n",
       "      <td>45940</td>\n",
       "      <td>49-9052</td>\n",
       "      <td>Telecommunications Line Installers and Repairers</td>\n",
       "      <td>95580</td>\n",
       "    </tr>\n",
       "    <tr>\n",
       "      <th>37213</th>\n",
       "      <td>20100</td>\n",
       "      <td>33-0000</td>\n",
       "      <td>Protective Service Occupations</td>\n",
       "      <td>61030</td>\n",
       "    </tr>\n",
       "    <tr>\n",
       "      <th>91069</th>\n",
       "      <td>36220</td>\n",
       "      <td>33-0000</td>\n",
       "      <td>Protective Service Occupations</td>\n",
       "      <td>54340</td>\n",
       "    </tr>\n",
       "    <tr>\n",
       "      <th>123029</th>\n",
       "      <td>44060</td>\n",
       "      <td>43-5011</td>\n",
       "      <td>Cargo and Freight Agents</td>\n",
       "      <td>53670</td>\n",
       "    </tr>\n",
       "    <tr>\n",
       "      <th>129211</th>\n",
       "      <td>46060</td>\n",
       "      <td>21-1018</td>\n",
       "      <td>Substance Abuse, Behavioral Disorder, and Ment...</td>\n",
       "      <td>56050</td>\n",
       "    </tr>\n",
       "    <tr>\n",
       "      <th>131258</th>\n",
       "      <td>46520</td>\n",
       "      <td>27-3091</td>\n",
       "      <td>Interpreters and Translators</td>\n",
       "      <td>60900</td>\n",
       "    </tr>\n",
       "    <tr>\n",
       "      <th>41866</th>\n",
       "      <td>21780</td>\n",
       "      <td>39-9032</td>\n",
       "      <td>Recreation Workers</td>\n",
       "      <td>29710</td>\n",
       "    </tr>\n",
       "    <tr>\n",
       "      <th>134468</th>\n",
       "      <td>47380</td>\n",
       "      <td>51-9195</td>\n",
       "      <td>Molders, Shapers, and Casters, Except Metal an...</td>\n",
       "      <td>31060</td>\n",
       "    </tr>\n",
       "    <tr>\n",
       "      <th>123800</th>\n",
       "      <td>44180</td>\n",
       "      <td>39-7010</td>\n",
       "      <td>Tour and Travel Guides</td>\n",
       "      <td>31700</td>\n",
       "    </tr>\n",
       "    <tr>\n",
       "      <th>2417</th>\n",
       "      <td>10740</td>\n",
       "      <td>31-0000</td>\n",
       "      <td>Healthcare Support Occupations</td>\n",
       "      <td>33470</td>\n",
       "    </tr>\n",
       "    <tr>\n",
       "      <th>117077</th>\n",
       "      <td>42200</td>\n",
       "      <td>11-9039</td>\n",
       "      <td>Education Administrators, All Other</td>\n",
       "      <td>120880</td>\n",
       "    </tr>\n",
       "  </tbody>\n",
       "</table>\n",
       "</div>"
      ],
      "text/plain": [
       "         AREA OCC_CODE                                          OCC_TITLE  \\\n",
       "140301  49660  17-3027  Mechanical Engineering Technologists and Techn...   \n",
       "10248   12580  43-5032    Dispatchers, Except Police, Fire, and Ambulance   \n",
       "72109   30460  39-5092                        Manicurists and Pedicurists   \n",
       "42762   22140  25-9099  Educational Instruction and Library Workers, A...   \n",
       "8781    12420  21-1029                          Social Workers, All Other   \n",
       "64338   28140  43-4199           Information and Record Clerks, All Other   \n",
       "54987   25860  29-2052                               Pharmacy Technicians   \n",
       "81907   33340  27-2031                                            Dancers   \n",
       "120778  43340  39-3031        Ushers, Lobby Attendants, and Ticket Takers   \n",
       "129022  45940  49-9052   Telecommunications Line Installers and Repairers   \n",
       "37213   20100  33-0000                     Protective Service Occupations   \n",
       "91069   36220  33-0000                     Protective Service Occupations   \n",
       "123029  44060  43-5011                           Cargo and Freight Agents   \n",
       "129211  46060  21-1018  Substance Abuse, Behavioral Disorder, and Ment...   \n",
       "131258  46520  27-3091                       Interpreters and Translators   \n",
       "41866   21780  39-9032                                 Recreation Workers   \n",
       "134468  47380  51-9195  Molders, Shapers, and Casters, Except Metal an...   \n",
       "123800  44180  39-7010                             Tour and Travel Guides   \n",
       "2417    10740  31-0000                     Healthcare Support Occupations   \n",
       "117077  42200  11-9039                Education Administrators, All Other   \n",
       "\n",
       "        A_MEAN  \n",
       "140301   63870  \n",
       "10248    51220  \n",
       "72109    41040  \n",
       "42762    41290  \n",
       "8781     72250  \n",
       "64338    42890  \n",
       "54987    39620  \n",
       "81907        *  \n",
       "120778   28790  \n",
       "129022   95580  \n",
       "37213    61030  \n",
       "91069    54340  \n",
       "123029   53670  \n",
       "129211   56050  \n",
       "131258   60900  \n",
       "41866    29710  \n",
       "134468   31060  \n",
       "123800   31700  \n",
       "2417     33470  \n",
       "117077  120880  "
      ]
     },
     "execution_count": 41,
     "metadata": {},
     "output_type": "execute_result"
    }
   ],
   "source": [
    "## check sample data in columns (visual assessment)\n",
    "OEW_cleaned.sample(20)"
   ]
  },
  {
   "cell_type": "markdown",
   "metadata": {},
   "source": [
    "#### AD1 - Issues List -  ####\n",
    "- issue: A_MEAN has value '*'\n",
    "- "
   ]
  },
  {
   "cell_type": "code",
   "execution_count": 47,
   "metadata": {},
   "outputs": [
    {
     "data": {
      "text/plain": [
       "A_MEAN\n",
       "*         1487\n",
       "#          144\n",
       "54330       50\n",
       "46110       48\n",
       "40820       47\n",
       "          ... \n",
       "207260       1\n",
       "238120       1\n",
       "193040       1\n",
       "161570       1\n",
       "295110       1\n",
       "Name: count, Length: 15760, dtype: int64"
      ]
     },
     "execution_count": 47,
     "metadata": {},
     "output_type": "execute_result"
    }
   ],
   "source": [
    "## issue identification: Programmatic\n",
    "## issue type: validity/quality\n",
    "## issue: In addition to '*' there was a \"#\" value in the columns. This are invalid since this column represents a float value\n",
    "OEW_cleaned['A_MEAN'].value_counts()"
   ]
  },
  {
   "cell_type": "code",
   "execution_count": 53,
   "metadata": {},
   "outputs": [
    {
     "data": {
      "text/plain": [
       "0          49780.0\n",
       "1         100690.0\n",
       "2         240020.0\n",
       "3          98480.0\n",
       "4         116290.0\n",
       "            ...   \n",
       "149586     44550.0\n",
       "149587     45740.0\n",
       "149588     35630.0\n",
       "149589     38900.0\n",
       "149590     52670.0\n",
       "Name: A_MEAN, Length: 149591, dtype: float64"
      ]
     },
     "execution_count": 53,
     "metadata": {},
     "output_type": "execute_result"
    }
   ],
   "source": [
    "## Cleaning strategy: Replace '*' & '#' with np.nan and convert column to float\n",
    "## justification: allows for pandas function to handle missing values consistently\n",
    "pd.set_option('future.no_silent_downcasting', True)\n",
    "\n",
    "OEW_cleaned['A_MEAN'] = OEW_cleaned['A_MEAN'].replace(['*','#'], [np.nan, np.nan])\n",
    "OEW_cleaned['A_MEAN'].astype(float)"
   ]
  },
  {
   "cell_type": "code",
   "execution_count": 57,
   "metadata": {},
   "outputs": [
    {
     "data": {
      "text/plain": [
       "count     147960\n",
       "unique     15758\n",
       "top        54330\n",
       "freq          50\n",
       "Name: A_MEAN, dtype: int64"
      ]
     },
     "execution_count": 57,
     "metadata": {},
     "output_type": "execute_result"
    }
   ],
   "source": [
    "## cleaning verification\n",
    "OEW_cleaned['A_MEAN'].describe()"
   ]
  },
  {
   "cell_type": "code",
   "execution_count": 61,
   "metadata": {},
   "outputs": [
    {
     "data": {
      "text/plain": [
       "AREA   OCC_CODE  OCC_TITLE                                                      A_MEAN\n",
       "42660  00-0000   All Occupations                                                86520     1\n",
       "       43-9051   Mail Clerks and Mail Machine Operators, Except Postal Service  45490     1\n",
       "       43-4199   Information and Record Clerks, All Other                       53630     1\n",
       "       43-5011   Cargo and Freight Agents                                       56020     1\n",
       "       43-5021   Couriers and Messengers                                        46830     1\n",
       "                                                                                         ..\n",
       "       25-4022   Librarians and Media Collections Specialists                   99360     1\n",
       "       25-4031   Library Technicians                                            62270     1\n",
       "       25-9031   Instructional Coordinators                                     89850     1\n",
       "       25-9044   Teaching Assistants, Postsecondary                             51030     1\n",
       "       53-7199   Material Moving Workers, All Other                             60720     1\n",
       "Name: count, Length: 715, dtype: int64"
      ]
     },
     "execution_count": 61,
     "metadata": {},
     "output_type": "execute_result"
    }
   ],
   "source": [
    "## Issue: We are only interested in analyzing Seattle-Tacoma-Washington data only\n",
    "## Issue type: Tidyness\n",
    "## Indentification: programmatic\n",
    "## count for seattle code is 715 vs ~150k entries in dataset\n",
    "seattle_area = 42660\n",
    "OEW_cleaned[OEW_cleaned['AREA'] == seattle_area].value_counts()"
   ]
  },
  {
   "cell_type": "code",
   "execution_count": 65,
   "metadata": {},
   "outputs": [],
   "source": [
    "## Cleaning strategy: Filter out rows not relevant to analysis\n",
    "## justification: reducing dataset size\n",
    "seattle_area = 42660\n",
    "OEW_cleaned = OEW_cleaned[OEW_cleaned['AREA'] == seattle_area]"
   ]
  },
  {
   "cell_type": "code",
   "execution_count": 69,
   "metadata": {},
   "outputs": [
    {
     "data": {
      "text/plain": [
       "1"
      ]
     },
     "execution_count": 69,
     "metadata": {},
     "output_type": "execute_result"
    }
   ],
   "source": [
    "## Cleaning verification\n",
    "OEW_cleaned['AREA'].nunique()\n",
    "## I can probably drop this column now. it is repeated for all columns and add no value to the analysis"
   ]
  },
  {
   "cell_type": "code",
   "execution_count": 71,
   "metadata": {},
   "outputs": [
    {
     "data": {
      "text/html": [
       "<div>\n",
       "<style scoped>\n",
       "    .dataframe tbody tr th:only-of-type {\n",
       "        vertical-align: middle;\n",
       "    }\n",
       "\n",
       "    .dataframe tbody tr th {\n",
       "        vertical-align: top;\n",
       "    }\n",
       "\n",
       "    .dataframe thead th {\n",
       "        text-align: right;\n",
       "    }\n",
       "</style>\n",
       "<table border=\"1\" class=\"dataframe\">\n",
       "  <thead>\n",
       "    <tr style=\"text-align: right;\">\n",
       "      <th></th>\n",
       "      <th>AREA</th>\n",
       "      <th>OCC_CODE</th>\n",
       "      <th>OCC_TITLE</th>\n",
       "      <th>A_MEAN</th>\n",
       "    </tr>\n",
       "  </thead>\n",
       "  <tbody>\n",
       "    <tr>\n",
       "      <th>119179</th>\n",
       "      <td>42660</td>\n",
       "      <td>29-1021</td>\n",
       "      <td>Dentists, General</td>\n",
       "      <td>205140</td>\n",
       "    </tr>\n",
       "    <tr>\n",
       "      <th>119598</th>\n",
       "      <td>42660</td>\n",
       "      <td>53-3053</td>\n",
       "      <td>Shuttle Drivers and Chauffeurs</td>\n",
       "      <td>43690</td>\n",
       "    </tr>\n",
       "    <tr>\n",
       "      <th>119575</th>\n",
       "      <td>42660</td>\n",
       "      <td>51-9124</td>\n",
       "      <td>Coating, Painting, and Spraying Machine Setter...</td>\n",
       "      <td>66110</td>\n",
       "    </tr>\n",
       "    <tr>\n",
       "      <th>119202</th>\n",
       "      <td>42660</td>\n",
       "      <td>29-1215</td>\n",
       "      <td>Family Medicine Physicians</td>\n",
       "      <td>236250</td>\n",
       "    </tr>\n",
       "    <tr>\n",
       "      <th>119447</th>\n",
       "      <td>42660</td>\n",
       "      <td>47-4021</td>\n",
       "      <td>Elevator and Escalator Installers and Repairers</td>\n",
       "      <td>121110</td>\n",
       "    </tr>\n",
       "    <tr>\n",
       "      <th>119024</th>\n",
       "      <td>42660</td>\n",
       "      <td>19-1029</td>\n",
       "      <td>Biological Scientists, All Other</td>\n",
       "      <td>105820</td>\n",
       "    </tr>\n",
       "    <tr>\n",
       "      <th>119168</th>\n",
       "      <td>42660</td>\n",
       "      <td>27-3099</td>\n",
       "      <td>Media and Communication Workers, All Other</td>\n",
       "      <td>67090</td>\n",
       "    </tr>\n",
       "    <tr>\n",
       "      <th>119309</th>\n",
       "      <td>42660</td>\n",
       "      <td>39-1022</td>\n",
       "      <td>First-Line Supervisors of Personal Service Wor...</td>\n",
       "      <td>59920</td>\n",
       "    </tr>\n",
       "    <tr>\n",
       "      <th>118975</th>\n",
       "      <td>42660</td>\n",
       "      <td>15-1254</td>\n",
       "      <td>Web Developers</td>\n",
       "      <td>125040</td>\n",
       "    </tr>\n",
       "    <tr>\n",
       "      <th>119408</th>\n",
       "      <td>42660</td>\n",
       "      <td>45-2092</td>\n",
       "      <td>Farmworkers and Laborers, Crop, Nursery, and G...</td>\n",
       "      <td>43510</td>\n",
       "    </tr>\n",
       "    <tr>\n",
       "      <th>118937</th>\n",
       "      <td>42660</td>\n",
       "      <td>13-1051</td>\n",
       "      <td>Cost Estimators</td>\n",
       "      <td>92930</td>\n",
       "    </tr>\n",
       "    <tr>\n",
       "      <th>118991</th>\n",
       "      <td>42660</td>\n",
       "      <td>17-2041</td>\n",
       "      <td>Chemical Engineers</td>\n",
       "      <td>122100</td>\n",
       "    </tr>\n",
       "    <tr>\n",
       "      <th>119608</th>\n",
       "      <td>42660</td>\n",
       "      <td>53-6021</td>\n",
       "      <td>Parking Attendants</td>\n",
       "      <td>40830</td>\n",
       "    </tr>\n",
       "    <tr>\n",
       "      <th>119173</th>\n",
       "      <td>42660</td>\n",
       "      <td>27-4021</td>\n",
       "      <td>Photographers</td>\n",
       "      <td>56240</td>\n",
       "    </tr>\n",
       "    <tr>\n",
       "      <th>119451</th>\n",
       "      <td>42660</td>\n",
       "      <td>47-4061</td>\n",
       "      <td>Rail-Track Laying and Maintenance Equipment Op...</td>\n",
       "      <td>73850</td>\n",
       "    </tr>\n",
       "    <tr>\n",
       "      <th>119535</th>\n",
       "      <td>42660</td>\n",
       "      <td>51-4199</td>\n",
       "      <td>Metal Workers and Plastic Workers, All Other</td>\n",
       "      <td>63670</td>\n",
       "    </tr>\n",
       "    <tr>\n",
       "      <th>119044</th>\n",
       "      <td>42660</td>\n",
       "      <td>19-3091</td>\n",
       "      <td>Anthropologists and Archeologists</td>\n",
       "      <td>75190</td>\n",
       "    </tr>\n",
       "    <tr>\n",
       "      <th>119594</th>\n",
       "      <td>42660</td>\n",
       "      <td>53-3032</td>\n",
       "      <td>Heavy and Tractor-Trailer Truck Drivers</td>\n",
       "      <td>66270</td>\n",
       "    </tr>\n",
       "    <tr>\n",
       "      <th>119592</th>\n",
       "      <td>42660</td>\n",
       "      <td>53-2031</td>\n",
       "      <td>Flight Attendants</td>\n",
       "      <td>99440</td>\n",
       "    </tr>\n",
       "    <tr>\n",
       "      <th>119604</th>\n",
       "      <td>42660</td>\n",
       "      <td>53-5011</td>\n",
       "      <td>Sailors and Marine Oilers</td>\n",
       "      <td>59550</td>\n",
       "    </tr>\n",
       "    <tr>\n",
       "      <th>119177</th>\n",
       "      <td>42660</td>\n",
       "      <td>29-0000</td>\n",
       "      <td>Healthcare Practitioners and Technical Occupat...</td>\n",
       "      <td>124720</td>\n",
       "    </tr>\n",
       "    <tr>\n",
       "      <th>119091</th>\n",
       "      <td>42660</td>\n",
       "      <td>25-1061</td>\n",
       "      <td>Anthropology and Archeology Teachers, Postseco...</td>\n",
       "      <td>92110</td>\n",
       "    </tr>\n",
       "    <tr>\n",
       "      <th>119505</th>\n",
       "      <td>42660</td>\n",
       "      <td>51-2011</td>\n",
       "      <td>Aircraft Structure, Surfaces, Rigging, and Sys...</td>\n",
       "      <td>76100</td>\n",
       "    </tr>\n",
       "    <tr>\n",
       "      <th>119164</th>\n",
       "      <td>42660</td>\n",
       "      <td>27-3041</td>\n",
       "      <td>Editors</td>\n",
       "      <td>93220</td>\n",
       "    </tr>\n",
       "    <tr>\n",
       "      <th>119280</th>\n",
       "      <td>42660</td>\n",
       "      <td>35-1011</td>\n",
       "      <td>Chefs and Head Cooks</td>\n",
       "      <td>74100</td>\n",
       "    </tr>\n",
       "    <tr>\n",
       "      <th>119000</th>\n",
       "      <td>42660</td>\n",
       "      <td>17-2131</td>\n",
       "      <td>Materials Engineers</td>\n",
       "      <td>127590</td>\n",
       "    </tr>\n",
       "    <tr>\n",
       "      <th>119213</th>\n",
       "      <td>42660</td>\n",
       "      <td>29-1249</td>\n",
       "      <td>Surgeons, All Other</td>\n",
       "      <td>253900</td>\n",
       "    </tr>\n",
       "    <tr>\n",
       "      <th>119143</th>\n",
       "      <td>42660</td>\n",
       "      <td>27-1011</td>\n",
       "      <td>Art Directors</td>\n",
       "      <td>160140</td>\n",
       "    </tr>\n",
       "    <tr>\n",
       "      <th>119437</th>\n",
       "      <td>42660</td>\n",
       "      <td>47-2181</td>\n",
       "      <td>Roofers</td>\n",
       "      <td>71740</td>\n",
       "    </tr>\n",
       "    <tr>\n",
       "      <th>119513</th>\n",
       "      <td>42660</td>\n",
       "      <td>51-3022</td>\n",
       "      <td>Meat, Poultry, and Fish Cutters and Trimmers</td>\n",
       "      <td>40150</td>\n",
       "    </tr>\n",
       "  </tbody>\n",
       "</table>\n",
       "</div>"
      ],
      "text/plain": [
       "         AREA OCC_CODE                                          OCC_TITLE  \\\n",
       "119179  42660  29-1021                                  Dentists, General   \n",
       "119598  42660  53-3053                     Shuttle Drivers and Chauffeurs   \n",
       "119575  42660  51-9124  Coating, Painting, and Spraying Machine Setter...   \n",
       "119202  42660  29-1215                         Family Medicine Physicians   \n",
       "119447  42660  47-4021    Elevator and Escalator Installers and Repairers   \n",
       "119024  42660  19-1029                   Biological Scientists, All Other   \n",
       "119168  42660  27-3099         Media and Communication Workers, All Other   \n",
       "119309  42660  39-1022  First-Line Supervisors of Personal Service Wor...   \n",
       "118975  42660  15-1254                                     Web Developers   \n",
       "119408  42660  45-2092  Farmworkers and Laborers, Crop, Nursery, and G...   \n",
       "118937  42660  13-1051                                    Cost Estimators   \n",
       "118991  42660  17-2041                                 Chemical Engineers   \n",
       "119608  42660  53-6021                                 Parking Attendants   \n",
       "119173  42660  27-4021                                      Photographers   \n",
       "119451  42660  47-4061  Rail-Track Laying and Maintenance Equipment Op...   \n",
       "119535  42660  51-4199       Metal Workers and Plastic Workers, All Other   \n",
       "119044  42660  19-3091                  Anthropologists and Archeologists   \n",
       "119594  42660  53-3032            Heavy and Tractor-Trailer Truck Drivers   \n",
       "119592  42660  53-2031                                  Flight Attendants   \n",
       "119604  42660  53-5011                          Sailors and Marine Oilers   \n",
       "119177  42660  29-0000  Healthcare Practitioners and Technical Occupat...   \n",
       "119091  42660  25-1061  Anthropology and Archeology Teachers, Postseco...   \n",
       "119505  42660  51-2011  Aircraft Structure, Surfaces, Rigging, and Sys...   \n",
       "119164  42660  27-3041                                            Editors   \n",
       "119280  42660  35-1011                               Chefs and Head Cooks   \n",
       "119000  42660  17-2131                                Materials Engineers   \n",
       "119213  42660  29-1249                                Surgeons, All Other   \n",
       "119143  42660  27-1011                                      Art Directors   \n",
       "119437  42660  47-2181                                            Roofers   \n",
       "119513  42660  51-3022       Meat, Poultry, and Fish Cutters and Trimmers   \n",
       "\n",
       "        A_MEAN  \n",
       "119179  205140  \n",
       "119598   43690  \n",
       "119575   66110  \n",
       "119202  236250  \n",
       "119447  121110  \n",
       "119024  105820  \n",
       "119168   67090  \n",
       "119309   59920  \n",
       "118975  125040  \n",
       "119408   43510  \n",
       "118937   92930  \n",
       "118991  122100  \n",
       "119608   40830  \n",
       "119173   56240  \n",
       "119451   73850  \n",
       "119535   63670  \n",
       "119044   75190  \n",
       "119594   66270  \n",
       "119592   99440  \n",
       "119604   59550  \n",
       "119177  124720  \n",
       "119091   92110  \n",
       "119505   76100  \n",
       "119164   93220  \n",
       "119280   74100  \n",
       "119000  127590  \n",
       "119213  253900  \n",
       "119143  160140  \n",
       "119437   71740  \n",
       "119513   40150  "
      ]
     },
     "execution_count": 71,
     "metadata": {},
     "output_type": "execute_result"
    }
   ],
   "source": [
    "OEW_cleaned.sample(30)"
   ]
  },
  {
   "cell_type": "code",
   "execution_count": 73,
   "metadata": {},
   "outputs": [],
   "source": [
    "## Issue: We are only interested in analyzing computer-related occupations data only\n",
    "## Issue type: Tidyness\n",
    "## Indentification: visual \n",
    "## (OCC_TITLE column has non-computer related descriptions)\n",
    "## ============================================================\n",
    "\n",
    "## cleaning strategy: Filter out all other OCC_CODEs \n",
    "comsci_startwith = '15-'\n",
    "OEW_cleaned = OEW_cleaned[ OEW_cleaned['OCC_CODE'].str.startswith(comsci_startwith)]"
   ]
  },
  {
   "cell_type": "code",
   "execution_count": 81,
   "metadata": {},
   "outputs": [
    {
     "data": {
      "text/html": [
       "<div>\n",
       "<style scoped>\n",
       "    .dataframe tbody tr th:only-of-type {\n",
       "        vertical-align: middle;\n",
       "    }\n",
       "\n",
       "    .dataframe tbody tr th {\n",
       "        vertical-align: top;\n",
       "    }\n",
       "\n",
       "    .dataframe thead th {\n",
       "        text-align: right;\n",
       "    }\n",
       "</style>\n",
       "<table border=\"1\" class=\"dataframe\">\n",
       "  <thead>\n",
       "    <tr style=\"text-align: right;\">\n",
       "      <th></th>\n",
       "      <th>AREA</th>\n",
       "      <th>OCC_CODE</th>\n",
       "      <th>OCC_TITLE</th>\n",
       "      <th>A_MEAN</th>\n",
       "    </tr>\n",
       "  </thead>\n",
       "  <tbody>\n",
       "    <tr>\n",
       "      <th>118974</th>\n",
       "      <td>42660</td>\n",
       "      <td>15-1253</td>\n",
       "      <td>Software Quality Assurance Analysts and Testers</td>\n",
       "      <td>126350</td>\n",
       "    </tr>\n",
       "    <tr>\n",
       "      <th>118978</th>\n",
       "      <td>42660</td>\n",
       "      <td>15-2011</td>\n",
       "      <td>Actuaries</td>\n",
       "      <td>144890</td>\n",
       "    </tr>\n",
       "    <tr>\n",
       "      <th>118962</th>\n",
       "      <td>42660</td>\n",
       "      <td>15-0000</td>\n",
       "      <td>Computer and Mathematical Occupations</td>\n",
       "      <td>144530</td>\n",
       "    </tr>\n",
       "    <tr>\n",
       "      <th>118970</th>\n",
       "      <td>42660</td>\n",
       "      <td>15-1243</td>\n",
       "      <td>Database Architects</td>\n",
       "      <td>159020</td>\n",
       "    </tr>\n",
       "    <tr>\n",
       "      <th>118971</th>\n",
       "      <td>42660</td>\n",
       "      <td>15-1244</td>\n",
       "      <td>Network and Computer Systems Administrators</td>\n",
       "      <td>117380</td>\n",
       "    </tr>\n",
       "    <tr>\n",
       "      <th>118964</th>\n",
       "      <td>42660</td>\n",
       "      <td>15-1212</td>\n",
       "      <td>Information Security Analysts</td>\n",
       "      <td>154600</td>\n",
       "    </tr>\n",
       "    <tr>\n",
       "      <th>118967</th>\n",
       "      <td>42660</td>\n",
       "      <td>15-1232</td>\n",
       "      <td>Computer User Support Specialists</td>\n",
       "      <td>78700</td>\n",
       "    </tr>\n",
       "    <tr>\n",
       "      <th>118966</th>\n",
       "      <td>42660</td>\n",
       "      <td>15-1231</td>\n",
       "      <td>Computer Network Support Specialists</td>\n",
       "      <td>100650</td>\n",
       "    </tr>\n",
       "    <tr>\n",
       "      <th>118977</th>\n",
       "      <td>42660</td>\n",
       "      <td>15-1299</td>\n",
       "      <td>Computer Occupations, All Other</td>\n",
       "      <td>137130</td>\n",
       "    </tr>\n",
       "    <tr>\n",
       "      <th>118980</th>\n",
       "      <td>42660</td>\n",
       "      <td>15-2031</td>\n",
       "      <td>Operations Research Analysts</td>\n",
       "      <td>106620</td>\n",
       "    </tr>\n",
       "    <tr>\n",
       "      <th>118963</th>\n",
       "      <td>42660</td>\n",
       "      <td>15-1211</td>\n",
       "      <td>Computer Systems Analysts</td>\n",
       "      <td>138410</td>\n",
       "    </tr>\n",
       "    <tr>\n",
       "      <th>118973</th>\n",
       "      <td>42660</td>\n",
       "      <td>15-1252</td>\n",
       "      <td>Software Developers</td>\n",
       "      <td>164130</td>\n",
       "    </tr>\n",
       "    <tr>\n",
       "      <th>118968</th>\n",
       "      <td>42660</td>\n",
       "      <td>15-1241</td>\n",
       "      <td>Computer Network Architects</td>\n",
       "      <td>167420</td>\n",
       "    </tr>\n",
       "    <tr>\n",
       "      <th>118982</th>\n",
       "      <td>42660</td>\n",
       "      <td>15-2051</td>\n",
       "      <td>Data Scientists</td>\n",
       "      <td>151320</td>\n",
       "    </tr>\n",
       "    <tr>\n",
       "      <th>118981</th>\n",
       "      <td>42660</td>\n",
       "      <td>15-2041</td>\n",
       "      <td>Statisticians</td>\n",
       "      <td>120060</td>\n",
       "    </tr>\n",
       "    <tr>\n",
       "      <th>118983</th>\n",
       "      <td>42660</td>\n",
       "      <td>15-2099</td>\n",
       "      <td>Mathematical Science Occupations, All Other</td>\n",
       "      <td>74290</td>\n",
       "    </tr>\n",
       "    <tr>\n",
       "      <th>118972</th>\n",
       "      <td>42660</td>\n",
       "      <td>15-1251</td>\n",
       "      <td>Computer Programmers</td>\n",
       "      <td>167190</td>\n",
       "    </tr>\n",
       "    <tr>\n",
       "      <th>118965</th>\n",
       "      <td>42660</td>\n",
       "      <td>15-1221</td>\n",
       "      <td>Computer and Information Research Scientists</td>\n",
       "      <td>211410</td>\n",
       "    </tr>\n",
       "    <tr>\n",
       "      <th>118976</th>\n",
       "      <td>42660</td>\n",
       "      <td>15-1255</td>\n",
       "      <td>Web and Digital Interface Designers</td>\n",
       "      <td>128650</td>\n",
       "    </tr>\n",
       "    <tr>\n",
       "      <th>118979</th>\n",
       "      <td>42660</td>\n",
       "      <td>15-2021</td>\n",
       "      <td>Mathematicians</td>\n",
       "      <td>153070</td>\n",
       "    </tr>\n",
       "  </tbody>\n",
       "</table>\n",
       "</div>"
      ],
      "text/plain": [
       "         AREA OCC_CODE                                        OCC_TITLE  \\\n",
       "118974  42660  15-1253  Software Quality Assurance Analysts and Testers   \n",
       "118978  42660  15-2011                                        Actuaries   \n",
       "118962  42660  15-0000            Computer and Mathematical Occupations   \n",
       "118970  42660  15-1243                              Database Architects   \n",
       "118971  42660  15-1244      Network and Computer Systems Administrators   \n",
       "118964  42660  15-1212                    Information Security Analysts   \n",
       "118967  42660  15-1232                Computer User Support Specialists   \n",
       "118966  42660  15-1231             Computer Network Support Specialists   \n",
       "118977  42660  15-1299                  Computer Occupations, All Other   \n",
       "118980  42660  15-2031                     Operations Research Analysts   \n",
       "118963  42660  15-1211                        Computer Systems Analysts   \n",
       "118973  42660  15-1252                              Software Developers   \n",
       "118968  42660  15-1241                      Computer Network Architects   \n",
       "118982  42660  15-2051                                  Data Scientists   \n",
       "118981  42660  15-2041                                    Statisticians   \n",
       "118983  42660  15-2099      Mathematical Science Occupations, All Other   \n",
       "118972  42660  15-1251                             Computer Programmers   \n",
       "118965  42660  15-1221     Computer and Information Research Scientists   \n",
       "118976  42660  15-1255              Web and Digital Interface Designers   \n",
       "118979  42660  15-2021                                   Mathematicians   \n",
       "\n",
       "        A_MEAN  \n",
       "118974  126350  \n",
       "118978  144890  \n",
       "118962  144530  \n",
       "118970  159020  \n",
       "118971  117380  \n",
       "118964  154600  \n",
       "118967   78700  \n",
       "118966  100650  \n",
       "118977  137130  \n",
       "118980  106620  \n",
       "118963  138410  \n",
       "118973  164130  \n",
       "118968  167420  \n",
       "118982  151320  \n",
       "118981  120060  \n",
       "118983   74290  \n",
       "118972  167190  \n",
       "118965  211410  \n",
       "118976  128650  \n",
       "118979  153070  "
      ]
     },
     "execution_count": 81,
     "metadata": {},
     "output_type": "execute_result"
    }
   ],
   "source": [
    "## Cleaning verification\n",
    "OEW_cleaned.sample(20)"
   ]
  },
  {
   "cell_type": "code",
   "execution_count": 83,
   "metadata": {},
   "outputs": [
    {
     "data": {
      "text/plain": [
       "118962    False\n",
       "118963    False\n",
       "118964    False\n",
       "118965    False\n",
       "118966    False\n",
       "118967    False\n",
       "118968    False\n",
       "118969    False\n",
       "118970    False\n",
       "118971    False\n",
       "118972    False\n",
       "118973    False\n",
       "118974    False\n",
       "118975    False\n",
       "118976    False\n",
       "118977    False\n",
       "118978    False\n",
       "118979    False\n",
       "118980    False\n",
       "118981    False\n",
       "118982    False\n",
       "118983    False\n",
       "dtype: bool"
      ]
     },
     "execution_count": 83,
     "metadata": {},
     "output_type": "execute_result"
    }
   ],
   "source": [
    "OEW_cleaned.duplicated()"
   ]
  },
  {
   "cell_type": "markdown",
   "metadata": {},
   "source": [
    "#### MESSY DATA aka Structural Issues/method equal visual assessment\n",
    "#### A_MEAN should be float/int64\n",
    "#### OCC_CODE should be string - check that it can be converted to int64/float\n",
    "#### OCC_TITLE should be string"
   ]
  },
  {
   "cell_type": "markdown",
   "metadata": {},
   "source": [
    "## Assess Dataset 2 ## -- PUMS"
   ]
  },
  {
   "cell_type": "markdown",
   "metadata": {},
   "source": [
    "#### Framework for completion ###\n",
    "- 1. Issue Assessment\n",
    "- -- State issue\n",
    "- -- Identify issue: identification technique (visually or programmatically)\n",
    "- -- Issue type (Data quality or Tidiness)\n",
    "- -- Provide justification for issue\n",
    "- 2. Clean Issue\n",
    "- -- Cleaning strategy: \n",
    "- -- cleaning verification"
   ]
  },
  {
   "cell_type": "code",
   "execution_count": 94,
   "metadata": {},
   "outputs": [],
   "source": [
    "## Make copy of dataset before assessment and cleaning\n",
    "PUMS_data_copy = PUMS_data.copy()"
   ]
  },
  {
   "cell_type": "code",
   "execution_count": 96,
   "metadata": {},
   "outputs": [
    {
     "name": "stdout",
     "output_type": "stream",
     "text": [
      "       0       1         2     3      4      5\n",
      "0  PWGTP    SOCP  SCHL_RC1  SCHL   PUMA  STATE\n",
      "1     68       N         5    22  23304     53\n",
      "2     63  151252         5    22  23304     53\n",
      "3     62       N         5    22  23304     53\n",
      "4     49       N         1     6  23304     53\n"
     ]
    }
   ],
   "source": [
    "### header is the first row of data \n",
    "print(PUMS_data_copy.head(5))"
   ]
  },
  {
   "cell_type": "code",
   "execution_count": null,
   "metadata": {},
   "outputs": [],
   "source": [
    "## Issue columns headers are rows in the dataset\n",
    "## Identification: visual\n",
    "## issue type: Quality (?)\n",
    "## justification: fix for easy assess to column data\n",
    "\n"
   ]
  },
  {
   "cell_type": "code",
   "execution_count": 141,
   "metadata": {},
   "outputs": [],
   "source": [
    "# Create subset of dataset needed for analysis\n",
    "PUMS_subset = PUMS_data[['SOCP','SCHL_RC1', 'SCHL']].reindex()"
   ]
  },
  {
   "cell_type": "code",
   "execution_count": 143,
   "metadata": {},
   "outputs": [
    {
     "data": {
      "text/html": [
       "<div>\n",
       "<style scoped>\n",
       "    .dataframe tbody tr th:only-of-type {\n",
       "        vertical-align: middle;\n",
       "    }\n",
       "\n",
       "    .dataframe tbody tr th {\n",
       "        vertical-align: top;\n",
       "    }\n",
       "\n",
       "    .dataframe thead th {\n",
       "        text-align: right;\n",
       "    }\n",
       "</style>\n",
       "<table border=\"1\" class=\"dataframe\">\n",
       "  <thead>\n",
       "    <tr style=\"text-align: right;\">\n",
       "      <th></th>\n",
       "      <th>SOCP</th>\n",
       "      <th>SCHL_RC1</th>\n",
       "      <th>SCHL</th>\n",
       "    </tr>\n",
       "  </thead>\n",
       "  <tbody>\n",
       "    <tr>\n",
       "      <th>1192</th>\n",
       "      <td>N</td>\n",
       "      <td>4</td>\n",
       "      <td>21</td>\n",
       "    </tr>\n",
       "    <tr>\n",
       "      <th>281</th>\n",
       "      <td>N</td>\n",
       "      <td>4</td>\n",
       "      <td>20</td>\n",
       "    </tr>\n",
       "    <tr>\n",
       "      <th>558</th>\n",
       "      <td>N</td>\n",
       "      <td>3</td>\n",
       "      <td>19</td>\n",
       "    </tr>\n",
       "    <tr>\n",
       "      <th>1224</th>\n",
       "      <td>472111</td>\n",
       "      <td>3</td>\n",
       "      <td>18</td>\n",
       "    </tr>\n",
       "    <tr>\n",
       "      <th>367</th>\n",
       "      <td>1720XX</td>\n",
       "      <td>5</td>\n",
       "      <td>22</td>\n",
       "    </tr>\n",
       "    <tr>\n",
       "      <th>1041</th>\n",
       "      <td>113031</td>\n",
       "      <td>5</td>\n",
       "      <td>22</td>\n",
       "    </tr>\n",
       "    <tr>\n",
       "      <th>691</th>\n",
       "      <td>N</td>\n",
       "      <td>1</td>\n",
       "      <td>2</td>\n",
       "    </tr>\n",
       "    <tr>\n",
       "      <th>1462</th>\n",
       "      <td>111021</td>\n",
       "      <td>4</td>\n",
       "      <td>21</td>\n",
       "    </tr>\n",
       "    <tr>\n",
       "      <th>1099</th>\n",
       "      <td>N</td>\n",
       "      <td>2</td>\n",
       "      <td>16</td>\n",
       "    </tr>\n",
       "    <tr>\n",
       "      <th>185</th>\n",
       "      <td>311122</td>\n",
       "      <td>4</td>\n",
       "      <td>21</td>\n",
       "    </tr>\n",
       "    <tr>\n",
       "      <th>873</th>\n",
       "      <td>113021</td>\n",
       "      <td>5</td>\n",
       "      <td>22</td>\n",
       "    </tr>\n",
       "    <tr>\n",
       "      <th>409</th>\n",
       "      <td>412031</td>\n",
       "      <td>2</td>\n",
       "      <td>16</td>\n",
       "    </tr>\n",
       "    <tr>\n",
       "      <th>797</th>\n",
       "      <td>272022</td>\n",
       "      <td>1</td>\n",
       "      <td>14</td>\n",
       "    </tr>\n",
       "    <tr>\n",
       "      <th>1453</th>\n",
       "      <td>151252</td>\n",
       "      <td>5</td>\n",
       "      <td>22</td>\n",
       "    </tr>\n",
       "    <tr>\n",
       "      <th>1502</th>\n",
       "      <td>311131</td>\n",
       "      <td>1</td>\n",
       "      <td>15</td>\n",
       "    </tr>\n",
       "    <tr>\n",
       "      <th>1454</th>\n",
       "      <td>151252</td>\n",
       "      <td>5</td>\n",
       "      <td>22</td>\n",
       "    </tr>\n",
       "    <tr>\n",
       "      <th>1605</th>\n",
       "      <td>434181</td>\n",
       "      <td>4</td>\n",
       "      <td>21</td>\n",
       "    </tr>\n",
       "    <tr>\n",
       "      <th>250</th>\n",
       "      <td>N</td>\n",
       "      <td>4</td>\n",
       "      <td>21</td>\n",
       "    </tr>\n",
       "    <tr>\n",
       "      <th>900</th>\n",
       "      <td>N</td>\n",
       "      <td>5</td>\n",
       "      <td>23</td>\n",
       "    </tr>\n",
       "    <tr>\n",
       "      <th>563</th>\n",
       "      <td>272021</td>\n",
       "      <td>4</td>\n",
       "      <td>21</td>\n",
       "    </tr>\n",
       "  </tbody>\n",
       "</table>\n",
       "</div>"
      ],
      "text/plain": [
       "        SOCP SCHL_RC1 SCHL\n",
       "1192       N        4   21\n",
       "281        N        4   20\n",
       "558        N        3   19\n",
       "1224  472111        3   18\n",
       "367   1720XX        5   22\n",
       "1041  113031        5   22\n",
       "691        N        1    2\n",
       "1462  111021        4   21\n",
       "1099       N        2   16\n",
       "185   311122        4   21\n",
       "873   113021        5   22\n",
       "409   412031        2   16\n",
       "797   272022        1   14\n",
       "1453  151252        5   22\n",
       "1502  311131        1   15\n",
       "1454  151252        5   22\n",
       "1605  434181        4   21\n",
       "250        N        4   21\n",
       "900        N        5   23\n",
       "563   272021        4   21"
      ]
     },
     "execution_count": 143,
     "metadata": {},
     "output_type": "execute_result"
    }
   ],
   "source": [
    "PUMS_subset.sample(20)"
   ]
  },
  {
   "cell_type": "code",
   "execution_count": 170,
   "metadata": {},
   "outputs": [
    {
     "data": {
      "text/plain": [
       "True     1292\n",
       "False     482\n",
       "Name: count, dtype: int64"
      ]
     },
     "execution_count": 170,
     "metadata": {},
     "output_type": "execute_result"
    }
   ],
   "source": [
    "PUMS_subset.duplicated().value_counts()"
   ]
  },
  {
   "cell_type": "code",
   "execution_count": null,
   "metadata": {},
   "outputs": [],
   "source": []
  },
  {
   "cell_type": "markdown",
   "metadata": {
    "jp-MarkdownHeadingCollapsed": true
   },
   "source": [
    "### TODO ###\n",
    "### - DIRTY DATA - Remove SOCP = N 'reason invalid entry in this context (visal assessment) ###\n",
    "### - Turn SCHL_RC1 into actuall \n",
    "#### SCHL_RC1 == 0 => [No high school diploma] => SCHL == [0-15]\n",
    "#### SCHL_RC1 == 1 => [high school diploma] => SCHL == [16-17]\n",
    "#### SCHL_RC1 == 2 => [Completed Some College] => SCHL == [18-19]\n",
    "#### SCHL_RC1 == 3 => [Graduated College] => SCHL == [20-21]\n",
    "#### SCHL_RC1 == 4 => [Completed Advance Degree] => SCHL == [22-24]\n",
    "#### Data Quality issue - completeness address by above?\n",
    "\n",
    "### Dimensions of data quality ###\n",
    "\n",
    "**Completeness** is a metric that helps you understand whether your data is sufficient to answer interesting questions or solve your problem.\n",
    "**Validity** is a metric helping you understand how well your data conforms to a defined set of rules for data, also known as a schema.\n",
    "**Accuracy** is a metric that helps you understand whether your data accurately represents the reality it aims to depict.\n",
    "**Consistency** is a metric that helps you understand two things: whether your data follows a standard format and whether your data’s info matches with information from other data sources.\n",
    "**Uniqueness** is a metric that helps you understand whether there are duplicate or overlapping values in your data.\n",
    "\n",
    "## validity - check that salary is within range and there are no outliers ## std +-1 ) (programmatic) ##\n",
    "## DATA QUALITY check for uniqueness (programmatic assessment) ##\n",
    "\n",
    "### requirements for tidiness: ###\n",
    "Each **variable** forms a column\n",
    "Each **observation** forms a row\n",
    "Each type of **observational unit** forms a table"
   ]
  },
  {
   "cell_type": "markdown",
   "metadata": {
    "id": "QwSWIVmotLgV"
   },
   "source": [
    "## 2. Assess data\n",
    "\n",
    "Assess the data according to data quality and tidiness metrics using the report below.\n",
    "\n",
    "List **two** data quality issues and **two** tidiness issues. Assess each data issue visually **and** programmatically, then briefly describe the issue you find.  **Make sure you include justifications for the methods you use for the assessment.**"
   ]
  },
  {
   "cell_type": "markdown",
   "metadata": {
    "id": "adaK2iPNzVu4"
   },
   "source": [
    "### Quality Issue 1:"
   ]
  },
  {
   "cell_type": "code",
   "execution_count": 225,
   "metadata": {},
   "outputs": [
    {
     "name": "stdout",
     "output_type": "stream",
     "text": [
      "       0       1         2     3      4      5\n",
      "0  PWGTP    SOCP  SCHL_RC1  SCHL   PUMA  STATE\n",
      "1     47       N         3    19  23304     53\n",
      "2     74  537062         3    19  23304     53\n",
      "3     54       N         4    21  23304     53\n",
      "4     18       N         4    21  23304     53\n"
     ]
    }
   ],
   "source": [
    "### header is the first row of data \n",
    "print(PUMS_data.head(5))"
   ]
  },
  {
   "cell_type": "markdown",
   "metadata": {},
   "source": [
    "Issue and justification: *column header* is the first row of dataset"
   ]
  },
  {
   "cell_type": "markdown",
   "metadata": {
    "id": "8Be77N4I1AmE"
   },
   "source": [
    "### Quality Issue 2:"
   ]
  },
  {
   "cell_type": "code",
   "execution_count": 232,
   "metadata": {
    "id": "-qfcocStzsKg"
   },
   "outputs": [
    {
     "data": {
      "text/html": [
       "<div>\n",
       "<style scoped>\n",
       "    .dataframe tbody tr th:only-of-type {\n",
       "        vertical-align: middle;\n",
       "    }\n",
       "\n",
       "    .dataframe tbody tr th {\n",
       "        vertical-align: top;\n",
       "    }\n",
       "\n",
       "    .dataframe thead th {\n",
       "        text-align: right;\n",
       "    }\n",
       "</style>\n",
       "<table border=\"1\" class=\"dataframe\">\n",
       "  <thead>\n",
       "    <tr style=\"text-align: right;\">\n",
       "      <th></th>\n",
       "      <th>0</th>\n",
       "      <th>1</th>\n",
       "      <th>2</th>\n",
       "      <th>3</th>\n",
       "      <th>4</th>\n",
       "      <th>5</th>\n",
       "    </tr>\n",
       "  </thead>\n",
       "  <tbody>\n",
       "    <tr>\n",
       "      <th>count</th>\n",
       "      <td>1775</td>\n",
       "      <td>1775</td>\n",
       "      <td>1775</td>\n",
       "      <td>1775</td>\n",
       "      <td>1775</td>\n",
       "      <td>1775</td>\n",
       "    </tr>\n",
       "    <tr>\n",
       "      <th>unique</th>\n",
       "      <td>265</td>\n",
       "      <td>219</td>\n",
       "      <td>6</td>\n",
       "      <td>26</td>\n",
       "      <td>2</td>\n",
       "      <td>2</td>\n",
       "    </tr>\n",
       "    <tr>\n",
       "      <th>top</th>\n",
       "      <td>66</td>\n",
       "      <td>N</td>\n",
       "      <td>4</td>\n",
       "      <td>21</td>\n",
       "      <td>23304</td>\n",
       "      <td>53</td>\n",
       "    </tr>\n",
       "    <tr>\n",
       "      <th>freq</th>\n",
       "      <td>40</td>\n",
       "      <td>691</td>\n",
       "      <td>625</td>\n",
       "      <td>552</td>\n",
       "      <td>1774</td>\n",
       "      <td>1774</td>\n",
       "    </tr>\n",
       "  </tbody>\n",
       "</table>\n",
       "</div>"
      ],
      "text/plain": [
       "           0     1     2     3      4     5\n",
       "count   1775  1775  1775  1775   1775  1775\n",
       "unique   265   219     6    26      2     2\n",
       "top       66     N     4    21  23304    53\n",
       "freq      40   691   625   552   1774  1774"
      ]
     },
     "execution_count": 232,
     "metadata": {},
     "output_type": "execute_result"
    }
   ],
   "source": [
    "# Inspecting the dataframe programmatically\n",
    "PUMS_data.describe()"
   ]
  },
  {
   "cell_type": "markdown",
   "metadata": {},
   "source": [
    "Issue and justification:\n",
    "*SOCP has a value N which is invalid entry in this context and should be removed from the dataset*"
   ]
  },
  {
   "cell_type": "markdown",
   "metadata": {
    "id": "lXhGiYyiwwKN"
   },
   "source": [
    "### Tidiness Issue 1:"
   ]
  },
  {
   "cell_type": "code",
   "execution_count": 310,
   "metadata": {
    "id": "fleC5rORI0Xl"
   },
   "outputs": [
    {
     "data": {
      "text/plain": [
       "A_MEAN\n",
       "*         1487\n",
       "#          144\n",
       "54330       50\n",
       "46110       48\n",
       "40820       47\n",
       "          ... \n",
       "207260       1\n",
       "238120       1\n",
       "193040       1\n",
       "161570       1\n",
       "295110       1\n",
       "Name: count, Length: 15760, dtype: int64"
      ]
     },
     "execution_count": 310,
     "metadata": {},
     "output_type": "execute_result"
    }
   ],
   "source": [
    "#Inspecting the dataframe visually\n",
    "OEW_data['A_MEAN'].value_counts()"
   ]
  },
  {
   "cell_type": "markdown",
   "metadata": {},
   "source": [
    "Issue and justification: *For my analysis, A_MEAN should be a float/int64 and not an object. It also has values '\\*' and '#' which are invalid*\n"
   ]
  },
  {
   "cell_type": "markdown",
   "metadata": {
    "id": "4ffMoRGSwzYj"
   },
   "source": [
    "### Tidiness Issue 2: "
   ]
  },
  {
   "cell_type": "code",
   "execution_count": 325,
   "metadata": {
    "id": "XUpeoqokw5Qt"
   },
   "outputs": [
    {
     "name": "stdout",
     "output_type": "stream",
     "text": [
      "<class 'pandas.core.frame.DataFrame'>\n",
      "RangeIndex: 1775 entries, 0 to 1774\n",
      "Data columns (total 6 columns):\n",
      " #   Column  Non-Null Count  Dtype \n",
      "---  ------  --------------  ----- \n",
      " 0   0       1775 non-null   object\n",
      " 1   1       1775 non-null   object\n",
      " 2   2       1775 non-null   object\n",
      " 3   3       1775 non-null   object\n",
      " 4   4       1775 non-null   object\n",
      " 5   5       1775 non-null   object\n",
      "dtypes: object(6)\n",
      "memory usage: 83.3+ KB\n"
     ]
    }
   ],
   "source": [
    "## Inspecting the dataframe visually\n",
    "PUMS_data.info()"
   ]
  },
  {
   "cell_type": "code",
   "execution_count": 327,
   "metadata": {
    "id": "c8JK4DoXxtFA"
   },
   "outputs": [
    {
     "data": {
      "text/plain": [
       "0    0\n",
       "1    0\n",
       "2    0\n",
       "3    0\n",
       "4    0\n",
       "5    0\n",
       "dtype: int64"
      ]
     },
     "execution_count": 327,
     "metadata": {},
     "output_type": "execute_result"
    }
   ],
   "source": [
    "#Inspecting the dataframe programmatically\n",
    "PUMS_data.isnull().sum()"
   ]
  },
  {
   "cell_type": "markdown",
   "metadata": {},
   "source": [
    "Issue and justification: *FILL IN*"
   ]
  },
  {
   "cell_type": "markdown",
   "metadata": {
    "id": "D6gmLnBttpCh"
   },
   "source": [
    "## 3. Clean data\n",
    "Clean the data to solve the 4 issues corresponding to data quality and tidiness found in the assessing step. **Make sure you include justifications for your cleaning decisions.**\n",
    "\n",
    "After the cleaning for each issue, please use **either** the visually or programatical method to validate the cleaning was succesful.\n",
    "\n",
    "At this stage, you are also expected to remove variables that are unnecessary for your analysis and combine your datasets. Depending on your datasets, you may choose to perform variable combination and elimination before or after the cleaning stage. Your dataset must have **at least** 4 variables after combining the data."
   ]
  },
  {
   "cell_type": "code",
   "execution_count": 248,
   "metadata": {},
   "outputs": [],
   "source": [
    "# Create copies of the datasets to ensure the raw dataframes \n",
    "PUMS_data_copy = PUMS_data.copy()\n",
    "OEW_data_copy = OEW_data.copy()"
   ]
  },
  {
   "cell_type": "markdown",
   "metadata": {
    "id": "FmFhN52Yyn3l"
   },
   "source": [
    "### **Quality Issue 1: FILL IN**"
   ]
  },
  {
   "cell_type": "code",
   "execution_count": 256,
   "metadata": {},
   "outputs": [],
   "source": [
    "# Cleaning strategy - Fix issue with column headers\n",
    "columns = PUMS_response_data[0]\n",
    "rows = PUMS_response_data[1:]\n",
    "PUMS_data_cleaned = pd.DataFrame(rows, columns=columns)"
   ]
  },
  {
   "cell_type": "code",
   "execution_count": 258,
   "metadata": {
    "id": "oUBee-LPytkv"
   },
   "outputs": [
    {
     "data": {
      "text/html": [
       "<div>\n",
       "<style scoped>\n",
       "    .dataframe tbody tr th:only-of-type {\n",
       "        vertical-align: middle;\n",
       "    }\n",
       "\n",
       "    .dataframe tbody tr th {\n",
       "        vertical-align: top;\n",
       "    }\n",
       "\n",
       "    .dataframe thead th {\n",
       "        text-align: right;\n",
       "    }\n",
       "</style>\n",
       "<table border=\"1\" class=\"dataframe\">\n",
       "  <thead>\n",
       "    <tr style=\"text-align: right;\">\n",
       "      <th></th>\n",
       "      <th>PWGTP</th>\n",
       "      <th>SOCP</th>\n",
       "      <th>SCHL_RC1</th>\n",
       "      <th>SCHL</th>\n",
       "      <th>PUMA</th>\n",
       "      <th>STATE</th>\n",
       "    </tr>\n",
       "  </thead>\n",
       "  <tbody>\n",
       "    <tr>\n",
       "      <th>0</th>\n",
       "      <td>47</td>\n",
       "      <td>N</td>\n",
       "      <td>3</td>\n",
       "      <td>19</td>\n",
       "      <td>23304</td>\n",
       "      <td>53</td>\n",
       "    </tr>\n",
       "    <tr>\n",
       "      <th>1</th>\n",
       "      <td>74</td>\n",
       "      <td>537062</td>\n",
       "      <td>3</td>\n",
       "      <td>19</td>\n",
       "      <td>23304</td>\n",
       "      <td>53</td>\n",
       "    </tr>\n",
       "    <tr>\n",
       "      <th>2</th>\n",
       "      <td>54</td>\n",
       "      <td>N</td>\n",
       "      <td>4</td>\n",
       "      <td>21</td>\n",
       "      <td>23304</td>\n",
       "      <td>53</td>\n",
       "    </tr>\n",
       "    <tr>\n",
       "      <th>3</th>\n",
       "      <td>18</td>\n",
       "      <td>N</td>\n",
       "      <td>4</td>\n",
       "      <td>21</td>\n",
       "      <td>23304</td>\n",
       "      <td>53</td>\n",
       "    </tr>\n",
       "    <tr>\n",
       "      <th>4</th>\n",
       "      <td>47</td>\n",
       "      <td>N</td>\n",
       "      <td>3</td>\n",
       "      <td>19</td>\n",
       "      <td>23304</td>\n",
       "      <td>53</td>\n",
       "    </tr>\n",
       "  </tbody>\n",
       "</table>\n",
       "</div>"
      ],
      "text/plain": [
       "  PWGTP    SOCP SCHL_RC1 SCHL   PUMA STATE\n",
       "0    47       N        3   19  23304    53\n",
       "1    74  537062        3   19  23304    53\n",
       "2    54       N        4   21  23304    53\n",
       "3    18       N        4   21  23304    53\n",
       "4    47       N        3   19  23304    53"
      ]
     },
     "execution_count": 258,
     "metadata": {},
     "output_type": "execute_result"
    }
   ],
   "source": [
    "# Validate the cleaning was successful\n",
    "PUMS_data_cleaned.head(5)"
   ]
  },
  {
   "cell_type": "markdown",
   "metadata": {},
   "source": [
    "Justification: *Fixing the column headers improves that handling when trying to combine the data from the two datasets to use column names instead of numbers*"
   ]
  },
  {
   "cell_type": "markdown",
   "metadata": {
    "id": "n_DAUbJrymBL"
   },
   "source": [
    "### **Quality Issue 2: FILL IN**"
   ]
  },
  {
   "cell_type": "code",
   "execution_count": 270,
   "metadata": {
    "id": "5Yfb-Yu5MTuE"
   },
   "outputs": [],
   "source": [
    "# Cleaning strategy - remove all rows with SOCP value equals 'N'\n",
    "PUMS_data_cleaned = PUMS_data_cleaned[PUMS_data_cleaned['SOCP'] != 'N']"
   ]
  },
  {
   "cell_type": "code",
   "execution_count": 273,
   "metadata": {
    "id": "ionB2sRaMUmY"
   },
   "outputs": [
    {
     "data": {
      "text/html": [
       "<div>\n",
       "<style scoped>\n",
       "    .dataframe tbody tr th:only-of-type {\n",
       "        vertical-align: middle;\n",
       "    }\n",
       "\n",
       "    .dataframe tbody tr th {\n",
       "        vertical-align: top;\n",
       "    }\n",
       "\n",
       "    .dataframe thead th {\n",
       "        text-align: right;\n",
       "    }\n",
       "</style>\n",
       "<table border=\"1\" class=\"dataframe\">\n",
       "  <thead>\n",
       "    <tr style=\"text-align: right;\">\n",
       "      <th></th>\n",
       "      <th>PWGTP</th>\n",
       "      <th>SOCP</th>\n",
       "      <th>SCHL_RC1</th>\n",
       "      <th>SCHL</th>\n",
       "      <th>PUMA</th>\n",
       "      <th>STATE</th>\n",
       "    </tr>\n",
       "  </thead>\n",
       "  <tbody>\n",
       "    <tr>\n",
       "      <th>1137</th>\n",
       "      <td>168</td>\n",
       "      <td>253041</td>\n",
       "      <td>4</td>\n",
       "      <td>21</td>\n",
       "      <td>23304</td>\n",
       "      <td>53</td>\n",
       "    </tr>\n",
       "    <tr>\n",
       "      <th>534</th>\n",
       "      <td>6</td>\n",
       "      <td>353023</td>\n",
       "      <td>3</td>\n",
       "      <td>19</td>\n",
       "      <td>23304</td>\n",
       "      <td>53</td>\n",
       "    </tr>\n",
       "    <tr>\n",
       "      <th>1215</th>\n",
       "      <td>374</td>\n",
       "      <td>151252</td>\n",
       "      <td>3</td>\n",
       "      <td>19</td>\n",
       "      <td>23304</td>\n",
       "      <td>53</td>\n",
       "    </tr>\n",
       "    <tr>\n",
       "      <th>1232</th>\n",
       "      <td>74</td>\n",
       "      <td>151252</td>\n",
       "      <td>4</td>\n",
       "      <td>21</td>\n",
       "      <td>23304</td>\n",
       "      <td>53</td>\n",
       "    </tr>\n",
       "    <tr>\n",
       "      <th>1419</th>\n",
       "      <td>75</td>\n",
       "      <td>412031</td>\n",
       "      <td>4</td>\n",
       "      <td>21</td>\n",
       "      <td>23304</td>\n",
       "      <td>53</td>\n",
       "    </tr>\n",
       "    <tr>\n",
       "      <th>385</th>\n",
       "      <td>128</td>\n",
       "      <td>151252</td>\n",
       "      <td>4</td>\n",
       "      <td>21</td>\n",
       "      <td>23304</td>\n",
       "      <td>53</td>\n",
       "    </tr>\n",
       "    <tr>\n",
       "      <th>522</th>\n",
       "      <td>121</td>\n",
       "      <td>252020</td>\n",
       "      <td>5</td>\n",
       "      <td>22</td>\n",
       "      <td>23304</td>\n",
       "      <td>53</td>\n",
       "    </tr>\n",
       "    <tr>\n",
       "      <th>354</th>\n",
       "      <td>112</td>\n",
       "      <td>131161</td>\n",
       "      <td>4</td>\n",
       "      <td>21</td>\n",
       "      <td>23304</td>\n",
       "      <td>53</td>\n",
       "    </tr>\n",
       "    <tr>\n",
       "      <th>1392</th>\n",
       "      <td>35</td>\n",
       "      <td>132011</td>\n",
       "      <td>5</td>\n",
       "      <td>22</td>\n",
       "      <td>23304</td>\n",
       "      <td>53</td>\n",
       "    </tr>\n",
       "    <tr>\n",
       "      <th>1177</th>\n",
       "      <td>56</td>\n",
       "      <td>252020</td>\n",
       "      <td>5</td>\n",
       "      <td>22</td>\n",
       "      <td>23304</td>\n",
       "      <td>53</td>\n",
       "    </tr>\n",
       "    <tr>\n",
       "      <th>1406</th>\n",
       "      <td>70</td>\n",
       "      <td>353031</td>\n",
       "      <td>3</td>\n",
       "      <td>19</td>\n",
       "      <td>23304</td>\n",
       "      <td>53</td>\n",
       "    </tr>\n",
       "    <tr>\n",
       "      <th>256</th>\n",
       "      <td>69</td>\n",
       "      <td>291141</td>\n",
       "      <td>4</td>\n",
       "      <td>21</td>\n",
       "      <td>23304</td>\n",
       "      <td>53</td>\n",
       "    </tr>\n",
       "    <tr>\n",
       "      <th>784</th>\n",
       "      <td>116</td>\n",
       "      <td>151252</td>\n",
       "      <td>4</td>\n",
       "      <td>21</td>\n",
       "      <td>23304</td>\n",
       "      <td>53</td>\n",
       "    </tr>\n",
       "    <tr>\n",
       "      <th>44</th>\n",
       "      <td>69</td>\n",
       "      <td>113051</td>\n",
       "      <td>5</td>\n",
       "      <td>22</td>\n",
       "      <td>23304</td>\n",
       "      <td>53</td>\n",
       "    </tr>\n",
       "    <tr>\n",
       "      <th>1275</th>\n",
       "      <td>85</td>\n",
       "      <td>1191XX</td>\n",
       "      <td>4</td>\n",
       "      <td>21</td>\n",
       "      <td>23304</td>\n",
       "      <td>53</td>\n",
       "    </tr>\n",
       "    <tr>\n",
       "      <th>934</th>\n",
       "      <td>59</td>\n",
       "      <td>273043</td>\n",
       "      <td>4</td>\n",
       "      <td>21</td>\n",
       "      <td>23304</td>\n",
       "      <td>53</td>\n",
       "    </tr>\n",
       "    <tr>\n",
       "      <th>995</th>\n",
       "      <td>214</td>\n",
       "      <td>299000</td>\n",
       "      <td>5</td>\n",
       "      <td>23</td>\n",
       "      <td>23304</td>\n",
       "      <td>53</td>\n",
       "    </tr>\n",
       "    <tr>\n",
       "      <th>1701</th>\n",
       "      <td>72</td>\n",
       "      <td>514XXX</td>\n",
       "      <td>2</td>\n",
       "      <td>16</td>\n",
       "      <td>23304</td>\n",
       "      <td>53</td>\n",
       "    </tr>\n",
       "    <tr>\n",
       "      <th>655</th>\n",
       "      <td>246</td>\n",
       "      <td>412010</td>\n",
       "      <td>1</td>\n",
       "      <td>15</td>\n",
       "      <td>23304</td>\n",
       "      <td>53</td>\n",
       "    </tr>\n",
       "    <tr>\n",
       "      <th>402</th>\n",
       "      <td>156</td>\n",
       "      <td>433031</td>\n",
       "      <td>4</td>\n",
       "      <td>21</td>\n",
       "      <td>23304</td>\n",
       "      <td>53</td>\n",
       "    </tr>\n",
       "  </tbody>\n",
       "</table>\n",
       "</div>"
      ],
      "text/plain": [
       "     PWGTP    SOCP SCHL_RC1 SCHL   PUMA STATE\n",
       "1137   168  253041        4   21  23304    53\n",
       "534      6  353023        3   19  23304    53\n",
       "1215   374  151252        3   19  23304    53\n",
       "1232    74  151252        4   21  23304    53\n",
       "1419    75  412031        4   21  23304    53\n",
       "385    128  151252        4   21  23304    53\n",
       "522    121  252020        5   22  23304    53\n",
       "354    112  131161        4   21  23304    53\n",
       "1392    35  132011        5   22  23304    53\n",
       "1177    56  252020        5   22  23304    53\n",
       "1406    70  353031        3   19  23304    53\n",
       "256     69  291141        4   21  23304    53\n",
       "784    116  151252        4   21  23304    53\n",
       "44      69  113051        5   22  23304    53\n",
       "1275    85  1191XX        4   21  23304    53\n",
       "934     59  273043        4   21  23304    53\n",
       "995    214  299000        5   23  23304    53\n",
       "1701    72  514XXX        2   16  23304    53\n",
       "655    246  412010        1   15  23304    53\n",
       "402    156  433031        4   21  23304    53"
      ]
     },
     "execution_count": 273,
     "metadata": {},
     "output_type": "execute_result"
    }
   ],
   "source": [
    "# Validate the cleaning was successful\n",
    "PUMS_data_cleaned.sample(20)"
   ]
  },
  {
   "cell_type": "markdown",
   "metadata": {},
   "source": [
    "Justification: *SOCP has a row with value 'N' which is invalid entry in this context and after the analysis if not removed*"
   ]
  },
  {
   "cell_type": "markdown",
   "metadata": {
    "id": "bIUrrfSNyOPR"
   },
   "source": [
    "### **Tidiness Issue 1: FILL IN**"
   ]
  },
  {
   "cell_type": "code",
   "execution_count": 321,
   "metadata": {
    "id": "fib0zAm333bn"
   },
   "outputs": [
    {
     "data": {
      "text/plain": [
       "0          49780.0\n",
       "1         100690.0\n",
       "2         240020.0\n",
       "3          98480.0\n",
       "4         116290.0\n",
       "            ...   \n",
       "149586     44550.0\n",
       "149587     45740.0\n",
       "149588     35630.0\n",
       "149589     38900.0\n",
       "149590     52670.0\n",
       "Name: A_MEAN, Length: 149591, dtype: float64"
      ]
     },
     "execution_count": 321,
     "metadata": {},
     "output_type": "execute_result"
    }
   ],
   "source": [
    "#Cleaning strategy - Replace rows with '*' & '#' in A_MEAN to np.nan and column to float/int\n",
    "pd.set_option('future.no_silent_downcasting', True)\n",
    "\n",
    "OEW_data_copy['A_MEAN'] = OEW_data_copy['A_MEAN'].replace(['*','#'], [np.nan, np.nan])\n",
    "OEW_data_copy['A_MEAN'].astype(float)"
   ]
  },
  {
   "cell_type": "code",
   "execution_count": 314,
   "metadata": {
    "id": "yhrnUGY_Nk8B",
    "scrolled": true
   },
   "outputs": [
    {
     "data": {
      "text/plain": [
       "A_MEAN\n",
       "54330.0     50\n",
       "46110.0     48\n",
       "40820.0     47\n",
       "38380.0     47\n",
       "47300.0     47\n",
       "            ..\n",
       "143790.0     1\n",
       "158300.0     1\n",
       "147040.0     1\n",
       "118300.0     1\n",
       "295110.0     1\n",
       "Name: count, Length: 15758, dtype: int64"
      ]
     },
     "execution_count": 314,
     "metadata": {},
     "output_type": "execute_result"
    }
   ],
   "source": [
    "#FILL IN - Validate the cleaning was successful\n",
    "OEW_data_copy['A_MEAN'].value_counts()"
   ]
  },
  {
   "cell_type": "markdown",
   "metadata": {},
   "source": [
    "Justification: *Replacing this values with np.nan exlcudes them from calculations of mean and sum by default*"
   ]
  },
  {
   "cell_type": "markdown",
   "metadata": {
    "id": "o51Bt8kwyTzk"
   },
   "source": [
    "### **Tidiness Issue 2: FILL IN**"
   ]
  },
  {
   "cell_type": "code",
   "execution_count": null,
   "metadata": {
    "id": "7zW8O5yx4Y9O"
   },
   "outputs": [],
   "source": [
    "#FILL IN - Apply the cleaning strategy"
   ]
  },
  {
   "cell_type": "code",
   "execution_count": null,
   "metadata": {
    "id": "q6I_Sr7lxXi5"
   },
   "outputs": [],
   "source": [
    "#FILL IN - Validate the cleaning was successful"
   ]
  },
  {
   "cell_type": "markdown",
   "metadata": {},
   "source": [
    "Justification: *FILL IN*"
   ]
  },
  {
   "cell_type": "markdown",
   "metadata": {},
   "source": [
    "### **Remove unnecessary variables and combine datasets**\n",
    "\n",
    "Depending on the datasets, you can also peform the combination before the cleaning steps."
   ]
  },
  {
   "cell_type": "code",
   "execution_count": null,
   "metadata": {},
   "outputs": [],
   "source": [
    "#FILL IN - Remove unnecessary variables and combine datasets"
   ]
  },
  {
   "cell_type": "markdown",
   "metadata": {
    "id": "F42urHuzttjF"
   },
   "source": [
    "## 4. Update your data store\n",
    "Update your local database/data store with the cleaned data, following best practices for storing your cleaned data:\n",
    "\n",
    "- Must maintain different instances / versions of data (raw and cleaned data)\n",
    "- Must name the dataset files informatively\n",
    "- Ensure both the raw and cleaned data is saved to your database/data store"
   ]
  },
  {
   "cell_type": "code",
   "execution_count": null,
   "metadata": {
    "id": "V3uay7EJUV_L"
   },
   "outputs": [],
   "source": [
    "#FILL IN - saving data"
   ]
  },
  {
   "cell_type": "markdown",
   "metadata": {
    "id": "cGy_yddGtzhM"
   },
   "source": [
    "## 5. Answer the research question\n",
    "\n",
    "### **5.1:** Define and answer the research question \n",
    "Going back to the problem statement in step 1, use the cleaned data to answer the question you raised. Produce **at least** two visualizations using the cleaned data and explain how they help you answer the question."
   ]
  },
  {
   "cell_type": "markdown",
   "metadata": {
    "id": "gjedE4s4ZkEd"
   },
   "source": [
    "*Research question:* FILL IN from answer to Step 1"
   ]
  },
  {
   "cell_type": "code",
   "execution_count": null,
   "metadata": {
    "id": "Lkw3rW9kZmOm"
   },
   "outputs": [],
   "source": [
    "#Visual 1 - FILL IN"
   ]
  },
  {
   "cell_type": "markdown",
   "metadata": {},
   "source": [
    "*Answer to research question:* FILL IN"
   ]
  },
  {
   "cell_type": "code",
   "execution_count": null,
   "metadata": {
    "id": "6fdK_8ZGZm9R"
   },
   "outputs": [],
   "source": [
    "#Visual 2 - FILL IN"
   ]
  },
  {
   "cell_type": "markdown",
   "metadata": {
    "id": "K5RgvMGUZoHn"
   },
   "source": [
    "*Answer to research question:* FILL IN"
   ]
  },
  {
   "cell_type": "markdown",
   "metadata": {
    "id": "0ezWXXZVj-TP"
   },
   "source": [
    "### **5.2:** Reflection\n",
    "In 2-4 sentences, if you had more time to complete the project, what actions would you take? For example, which data quality and structural issues would you look into further, and what research questions would you further explore?"
   ]
  },
  {
   "cell_type": "markdown",
   "metadata": {
    "id": "XB3RBDG5kFe1"
   },
   "source": [
    "*Answer:* FILL IN"
   ]
  }
 ],
 "metadata": {
  "colab": {
   "provenance": []
  },
  "kernelspec": {
   "display_name": "Python 3 (ipykernel)",
   "language": "python",
   "name": "python3"
  },
  "language_info": {
   "codemirror_mode": {
    "name": "ipython",
    "version": 3
   },
   "file_extension": ".py",
   "mimetype": "text/x-python",
   "name": "python",
   "nbconvert_exporter": "python",
   "pygments_lexer": "ipython3",
   "version": "3.12.4"
  }
 },
 "nbformat": 4,
 "nbformat_minor": 4
}
