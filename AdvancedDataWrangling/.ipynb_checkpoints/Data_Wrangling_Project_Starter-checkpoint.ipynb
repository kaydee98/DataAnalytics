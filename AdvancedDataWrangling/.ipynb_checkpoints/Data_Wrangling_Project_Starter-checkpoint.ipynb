{
 "cells": [
  {
   "cell_type": "markdown",
   "metadata": {
    "id": "GNIwe5N7s0e_"
   },
   "source": [
    "# Real-world Data Wrangling"
   ]
  },
  {
   "cell_type": "code",
   "execution_count": 41,
   "metadata": {},
   "outputs": [
    {
     "name": "stdout",
     "output_type": "stream",
     "text": [
      "Requirement already satisfied: kaggle==1.6.12 in /opt/anaconda3/lib/python3.12/site-packages (1.6.12)\n",
      "Requirement already satisfied: six>=1.10 in /opt/anaconda3/lib/python3.12/site-packages (from kaggle==1.6.12) (1.16.0)\n",
      "Requirement already satisfied: certifi>=2023.7.22 in /opt/anaconda3/lib/python3.12/site-packages (from kaggle==1.6.12) (2024.8.30)\n",
      "Requirement already satisfied: python-dateutil in /opt/anaconda3/lib/python3.12/site-packages (from kaggle==1.6.12) (2.9.0.post0)\n",
      "Requirement already satisfied: requests in /opt/anaconda3/lib/python3.12/site-packages (from kaggle==1.6.12) (2.32.2)\n",
      "Requirement already satisfied: tqdm in /opt/anaconda3/lib/python3.12/site-packages (from kaggle==1.6.12) (4.66.4)\n",
      "Requirement already satisfied: python-slugify in /opt/anaconda3/lib/python3.12/site-packages (from kaggle==1.6.12) (5.0.2)\n",
      "Requirement already satisfied: urllib3 in /opt/anaconda3/lib/python3.12/site-packages (from kaggle==1.6.12) (2.2.2)\n",
      "Requirement already satisfied: bleach in /opt/anaconda3/lib/python3.12/site-packages (from kaggle==1.6.12) (4.1.0)\n",
      "Requirement already satisfied: packaging in /opt/anaconda3/lib/python3.12/site-packages (from bleach->kaggle==1.6.12) (23.2)\n",
      "Requirement already satisfied: webencodings in /opt/anaconda3/lib/python3.12/site-packages (from bleach->kaggle==1.6.12) (0.5.1)\n",
      "Requirement already satisfied: text-unidecode>=1.3 in /opt/anaconda3/lib/python3.12/site-packages (from python-slugify->kaggle==1.6.12) (1.3)\n",
      "Requirement already satisfied: charset-normalizer<4,>=2 in /opt/anaconda3/lib/python3.12/site-packages (from requests->kaggle==1.6.12) (2.0.4)\n",
      "Requirement already satisfied: idna<4,>=2.5 in /opt/anaconda3/lib/python3.12/site-packages (from requests->kaggle==1.6.12) (3.7)\n"
     ]
    }
   ],
   "source": [
    "!python -m pip install kaggle==1.6.12"
   ]
  },
  {
   "cell_type": "code",
   "execution_count": 42,
   "metadata": {},
   "outputs": [],
   "source": [
    "## !pip install --target=/workspace ucimlrepo numpy==1.24.3"
   ]
  },
  {
   "cell_type": "markdown",
   "metadata": {},
   "source": [
    "**Note:** Restart the kernel to use updated package(s)."
   ]
  },
  {
   "cell_type": "code",
   "execution_count": 44,
   "metadata": {},
   "outputs": [],
   "source": [
    "import pandas as pd\n",
    "import numpy as np\n",
    "import requests"
   ]
  },
  {
   "cell_type": "markdown",
   "metadata": {
    "id": "lDYDkH-Zs7Nn"
   },
   "source": [
    "## 1. Gather data"
   ]
  },
  {
   "cell_type": "markdown",
   "metadata": {
    "id": "LbN7z7rcuqpO"
   },
   "source": [
    "### **1.1.** Problem Statement\n",
    "In this project, we will investigate the educational attainment levels among individuals employed in computer-related occupations in King County, Washington, by gathering, cleaning, and analyzing relevant data to identify trends, distributions, and potential correlations within the local workforce"
   ]
  },
  {
   "cell_type": "markdown",
   "metadata": {
    "id": "8AQfBAdUypMm"
   },
   "source": [
    "### **1.2.** Gather at least two datasets using two different data gathering methods"
   ]
  },
  {
   "cell_type": "markdown",
   "metadata": {
    "id": "7e6gS0wL1KTu"
   },
   "source": [
    "#### **Dataset 1**\n",
    "\n",
    "Type: XLS file\n",
    "\n",
    "Method: The data was gathered using the \"Downloading files\" method from U.S Bureau of Labor Statistics (Occupational Employment and Wage Statistics tables)\n",
    "\n",
    "Dataset variables:\n",
    "\n",
    "*   *AREA:* Area code\n",
    "*   *AREA_TITLE:* Title of the metropolitan area\n",
    "*   *OCC_CODE:* Occupational Code\n",
    "*   *OCC_TITLE:* Occupational Title\n",
    "*   *A_MEAN:* Mean Annual Wage"
   ]
  },
  {
   "cell_type": "code",
   "execution_count": 49,
   "metadata": {
    "id": "Su8E0uLuYkHU"
   },
   "outputs": [],
   "source": [
    "## Load OEW Dataset to access king county/seattle-tacoma area dataset\n",
    "OEW_data = pd.read_excel('MSA_M2023_dl.xlsx')"
   ]
  },
  {
   "cell_type": "code",
   "execution_count": 50,
   "metadata": {
    "scrolled": true
   },
   "outputs": [
    {
     "data": {
      "text/html": [
       "<div>\n",
       "<style scoped>\n",
       "    .dataframe tbody tr th:only-of-type {\n",
       "        vertical-align: middle;\n",
       "    }\n",
       "\n",
       "    .dataframe tbody tr th {\n",
       "        vertical-align: top;\n",
       "    }\n",
       "\n",
       "    .dataframe thead th {\n",
       "        text-align: right;\n",
       "    }\n",
       "</style>\n",
       "<table border=\"1\" class=\"dataframe\">\n",
       "  <thead>\n",
       "    <tr style=\"text-align: right;\">\n",
       "      <th></th>\n",
       "      <th>AREA</th>\n",
       "      <th>AREA_TITLE</th>\n",
       "      <th>AREA_TYPE</th>\n",
       "      <th>PRIM_STATE</th>\n",
       "      <th>NAICS</th>\n",
       "      <th>NAICS_TITLE</th>\n",
       "      <th>I_GROUP</th>\n",
       "      <th>OWN_CODE</th>\n",
       "      <th>OCC_CODE</th>\n",
       "      <th>OCC_TITLE</th>\n",
       "      <th>...</th>\n",
       "      <th>H_MEDIAN</th>\n",
       "      <th>H_PCT75</th>\n",
       "      <th>H_PCT90</th>\n",
       "      <th>A_PCT10</th>\n",
       "      <th>A_PCT25</th>\n",
       "      <th>A_MEDIAN</th>\n",
       "      <th>A_PCT75</th>\n",
       "      <th>A_PCT90</th>\n",
       "      <th>ANNUAL</th>\n",
       "      <th>HOURLY</th>\n",
       "    </tr>\n",
       "  </thead>\n",
       "  <tbody>\n",
       "    <tr>\n",
       "      <th>0</th>\n",
       "      <td>10180</td>\n",
       "      <td>Abilene, TX</td>\n",
       "      <td>4</td>\n",
       "      <td>TX</td>\n",
       "      <td>0</td>\n",
       "      <td>Cross-industry</td>\n",
       "      <td>cross-industry</td>\n",
       "      <td>1235</td>\n",
       "      <td>00-0000</td>\n",
       "      <td>All Occupations</td>\n",
       "      <td>...</td>\n",
       "      <td>18.6</td>\n",
       "      <td>28.03</td>\n",
       "      <td>40.08</td>\n",
       "      <td>22750</td>\n",
       "      <td>28710</td>\n",
       "      <td>38680</td>\n",
       "      <td>58310</td>\n",
       "      <td>83360</td>\n",
       "      <td>NaN</td>\n",
       "      <td>NaN</td>\n",
       "    </tr>\n",
       "    <tr>\n",
       "      <th>1</th>\n",
       "      <td>10180</td>\n",
       "      <td>Abilene, TX</td>\n",
       "      <td>4</td>\n",
       "      <td>TX</td>\n",
       "      <td>0</td>\n",
       "      <td>Cross-industry</td>\n",
       "      <td>cross-industry</td>\n",
       "      <td>1235</td>\n",
       "      <td>11-0000</td>\n",
       "      <td>Management Occupations</td>\n",
       "      <td>...</td>\n",
       "      <td>39.09</td>\n",
       "      <td>58.27</td>\n",
       "      <td>81.79</td>\n",
       "      <td>42080</td>\n",
       "      <td>59290</td>\n",
       "      <td>81310</td>\n",
       "      <td>121200</td>\n",
       "      <td>170130</td>\n",
       "      <td>NaN</td>\n",
       "      <td>NaN</td>\n",
       "    </tr>\n",
       "    <tr>\n",
       "      <th>2</th>\n",
       "      <td>10180</td>\n",
       "      <td>Abilene, TX</td>\n",
       "      <td>4</td>\n",
       "      <td>TX</td>\n",
       "      <td>0</td>\n",
       "      <td>Cross-industry</td>\n",
       "      <td>cross-industry</td>\n",
       "      <td>1235</td>\n",
       "      <td>11-1011</td>\n",
       "      <td>Chief Executives</td>\n",
       "      <td>...</td>\n",
       "      <td>97.28</td>\n",
       "      <td>#</td>\n",
       "      <td>#</td>\n",
       "      <td>98490</td>\n",
       "      <td>135280</td>\n",
       "      <td>202340</td>\n",
       "      <td>#</td>\n",
       "      <td>#</td>\n",
       "      <td>NaN</td>\n",
       "      <td>NaN</td>\n",
       "    </tr>\n",
       "    <tr>\n",
       "      <th>3</th>\n",
       "      <td>10180</td>\n",
       "      <td>Abilene, TX</td>\n",
       "      <td>4</td>\n",
       "      <td>TX</td>\n",
       "      <td>0</td>\n",
       "      <td>Cross-industry</td>\n",
       "      <td>cross-industry</td>\n",
       "      <td>1235</td>\n",
       "      <td>11-1021</td>\n",
       "      <td>General and Operations Managers</td>\n",
       "      <td>...</td>\n",
       "      <td>37.19</td>\n",
       "      <td>57.85</td>\n",
       "      <td>86.97</td>\n",
       "      <td>34440</td>\n",
       "      <td>49430</td>\n",
       "      <td>77360</td>\n",
       "      <td>120330</td>\n",
       "      <td>180900</td>\n",
       "      <td>NaN</td>\n",
       "      <td>NaN</td>\n",
       "    </tr>\n",
       "    <tr>\n",
       "      <th>4</th>\n",
       "      <td>10180</td>\n",
       "      <td>Abilene, TX</td>\n",
       "      <td>4</td>\n",
       "      <td>TX</td>\n",
       "      <td>0</td>\n",
       "      <td>Cross-industry</td>\n",
       "      <td>cross-industry</td>\n",
       "      <td>1235</td>\n",
       "      <td>11-2021</td>\n",
       "      <td>Marketing Managers</td>\n",
       "      <td>...</td>\n",
       "      <td>45.31</td>\n",
       "      <td>72.66</td>\n",
       "      <td>97.35</td>\n",
       "      <td>60130</td>\n",
       "      <td>74980</td>\n",
       "      <td>94240</td>\n",
       "      <td>151130</td>\n",
       "      <td>202490</td>\n",
       "      <td>NaN</td>\n",
       "      <td>NaN</td>\n",
       "    </tr>\n",
       "  </tbody>\n",
       "</table>\n",
       "<p>5 rows × 32 columns</p>\n",
       "</div>"
      ],
      "text/plain": [
       "    AREA   AREA_TITLE  AREA_TYPE PRIM_STATE  NAICS     NAICS_TITLE  \\\n",
       "0  10180  Abilene, TX          4         TX      0  Cross-industry   \n",
       "1  10180  Abilene, TX          4         TX      0  Cross-industry   \n",
       "2  10180  Abilene, TX          4         TX      0  Cross-industry   \n",
       "3  10180  Abilene, TX          4         TX      0  Cross-industry   \n",
       "4  10180  Abilene, TX          4         TX      0  Cross-industry   \n",
       "\n",
       "          I_GROUP  OWN_CODE OCC_CODE                        OCC_TITLE  ...  \\\n",
       "0  cross-industry      1235  00-0000                  All Occupations  ...   \n",
       "1  cross-industry      1235  11-0000           Management Occupations  ...   \n",
       "2  cross-industry      1235  11-1011                 Chief Executives  ...   \n",
       "3  cross-industry      1235  11-1021  General and Operations Managers  ...   \n",
       "4  cross-industry      1235  11-2021               Marketing Managers  ...   \n",
       "\n",
       "  H_MEDIAN H_PCT75 H_PCT90 A_PCT10 A_PCT25  A_MEDIAN  A_PCT75 A_PCT90 ANNUAL  \\\n",
       "0     18.6   28.03   40.08   22750   28710     38680    58310   83360    NaN   \n",
       "1    39.09   58.27   81.79   42080   59290     81310   121200  170130    NaN   \n",
       "2    97.28       #       #   98490  135280    202340        #       #    NaN   \n",
       "3    37.19   57.85   86.97   34440   49430     77360   120330  180900    NaN   \n",
       "4    45.31   72.66   97.35   60130   74980     94240   151130  202490    NaN   \n",
       "\n",
       "  HOURLY  \n",
       "0    NaN  \n",
       "1    NaN  \n",
       "2    NaN  \n",
       "3    NaN  \n",
       "4    NaN  \n",
       "\n",
       "[5 rows x 32 columns]"
      ]
     },
     "execution_count": 50,
     "metadata": {},
     "output_type": "execute_result"
    }
   ],
   "source": [
    "## Check the datasets' first 5 rows\n",
    "OEW_data.head(5)"
   ]
  },
  {
   "cell_type": "markdown",
   "metadata": {
    "id": "hoUjq1tPzz7P"
   },
   "source": [
    "#### Dataset 2\n",
    "\n",
    "Type: API\n",
    "\n",
    "Method: The data was gathered using the \"API\" method from the United States Census Bureau Public Use Microdata Sample site\n",
    "\n",
    "Dataset variables:\n",
    "\n",
    "*   *SOCP:* Standard Occupational Classification (SOC) codes for 2018 and later based oin 2018 SOC codes\n",
    "*   *SCHL:* Educational Attainment\n",
    "*   *SCHL_RC1:* Educational Attainment recode "
   ]
  },
  {
   "cell_type": "code",
   "execution_count": 217,
   "metadata": {
    "id": "6zT0QxRyYmm7"
   },
   "outputs": [],
   "source": [
    "## Access PUMS API for census information for king county/seattle-tacoma dataset\n",
    "url = 'https://api.census.gov/data/2023/acs/acs1/pums?get=PWGTP,SOCP,SCHL_RC1,SCHL&ucgid=795P200US5323304&recode+SCHL_RC1=%7B%22b%22:%22SCHL%22,%22d%22:%5B%5B%220%22,%2201%22,%2202%22,%2203%22,%2204%22,%2205%22,%2206%22,%2207%22,%2208%22,%2209%22,%2210%22,%2211%22,%2212%22,%2213%22,%2214%22,%2215%22%5D,%5B%2216%22,%2217%22%5D,%5B%2218%22,%2219%22%5D,%5B%2220%22,%2221%22%5D,%5B%2222%22,%2223%22,%2224%22%5D%5D%7D'\n",
    "PUMS_response = requests.get(url)\n",
    "PUMS_response.raise_for_status()\n",
    "\n",
    "## Get the json\n",
    "PUMS_response_data = PUMS_response.json()\n",
    "\n",
    "## Create dataframe from json\n",
    "PUMS_data = pd.DataFrame(PUMS_response_data)"
   ]
  },
  {
   "cell_type": "code",
   "execution_count": 219,
   "metadata": {},
   "outputs": [
    {
     "name": "stdout",
     "output_type": "stream",
     "text": [
      "       0       1         2     3      4      5\n",
      "0  PWGTP    SOCP  SCHL_RC1  SCHL   PUMA  STATE\n",
      "1     47       N         3    19  23304     53\n",
      "2     74  537062         3    19  23304     53\n",
      "3     54       N         4    21  23304     53\n",
      "4     18       N         4    21  23304     53\n"
     ]
    }
   ],
   "source": [
    "## Check the data returns\n",
    "print(PUMS_data.head(5))"
   ]
  },
  {
   "cell_type": "code",
   "execution_count": 97,
   "metadata": {},
   "outputs": [],
   "source": [
    "# Create subset of dataset needed for analysis\n",
    "OEW_subset = OEW_data[['AREA', 'OCC_CODE', 'OCC_TITLE', 'A_MEAN']].reindex()"
   ]
  },
  {
   "cell_type": "code",
   "execution_count": 101,
   "metadata": {
    "id": "SpW59kh-zl8d",
    "scrolled": true
   },
   "outputs": [
    {
     "name": "stdout",
     "output_type": "stream",
     "text": [
      "<class 'pandas.core.frame.DataFrame'>\n",
      "RangeIndex: 149591 entries, 0 to 149590\n",
      "Data columns (total 4 columns):\n",
      " #   Column     Non-Null Count   Dtype \n",
      "---  ------     --------------   ----- \n",
      " 0   AREA       149591 non-null  int64 \n",
      " 1   OCC_CODE   149591 non-null  object\n",
      " 2   OCC_TITLE  149591 non-null  object\n",
      " 3   A_MEAN     149591 non-null  object\n",
      "dtypes: int64(1), object(3)\n",
      "memory usage: 4.6+ MB\n"
     ]
    }
   ],
   "source": [
    "# Inspecting the dataframe visually\n",
    "OEW_subset.info()"
   ]
  },
  {
   "cell_type": "markdown",
   "metadata": {},
   "source": [
    "#### MESSY DATA aka Structural Issues/method equal visual assessment\n",
    "#### A_MEAN should be float/int64\n",
    "#### OCC_CODE should be string - check that it can be converted to int64/float\n",
    "#### OCC_TITLE should be string"
   ]
  },
  {
   "cell_type": "code",
   "execution_count": 145,
   "metadata": {},
   "outputs": [],
   "source": [
    "seattle_area = 42660\n",
    "OEW_seattle_data = OEW_subset[OEW_subset['AREA'] == seattle_area]"
   ]
  },
  {
   "cell_type": "code",
   "execution_count": 147,
   "metadata": {},
   "outputs": [
    {
     "data": {
      "text/html": [
       "<div>\n",
       "<style scoped>\n",
       "    .dataframe tbody tr th:only-of-type {\n",
       "        vertical-align: middle;\n",
       "    }\n",
       "\n",
       "    .dataframe tbody tr th {\n",
       "        vertical-align: top;\n",
       "    }\n",
       "\n",
       "    .dataframe thead th {\n",
       "        text-align: right;\n",
       "    }\n",
       "</style>\n",
       "<table border=\"1\" class=\"dataframe\">\n",
       "  <thead>\n",
       "    <tr style=\"text-align: right;\">\n",
       "      <th></th>\n",
       "      <th>AREA</th>\n",
       "      <th>OCC_CODE</th>\n",
       "      <th>OCC_TITLE</th>\n",
       "      <th>A_MEAN</th>\n",
       "    </tr>\n",
       "  </thead>\n",
       "  <tbody>\n",
       "    <tr>\n",
       "      <th>118936</th>\n",
       "      <td>42660</td>\n",
       "      <td>13-1041</td>\n",
       "      <td>Compliance Officers</td>\n",
       "      <td>93250</td>\n",
       "    </tr>\n",
       "    <tr>\n",
       "      <th>119591</th>\n",
       "      <td>42660</td>\n",
       "      <td>53-2022</td>\n",
       "      <td>Airfield Operations Specialists</td>\n",
       "      <td>76780</td>\n",
       "    </tr>\n",
       "    <tr>\n",
       "      <th>119266</th>\n",
       "      <td>42660</td>\n",
       "      <td>33-2011</td>\n",
       "      <td>Firefighters</td>\n",
       "      <td>92560</td>\n",
       "    </tr>\n",
       "    <tr>\n",
       "      <th>119308</th>\n",
       "      <td>42660</td>\n",
       "      <td>39-1014</td>\n",
       "      <td>First-Line Supervisors of Entertainment and Re...</td>\n",
       "      <td>65040</td>\n",
       "    </tr>\n",
       "    <tr>\n",
       "      <th>119150</th>\n",
       "      <td>42660</td>\n",
       "      <td>27-1025</td>\n",
       "      <td>Interior Designers</td>\n",
       "      <td>80950</td>\n",
       "    </tr>\n",
       "    <tr>\n",
       "      <th>119440</th>\n",
       "      <td>42660</td>\n",
       "      <td>47-3011</td>\n",
       "      <td>Helpers--Brickmasons, Blockmasons, Stonemasons...</td>\n",
       "      <td>73930</td>\n",
       "    </tr>\n",
       "    <tr>\n",
       "      <th>119363</th>\n",
       "      <td>42660</td>\n",
       "      <td>43-3071</td>\n",
       "      <td>Tellers</td>\n",
       "      <td>51000</td>\n",
       "    </tr>\n",
       "    <tr>\n",
       "      <th>119409</th>\n",
       "      <td>42660</td>\n",
       "      <td>45-2093</td>\n",
       "      <td>Farmworkers, Farm, Ranch, and Aquacultural Ani...</td>\n",
       "      <td>40260</td>\n",
       "    </tr>\n",
       "    <tr>\n",
       "      <th>118893</th>\n",
       "      <td>42660</td>\n",
       "      <td>00-0000</td>\n",
       "      <td>All Occupations</td>\n",
       "      <td>86520</td>\n",
       "    </tr>\n",
       "    <tr>\n",
       "      <th>118894</th>\n",
       "      <td>42660</td>\n",
       "      <td>11-0000</td>\n",
       "      <td>Management Occupations</td>\n",
       "      <td>174450</td>\n",
       "    </tr>\n",
       "    <tr>\n",
       "      <th>119379</th>\n",
       "      <td>42660</td>\n",
       "      <td>43-4181</td>\n",
       "      <td>Reservation and Transportation Ticket Agents a...</td>\n",
       "      <td>51940</td>\n",
       "    </tr>\n",
       "    <tr>\n",
       "      <th>118957</th>\n",
       "      <td>42660</td>\n",
       "      <td>13-2061</td>\n",
       "      <td>Financial Examiners</td>\n",
       "      <td>115680</td>\n",
       "    </tr>\n",
       "    <tr>\n",
       "      <th>118969</th>\n",
       "      <td>42660</td>\n",
       "      <td>15-1242</td>\n",
       "      <td>Database Administrators</td>\n",
       "      <td>124370</td>\n",
       "    </tr>\n",
       "    <tr>\n",
       "      <th>119453</th>\n",
       "      <td>42660</td>\n",
       "      <td>47-4090</td>\n",
       "      <td>Miscellaneous Construction and Related Workers</td>\n",
       "      <td>62880</td>\n",
       "    </tr>\n",
       "    <tr>\n",
       "      <th>119027</th>\n",
       "      <td>42660</td>\n",
       "      <td>19-1041</td>\n",
       "      <td>Epidemiologists</td>\n",
       "      <td>124910</td>\n",
       "    </tr>\n",
       "    <tr>\n",
       "      <th>119272</th>\n",
       "      <td>42660</td>\n",
       "      <td>33-9021</td>\n",
       "      <td>Private Detectives and Investigators</td>\n",
       "      <td>84650</td>\n",
       "    </tr>\n",
       "    <tr>\n",
       "      <th>119102</th>\n",
       "      <td>42660</td>\n",
       "      <td>25-1082</td>\n",
       "      <td>Library Science Teachers, Postsecondary</td>\n",
       "      <td>116280</td>\n",
       "    </tr>\n",
       "    <tr>\n",
       "      <th>118972</th>\n",
       "      <td>42660</td>\n",
       "      <td>15-1251</td>\n",
       "      <td>Computer Programmers</td>\n",
       "      <td>167190</td>\n",
       "    </tr>\n",
       "    <tr>\n",
       "      <th>119502</th>\n",
       "      <td>42660</td>\n",
       "      <td>49-9099</td>\n",
       "      <td>Installation, Maintenance, and Repair Workers,...</td>\n",
       "      <td>60510</td>\n",
       "    </tr>\n",
       "    <tr>\n",
       "      <th>119031</th>\n",
       "      <td>42660</td>\n",
       "      <td>19-2031</td>\n",
       "      <td>Chemists</td>\n",
       "      <td>86220</td>\n",
       "    </tr>\n",
       "  </tbody>\n",
       "</table>\n",
       "</div>"
      ],
      "text/plain": [
       "         AREA OCC_CODE                                          OCC_TITLE  \\\n",
       "118936  42660  13-1041                                Compliance Officers   \n",
       "119591  42660  53-2022                    Airfield Operations Specialists   \n",
       "119266  42660  33-2011                                       Firefighters   \n",
       "119308  42660  39-1014  First-Line Supervisors of Entertainment and Re...   \n",
       "119150  42660  27-1025                                 Interior Designers   \n",
       "119440  42660  47-3011  Helpers--Brickmasons, Blockmasons, Stonemasons...   \n",
       "119363  42660  43-3071                                            Tellers   \n",
       "119409  42660  45-2093  Farmworkers, Farm, Ranch, and Aquacultural Ani...   \n",
       "118893  42660  00-0000                                    All Occupations   \n",
       "118894  42660  11-0000                             Management Occupations   \n",
       "119379  42660  43-4181  Reservation and Transportation Ticket Agents a...   \n",
       "118957  42660  13-2061                                Financial Examiners   \n",
       "118969  42660  15-1242                            Database Administrators   \n",
       "119453  42660  47-4090     Miscellaneous Construction and Related Workers   \n",
       "119027  42660  19-1041                                    Epidemiologists   \n",
       "119272  42660  33-9021               Private Detectives and Investigators   \n",
       "119102  42660  25-1082            Library Science Teachers, Postsecondary   \n",
       "118972  42660  15-1251                               Computer Programmers   \n",
       "119502  42660  49-9099  Installation, Maintenance, and Repair Workers,...   \n",
       "119031  42660  19-2031                                           Chemists   \n",
       "\n",
       "        A_MEAN  \n",
       "118936   93250  \n",
       "119591   76780  \n",
       "119266   92560  \n",
       "119308   65040  \n",
       "119150   80950  \n",
       "119440   73930  \n",
       "119363   51000  \n",
       "119409   40260  \n",
       "118893   86520  \n",
       "118894  174450  \n",
       "119379   51940  \n",
       "118957  115680  \n",
       "118969  124370  \n",
       "119453   62880  \n",
       "119027  124910  \n",
       "119272   84650  \n",
       "119102  116280  \n",
       "118972  167190  \n",
       "119502   60510  \n",
       "119031   86220  "
      ]
     },
     "execution_count": 147,
     "metadata": {},
     "output_type": "execute_result"
    }
   ],
   "source": [
    "OEW_seattle_data.sample(20)"
   ]
  },
  {
   "cell_type": "code",
   "execution_count": 137,
   "metadata": {},
   "outputs": [],
   "source": [
    "comsci_startwith = '15-'\n",
    "OEW_seattle_comsci = OEW_seattle_data[ OEW_seattle_data['OCC_CODE'].str.startswith(comsci_startwith)]"
   ]
  },
  {
   "cell_type": "code",
   "execution_count": 151,
   "metadata": {},
   "outputs": [
    {
     "data": {
      "text/html": [
       "<div>\n",
       "<style scoped>\n",
       "    .dataframe tbody tr th:only-of-type {\n",
       "        vertical-align: middle;\n",
       "    }\n",
       "\n",
       "    .dataframe tbody tr th {\n",
       "        vertical-align: top;\n",
       "    }\n",
       "\n",
       "    .dataframe thead th {\n",
       "        text-align: right;\n",
       "    }\n",
       "</style>\n",
       "<table border=\"1\" class=\"dataframe\">\n",
       "  <thead>\n",
       "    <tr style=\"text-align: right;\">\n",
       "      <th></th>\n",
       "      <th>AREA</th>\n",
       "      <th>OCC_CODE</th>\n",
       "      <th>OCC_TITLE</th>\n",
       "      <th>A_MEAN</th>\n",
       "    </tr>\n",
       "  </thead>\n",
       "  <tbody>\n",
       "    <tr>\n",
       "      <th>118977</th>\n",
       "      <td>42660</td>\n",
       "      <td>15-1299</td>\n",
       "      <td>Computer Occupations, All Other</td>\n",
       "      <td>137130</td>\n",
       "    </tr>\n",
       "    <tr>\n",
       "      <th>118972</th>\n",
       "      <td>42660</td>\n",
       "      <td>15-1251</td>\n",
       "      <td>Computer Programmers</td>\n",
       "      <td>167190</td>\n",
       "    </tr>\n",
       "    <tr>\n",
       "      <th>118968</th>\n",
       "      <td>42660</td>\n",
       "      <td>15-1241</td>\n",
       "      <td>Computer Network Architects</td>\n",
       "      <td>167420</td>\n",
       "    </tr>\n",
       "    <tr>\n",
       "      <th>118980</th>\n",
       "      <td>42660</td>\n",
       "      <td>15-2031</td>\n",
       "      <td>Operations Research Analysts</td>\n",
       "      <td>106620</td>\n",
       "    </tr>\n",
       "    <tr>\n",
       "      <th>118963</th>\n",
       "      <td>42660</td>\n",
       "      <td>15-1211</td>\n",
       "      <td>Computer Systems Analysts</td>\n",
       "      <td>138410</td>\n",
       "    </tr>\n",
       "    <tr>\n",
       "      <th>118976</th>\n",
       "      <td>42660</td>\n",
       "      <td>15-1255</td>\n",
       "      <td>Web and Digital Interface Designers</td>\n",
       "      <td>128650</td>\n",
       "    </tr>\n",
       "    <tr>\n",
       "      <th>118965</th>\n",
       "      <td>42660</td>\n",
       "      <td>15-1221</td>\n",
       "      <td>Computer and Information Research Scientists</td>\n",
       "      <td>211410</td>\n",
       "    </tr>\n",
       "    <tr>\n",
       "      <th>118970</th>\n",
       "      <td>42660</td>\n",
       "      <td>15-1243</td>\n",
       "      <td>Database Architects</td>\n",
       "      <td>159020</td>\n",
       "    </tr>\n",
       "    <tr>\n",
       "      <th>118979</th>\n",
       "      <td>42660</td>\n",
       "      <td>15-2021</td>\n",
       "      <td>Mathematicians</td>\n",
       "      <td>153070</td>\n",
       "    </tr>\n",
       "    <tr>\n",
       "      <th>118962</th>\n",
       "      <td>42660</td>\n",
       "      <td>15-0000</td>\n",
       "      <td>Computer and Mathematical Occupations</td>\n",
       "      <td>144530</td>\n",
       "    </tr>\n",
       "  </tbody>\n",
       "</table>\n",
       "</div>"
      ],
      "text/plain": [
       "         AREA OCC_CODE                                     OCC_TITLE  A_MEAN\n",
       "118977  42660  15-1299               Computer Occupations, All Other  137130\n",
       "118972  42660  15-1251                          Computer Programmers  167190\n",
       "118968  42660  15-1241                   Computer Network Architects  167420\n",
       "118980  42660  15-2031                  Operations Research Analysts  106620\n",
       "118963  42660  15-1211                     Computer Systems Analysts  138410\n",
       "118976  42660  15-1255           Web and Digital Interface Designers  128650\n",
       "118965  42660  15-1221  Computer and Information Research Scientists  211410\n",
       "118970  42660  15-1243                           Database Architects  159020\n",
       "118979  42660  15-2021                                Mathematicians  153070\n",
       "118962  42660  15-0000         Computer and Mathematical Occupations  144530"
      ]
     },
     "execution_count": 151,
     "metadata": {},
     "output_type": "execute_result"
    }
   ],
   "source": [
    "OEW_seattle_comsci.sample(10)"
   ]
  },
  {
   "cell_type": "code",
   "execution_count": 164,
   "metadata": {},
   "outputs": [
    {
     "data": {
      "text/plain": [
       "118962    False\n",
       "118963    False\n",
       "118964    False\n",
       "118965    False\n",
       "118966    False\n",
       "118967    False\n",
       "118968    False\n",
       "118969    False\n",
       "118970    False\n",
       "118971    False\n",
       "118972    False\n",
       "118973    False\n",
       "118974    False\n",
       "118975    False\n",
       "118976    False\n",
       "118977    False\n",
       "118978    False\n",
       "118979    False\n",
       "118980    False\n",
       "118981    False\n",
       "118982    False\n",
       "118983    False\n",
       "dtype: bool"
      ]
     },
     "execution_count": 164,
     "metadata": {},
     "output_type": "execute_result"
    }
   ],
   "source": [
    "OEW_seattle_comsci.duplicated()"
   ]
  },
  {
   "cell_type": "code",
   "execution_count": 141,
   "metadata": {},
   "outputs": [],
   "source": [
    "# Create subset of dataset needed for analysis\n",
    "PUMS_subset = PUMS_data[['SOCP','SCHL_RC1', 'SCHL']].reindex()"
   ]
  },
  {
   "cell_type": "code",
   "execution_count": 143,
   "metadata": {},
   "outputs": [
    {
     "data": {
      "text/html": [
       "<div>\n",
       "<style scoped>\n",
       "    .dataframe tbody tr th:only-of-type {\n",
       "        vertical-align: middle;\n",
       "    }\n",
       "\n",
       "    .dataframe tbody tr th {\n",
       "        vertical-align: top;\n",
       "    }\n",
       "\n",
       "    .dataframe thead th {\n",
       "        text-align: right;\n",
       "    }\n",
       "</style>\n",
       "<table border=\"1\" class=\"dataframe\">\n",
       "  <thead>\n",
       "    <tr style=\"text-align: right;\">\n",
       "      <th></th>\n",
       "      <th>SOCP</th>\n",
       "      <th>SCHL_RC1</th>\n",
       "      <th>SCHL</th>\n",
       "    </tr>\n",
       "  </thead>\n",
       "  <tbody>\n",
       "    <tr>\n",
       "      <th>1192</th>\n",
       "      <td>N</td>\n",
       "      <td>4</td>\n",
       "      <td>21</td>\n",
       "    </tr>\n",
       "    <tr>\n",
       "      <th>281</th>\n",
       "      <td>N</td>\n",
       "      <td>4</td>\n",
       "      <td>20</td>\n",
       "    </tr>\n",
       "    <tr>\n",
       "      <th>558</th>\n",
       "      <td>N</td>\n",
       "      <td>3</td>\n",
       "      <td>19</td>\n",
       "    </tr>\n",
       "    <tr>\n",
       "      <th>1224</th>\n",
       "      <td>472111</td>\n",
       "      <td>3</td>\n",
       "      <td>18</td>\n",
       "    </tr>\n",
       "    <tr>\n",
       "      <th>367</th>\n",
       "      <td>1720XX</td>\n",
       "      <td>5</td>\n",
       "      <td>22</td>\n",
       "    </tr>\n",
       "    <tr>\n",
       "      <th>1041</th>\n",
       "      <td>113031</td>\n",
       "      <td>5</td>\n",
       "      <td>22</td>\n",
       "    </tr>\n",
       "    <tr>\n",
       "      <th>691</th>\n",
       "      <td>N</td>\n",
       "      <td>1</td>\n",
       "      <td>2</td>\n",
       "    </tr>\n",
       "    <tr>\n",
       "      <th>1462</th>\n",
       "      <td>111021</td>\n",
       "      <td>4</td>\n",
       "      <td>21</td>\n",
       "    </tr>\n",
       "    <tr>\n",
       "      <th>1099</th>\n",
       "      <td>N</td>\n",
       "      <td>2</td>\n",
       "      <td>16</td>\n",
       "    </tr>\n",
       "    <tr>\n",
       "      <th>185</th>\n",
       "      <td>311122</td>\n",
       "      <td>4</td>\n",
       "      <td>21</td>\n",
       "    </tr>\n",
       "    <tr>\n",
       "      <th>873</th>\n",
       "      <td>113021</td>\n",
       "      <td>5</td>\n",
       "      <td>22</td>\n",
       "    </tr>\n",
       "    <tr>\n",
       "      <th>409</th>\n",
       "      <td>412031</td>\n",
       "      <td>2</td>\n",
       "      <td>16</td>\n",
       "    </tr>\n",
       "    <tr>\n",
       "      <th>797</th>\n",
       "      <td>272022</td>\n",
       "      <td>1</td>\n",
       "      <td>14</td>\n",
       "    </tr>\n",
       "    <tr>\n",
       "      <th>1453</th>\n",
       "      <td>151252</td>\n",
       "      <td>5</td>\n",
       "      <td>22</td>\n",
       "    </tr>\n",
       "    <tr>\n",
       "      <th>1502</th>\n",
       "      <td>311131</td>\n",
       "      <td>1</td>\n",
       "      <td>15</td>\n",
       "    </tr>\n",
       "    <tr>\n",
       "      <th>1454</th>\n",
       "      <td>151252</td>\n",
       "      <td>5</td>\n",
       "      <td>22</td>\n",
       "    </tr>\n",
       "    <tr>\n",
       "      <th>1605</th>\n",
       "      <td>434181</td>\n",
       "      <td>4</td>\n",
       "      <td>21</td>\n",
       "    </tr>\n",
       "    <tr>\n",
       "      <th>250</th>\n",
       "      <td>N</td>\n",
       "      <td>4</td>\n",
       "      <td>21</td>\n",
       "    </tr>\n",
       "    <tr>\n",
       "      <th>900</th>\n",
       "      <td>N</td>\n",
       "      <td>5</td>\n",
       "      <td>23</td>\n",
       "    </tr>\n",
       "    <tr>\n",
       "      <th>563</th>\n",
       "      <td>272021</td>\n",
       "      <td>4</td>\n",
       "      <td>21</td>\n",
       "    </tr>\n",
       "  </tbody>\n",
       "</table>\n",
       "</div>"
      ],
      "text/plain": [
       "        SOCP SCHL_RC1 SCHL\n",
       "1192       N        4   21\n",
       "281        N        4   20\n",
       "558        N        3   19\n",
       "1224  472111        3   18\n",
       "367   1720XX        5   22\n",
       "1041  113031        5   22\n",
       "691        N        1    2\n",
       "1462  111021        4   21\n",
       "1099       N        2   16\n",
       "185   311122        4   21\n",
       "873   113021        5   22\n",
       "409   412031        2   16\n",
       "797   272022        1   14\n",
       "1453  151252        5   22\n",
       "1502  311131        1   15\n",
       "1454  151252        5   22\n",
       "1605  434181        4   21\n",
       "250        N        4   21\n",
       "900        N        5   23\n",
       "563   272021        4   21"
      ]
     },
     "execution_count": 143,
     "metadata": {},
     "output_type": "execute_result"
    }
   ],
   "source": [
    "PUMS_subset.sample(20)"
   ]
  },
  {
   "cell_type": "code",
   "execution_count": 170,
   "metadata": {},
   "outputs": [
    {
     "data": {
      "text/plain": [
       "True     1292\n",
       "False     482\n",
       "Name: count, dtype: int64"
      ]
     },
     "execution_count": 170,
     "metadata": {},
     "output_type": "execute_result"
    }
   ],
   "source": [
    "PUMS_subset.duplicated().value_counts()"
   ]
  },
  {
   "cell_type": "code",
   "execution_count": null,
   "metadata": {},
   "outputs": [],
   "source": []
  },
  {
   "cell_type": "markdown",
   "metadata": {
    "jp-MarkdownHeadingCollapsed": true
   },
   "source": [
    "### TODO ###\n",
    "### - DIRTY DATA - Remove SOCP = N 'reason invalid entry in this context (visal assessment) ###\n",
    "### - Turn SCHL_RC1 into actuall \n",
    "#### SCHL_RC1 == 0 => [No high school diploma] => SCHL == [0-15]\n",
    "#### SCHL_RC1 == 1 => [high school diploma] => SCHL == [16-17]\n",
    "#### SCHL_RC1 == 2 => [Completed Some College] => SCHL == [18-19]\n",
    "#### SCHL_RC1 == 3 => [Graduated College] => SCHL == [20-21]\n",
    "#### SCHL_RC1 == 4 => [Completed Advance Degree] => SCHL == [22-24]\n",
    "#### Data Quality issue - completeness address by above?\n",
    "\n",
    "### Dimensions of data quality ###\n",
    "\n",
    "**Completeness** is a metric that helps you understand whether your data is sufficient to answer interesting questions or solve your problem.\n",
    "**Validity** is a metric helping you understand how well your data conforms to a defined set of rules for data, also known as a schema.\n",
    "**Accuracy** is a metric that helps you understand whether your data accurately represents the reality it aims to depict.\n",
    "**Consistency** is a metric that helps you understand two things: whether your data follows a standard format and whether your data’s info matches with information from other data sources.\n",
    "**Uniqueness** is a metric that helps you understand whether there are duplicate or overlapping values in your data.\n",
    "\n",
    "## validity - check that salary is within range and there are no outliers ## std +-1 ) (programmatic) ##\n",
    "## DATA QUALITY check for uniqueness (programmatic assessment) ##\n",
    "\n",
    "### requirements for tidiness: ###\n",
    "Each **variable** forms a column\n",
    "Each **observation** forms a row\n",
    "Each type of **observational unit** forms a table"
   ]
  },
  {
   "cell_type": "markdown",
   "metadata": {
    "id": "QwSWIVmotLgV"
   },
   "source": [
    "## 2. Assess data\n",
    "\n",
    "Assess the data according to data quality and tidiness metrics using the report below.\n",
    "\n",
    "List **two** data quality issues and **two** tidiness issues. Assess each data issue visually **and** programmatically, then briefly describe the issue you find.  **Make sure you include justifications for the methods you use for the assessment.**"
   ]
  },
  {
   "cell_type": "markdown",
   "metadata": {
    "id": "adaK2iPNzVu4"
   },
   "source": [
    "### Quality Issue 1:"
   ]
  },
  {
   "cell_type": "code",
   "execution_count": 225,
   "metadata": {},
   "outputs": [
    {
     "name": "stdout",
     "output_type": "stream",
     "text": [
      "       0       1         2     3      4      5\n",
      "0  PWGTP    SOCP  SCHL_RC1  SCHL   PUMA  STATE\n",
      "1     47       N         3    19  23304     53\n",
      "2     74  537062         3    19  23304     53\n",
      "3     54       N         4    21  23304     53\n",
      "4     18       N         4    21  23304     53\n"
     ]
    }
   ],
   "source": [
    "### header is the first row of data \n",
    "print(PUMS_data.head(5))"
   ]
  },
  {
   "cell_type": "markdown",
   "metadata": {},
   "source": [
    "Issue and justification: *column header* is the first row of dataset"
   ]
  },
  {
   "cell_type": "markdown",
   "metadata": {
    "id": "8Be77N4I1AmE"
   },
   "source": [
    "### Quality Issue 2:"
   ]
  },
  {
   "cell_type": "code",
   "execution_count": 232,
   "metadata": {
    "id": "-qfcocStzsKg"
   },
   "outputs": [
    {
     "data": {
      "text/html": [
       "<div>\n",
       "<style scoped>\n",
       "    .dataframe tbody tr th:only-of-type {\n",
       "        vertical-align: middle;\n",
       "    }\n",
       "\n",
       "    .dataframe tbody tr th {\n",
       "        vertical-align: top;\n",
       "    }\n",
       "\n",
       "    .dataframe thead th {\n",
       "        text-align: right;\n",
       "    }\n",
       "</style>\n",
       "<table border=\"1\" class=\"dataframe\">\n",
       "  <thead>\n",
       "    <tr style=\"text-align: right;\">\n",
       "      <th></th>\n",
       "      <th>0</th>\n",
       "      <th>1</th>\n",
       "      <th>2</th>\n",
       "      <th>3</th>\n",
       "      <th>4</th>\n",
       "      <th>5</th>\n",
       "    </tr>\n",
       "  </thead>\n",
       "  <tbody>\n",
       "    <tr>\n",
       "      <th>count</th>\n",
       "      <td>1775</td>\n",
       "      <td>1775</td>\n",
       "      <td>1775</td>\n",
       "      <td>1775</td>\n",
       "      <td>1775</td>\n",
       "      <td>1775</td>\n",
       "    </tr>\n",
       "    <tr>\n",
       "      <th>unique</th>\n",
       "      <td>265</td>\n",
       "      <td>219</td>\n",
       "      <td>6</td>\n",
       "      <td>26</td>\n",
       "      <td>2</td>\n",
       "      <td>2</td>\n",
       "    </tr>\n",
       "    <tr>\n",
       "      <th>top</th>\n",
       "      <td>66</td>\n",
       "      <td>N</td>\n",
       "      <td>4</td>\n",
       "      <td>21</td>\n",
       "      <td>23304</td>\n",
       "      <td>53</td>\n",
       "    </tr>\n",
       "    <tr>\n",
       "      <th>freq</th>\n",
       "      <td>40</td>\n",
       "      <td>691</td>\n",
       "      <td>625</td>\n",
       "      <td>552</td>\n",
       "      <td>1774</td>\n",
       "      <td>1774</td>\n",
       "    </tr>\n",
       "  </tbody>\n",
       "</table>\n",
       "</div>"
      ],
      "text/plain": [
       "           0     1     2     3      4     5\n",
       "count   1775  1775  1775  1775   1775  1775\n",
       "unique   265   219     6    26      2     2\n",
       "top       66     N     4    21  23304    53\n",
       "freq      40   691   625   552   1774  1774"
      ]
     },
     "execution_count": 232,
     "metadata": {},
     "output_type": "execute_result"
    }
   ],
   "source": [
    "# Inspecting the dataframe programmatically\n",
    "PUMS_data.describe()"
   ]
  },
  {
   "cell_type": "markdown",
   "metadata": {},
   "source": [
    "Issue and justification:\n",
    "*SOCP has a value N which is invalid entry in this context and should be removed from the dataset*"
   ]
  },
  {
   "cell_type": "markdown",
   "metadata": {
    "id": "lXhGiYyiwwKN"
   },
   "source": [
    "### Tidiness Issue 1:"
   ]
  },
  {
   "cell_type": "code",
   "execution_count": 310,
   "metadata": {
    "id": "fleC5rORI0Xl"
   },
   "outputs": [
    {
     "data": {
      "text/plain": [
       "A_MEAN\n",
       "*         1487\n",
       "#          144\n",
       "54330       50\n",
       "46110       48\n",
       "40820       47\n",
       "          ... \n",
       "207260       1\n",
       "238120       1\n",
       "193040       1\n",
       "161570       1\n",
       "295110       1\n",
       "Name: count, Length: 15760, dtype: int64"
      ]
     },
     "execution_count": 310,
     "metadata": {},
     "output_type": "execute_result"
    }
   ],
   "source": [
    "#Inspecting the dataframe visually\n",
    "OEW_data['A_MEAN'].value_counts()"
   ]
  },
  {
   "cell_type": "markdown",
   "metadata": {},
   "source": [
    "Issue and justification: *For my analysis, A_MEAN should be a float/int64 and not an object. It also has values '\\*' and '#' which are invalid*\n"
   ]
  },
  {
   "cell_type": "markdown",
   "metadata": {
    "id": "4ffMoRGSwzYj"
   },
   "source": [
    "### Tidiness Issue 2: "
   ]
  },
  {
   "cell_type": "code",
   "execution_count": 325,
   "metadata": {
    "id": "XUpeoqokw5Qt"
   },
   "outputs": [
    {
     "name": "stdout",
     "output_type": "stream",
     "text": [
      "<class 'pandas.core.frame.DataFrame'>\n",
      "RangeIndex: 1775 entries, 0 to 1774\n",
      "Data columns (total 6 columns):\n",
      " #   Column  Non-Null Count  Dtype \n",
      "---  ------  --------------  ----- \n",
      " 0   0       1775 non-null   object\n",
      " 1   1       1775 non-null   object\n",
      " 2   2       1775 non-null   object\n",
      " 3   3       1775 non-null   object\n",
      " 4   4       1775 non-null   object\n",
      " 5   5       1775 non-null   object\n",
      "dtypes: object(6)\n",
      "memory usage: 83.3+ KB\n"
     ]
    }
   ],
   "source": [
    "## Inspecting the dataframe visually\n",
    "PUMS_data.info()"
   ]
  },
  {
   "cell_type": "code",
   "execution_count": 327,
   "metadata": {
    "id": "c8JK4DoXxtFA"
   },
   "outputs": [
    {
     "data": {
      "text/plain": [
       "0    0\n",
       "1    0\n",
       "2    0\n",
       "3    0\n",
       "4    0\n",
       "5    0\n",
       "dtype: int64"
      ]
     },
     "execution_count": 327,
     "metadata": {},
     "output_type": "execute_result"
    }
   ],
   "source": [
    "#Inspecting the dataframe programmatically\n",
    "PUMS_data.isnull().sum()"
   ]
  },
  {
   "cell_type": "markdown",
   "metadata": {},
   "source": [
    "Issue and justification: *FILL IN*"
   ]
  },
  {
   "cell_type": "markdown",
   "metadata": {
    "id": "D6gmLnBttpCh"
   },
   "source": [
    "## 3. Clean data\n",
    "Clean the data to solve the 4 issues corresponding to data quality and tidiness found in the assessing step. **Make sure you include justifications for your cleaning decisions.**\n",
    "\n",
    "After the cleaning for each issue, please use **either** the visually or programatical method to validate the cleaning was succesful.\n",
    "\n",
    "At this stage, you are also expected to remove variables that are unnecessary for your analysis and combine your datasets. Depending on your datasets, you may choose to perform variable combination and elimination before or after the cleaning stage. Your dataset must have **at least** 4 variables after combining the data."
   ]
  },
  {
   "cell_type": "code",
   "execution_count": 248,
   "metadata": {},
   "outputs": [],
   "source": [
    "# Create copies of the datasets to ensure the raw dataframes \n",
    "PUMS_data_copy = PUMS_data.copy()\n",
    "OEW_data_copy = OEW_data.copy()"
   ]
  },
  {
   "cell_type": "markdown",
   "metadata": {
    "id": "FmFhN52Yyn3l"
   },
   "source": [
    "### **Quality Issue 1: FILL IN**"
   ]
  },
  {
   "cell_type": "code",
   "execution_count": 256,
   "metadata": {},
   "outputs": [],
   "source": [
    "# Cleaning strategy - Fix issue with column headers\n",
    "columns = PUMS_response_data[0]\n",
    "rows = PUMS_response_data[1:]\n",
    "PUMS_data_cleaned = pd.DataFrame(rows, columns=columns)"
   ]
  },
  {
   "cell_type": "code",
   "execution_count": 258,
   "metadata": {
    "id": "oUBee-LPytkv"
   },
   "outputs": [
    {
     "data": {
      "text/html": [
       "<div>\n",
       "<style scoped>\n",
       "    .dataframe tbody tr th:only-of-type {\n",
       "        vertical-align: middle;\n",
       "    }\n",
       "\n",
       "    .dataframe tbody tr th {\n",
       "        vertical-align: top;\n",
       "    }\n",
       "\n",
       "    .dataframe thead th {\n",
       "        text-align: right;\n",
       "    }\n",
       "</style>\n",
       "<table border=\"1\" class=\"dataframe\">\n",
       "  <thead>\n",
       "    <tr style=\"text-align: right;\">\n",
       "      <th></th>\n",
       "      <th>PWGTP</th>\n",
       "      <th>SOCP</th>\n",
       "      <th>SCHL_RC1</th>\n",
       "      <th>SCHL</th>\n",
       "      <th>PUMA</th>\n",
       "      <th>STATE</th>\n",
       "    </tr>\n",
       "  </thead>\n",
       "  <tbody>\n",
       "    <tr>\n",
       "      <th>0</th>\n",
       "      <td>47</td>\n",
       "      <td>N</td>\n",
       "      <td>3</td>\n",
       "      <td>19</td>\n",
       "      <td>23304</td>\n",
       "      <td>53</td>\n",
       "    </tr>\n",
       "    <tr>\n",
       "      <th>1</th>\n",
       "      <td>74</td>\n",
       "      <td>537062</td>\n",
       "      <td>3</td>\n",
       "      <td>19</td>\n",
       "      <td>23304</td>\n",
       "      <td>53</td>\n",
       "    </tr>\n",
       "    <tr>\n",
       "      <th>2</th>\n",
       "      <td>54</td>\n",
       "      <td>N</td>\n",
       "      <td>4</td>\n",
       "      <td>21</td>\n",
       "      <td>23304</td>\n",
       "      <td>53</td>\n",
       "    </tr>\n",
       "    <tr>\n",
       "      <th>3</th>\n",
       "      <td>18</td>\n",
       "      <td>N</td>\n",
       "      <td>4</td>\n",
       "      <td>21</td>\n",
       "      <td>23304</td>\n",
       "      <td>53</td>\n",
       "    </tr>\n",
       "    <tr>\n",
       "      <th>4</th>\n",
       "      <td>47</td>\n",
       "      <td>N</td>\n",
       "      <td>3</td>\n",
       "      <td>19</td>\n",
       "      <td>23304</td>\n",
       "      <td>53</td>\n",
       "    </tr>\n",
       "  </tbody>\n",
       "</table>\n",
       "</div>"
      ],
      "text/plain": [
       "  PWGTP    SOCP SCHL_RC1 SCHL   PUMA STATE\n",
       "0    47       N        3   19  23304    53\n",
       "1    74  537062        3   19  23304    53\n",
       "2    54       N        4   21  23304    53\n",
       "3    18       N        4   21  23304    53\n",
       "4    47       N        3   19  23304    53"
      ]
     },
     "execution_count": 258,
     "metadata": {},
     "output_type": "execute_result"
    }
   ],
   "source": [
    "# Validate the cleaning was successful\n",
    "PUMS_data_cleaned.head(5)"
   ]
  },
  {
   "cell_type": "markdown",
   "metadata": {},
   "source": [
    "Justification: *Fixing the column headers improves that handling when trying to combine the data from the two datasets to use column names instead of numbers*"
   ]
  },
  {
   "cell_type": "markdown",
   "metadata": {
    "id": "n_DAUbJrymBL"
   },
   "source": [
    "### **Quality Issue 2: FILL IN**"
   ]
  },
  {
   "cell_type": "code",
   "execution_count": 270,
   "metadata": {
    "id": "5Yfb-Yu5MTuE"
   },
   "outputs": [],
   "source": [
    "# Cleaning strategy - remove all rows with SOCP value equals 'N'\n",
    "PUMS_data_cleaned = PUMS_data_cleaned[PUMS_data_cleaned['SOCP'] != 'N']"
   ]
  },
  {
   "cell_type": "code",
   "execution_count": 273,
   "metadata": {
    "id": "ionB2sRaMUmY"
   },
   "outputs": [
    {
     "data": {
      "text/html": [
       "<div>\n",
       "<style scoped>\n",
       "    .dataframe tbody tr th:only-of-type {\n",
       "        vertical-align: middle;\n",
       "    }\n",
       "\n",
       "    .dataframe tbody tr th {\n",
       "        vertical-align: top;\n",
       "    }\n",
       "\n",
       "    .dataframe thead th {\n",
       "        text-align: right;\n",
       "    }\n",
       "</style>\n",
       "<table border=\"1\" class=\"dataframe\">\n",
       "  <thead>\n",
       "    <tr style=\"text-align: right;\">\n",
       "      <th></th>\n",
       "      <th>PWGTP</th>\n",
       "      <th>SOCP</th>\n",
       "      <th>SCHL_RC1</th>\n",
       "      <th>SCHL</th>\n",
       "      <th>PUMA</th>\n",
       "      <th>STATE</th>\n",
       "    </tr>\n",
       "  </thead>\n",
       "  <tbody>\n",
       "    <tr>\n",
       "      <th>1137</th>\n",
       "      <td>168</td>\n",
       "      <td>253041</td>\n",
       "      <td>4</td>\n",
       "      <td>21</td>\n",
       "      <td>23304</td>\n",
       "      <td>53</td>\n",
       "    </tr>\n",
       "    <tr>\n",
       "      <th>534</th>\n",
       "      <td>6</td>\n",
       "      <td>353023</td>\n",
       "      <td>3</td>\n",
       "      <td>19</td>\n",
       "      <td>23304</td>\n",
       "      <td>53</td>\n",
       "    </tr>\n",
       "    <tr>\n",
       "      <th>1215</th>\n",
       "      <td>374</td>\n",
       "      <td>151252</td>\n",
       "      <td>3</td>\n",
       "      <td>19</td>\n",
       "      <td>23304</td>\n",
       "      <td>53</td>\n",
       "    </tr>\n",
       "    <tr>\n",
       "      <th>1232</th>\n",
       "      <td>74</td>\n",
       "      <td>151252</td>\n",
       "      <td>4</td>\n",
       "      <td>21</td>\n",
       "      <td>23304</td>\n",
       "      <td>53</td>\n",
       "    </tr>\n",
       "    <tr>\n",
       "      <th>1419</th>\n",
       "      <td>75</td>\n",
       "      <td>412031</td>\n",
       "      <td>4</td>\n",
       "      <td>21</td>\n",
       "      <td>23304</td>\n",
       "      <td>53</td>\n",
       "    </tr>\n",
       "    <tr>\n",
       "      <th>385</th>\n",
       "      <td>128</td>\n",
       "      <td>151252</td>\n",
       "      <td>4</td>\n",
       "      <td>21</td>\n",
       "      <td>23304</td>\n",
       "      <td>53</td>\n",
       "    </tr>\n",
       "    <tr>\n",
       "      <th>522</th>\n",
       "      <td>121</td>\n",
       "      <td>252020</td>\n",
       "      <td>5</td>\n",
       "      <td>22</td>\n",
       "      <td>23304</td>\n",
       "      <td>53</td>\n",
       "    </tr>\n",
       "    <tr>\n",
       "      <th>354</th>\n",
       "      <td>112</td>\n",
       "      <td>131161</td>\n",
       "      <td>4</td>\n",
       "      <td>21</td>\n",
       "      <td>23304</td>\n",
       "      <td>53</td>\n",
       "    </tr>\n",
       "    <tr>\n",
       "      <th>1392</th>\n",
       "      <td>35</td>\n",
       "      <td>132011</td>\n",
       "      <td>5</td>\n",
       "      <td>22</td>\n",
       "      <td>23304</td>\n",
       "      <td>53</td>\n",
       "    </tr>\n",
       "    <tr>\n",
       "      <th>1177</th>\n",
       "      <td>56</td>\n",
       "      <td>252020</td>\n",
       "      <td>5</td>\n",
       "      <td>22</td>\n",
       "      <td>23304</td>\n",
       "      <td>53</td>\n",
       "    </tr>\n",
       "    <tr>\n",
       "      <th>1406</th>\n",
       "      <td>70</td>\n",
       "      <td>353031</td>\n",
       "      <td>3</td>\n",
       "      <td>19</td>\n",
       "      <td>23304</td>\n",
       "      <td>53</td>\n",
       "    </tr>\n",
       "    <tr>\n",
       "      <th>256</th>\n",
       "      <td>69</td>\n",
       "      <td>291141</td>\n",
       "      <td>4</td>\n",
       "      <td>21</td>\n",
       "      <td>23304</td>\n",
       "      <td>53</td>\n",
       "    </tr>\n",
       "    <tr>\n",
       "      <th>784</th>\n",
       "      <td>116</td>\n",
       "      <td>151252</td>\n",
       "      <td>4</td>\n",
       "      <td>21</td>\n",
       "      <td>23304</td>\n",
       "      <td>53</td>\n",
       "    </tr>\n",
       "    <tr>\n",
       "      <th>44</th>\n",
       "      <td>69</td>\n",
       "      <td>113051</td>\n",
       "      <td>5</td>\n",
       "      <td>22</td>\n",
       "      <td>23304</td>\n",
       "      <td>53</td>\n",
       "    </tr>\n",
       "    <tr>\n",
       "      <th>1275</th>\n",
       "      <td>85</td>\n",
       "      <td>1191XX</td>\n",
       "      <td>4</td>\n",
       "      <td>21</td>\n",
       "      <td>23304</td>\n",
       "      <td>53</td>\n",
       "    </tr>\n",
       "    <tr>\n",
       "      <th>934</th>\n",
       "      <td>59</td>\n",
       "      <td>273043</td>\n",
       "      <td>4</td>\n",
       "      <td>21</td>\n",
       "      <td>23304</td>\n",
       "      <td>53</td>\n",
       "    </tr>\n",
       "    <tr>\n",
       "      <th>995</th>\n",
       "      <td>214</td>\n",
       "      <td>299000</td>\n",
       "      <td>5</td>\n",
       "      <td>23</td>\n",
       "      <td>23304</td>\n",
       "      <td>53</td>\n",
       "    </tr>\n",
       "    <tr>\n",
       "      <th>1701</th>\n",
       "      <td>72</td>\n",
       "      <td>514XXX</td>\n",
       "      <td>2</td>\n",
       "      <td>16</td>\n",
       "      <td>23304</td>\n",
       "      <td>53</td>\n",
       "    </tr>\n",
       "    <tr>\n",
       "      <th>655</th>\n",
       "      <td>246</td>\n",
       "      <td>412010</td>\n",
       "      <td>1</td>\n",
       "      <td>15</td>\n",
       "      <td>23304</td>\n",
       "      <td>53</td>\n",
       "    </tr>\n",
       "    <tr>\n",
       "      <th>402</th>\n",
       "      <td>156</td>\n",
       "      <td>433031</td>\n",
       "      <td>4</td>\n",
       "      <td>21</td>\n",
       "      <td>23304</td>\n",
       "      <td>53</td>\n",
       "    </tr>\n",
       "  </tbody>\n",
       "</table>\n",
       "</div>"
      ],
      "text/plain": [
       "     PWGTP    SOCP SCHL_RC1 SCHL   PUMA STATE\n",
       "1137   168  253041        4   21  23304    53\n",
       "534      6  353023        3   19  23304    53\n",
       "1215   374  151252        3   19  23304    53\n",
       "1232    74  151252        4   21  23304    53\n",
       "1419    75  412031        4   21  23304    53\n",
       "385    128  151252        4   21  23304    53\n",
       "522    121  252020        5   22  23304    53\n",
       "354    112  131161        4   21  23304    53\n",
       "1392    35  132011        5   22  23304    53\n",
       "1177    56  252020        5   22  23304    53\n",
       "1406    70  353031        3   19  23304    53\n",
       "256     69  291141        4   21  23304    53\n",
       "784    116  151252        4   21  23304    53\n",
       "44      69  113051        5   22  23304    53\n",
       "1275    85  1191XX        4   21  23304    53\n",
       "934     59  273043        4   21  23304    53\n",
       "995    214  299000        5   23  23304    53\n",
       "1701    72  514XXX        2   16  23304    53\n",
       "655    246  412010        1   15  23304    53\n",
       "402    156  433031        4   21  23304    53"
      ]
     },
     "execution_count": 273,
     "metadata": {},
     "output_type": "execute_result"
    }
   ],
   "source": [
    "# Validate the cleaning was successful\n",
    "PUMS_data_cleaned.sample(20)"
   ]
  },
  {
   "cell_type": "markdown",
   "metadata": {},
   "source": [
    "Justification: *SOCP has a row with value 'N' which is invalid entry in this context and after the analysis if not removed*"
   ]
  },
  {
   "cell_type": "markdown",
   "metadata": {
    "id": "bIUrrfSNyOPR"
   },
   "source": [
    "### **Tidiness Issue 1: FILL IN**"
   ]
  },
  {
   "cell_type": "code",
   "execution_count": 321,
   "metadata": {
    "id": "fib0zAm333bn"
   },
   "outputs": [
    {
     "data": {
      "text/plain": [
       "0          49780.0\n",
       "1         100690.0\n",
       "2         240020.0\n",
       "3          98480.0\n",
       "4         116290.0\n",
       "            ...   \n",
       "149586     44550.0\n",
       "149587     45740.0\n",
       "149588     35630.0\n",
       "149589     38900.0\n",
       "149590     52670.0\n",
       "Name: A_MEAN, Length: 149591, dtype: float64"
      ]
     },
     "execution_count": 321,
     "metadata": {},
     "output_type": "execute_result"
    }
   ],
   "source": [
    "#Cleaning strategy - Replace rows with '*' & '#' in A_MEAN to np.nan and column to float/int\n",
    "pd.set_option('future.no_silent_downcasting', True)\n",
    "\n",
    "OEW_data_copy['A_MEAN'] = OEW_data_copy['A_MEAN'].replace(['*','#'], [np.nan, np.nan])\n",
    "OEW_data_copy['A_MEAN'].astype(float)"
   ]
  },
  {
   "cell_type": "code",
   "execution_count": 314,
   "metadata": {
    "id": "yhrnUGY_Nk8B",
    "scrolled": true
   },
   "outputs": [
    {
     "data": {
      "text/plain": [
       "A_MEAN\n",
       "54330.0     50\n",
       "46110.0     48\n",
       "40820.0     47\n",
       "38380.0     47\n",
       "47300.0     47\n",
       "            ..\n",
       "143790.0     1\n",
       "158300.0     1\n",
       "147040.0     1\n",
       "118300.0     1\n",
       "295110.0     1\n",
       "Name: count, Length: 15758, dtype: int64"
      ]
     },
     "execution_count": 314,
     "metadata": {},
     "output_type": "execute_result"
    }
   ],
   "source": [
    "#FILL IN - Validate the cleaning was successful\n",
    "OEW_data_copy['A_MEAN'].value_counts()"
   ]
  },
  {
   "cell_type": "markdown",
   "metadata": {},
   "source": [
    "Justification: *Replacing this values with np.nan exlcudes them from calculations of mean and sum by default*"
   ]
  },
  {
   "cell_type": "markdown",
   "metadata": {
    "id": "o51Bt8kwyTzk"
   },
   "source": [
    "### **Tidiness Issue 2: FILL IN**"
   ]
  },
  {
   "cell_type": "code",
   "execution_count": null,
   "metadata": {
    "id": "7zW8O5yx4Y9O"
   },
   "outputs": [],
   "source": [
    "#FILL IN - Apply the cleaning strategy"
   ]
  },
  {
   "cell_type": "code",
   "execution_count": null,
   "metadata": {
    "id": "q6I_Sr7lxXi5"
   },
   "outputs": [],
   "source": [
    "#FILL IN - Validate the cleaning was successful"
   ]
  },
  {
   "cell_type": "markdown",
   "metadata": {},
   "source": [
    "Justification: *FILL IN*"
   ]
  },
  {
   "cell_type": "markdown",
   "metadata": {},
   "source": [
    "### **Remove unnecessary variables and combine datasets**\n",
    "\n",
    "Depending on the datasets, you can also peform the combination before the cleaning steps."
   ]
  },
  {
   "cell_type": "code",
   "execution_count": null,
   "metadata": {},
   "outputs": [],
   "source": [
    "#FILL IN - Remove unnecessary variables and combine datasets"
   ]
  },
  {
   "cell_type": "markdown",
   "metadata": {
    "id": "F42urHuzttjF"
   },
   "source": [
    "## 4. Update your data store\n",
    "Update your local database/data store with the cleaned data, following best practices for storing your cleaned data:\n",
    "\n",
    "- Must maintain different instances / versions of data (raw and cleaned data)\n",
    "- Must name the dataset files informatively\n",
    "- Ensure both the raw and cleaned data is saved to your database/data store"
   ]
  },
  {
   "cell_type": "code",
   "execution_count": null,
   "metadata": {
    "id": "V3uay7EJUV_L"
   },
   "outputs": [],
   "source": [
    "#FILL IN - saving data"
   ]
  },
  {
   "cell_type": "markdown",
   "metadata": {
    "id": "cGy_yddGtzhM"
   },
   "source": [
    "## 5. Answer the research question\n",
    "\n",
    "### **5.1:** Define and answer the research question \n",
    "Going back to the problem statement in step 1, use the cleaned data to answer the question you raised. Produce **at least** two visualizations using the cleaned data and explain how they help you answer the question."
   ]
  },
  {
   "cell_type": "markdown",
   "metadata": {
    "id": "gjedE4s4ZkEd"
   },
   "source": [
    "*Research question:* FILL IN from answer to Step 1"
   ]
  },
  {
   "cell_type": "code",
   "execution_count": null,
   "metadata": {
    "id": "Lkw3rW9kZmOm"
   },
   "outputs": [],
   "source": [
    "#Visual 1 - FILL IN"
   ]
  },
  {
   "cell_type": "markdown",
   "metadata": {},
   "source": [
    "*Answer to research question:* FILL IN"
   ]
  },
  {
   "cell_type": "code",
   "execution_count": null,
   "metadata": {
    "id": "6fdK_8ZGZm9R"
   },
   "outputs": [],
   "source": [
    "#Visual 2 - FILL IN"
   ]
  },
  {
   "cell_type": "markdown",
   "metadata": {
    "id": "K5RgvMGUZoHn"
   },
   "source": [
    "*Answer to research question:* FILL IN"
   ]
  },
  {
   "cell_type": "markdown",
   "metadata": {
    "id": "0ezWXXZVj-TP"
   },
   "source": [
    "### **5.2:** Reflection\n",
    "In 2-4 sentences, if you had more time to complete the project, what actions would you take? For example, which data quality and structural issues would you look into further, and what research questions would you further explore?"
   ]
  },
  {
   "cell_type": "markdown",
   "metadata": {
    "id": "XB3RBDG5kFe1"
   },
   "source": [
    "*Answer:* FILL IN"
   ]
  }
 ],
 "metadata": {
  "colab": {
   "provenance": []
  },
  "kernelspec": {
   "display_name": "Python 3 (ipykernel)",
   "language": "python",
   "name": "python3"
  },
  "language_info": {
   "codemirror_mode": {
    "name": "ipython",
    "version": 3
   },
   "file_extension": ".py",
   "mimetype": "text/x-python",
   "name": "python",
   "nbconvert_exporter": "python",
   "pygments_lexer": "ipython3",
   "version": "3.12.4"
  }
 },
 "nbformat": 4,
 "nbformat_minor": 4
}
