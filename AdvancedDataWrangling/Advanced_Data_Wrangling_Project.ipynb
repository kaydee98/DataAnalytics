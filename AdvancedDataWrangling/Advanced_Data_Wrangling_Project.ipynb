{
 "cells": [
  {
   "cell_type": "markdown",
   "metadata": {
    "id": "GNIwe5N7s0e_"
   },
   "source": [
    "# Real-world Data Wrangling"
   ]
  },
  {
   "cell_type": "code",
   "execution_count": 187,
   "metadata": {},
   "outputs": [],
   "source": [
    "# !python -m pip install kaggle==1.6.12"
   ]
  },
  {
   "cell_type": "code",
   "execution_count": 188,
   "metadata": {},
   "outputs": [],
   "source": [
    "## !pip install --target=/workspace ucimlrepo numpy==1.24.3"
   ]
  },
  {
   "cell_type": "markdown",
   "metadata": {},
   "source": [
    "**Note:** Restart the kernel to use updated package(s)."
   ]
  },
  {
   "cell_type": "code",
   "execution_count": 190,
   "metadata": {},
   "outputs": [],
   "source": [
    "import pandas as pd\n",
    "import numpy as np\n",
    "import requests"
   ]
  },
  {
   "cell_type": "markdown",
   "metadata": {
    "id": "lDYDkH-Zs7Nn"
   },
   "source": [
    "## 1. Gather data"
   ]
  },
  {
   "cell_type": "markdown",
   "metadata": {
    "id": "LbN7z7rcuqpO"
   },
   "source": [
    "### **1.1.** Problem Statement\n",
    "In this project, we will investigate the educational attainment levels among individuals employed in computer-related occupations in King County, Washington, by gathering, cleaning, and analyzing relevant data to identify trends, distributions, and potential correlations within the local workforce. Data from the Seattle-Tacoma area will be used as proxy to answer the research questions\n",
    "\n",
    "#### Research Questions ####\n",
    "1. What is the level of education of people employed in computer related roles\n",
    "2. How does the level of education influence salary for computer-realated occupations"
   ]
  },
  {
   "cell_type": "markdown",
   "metadata": {
    "id": "8AQfBAdUypMm"
   },
   "source": [
    "### **1.2.** Gathered U.S Bureau of Labor Statistics and U.S Census Bureau Dataset"
   ]
  },
  {
   "cell_type": "markdown",
   "metadata": {
    "id": "7e6gS0wL1KTu"
   },
   "source": [
    "#### **1.2.1** 2023 Occupational Employment and Wage (OEW) Statistics from U.S Bureau of Labor Statistics Dataset\n",
    "\n",
    "Type: XLS file\n",
    "\n",
    "Method: The data was gathered using the \"Downloading files\" method from U.S Bureau of Labor Statistics (Occupational Employment and Wage Statistics tables)\n",
    "\n",
    "Dataset variables:\n",
    "\n",
    "*   *AREA:* Area code\n",
    "*   *AREA_TITLE:* Title of the metropolitan area\n",
    "*   *OCC_CODE:* Occupational Code\n",
    "*   *OCC_TITLE:* Occupational Title\n",
    "*   *A_MEAN:* Mean Annual Wage"
   ]
  },
  {
   "cell_type": "code",
   "execution_count": 195,
   "metadata": {
    "id": "Su8E0uLuYkHU"
   },
   "outputs": [],
   "source": [
    "## Load OEW Dataset to access king county/seattle-tacoma area dataset\n",
    "oew_data = pd.read_excel('oew_statistics_2023_raw.xlsx')"
   ]
  },
  {
   "cell_type": "code",
   "execution_count": 196,
   "metadata": {
    "scrolled": true
   },
   "outputs": [
    {
     "data": {
      "text/html": [
       "<div>\n",
       "<style scoped>\n",
       "    .dataframe tbody tr th:only-of-type {\n",
       "        vertical-align: middle;\n",
       "    }\n",
       "\n",
       "    .dataframe tbody tr th {\n",
       "        vertical-align: top;\n",
       "    }\n",
       "\n",
       "    .dataframe thead th {\n",
       "        text-align: right;\n",
       "    }\n",
       "</style>\n",
       "<table border=\"1\" class=\"dataframe\">\n",
       "  <thead>\n",
       "    <tr style=\"text-align: right;\">\n",
       "      <th></th>\n",
       "      <th>AREA</th>\n",
       "      <th>AREA_TITLE</th>\n",
       "      <th>AREA_TYPE</th>\n",
       "      <th>PRIM_STATE</th>\n",
       "      <th>NAICS</th>\n",
       "      <th>NAICS_TITLE</th>\n",
       "      <th>I_GROUP</th>\n",
       "      <th>OWN_CODE</th>\n",
       "      <th>OCC_CODE</th>\n",
       "      <th>OCC_TITLE</th>\n",
       "      <th>...</th>\n",
       "      <th>H_MEDIAN</th>\n",
       "      <th>H_PCT75</th>\n",
       "      <th>H_PCT90</th>\n",
       "      <th>A_PCT10</th>\n",
       "      <th>A_PCT25</th>\n",
       "      <th>A_MEDIAN</th>\n",
       "      <th>A_PCT75</th>\n",
       "      <th>A_PCT90</th>\n",
       "      <th>ANNUAL</th>\n",
       "      <th>HOURLY</th>\n",
       "    </tr>\n",
       "  </thead>\n",
       "  <tbody>\n",
       "    <tr>\n",
       "      <th>0</th>\n",
       "      <td>10180</td>\n",
       "      <td>Abilene, TX</td>\n",
       "      <td>4</td>\n",
       "      <td>TX</td>\n",
       "      <td>0</td>\n",
       "      <td>Cross-industry</td>\n",
       "      <td>cross-industry</td>\n",
       "      <td>1235</td>\n",
       "      <td>00-0000</td>\n",
       "      <td>All Occupations</td>\n",
       "      <td>...</td>\n",
       "      <td>18.6</td>\n",
       "      <td>28.03</td>\n",
       "      <td>40.08</td>\n",
       "      <td>22750</td>\n",
       "      <td>28710</td>\n",
       "      <td>38680</td>\n",
       "      <td>58310</td>\n",
       "      <td>83360</td>\n",
       "      <td>NaN</td>\n",
       "      <td>NaN</td>\n",
       "    </tr>\n",
       "    <tr>\n",
       "      <th>1</th>\n",
       "      <td>10180</td>\n",
       "      <td>Abilene, TX</td>\n",
       "      <td>4</td>\n",
       "      <td>TX</td>\n",
       "      <td>0</td>\n",
       "      <td>Cross-industry</td>\n",
       "      <td>cross-industry</td>\n",
       "      <td>1235</td>\n",
       "      <td>11-0000</td>\n",
       "      <td>Management Occupations</td>\n",
       "      <td>...</td>\n",
       "      <td>39.09</td>\n",
       "      <td>58.27</td>\n",
       "      <td>81.79</td>\n",
       "      <td>42080</td>\n",
       "      <td>59290</td>\n",
       "      <td>81310</td>\n",
       "      <td>121200</td>\n",
       "      <td>170130</td>\n",
       "      <td>NaN</td>\n",
       "      <td>NaN</td>\n",
       "    </tr>\n",
       "    <tr>\n",
       "      <th>2</th>\n",
       "      <td>10180</td>\n",
       "      <td>Abilene, TX</td>\n",
       "      <td>4</td>\n",
       "      <td>TX</td>\n",
       "      <td>0</td>\n",
       "      <td>Cross-industry</td>\n",
       "      <td>cross-industry</td>\n",
       "      <td>1235</td>\n",
       "      <td>11-1011</td>\n",
       "      <td>Chief Executives</td>\n",
       "      <td>...</td>\n",
       "      <td>97.28</td>\n",
       "      <td>#</td>\n",
       "      <td>#</td>\n",
       "      <td>98490</td>\n",
       "      <td>135280</td>\n",
       "      <td>202340</td>\n",
       "      <td>#</td>\n",
       "      <td>#</td>\n",
       "      <td>NaN</td>\n",
       "      <td>NaN</td>\n",
       "    </tr>\n",
       "    <tr>\n",
       "      <th>3</th>\n",
       "      <td>10180</td>\n",
       "      <td>Abilene, TX</td>\n",
       "      <td>4</td>\n",
       "      <td>TX</td>\n",
       "      <td>0</td>\n",
       "      <td>Cross-industry</td>\n",
       "      <td>cross-industry</td>\n",
       "      <td>1235</td>\n",
       "      <td>11-1021</td>\n",
       "      <td>General and Operations Managers</td>\n",
       "      <td>...</td>\n",
       "      <td>37.19</td>\n",
       "      <td>57.85</td>\n",
       "      <td>86.97</td>\n",
       "      <td>34440</td>\n",
       "      <td>49430</td>\n",
       "      <td>77360</td>\n",
       "      <td>120330</td>\n",
       "      <td>180900</td>\n",
       "      <td>NaN</td>\n",
       "      <td>NaN</td>\n",
       "    </tr>\n",
       "    <tr>\n",
       "      <th>4</th>\n",
       "      <td>10180</td>\n",
       "      <td>Abilene, TX</td>\n",
       "      <td>4</td>\n",
       "      <td>TX</td>\n",
       "      <td>0</td>\n",
       "      <td>Cross-industry</td>\n",
       "      <td>cross-industry</td>\n",
       "      <td>1235</td>\n",
       "      <td>11-2021</td>\n",
       "      <td>Marketing Managers</td>\n",
       "      <td>...</td>\n",
       "      <td>45.31</td>\n",
       "      <td>72.66</td>\n",
       "      <td>97.35</td>\n",
       "      <td>60130</td>\n",
       "      <td>74980</td>\n",
       "      <td>94240</td>\n",
       "      <td>151130</td>\n",
       "      <td>202490</td>\n",
       "      <td>NaN</td>\n",
       "      <td>NaN</td>\n",
       "    </tr>\n",
       "  </tbody>\n",
       "</table>\n",
       "<p>5 rows × 32 columns</p>\n",
       "</div>"
      ],
      "text/plain": [
       "    AREA   AREA_TITLE  AREA_TYPE PRIM_STATE  NAICS     NAICS_TITLE  \\\n",
       "0  10180  Abilene, TX          4         TX      0  Cross-industry   \n",
       "1  10180  Abilene, TX          4         TX      0  Cross-industry   \n",
       "2  10180  Abilene, TX          4         TX      0  Cross-industry   \n",
       "3  10180  Abilene, TX          4         TX      0  Cross-industry   \n",
       "4  10180  Abilene, TX          4         TX      0  Cross-industry   \n",
       "\n",
       "          I_GROUP  OWN_CODE OCC_CODE                        OCC_TITLE  ...  \\\n",
       "0  cross-industry      1235  00-0000                  All Occupations  ...   \n",
       "1  cross-industry      1235  11-0000           Management Occupations  ...   \n",
       "2  cross-industry      1235  11-1011                 Chief Executives  ...   \n",
       "3  cross-industry      1235  11-1021  General and Operations Managers  ...   \n",
       "4  cross-industry      1235  11-2021               Marketing Managers  ...   \n",
       "\n",
       "  H_MEDIAN H_PCT75 H_PCT90 A_PCT10 A_PCT25  A_MEDIAN  A_PCT75 A_PCT90 ANNUAL  \\\n",
       "0     18.6   28.03   40.08   22750   28710     38680    58310   83360    NaN   \n",
       "1    39.09   58.27   81.79   42080   59290     81310   121200  170130    NaN   \n",
       "2    97.28       #       #   98490  135280    202340        #       #    NaN   \n",
       "3    37.19   57.85   86.97   34440   49430     77360   120330  180900    NaN   \n",
       "4    45.31   72.66   97.35   60130   74980     94240   151130  202490    NaN   \n",
       "\n",
       "  HOURLY  \n",
       "0    NaN  \n",
       "1    NaN  \n",
       "2    NaN  \n",
       "3    NaN  \n",
       "4    NaN  \n",
       "\n",
       "[5 rows x 32 columns]"
      ]
     },
     "execution_count": 196,
     "metadata": {},
     "output_type": "execute_result"
    }
   ],
   "source": [
    "## show the first 5 rows of dataset\n",
    "oew_data.head(5)"
   ]
  },
  {
   "cell_type": "markdown",
   "metadata": {
    "id": "hoUjq1tPzz7P"
   },
   "source": [
    "#### **1.2.2** 2023 U.S Census Bureau Public Use Microdata Site (PUMS) Dataset - Custom Table\n",
    "\n",
    "Type: API\n",
    "\n",
    "Method: The data was gathered using the \"API\" method from the United States Census Bureau Public Use Microdata Sample site\n",
    "\n",
    "Dataset variables:\n",
    "\n",
    "*   *SOCP:* Standard Occupational Classification (SOC) codes for 2018 and later based oin 2018 SOC codes\n",
    "*   *SCHL:* Educational Attainment\n",
    "*   *SCHL_RC1:* Educational Attainment recode "
   ]
  },
  {
   "cell_type": "code",
   "execution_count": 198,
   "metadata": {
    "id": "6zT0QxRyYmm7"
   },
   "outputs": [],
   "source": [
    "## Access PUMS API for census information for king county/seattle-tacoma dataset\n",
    "url = 'https://api.census.gov/data/2023/acs/acs1/pums?get=PWGTP,SOCP,SCHL_RC1,SCHL&ucgid=795P200US5323304&recode+SCHL_RC1=%7B%22b%22:%22SCHL%22,%22d%22:%5B%5B%220%22,%2201%22,%2202%22,%2203%22,%2204%22,%2205%22,%2206%22,%2207%22,%2208%22,%2209%22,%2210%22,%2211%22,%2212%22,%2213%22,%2214%22,%2215%22%5D,%5B%2216%22,%2217%22%5D,%5B%2218%22,%2219%22%5D,%5B%2220%22,%2221%22%5D,%5B%2222%22,%2223%22,%2224%22%5D%5D%7D'\n",
    "pums_response = requests.get(url)\n",
    "pums_response.raise_for_status()\n",
    "\n",
    "## Get the json\n",
    "pums_response_data = pums_response.json()\n",
    "\n",
    "## Create dataframe from json\n",
    "pums_data = pd.DataFrame(pums_response_data)"
   ]
  },
  {
   "cell_type": "code",
   "execution_count": 199,
   "metadata": {},
   "outputs": [
    {
     "name": "stdout",
     "output_type": "stream",
     "text": [
      "       0       1         2     3      4      5\n",
      "0  PWGTP    SOCP  SCHL_RC1  SCHL   PUMA  STATE\n",
      "1     47       N         3    19  23304     53\n",
      "2     74  537062         3    19  23304     53\n",
      "3     54       N         4    21  23304     53\n",
      "4     18       N         4    21  23304     53\n"
     ]
    }
   ],
   "source": [
    "## show the first 5 rows of dataset\n",
    "print(pums_data.head(5))"
   ]
  },
  {
   "cell_type": "code",
   "execution_count": 200,
   "metadata": {},
   "outputs": [],
   "source": [
    "## Make copy of dataset before assessment and cleaning\n",
    "pums_data_copy = pums_data.copy()"
   ]
  },
  {
   "cell_type": "code",
   "execution_count": 201,
   "metadata": {},
   "outputs": [
    {
     "name": "stdout",
     "output_type": "stream",
     "text": [
      "       0       1         2     3      4      5\n",
      "0  PWGTP    SOCP  SCHL_RC1  SCHL   PUMA  STATE\n",
      "1     47       N         3    19  23304     53\n",
      "2     74  537062         3    19  23304     53\n",
      "3     54       N         4    21  23304     53\n",
      "4     18       N         4    21  23304     53\n"
     ]
    }
   ],
   "source": [
    "### header is the first row of data \n",
    "print(pums_data_copy.head(5))"
   ]
  },
  {
   "cell_type": "markdown",
   "metadata": {},
   "source": [
    "**Issue #7** columns headers are variables in the dataset\n",
    "- Issue Assessment\n",
    "  - State issue: columns headers are variables in the dataset\n",
    "  - identification technique: programmatically\n",
    "  - Issue type: tidiness\n",
    "  - Provide justification for issue: fix for easy assess to column data\n",
    "- cleaning\n",
    "    - strategy: fix column headers and drop unneccessary columns\n",
    "    - verification: .columns()"
   ]
  },
  {
   "cell_type": "code",
   "execution_count": 203,
   "metadata": {},
   "outputs": [
    {
     "data": {
      "text/plain": [
       "Index(['SOCP', 'SCHL_RC1', 'SCHL'], dtype='object')"
      ]
     },
     "execution_count": 203,
     "metadata": {},
     "output_type": "execute_result"
    }
   ],
   "source": [
    "# Cleaning strategy - Fix issue with column headers\n",
    "columns = pums_response_data[0]\n",
    "rows = pums_response_data[1:]\n",
    "pums_cleaned = pd.DataFrame(rows, columns=columns)\n",
    "\n",
    "# drop PWTP/PUMA/STATE variables\n",
    "pums_cleaned = pums_cleaned[['SOCP','SCHL_RC1', 'SCHL']].reindex()\n",
    "\n",
    "# Cleaning verification\n",
    "pums_cleaned.columns"
   ]
  },
  {
   "cell_type": "markdown",
   "metadata": {},
   "source": [
    "**Issue #8** invalid data in SOCP variable\n",
    "- Issue Assessment\n",
    "  - State issue: invalid data in SOCP variable\n",
    "  - identification technique: programmatically\n",
    "  - Issue type: Quality - Validity\n",
    "  - Provide justification for issue: fix for easy assess to column data\n",
    "- cleaning\n",
    "    - strategy: remove the rows with SOCP value on 'N' they are not relevant in this context\n",
    "    - verification: .columns()"
   ]
  },
  {
   "cell_type": "code",
   "execution_count": 205,
   "metadata": {},
   "outputs": [
    {
     "data": {
      "text/plain": [
       "count     1774\n",
       "unique     218\n",
       "top          N\n",
       "freq       691\n",
       "Name: SOCP, dtype: object"
      ]
     },
     "execution_count": 205,
     "metadata": {},
     "output_type": "execute_result"
    }
   ],
   "source": [
    "## Issue invalid data in SOCP columns\n",
    "pums_cleaned['SOCP'].describe()"
   ]
  },
  {
   "cell_type": "code",
   "execution_count": 206,
   "metadata": {},
   "outputs": [],
   "source": [
    "#cleaning strategy - remove the rows with SOCP value on 'N' they are not relevant in this context\n",
    "pums_cleaned = pums_cleaned[pums_cleaned['SOCP'] != 'N']\n",
    "\n",
    "#cleaning verification\n",
    "assert((pums_cleaned['SOCP'] == 'N').sum() == 0)"
   ]
  },
  {
   "cell_type": "markdown",
   "metadata": {},
   "source": [
    "**Issue #9** computer-related occupations data only\n",
    "- Issue Assessment\n",
    "  - State issue: We are only interested in analyzing computer-related occupations data only\n",
    "  - identification technique: visually assessment\n",
    "  - Issue type: tidiness\n",
    "  - Provide justification for issue: reduce dataset footprint\n",
    "- cleaning\n",
    "    - strategy: filter in computer-related occupation data only\n",
    "    - verification: .head()"
   ]
  },
  {
   "cell_type": "code",
   "execution_count": 208,
   "metadata": {},
   "outputs": [],
   "source": [
    "## Filter for computer related roles only and drop everything else\n",
    "pums_cleaned = pums_cleaned[pums_cleaned['SOCP'].str.contains(r'^15\\d{4}$', case=False, regex=True)]\n",
    "\n",
    "# cleaning verification\n",
    "assert( pums_cleaned[~pums_cleaned['SOCP'].str.contains(r'^15\\d{4}$', case=False, regex=True)].empty)"
   ]
  },
  {
   "cell_type": "markdown",
   "metadata": {},
   "source": [
    "#### Combine datasets \n",
    "[EDIT BELOW]\n",
    "\n",
    "We've cleaned the OEWS data. Now we can merge the `cleaned_pums` and `cleaned_wage` dataframes.\n",
    "\n",
    "Drop the NA values and the unnecessary columns `Area_Title` which reports California for all values in the dataset. Drop the redundant `SOCP` variable. Finally reset the index after dropping the NA values.\n",
    "\n",
    "*Note:* Here, we choose not to remove duplicate values - in the context of this problem statement, we value the individual counts to show the number of individuals in the sample belonging to a certain occupation (`OCC_TITLE`) / gender (`SEX`)."
   ]
  },
  {
   "cell_type": "markdown",
   "metadata": {},
   "source": [
    "\n",
    "\n"
   ]
  },
  {
   "cell_type": "code",
   "execution_count": 211,
   "metadata": {},
   "outputs": [
    {
     "data": {
      "text/html": [
       "<div>\n",
       "<style scoped>\n",
       "    .dataframe tbody tr th:only-of-type {\n",
       "        vertical-align: middle;\n",
       "    }\n",
       "\n",
       "    .dataframe tbody tr th {\n",
       "        vertical-align: top;\n",
       "    }\n",
       "\n",
       "    .dataframe thead th {\n",
       "        text-align: right;\n",
       "    }\n",
       "</style>\n",
       "<table border=\"1\" class=\"dataframe\">\n",
       "  <thead>\n",
       "    <tr style=\"text-align: right;\">\n",
       "      <th></th>\n",
       "      <th>SOCP</th>\n",
       "      <th>SCHL_RC1</th>\n",
       "      <th>SCHL</th>\n",
       "      <th>ED_LEVEL</th>\n",
       "    </tr>\n",
       "  </thead>\n",
       "  <tbody>\n",
       "    <tr>\n",
       "      <th>0</th>\n",
       "      <td>151252</td>\n",
       "      <td>4</td>\n",
       "      <td>21</td>\n",
       "      <td>Graduated College</td>\n",
       "    </tr>\n",
       "    <tr>\n",
       "      <th>1</th>\n",
       "      <td>151252</td>\n",
       "      <td>4</td>\n",
       "      <td>21</td>\n",
       "      <td>Graduated College</td>\n",
       "    </tr>\n",
       "    <tr>\n",
       "      <th>2</th>\n",
       "      <td>151252</td>\n",
       "      <td>5</td>\n",
       "      <td>22</td>\n",
       "      <td>Completed Advance Degree</td>\n",
       "    </tr>\n",
       "    <tr>\n",
       "      <th>3</th>\n",
       "      <td>151252</td>\n",
       "      <td>5</td>\n",
       "      <td>22</td>\n",
       "      <td>Completed Advance Degree</td>\n",
       "    </tr>\n",
       "    <tr>\n",
       "      <th>4</th>\n",
       "      <td>151252</td>\n",
       "      <td>5</td>\n",
       "      <td>22</td>\n",
       "      <td>Completed Advance Degree</td>\n",
       "    </tr>\n",
       "  </tbody>\n",
       "</table>\n",
       "</div>"
      ],
      "text/plain": [
       "     SOCP SCHL_RC1 SCHL                  ED_LEVEL\n",
       "0  151252        4   21         Graduated College\n",
       "1  151252        4   21         Graduated College\n",
       "2  151252        5   22  Completed Advance Degree\n",
       "3  151252        5   22  Completed Advance Degree\n",
       "4  151252        5   22  Completed Advance Degree"
      ]
     },
     "execution_count": 211,
     "metadata": {},
     "output_type": "execute_result"
    }
   ],
   "source": [
    "## Create lookup list for education level (ED_LEVEL)\n",
    "ed_level_data = {\n",
    "    'SCHL_RC1': ['1', '2', '3', '4', '5'],\n",
    "    'ED_LEVEL': [\n",
    "        'No high school diploma',    # SCHL_RC1 == 0\n",
    "        'High school diploma',       # SCHL_RC1 == 1\n",
    "        'Completed Some College',    # SCHL_RC1 == 2\n",
    "        'Graduated College',         # SCHL_RC1 == 3\n",
    "        'Completed Advance Degree'   # SCHL_RC1 == 4\n",
    "    ]\n",
    "}\n",
    "\n",
    "ed_level_df = pd.DataFrame(ed_level_data)\n",
    "\n",
    "# merge with pums dataset using SCHL_RC1 as key\n",
    "pums_merged = pums_cleaned.merge(ed_level_df, on='SCHL_RC1', how='left')\n",
    "pums_merged.head()"
   ]
  },
  {
   "cell_type": "code",
   "execution_count": 212,
   "metadata": {},
   "outputs": [
    {
     "data": {
      "text/html": [
       "<div>\n",
       "<style scoped>\n",
       "    .dataframe tbody tr th:only-of-type {\n",
       "        vertical-align: middle;\n",
       "    }\n",
       "\n",
       "    .dataframe tbody tr th {\n",
       "        vertical-align: top;\n",
       "    }\n",
       "\n",
       "    .dataframe thead th {\n",
       "        text-align: right;\n",
       "    }\n",
       "</style>\n",
       "<table border=\"1\" class=\"dataframe\">\n",
       "  <thead>\n",
       "    <tr style=\"text-align: right;\">\n",
       "      <th></th>\n",
       "      <th>SOCP</th>\n",
       "      <th>SCHL_RC1</th>\n",
       "      <th>SCHL</th>\n",
       "      <th>ED_LEVEL</th>\n",
       "      <th>AREA</th>\n",
       "      <th>OCC_CODE</th>\n",
       "      <th>OCC_TITLE</th>\n",
       "      <th>A_MEAN</th>\n",
       "    </tr>\n",
       "  </thead>\n",
       "  <tbody>\n",
       "    <tr>\n",
       "      <th>0</th>\n",
       "      <td>151252</td>\n",
       "      <td>4</td>\n",
       "      <td>21</td>\n",
       "      <td>Graduated College</td>\n",
       "      <td>42660.0</td>\n",
       "      <td>151252</td>\n",
       "      <td>Software Developers</td>\n",
       "      <td>164130.0</td>\n",
       "    </tr>\n",
       "    <tr>\n",
       "      <th>1</th>\n",
       "      <td>151252</td>\n",
       "      <td>4</td>\n",
       "      <td>21</td>\n",
       "      <td>Graduated College</td>\n",
       "      <td>42660.0</td>\n",
       "      <td>151252</td>\n",
       "      <td>Software Developers</td>\n",
       "      <td>164130.0</td>\n",
       "    </tr>\n",
       "    <tr>\n",
       "      <th>2</th>\n",
       "      <td>151252</td>\n",
       "      <td>5</td>\n",
       "      <td>22</td>\n",
       "      <td>Completed Advance Degree</td>\n",
       "      <td>42660.0</td>\n",
       "      <td>151252</td>\n",
       "      <td>Software Developers</td>\n",
       "      <td>164130.0</td>\n",
       "    </tr>\n",
       "    <tr>\n",
       "      <th>3</th>\n",
       "      <td>151252</td>\n",
       "      <td>5</td>\n",
       "      <td>22</td>\n",
       "      <td>Completed Advance Degree</td>\n",
       "      <td>42660.0</td>\n",
       "      <td>151252</td>\n",
       "      <td>Software Developers</td>\n",
       "      <td>164130.0</td>\n",
       "    </tr>\n",
       "    <tr>\n",
       "      <th>4</th>\n",
       "      <td>151252</td>\n",
       "      <td>5</td>\n",
       "      <td>22</td>\n",
       "      <td>Completed Advance Degree</td>\n",
       "      <td>42660.0</td>\n",
       "      <td>151252</td>\n",
       "      <td>Software Developers</td>\n",
       "      <td>164130.0</td>\n",
       "    </tr>\n",
       "    <tr>\n",
       "      <th>5</th>\n",
       "      <td>151252</td>\n",
       "      <td>5</td>\n",
       "      <td>22</td>\n",
       "      <td>Completed Advance Degree</td>\n",
       "      <td>42660.0</td>\n",
       "      <td>151252</td>\n",
       "      <td>Software Developers</td>\n",
       "      <td>164130.0</td>\n",
       "    </tr>\n",
       "    <tr>\n",
       "      <th>6</th>\n",
       "      <td>151252</td>\n",
       "      <td>5</td>\n",
       "      <td>22</td>\n",
       "      <td>Completed Advance Degree</td>\n",
       "      <td>42660.0</td>\n",
       "      <td>151252</td>\n",
       "      <td>Software Developers</td>\n",
       "      <td>164130.0</td>\n",
       "    </tr>\n",
       "    <tr>\n",
       "      <th>7</th>\n",
       "      <td>151252</td>\n",
       "      <td>4</td>\n",
       "      <td>21</td>\n",
       "      <td>Graduated College</td>\n",
       "      <td>42660.0</td>\n",
       "      <td>151252</td>\n",
       "      <td>Software Developers</td>\n",
       "      <td>164130.0</td>\n",
       "    </tr>\n",
       "    <tr>\n",
       "      <th>8</th>\n",
       "      <td>151252</td>\n",
       "      <td>4</td>\n",
       "      <td>21</td>\n",
       "      <td>Graduated College</td>\n",
       "      <td>42660.0</td>\n",
       "      <td>151252</td>\n",
       "      <td>Software Developers</td>\n",
       "      <td>164130.0</td>\n",
       "    </tr>\n",
       "    <tr>\n",
       "      <th>9</th>\n",
       "      <td>151252</td>\n",
       "      <td>4</td>\n",
       "      <td>21</td>\n",
       "      <td>Graduated College</td>\n",
       "      <td>42660.0</td>\n",
       "      <td>151252</td>\n",
       "      <td>Software Developers</td>\n",
       "      <td>164130.0</td>\n",
       "    </tr>\n",
       "  </tbody>\n",
       "</table>\n",
       "</div>"
      ],
      "text/plain": [
       "     SOCP SCHL_RC1 SCHL                  ED_LEVEL     AREA OCC_CODE  \\\n",
       "0  151252        4   21         Graduated College  42660.0   151252   \n",
       "1  151252        4   21         Graduated College  42660.0   151252   \n",
       "2  151252        5   22  Completed Advance Degree  42660.0   151252   \n",
       "3  151252        5   22  Completed Advance Degree  42660.0   151252   \n",
       "4  151252        5   22  Completed Advance Degree  42660.0   151252   \n",
       "5  151252        5   22  Completed Advance Degree  42660.0   151252   \n",
       "6  151252        5   22  Completed Advance Degree  42660.0   151252   \n",
       "7  151252        4   21         Graduated College  42660.0   151252   \n",
       "8  151252        4   21         Graduated College  42660.0   151252   \n",
       "9  151252        4   21         Graduated College  42660.0   151252   \n",
       "\n",
       "             OCC_TITLE    A_MEAN  \n",
       "0  Software Developers  164130.0  \n",
       "1  Software Developers  164130.0  \n",
       "2  Software Developers  164130.0  \n",
       "3  Software Developers  164130.0  \n",
       "4  Software Developers  164130.0  \n",
       "5  Software Developers  164130.0  \n",
       "6  Software Developers  164130.0  \n",
       "7  Software Developers  164130.0  \n",
       "8  Software Developers  164130.0  \n",
       "9  Software Developers  164130.0  "
      ]
     },
     "execution_count": 212,
     "metadata": {},
     "output_type": "execute_result"
    }
   ],
   "source": [
    "# merge oew with pums\n",
    "merged_df = pums_merged.merge(oew_cleaned, left_on='SOCP', right_on='OCC_CODE', how='left')\n",
    "merged_df.head(10)"
   ]
  },
  {
   "cell_type": "code",
   "execution_count": 213,
   "metadata": {},
   "outputs": [
    {
     "data": {
      "text/plain": [
       "<Axes: ylabel='ED_LEVEL'>"
      ]
     },
     "execution_count": 213,
     "metadata": {},
     "output_type": "execute_result"
    },
    {
     "data": {
      "image/png": "[encoded data removed]",
      "text/plain": [
       "<Figure size 640x480 with 1 Axes>"
      ]
     },
     "metadata": {},
     "output_type": "display_data"
    }
   ],
   "source": [
    "merged_df['ED_LEVEL'].value_counts().plot(kind='barh')"
   ]
  },
  {
   "cell_type": "code",
   "execution_count": 214,
   "metadata": {},
   "outputs": [
    {
     "data": {
      "text/plain": [
       "<Axes: xlabel='A_MEAN', ylabel='ED_LEVEL'>"
      ]
     },
     "execution_count": 214,
     "metadata": {},
     "output_type": "execute_result"
    },
    {
     "data": {
      "image/png": "[encoded data removed]",
      "text/plain": [
       "<Figure size 640x480 with 1 Axes>"
      ]
     },
     "metadata": {},
     "output_type": "display_data"
    }
   ],
   "source": [
    "merged_df.plot(kind='scatter', y='ED_LEVEL', x='A_MEAN')"
   ]
  },
  {
   "cell_type": "code",
   "execution_count": 215,
   "metadata": {},
   "outputs": [],
   "source": [
    "# Calculate and print the Pearson correlation coefficient\n",
    "def calculate_correlation(df, x_column, y_column):\n",
    "    pearson_cc = df[x_column].corr(df[y_column])\n",
    "    print(f'Pearson Correlation Coefficient is {pearson_cc:.3f}')"
   ]
  },
  {
   "cell_type": "code",
   "execution_count": 216,
   "metadata": {},
   "outputs": [
    {
     "name": "stdout",
     "output_type": "stream",
     "text": [
      "Pearson Correlation Coefficient is 0.152\n"
     ]
    }
   ],
   "source": [
    "calculate_correlation(merged_df, 'A_MEAN', 'SCHL_RC1')"
   ]
  },
  {
   "cell_type": "code",
   "execution_count": 217,
   "metadata": {},
   "outputs": [],
   "source": [
    "# Saving raw PUMS dataset\n",
    "pums_data.to_csv('pums_2024_compsci_edlevel_king_county_raw.csv', index=False)"
   ]
  },
  {
   "cell_type": "markdown",
   "metadata": {
    "id": "QwSWIVmotLgV"
   },
   "source": [
    "## 2. Assess data\n",
    "\n",
    "Assessed the data according to data quality and tidiness metrics as reported below."
   ]
  },
  {
   "cell_type": "markdown",
   "metadata": {
    "id": "adaK2iPNzVu4"
   },
   "source": [
    "### Quality Issue 1: Invalid Values in A_MEAN Variable"
   ]
  },
  {
   "cell_type": "code",
   "execution_count": 220,
   "metadata": {},
   "outputs": [
    {
     "data": {
      "text/html": [
       "<div>\n",
       "<style scoped>\n",
       "    .dataframe tbody tr th:only-of-type {\n",
       "        vertical-align: middle;\n",
       "    }\n",
       "\n",
       "    .dataframe tbody tr th {\n",
       "        vertical-align: top;\n",
       "    }\n",
       "\n",
       "    .dataframe thead th {\n",
       "        text-align: right;\n",
       "    }\n",
       "</style>\n",
       "<table border=\"1\" class=\"dataframe\">\n",
       "  <thead>\n",
       "    <tr style=\"text-align: right;\">\n",
       "      <th></th>\n",
       "      <th>AREA</th>\n",
       "      <th>AREA_TITLE</th>\n",
       "      <th>AREA_TYPE</th>\n",
       "      <th>PRIM_STATE</th>\n",
       "      <th>NAICS</th>\n",
       "      <th>NAICS_TITLE</th>\n",
       "      <th>I_GROUP</th>\n",
       "      <th>OWN_CODE</th>\n",
       "      <th>OCC_CODE</th>\n",
       "      <th>OCC_TITLE</th>\n",
       "      <th>...</th>\n",
       "      <th>H_MEDIAN</th>\n",
       "      <th>H_PCT75</th>\n",
       "      <th>H_PCT90</th>\n",
       "      <th>A_PCT10</th>\n",
       "      <th>A_PCT25</th>\n",
       "      <th>A_MEDIAN</th>\n",
       "      <th>A_PCT75</th>\n",
       "      <th>A_PCT90</th>\n",
       "      <th>ANNUAL</th>\n",
       "      <th>HOURLY</th>\n",
       "    </tr>\n",
       "  </thead>\n",
       "  <tbody>\n",
       "    <tr>\n",
       "      <th>0</th>\n",
       "      <td>10180</td>\n",
       "      <td>Abilene, TX</td>\n",
       "      <td>4</td>\n",
       "      <td>TX</td>\n",
       "      <td>0</td>\n",
       "      <td>Cross-industry</td>\n",
       "      <td>cross-industry</td>\n",
       "      <td>1235</td>\n",
       "      <td>00-0000</td>\n",
       "      <td>All Occupations</td>\n",
       "      <td>...</td>\n",
       "      <td>18.6</td>\n",
       "      <td>28.03</td>\n",
       "      <td>40.08</td>\n",
       "      <td>22750</td>\n",
       "      <td>28710</td>\n",
       "      <td>38680</td>\n",
       "      <td>58310</td>\n",
       "      <td>83360</td>\n",
       "      <td>NaN</td>\n",
       "      <td>NaN</td>\n",
       "    </tr>\n",
       "    <tr>\n",
       "      <th>1</th>\n",
       "      <td>10180</td>\n",
       "      <td>Abilene, TX</td>\n",
       "      <td>4</td>\n",
       "      <td>TX</td>\n",
       "      <td>0</td>\n",
       "      <td>Cross-industry</td>\n",
       "      <td>cross-industry</td>\n",
       "      <td>1235</td>\n",
       "      <td>11-0000</td>\n",
       "      <td>Management Occupations</td>\n",
       "      <td>...</td>\n",
       "      <td>39.09</td>\n",
       "      <td>58.27</td>\n",
       "      <td>81.79</td>\n",
       "      <td>42080</td>\n",
       "      <td>59290</td>\n",
       "      <td>81310</td>\n",
       "      <td>121200</td>\n",
       "      <td>170130</td>\n",
       "      <td>NaN</td>\n",
       "      <td>NaN</td>\n",
       "    </tr>\n",
       "    <tr>\n",
       "      <th>2</th>\n",
       "      <td>10180</td>\n",
       "      <td>Abilene, TX</td>\n",
       "      <td>4</td>\n",
       "      <td>TX</td>\n",
       "      <td>0</td>\n",
       "      <td>Cross-industry</td>\n",
       "      <td>cross-industry</td>\n",
       "      <td>1235</td>\n",
       "      <td>11-1011</td>\n",
       "      <td>Chief Executives</td>\n",
       "      <td>...</td>\n",
       "      <td>97.28</td>\n",
       "      <td>#</td>\n",
       "      <td>#</td>\n",
       "      <td>98490</td>\n",
       "      <td>135280</td>\n",
       "      <td>202340</td>\n",
       "      <td>#</td>\n",
       "      <td>#</td>\n",
       "      <td>NaN</td>\n",
       "      <td>NaN</td>\n",
       "    </tr>\n",
       "    <tr>\n",
       "      <th>3</th>\n",
       "      <td>10180</td>\n",
       "      <td>Abilene, TX</td>\n",
       "      <td>4</td>\n",
       "      <td>TX</td>\n",
       "      <td>0</td>\n",
       "      <td>Cross-industry</td>\n",
       "      <td>cross-industry</td>\n",
       "      <td>1235</td>\n",
       "      <td>11-1021</td>\n",
       "      <td>General and Operations Managers</td>\n",
       "      <td>...</td>\n",
       "      <td>37.19</td>\n",
       "      <td>57.85</td>\n",
       "      <td>86.97</td>\n",
       "      <td>34440</td>\n",
       "      <td>49430</td>\n",
       "      <td>77360</td>\n",
       "      <td>120330</td>\n",
       "      <td>180900</td>\n",
       "      <td>NaN</td>\n",
       "      <td>NaN</td>\n",
       "    </tr>\n",
       "    <tr>\n",
       "      <th>4</th>\n",
       "      <td>10180</td>\n",
       "      <td>Abilene, TX</td>\n",
       "      <td>4</td>\n",
       "      <td>TX</td>\n",
       "      <td>0</td>\n",
       "      <td>Cross-industry</td>\n",
       "      <td>cross-industry</td>\n",
       "      <td>1235</td>\n",
       "      <td>11-2021</td>\n",
       "      <td>Marketing Managers</td>\n",
       "      <td>...</td>\n",
       "      <td>45.31</td>\n",
       "      <td>72.66</td>\n",
       "      <td>97.35</td>\n",
       "      <td>60130</td>\n",
       "      <td>74980</td>\n",
       "      <td>94240</td>\n",
       "      <td>151130</td>\n",
       "      <td>202490</td>\n",
       "      <td>NaN</td>\n",
       "      <td>NaN</td>\n",
       "    </tr>\n",
       "    <tr>\n",
       "      <th>5</th>\n",
       "      <td>10180</td>\n",
       "      <td>Abilene, TX</td>\n",
       "      <td>4</td>\n",
       "      <td>TX</td>\n",
       "      <td>0</td>\n",
       "      <td>Cross-industry</td>\n",
       "      <td>cross-industry</td>\n",
       "      <td>1235</td>\n",
       "      <td>11-2022</td>\n",
       "      <td>Sales Managers</td>\n",
       "      <td>...</td>\n",
       "      <td>44.89</td>\n",
       "      <td>62.57</td>\n",
       "      <td>87.76</td>\n",
       "      <td>46870</td>\n",
       "      <td>60760</td>\n",
       "      <td>93370</td>\n",
       "      <td>130140</td>\n",
       "      <td>182530</td>\n",
       "      <td>NaN</td>\n",
       "      <td>NaN</td>\n",
       "    </tr>\n",
       "    <tr>\n",
       "      <th>6</th>\n",
       "      <td>10180</td>\n",
       "      <td>Abilene, TX</td>\n",
       "      <td>4</td>\n",
       "      <td>TX</td>\n",
       "      <td>0</td>\n",
       "      <td>Cross-industry</td>\n",
       "      <td>cross-industry</td>\n",
       "      <td>1235</td>\n",
       "      <td>11-2032</td>\n",
       "      <td>Public Relations Managers</td>\n",
       "      <td>...</td>\n",
       "      <td>35.61</td>\n",
       "      <td>46.71</td>\n",
       "      <td>62.93</td>\n",
       "      <td>55000</td>\n",
       "      <td>63680</td>\n",
       "      <td>74070</td>\n",
       "      <td>97160</td>\n",
       "      <td>130900</td>\n",
       "      <td>NaN</td>\n",
       "      <td>NaN</td>\n",
       "    </tr>\n",
       "    <tr>\n",
       "      <th>7</th>\n",
       "      <td>10180</td>\n",
       "      <td>Abilene, TX</td>\n",
       "      <td>4</td>\n",
       "      <td>TX</td>\n",
       "      <td>0</td>\n",
       "      <td>Cross-industry</td>\n",
       "      <td>cross-industry</td>\n",
       "      <td>1235</td>\n",
       "      <td>11-3012</td>\n",
       "      <td>Administrative Services Managers</td>\n",
       "      <td>...</td>\n",
       "      <td>46.03</td>\n",
       "      <td>60.83</td>\n",
       "      <td>76.67</td>\n",
       "      <td>73650</td>\n",
       "      <td>82890</td>\n",
       "      <td>95750</td>\n",
       "      <td>126520</td>\n",
       "      <td>159470</td>\n",
       "      <td>NaN</td>\n",
       "      <td>NaN</td>\n",
       "    </tr>\n",
       "    <tr>\n",
       "      <th>8</th>\n",
       "      <td>10180</td>\n",
       "      <td>Abilene, TX</td>\n",
       "      <td>4</td>\n",
       "      <td>TX</td>\n",
       "      <td>0</td>\n",
       "      <td>Cross-industry</td>\n",
       "      <td>cross-industry</td>\n",
       "      <td>1235</td>\n",
       "      <td>11-3013</td>\n",
       "      <td>Facilities Managers</td>\n",
       "      <td>...</td>\n",
       "      <td>37.82</td>\n",
       "      <td>48.31</td>\n",
       "      <td>63.42</td>\n",
       "      <td>57690</td>\n",
       "      <td>63890</td>\n",
       "      <td>78670</td>\n",
       "      <td>100480</td>\n",
       "      <td>131920</td>\n",
       "      <td>NaN</td>\n",
       "      <td>NaN</td>\n",
       "    </tr>\n",
       "    <tr>\n",
       "      <th>9</th>\n",
       "      <td>10180</td>\n",
       "      <td>Abilene, TX</td>\n",
       "      <td>4</td>\n",
       "      <td>TX</td>\n",
       "      <td>0</td>\n",
       "      <td>Cross-industry</td>\n",
       "      <td>cross-industry</td>\n",
       "      <td>1235</td>\n",
       "      <td>11-3021</td>\n",
       "      <td>Computer and Information Systems Managers</td>\n",
       "      <td>...</td>\n",
       "      <td>63.29</td>\n",
       "      <td>79.7</td>\n",
       "      <td>98.19</td>\n",
       "      <td>67940</td>\n",
       "      <td>99750</td>\n",
       "      <td>131640</td>\n",
       "      <td>165770</td>\n",
       "      <td>204220</td>\n",
       "      <td>NaN</td>\n",
       "      <td>NaN</td>\n",
       "    </tr>\n",
       "  </tbody>\n",
       "</table>\n",
       "<p>10 rows × 32 columns</p>\n",
       "</div>"
      ],
      "text/plain": [
       "    AREA   AREA_TITLE  AREA_TYPE PRIM_STATE  NAICS     NAICS_TITLE  \\\n",
       "0  10180  Abilene, TX          4         TX      0  Cross-industry   \n",
       "1  10180  Abilene, TX          4         TX      0  Cross-industry   \n",
       "2  10180  Abilene, TX          4         TX      0  Cross-industry   \n",
       "3  10180  Abilene, TX          4         TX      0  Cross-industry   \n",
       "4  10180  Abilene, TX          4         TX      0  Cross-industry   \n",
       "5  10180  Abilene, TX          4         TX      0  Cross-industry   \n",
       "6  10180  Abilene, TX          4         TX      0  Cross-industry   \n",
       "7  10180  Abilene, TX          4         TX      0  Cross-industry   \n",
       "8  10180  Abilene, TX          4         TX      0  Cross-industry   \n",
       "9  10180  Abilene, TX          4         TX      0  Cross-industry   \n",
       "\n",
       "          I_GROUP  OWN_CODE OCC_CODE  \\\n",
       "0  cross-industry      1235  00-0000   \n",
       "1  cross-industry      1235  11-0000   \n",
       "2  cross-industry      1235  11-1011   \n",
       "3  cross-industry      1235  11-1021   \n",
       "4  cross-industry      1235  11-2021   \n",
       "5  cross-industry      1235  11-2022   \n",
       "6  cross-industry      1235  11-2032   \n",
       "7  cross-industry      1235  11-3012   \n",
       "8  cross-industry      1235  11-3013   \n",
       "9  cross-industry      1235  11-3021   \n",
       "\n",
       "                                   OCC_TITLE  ... H_MEDIAN H_PCT75 H_PCT90  \\\n",
       "0                            All Occupations  ...     18.6   28.03   40.08   \n",
       "1                     Management Occupations  ...    39.09   58.27   81.79   \n",
       "2                           Chief Executives  ...    97.28       #       #   \n",
       "3            General and Operations Managers  ...    37.19   57.85   86.97   \n",
       "4                         Marketing Managers  ...    45.31   72.66   97.35   \n",
       "5                             Sales Managers  ...    44.89   62.57   87.76   \n",
       "6                  Public Relations Managers  ...    35.61   46.71   62.93   \n",
       "7           Administrative Services Managers  ...    46.03   60.83   76.67   \n",
       "8                        Facilities Managers  ...    37.82   48.31   63.42   \n",
       "9  Computer and Information Systems Managers  ...    63.29    79.7   98.19   \n",
       "\n",
       "  A_PCT10 A_PCT25  A_MEDIAN  A_PCT75 A_PCT90 ANNUAL HOURLY  \n",
       "0   22750   28710     38680    58310   83360    NaN    NaN  \n",
       "1   42080   59290     81310   121200  170130    NaN    NaN  \n",
       "2   98490  135280    202340        #       #    NaN    NaN  \n",
       "3   34440   49430     77360   120330  180900    NaN    NaN  \n",
       "4   60130   74980     94240   151130  202490    NaN    NaN  \n",
       "5   46870   60760     93370   130140  182530    NaN    NaN  \n",
       "6   55000   63680     74070    97160  130900    NaN    NaN  \n",
       "7   73650   82890     95750   126520  159470    NaN    NaN  \n",
       "8   57690   63890     78670   100480  131920    NaN    NaN  \n",
       "9   67940   99750    131640   165770  204220    NaN    NaN  \n",
       "\n",
       "[10 rows x 32 columns]"
      ]
     },
     "execution_count": 220,
     "metadata": {},
     "output_type": "execute_result"
    }
   ],
   "source": [
    "#Inspecting dataframe for invalid characters in A_MEAN colums\n",
    "oew_data.head(10)"
   ]
  },
  {
   "cell_type": "code",
   "execution_count": 221,
   "metadata": {},
   "outputs": [
    {
     "data": {
      "text/plain": [
       "A_MEAN\n",
       "*         1487\n",
       "#          144\n",
       "54330       50\n",
       "46110       48\n",
       "40820       47\n",
       "          ... \n",
       "207260       1\n",
       "238120       1\n",
       "193040       1\n",
       "161570       1\n",
       "295110       1\n",
       "Name: count, Length: 15760, dtype: int64"
      ]
     },
     "execution_count": 221,
     "metadata": {},
     "output_type": "execute_result"
    }
   ],
   "source": [
    "#Inspecting dataframe for invalid characters programmatically\n",
    "oew_data['A_MEAN'].value_counts()"
   ]
  },
  {
   "cell_type": "markdown",
   "metadata": {},
   "source": [
    "Issue and justification:\n",
    "- **Issue**: Invalid Values in A_MEAN\n",
    "- **Explanation**: Presence of invalid characters (‘*’ and ‘#’) in numerical fields affects data’s validity."
   ]
  },
  {
   "cell_type": "markdown",
   "metadata": {
    "id": "8Be77N4I1AmE"
   },
   "source": [
    "### Quality Issue 2: Incorrect Data Type for A_MEAN"
   ]
  },
  {
   "cell_type": "code",
   "execution_count": 224,
   "metadata": {},
   "outputs": [
    {
     "name": "stdout",
     "output_type": "stream",
     "text": [
      "<class 'pandas.core.frame.DataFrame'>\n",
      "RangeIndex: 149591 entries, 0 to 149590\n",
      "Data columns (total 32 columns):\n",
      " #   Column        Non-Null Count   Dtype  \n",
      "---  ------        --------------   -----  \n",
      " 0   AREA          149591 non-null  int64  \n",
      " 1   AREA_TITLE    149591 non-null  object \n",
      " 2   AREA_TYPE     149591 non-null  int64  \n",
      " 3   PRIM_STATE    149591 non-null  object \n",
      " 4   NAICS         149591 non-null  int64  \n",
      " 5   NAICS_TITLE   149591 non-null  object \n",
      " 6   I_GROUP       149591 non-null  object \n",
      " 7   OWN_CODE      149591 non-null  int64  \n",
      " 8   OCC_CODE      149591 non-null  object \n",
      " 9   OCC_TITLE     149591 non-null  object \n",
      " 10  O_GROUP       149591 non-null  object \n",
      " 11  TOT_EMP       149591 non-null  object \n",
      " 12  EMP_PRSE      149591 non-null  object \n",
      " 13  JOBS_1000     149591 non-null  object \n",
      " 14  LOC_QUOTIENT  149591 non-null  object \n",
      " 15  PCT_TOTAL     0 non-null       float64\n",
      " 16  PCT_RPT       0 non-null       float64\n",
      " 17  H_MEAN        149591 non-null  object \n",
      " 18  A_MEAN        149591 non-null  object \n",
      " 19  MEAN_PRSE     149591 non-null  object \n",
      " 20  H_PCT10       149591 non-null  object \n",
      " 21  H_PCT25       149591 non-null  object \n",
      " 22  H_MEDIAN      149591 non-null  object \n",
      " 23  H_PCT75       149591 non-null  object \n",
      " 24  H_PCT90       149591 non-null  object \n",
      " 25  A_PCT10       149591 non-null  object \n",
      " 26  A_PCT25       149591 non-null  object \n",
      " 27  A_MEDIAN      149591 non-null  object \n",
      " 28  A_PCT75       149591 non-null  object \n",
      " 29  A_PCT90       149591 non-null  object \n",
      " 30  ANNUAL        7912 non-null    object \n",
      " 31  HOURLY        228 non-null     object \n",
      "dtypes: float64(2), int64(4), object(26)\n",
      "memory usage: 36.5+ MB\n"
     ]
    }
   ],
   "source": [
    "#Inspecting dataframe for invalid data type for A_MEAN\n",
    "oew_data.info()"
   ]
  },
  {
   "cell_type": "code",
   "execution_count": 225,
   "metadata": {},
   "outputs": [
    {
     "data": {
      "text/plain": [
       "AREA              int64\n",
       "AREA_TITLE       object\n",
       "AREA_TYPE         int64\n",
       "PRIM_STATE       object\n",
       "NAICS             int64\n",
       "NAICS_TITLE      object\n",
       "I_GROUP          object\n",
       "OWN_CODE          int64\n",
       "OCC_CODE         object\n",
       "OCC_TITLE        object\n",
       "O_GROUP          object\n",
       "TOT_EMP          object\n",
       "EMP_PRSE         object\n",
       "JOBS_1000        object\n",
       "LOC_QUOTIENT     object\n",
       "PCT_TOTAL       float64\n",
       "PCT_RPT         float64\n",
       "H_MEAN           object\n",
       "A_MEAN           object\n",
       "MEAN_PRSE        object\n",
       "H_PCT10          object\n",
       "H_PCT25          object\n",
       "H_MEDIAN         object\n",
       "H_PCT75          object\n",
       "H_PCT90          object\n",
       "A_PCT10          object\n",
       "A_PCT25          object\n",
       "A_MEDIAN         object\n",
       "A_PCT75          object\n",
       "A_PCT90          object\n",
       "ANNUAL           object\n",
       "HOURLY           object\n",
       "dtype: object"
      ]
     },
     "execution_count": 225,
     "metadata": {},
     "output_type": "execute_result"
    }
   ],
   "source": [
    "#Inspecting dataframe for invalid data type for A_MEAN programmatically\n",
    "oew_data.dtypes"
   ]
  },
  {
   "cell_type": "markdown",
   "metadata": {},
   "source": [
    "Issue and justification:\n",
    "- **Issue**: Incorrect Data Type for A_MEAN \n",
    "- **Explanation**: Incorrect data type is a validity issue as it prevents numerical operations; completeness typically refers to missing data rather than incorrect types"
   ]
  },
  {
   "cell_type": "markdown",
   "metadata": {
    "id": "lXhGiYyiwwKN"
   },
   "source": [
    "### Tidiness Issue 1: Structural Issue - Unnecessary Columns in OEW Dataset"
   ]
  },
  {
   "cell_type": "code",
   "execution_count": 228,
   "metadata": {},
   "outputs": [
    {
     "data": {
      "text/plain": [
       "Index(['AREA', 'AREA_TITLE', 'AREA_TYPE', 'PRIM_STATE', 'NAICS', 'NAICS_TITLE',\n",
       "       'I_GROUP', 'OWN_CODE', 'OCC_CODE', 'OCC_TITLE', 'O_GROUP', 'TOT_EMP',\n",
       "       'EMP_PRSE', 'JOBS_1000', 'LOC_QUOTIENT', 'PCT_TOTAL', 'PCT_RPT',\n",
       "       'H_MEAN', 'A_MEAN', 'MEAN_PRSE', 'H_PCT10', 'H_PCT25', 'H_MEDIAN',\n",
       "       'H_PCT75', 'H_PCT90', 'A_PCT10', 'A_PCT25', 'A_MEDIAN', 'A_PCT75',\n",
       "       'A_PCT90', 'ANNUAL', 'HOURLY'],\n",
       "      dtype='object')"
      ]
     },
     "execution_count": 228,
     "metadata": {},
     "output_type": "execute_result"
    }
   ],
   "source": [
    "# Inspecting the dataframe visually\n",
    "oew_data.columns"
   ]
  },
  {
   "cell_type": "code",
   "execution_count": 229,
   "metadata": {},
   "outputs": [
    {
     "name": "stdout",
     "output_type": "stream",
     "text": [
      "<class 'pandas.core.frame.DataFrame'>\n",
      "RangeIndex: 149591 entries, 0 to 149590\n",
      "Data columns (total 32 columns):\n",
      " #   Column        Non-Null Count   Dtype  \n",
      "---  ------        --------------   -----  \n",
      " 0   AREA          149591 non-null  int64  \n",
      " 1   AREA_TITLE    149591 non-null  object \n",
      " 2   AREA_TYPE     149591 non-null  int64  \n",
      " 3   PRIM_STATE    149591 non-null  object \n",
      " 4   NAICS         149591 non-null  int64  \n",
      " 5   NAICS_TITLE   149591 non-null  object \n",
      " 6   I_GROUP       149591 non-null  object \n",
      " 7   OWN_CODE      149591 non-null  int64  \n",
      " 8   OCC_CODE      149591 non-null  object \n",
      " 9   OCC_TITLE     149591 non-null  object \n",
      " 10  O_GROUP       149591 non-null  object \n",
      " 11  TOT_EMP       149591 non-null  object \n",
      " 12  EMP_PRSE      149591 non-null  object \n",
      " 13  JOBS_1000     149591 non-null  object \n",
      " 14  LOC_QUOTIENT  149591 non-null  object \n",
      " 15  PCT_TOTAL     0 non-null       float64\n",
      " 16  PCT_RPT       0 non-null       float64\n",
      " 17  H_MEAN        149591 non-null  object \n",
      " 18  A_MEAN        149591 non-null  object \n",
      " 19  MEAN_PRSE     149591 non-null  object \n",
      " 20  H_PCT10       149591 non-null  object \n",
      " 21  H_PCT25       149591 non-null  object \n",
      " 22  H_MEDIAN      149591 non-null  object \n",
      " 23  H_PCT75       149591 non-null  object \n",
      " 24  H_PCT90       149591 non-null  object \n",
      " 25  A_PCT10       149591 non-null  object \n",
      " 26  A_PCT25       149591 non-null  object \n",
      " 27  A_MEDIAN      149591 non-null  object \n",
      " 28  A_PCT75       149591 non-null  object \n",
      " 29  A_PCT90       149591 non-null  object \n",
      " 30  ANNUAL        7912 non-null    object \n",
      " 31  HOURLY        228 non-null     object \n",
      "dtypes: float64(2), int64(4), object(26)\n",
      "memory usage: 36.5+ MB\n"
     ]
    }
   ],
   "source": [
    "#Inspecting the dataframe programmatically\n",
    "oew_data.info()"
   ]
  },
  {
   "cell_type": "markdown",
   "metadata": {},
   "source": [
    "Issue and justification:\n",
    "- **Issue**: Structural Issue - Unnecessary Columns \n",
    "- **Explanation**: Tidiness issues relate to the structure, and unnecessary columns are removed to maintain a clean structure."
   ]
  },
  {
   "cell_type": "markdown",
   "metadata": {
    "id": "4ffMoRGSwzYj"
   },
   "source": [
    "### Tidiness Issue 2: Column Headers as Variables in PUMS Dataset"
   ]
  },
  {
   "cell_type": "code",
   "execution_count": 232,
   "metadata": {},
   "outputs": [
    {
     "data": {
      "text/html": [
       "<div>\n",
       "<style scoped>\n",
       "    .dataframe tbody tr th:only-of-type {\n",
       "        vertical-align: middle;\n",
       "    }\n",
       "\n",
       "    .dataframe tbody tr th {\n",
       "        vertical-align: top;\n",
       "    }\n",
       "\n",
       "    .dataframe thead th {\n",
       "        text-align: right;\n",
       "    }\n",
       "</style>\n",
       "<table border=\"1\" class=\"dataframe\">\n",
       "  <thead>\n",
       "    <tr style=\"text-align: right;\">\n",
       "      <th></th>\n",
       "      <th>0</th>\n",
       "      <th>1</th>\n",
       "      <th>2</th>\n",
       "      <th>3</th>\n",
       "      <th>4</th>\n",
       "      <th>5</th>\n",
       "    </tr>\n",
       "  </thead>\n",
       "  <tbody>\n",
       "    <tr>\n",
       "      <th>0</th>\n",
       "      <td>PWGTP</td>\n",
       "      <td>SOCP</td>\n",
       "      <td>SCHL_RC1</td>\n",
       "      <td>SCHL</td>\n",
       "      <td>PUMA</td>\n",
       "      <td>STATE</td>\n",
       "    </tr>\n",
       "    <tr>\n",
       "      <th>1</th>\n",
       "      <td>47</td>\n",
       "      <td>N</td>\n",
       "      <td>3</td>\n",
       "      <td>19</td>\n",
       "      <td>23304</td>\n",
       "      <td>53</td>\n",
       "    </tr>\n",
       "    <tr>\n",
       "      <th>2</th>\n",
       "      <td>74</td>\n",
       "      <td>537062</td>\n",
       "      <td>3</td>\n",
       "      <td>19</td>\n",
       "      <td>23304</td>\n",
       "      <td>53</td>\n",
       "    </tr>\n",
       "    <tr>\n",
       "      <th>3</th>\n",
       "      <td>54</td>\n",
       "      <td>N</td>\n",
       "      <td>4</td>\n",
       "      <td>21</td>\n",
       "      <td>23304</td>\n",
       "      <td>53</td>\n",
       "    </tr>\n",
       "    <tr>\n",
       "      <th>4</th>\n",
       "      <td>18</td>\n",
       "      <td>N</td>\n",
       "      <td>4</td>\n",
       "      <td>21</td>\n",
       "      <td>23304</td>\n",
       "      <td>53</td>\n",
       "    </tr>\n",
       "  </tbody>\n",
       "</table>\n",
       "</div>"
      ],
      "text/plain": [
       "       0       1         2     3      4      5\n",
       "0  PWGTP    SOCP  SCHL_RC1  SCHL   PUMA  STATE\n",
       "1     47       N         3    19  23304     53\n",
       "2     74  537062         3    19  23304     53\n",
       "3     54       N         4    21  23304     53\n",
       "4     18       N         4    21  23304     53"
      ]
     },
     "execution_count": 232,
     "metadata": {},
     "output_type": "execute_result"
    }
   ],
   "source": [
    "# Inspecting the dataframe visually\n",
    "pums_data.head(5)"
   ]
  },
  {
   "cell_type": "code",
   "execution_count": 233,
   "metadata": {},
   "outputs": [
    {
     "name": "stdout",
     "output_type": "stream",
     "text": [
      "<class 'pandas.core.frame.DataFrame'>\n",
      "RangeIndex: 1775 entries, 0 to 1774\n",
      "Data columns (total 6 columns):\n",
      " #   Column  Non-Null Count  Dtype \n",
      "---  ------  --------------  ----- \n",
      " 0   0       1775 non-null   object\n",
      " 1   1       1775 non-null   object\n",
      " 2   2       1775 non-null   object\n",
      " 3   3       1775 non-null   object\n",
      " 4   4       1775 non-null   object\n",
      " 5   5       1775 non-null   object\n",
      "dtypes: object(6)\n",
      "memory usage: 83.3+ KB\n"
     ]
    }
   ],
   "source": [
    "#Inspecting the dataframe programmatically\n",
    "pums_data.info()"
   ]
  },
  {
   "cell_type": "markdown",
   "metadata": {},
   "source": [
    "Issue and justification: \n",
    "- **Issue**: Column Headers as Variables\n",
    "- **Explanation**: Columns acting as variables violate tidy data principles, thus categorizing it as a tidiness issue."
   ]
  },
  {
   "cell_type": "markdown",
   "metadata": {
    "id": "D6gmLnBttpCh"
   },
   "source": [
    "## 3. Clean data\n",
    "- Clean the data to solve the 4 issues corresponding to data quality and tidiness found in the assessing step.\n",
    "- **Make sure you include justifications for your cleaning decisions.**\n",
    "-  please use **either** the visually or programatical method to validate the cleaning was succesful.\n",
    "\n",
    "\n",
    "At this stage, you are also expected to remove variables that are unnecessary for your analysis and combine your datasets. Depending on your datasets, you may choose to perform variable combination and elimination before or after the cleaning stage. Your dataset must have **at least** 4 variables after combining the data."
   ]
  },
  {
   "cell_type": "code",
   "execution_count": 236,
   "metadata": {},
   "outputs": [],
   "source": [
    "## Make copy of dataset before cleaning\n",
    "oew_cleaned = oew_data.copy()\n",
    "pums_data_copy = pums_data.copy()"
   ]
  },
  {
   "cell_type": "markdown",
   "metadata": {
    "id": "FmFhN52Yyn3l"
   },
   "source": [
    "### **Quality Issue 1: Invalid Values in A_MEAN Variable**"
   ]
  },
  {
   "cell_type": "code",
   "execution_count": 238,
   "metadata": {},
   "outputs": [],
   "source": [
    "# suppress warning\n",
    "pd.set_option('future.no_silent_downcasting', True)\n",
    "\n",
    "## clean - replace the * and # with np.nan\n",
    "oew_cleaned['A_MEAN'] = oew_cleaned['A_MEAN'].replace(['*','#'], [np.nan, np.nan])\n",
    "\n",
    "## drop NA values\n",
    "#oew_cleaned = oew_cleaned.dropna()"
   ]
  },
  {
   "cell_type": "code",
   "execution_count": 239,
   "metadata": {},
   "outputs": [
    {
     "data": {
      "text/plain": [
       "A_MEAN\n",
       "54330     50\n",
       "46110     48\n",
       "40820     47\n",
       "38380     47\n",
       "47300     47\n",
       "          ..\n",
       "143790     1\n",
       "158300     1\n",
       "147040     1\n",
       "118300     1\n",
       "295110     1\n",
       "Name: count, Length: 15758, dtype: int64"
      ]
     },
     "execution_count": 239,
     "metadata": {},
     "output_type": "execute_result"
    }
   ],
   "source": [
    "## verify cleaning\n",
    "oew_cleaned['A_MEAN'].value_counts()"
   ]
  },
  {
   "cell_type": "markdown",
   "metadata": {},
   "source": [
    "Justification: \n",
    "- The column \"A_MEAN\" contains invalid values ('*' and '#') replacing with np.nan allows for the rows with those values to be dropped with dropna"
   ]
  },
  {
   "cell_type": "markdown",
   "metadata": {
    "id": "n_DAUbJrymBL"
   },
   "source": [
    "### **Quality Issue 2: Incorrect Data Type for A_MEAN**"
   ]
  },
  {
   "cell_type": "code",
   "execution_count": 242,
   "metadata": {},
   "outputs": [],
   "source": [
    "## convert A_MEAN datatype to float\n",
    "oew_cleaned['A_MEAN'] = oew_cleaned['A_MEAN'].astype('float')"
   ]
  },
  {
   "cell_type": "code",
   "execution_count": 243,
   "metadata": {},
   "outputs": [],
   "source": [
    "## verify data type conversion\n",
    "assert oew_cleaned['A_MEAN'].dtype == 'float'"
   ]
  },
  {
   "cell_type": "markdown",
   "metadata": {},
   "source": [
    "Justification: \n",
    "- *For calculation accuracy coverting A_MEAN to float from object*"
   ]
  },
  {
   "cell_type": "markdown",
   "metadata": {
    "id": "bIUrrfSNyOPR"
   },
   "source": [
    "### **Tidiness Issue 1: Structural Issue - Unnecessary Columns in OEW Dataset**"
   ]
  },
  {
   "cell_type": "code",
   "execution_count": 246,
   "metadata": {},
   "outputs": [],
   "source": [
    "# Clean - Create subset of dataset needed for analysis\n",
    "oew_cleaned = oew_cleaned[['AREA', 'OCC_CODE', 'OCC_TITLE', 'A_MEAN']].reindex()"
   ]
  },
  {
   "cell_type": "code",
   "execution_count": 247,
   "metadata": {},
   "outputs": [
    {
     "data": {
      "text/html": [
       "<div>\n",
       "<style scoped>\n",
       "    .dataframe tbody tr th:only-of-type {\n",
       "        vertical-align: middle;\n",
       "    }\n",
       "\n",
       "    .dataframe tbody tr th {\n",
       "        vertical-align: top;\n",
       "    }\n",
       "\n",
       "    .dataframe thead th {\n",
       "        text-align: right;\n",
       "    }\n",
       "</style>\n",
       "<table border=\"1\" class=\"dataframe\">\n",
       "  <thead>\n",
       "    <tr style=\"text-align: right;\">\n",
       "      <th></th>\n",
       "      <th>AREA</th>\n",
       "      <th>OCC_CODE</th>\n",
       "      <th>OCC_TITLE</th>\n",
       "      <th>A_MEAN</th>\n",
       "    </tr>\n",
       "  </thead>\n",
       "  <tbody>\n",
       "    <tr>\n",
       "      <th>0</th>\n",
       "      <td>10180</td>\n",
       "      <td>00-0000</td>\n",
       "      <td>All Occupations</td>\n",
       "      <td>49780.0</td>\n",
       "    </tr>\n",
       "    <tr>\n",
       "      <th>1</th>\n",
       "      <td>10180</td>\n",
       "      <td>11-0000</td>\n",
       "      <td>Management Occupations</td>\n",
       "      <td>100690.0</td>\n",
       "    </tr>\n",
       "    <tr>\n",
       "      <th>2</th>\n",
       "      <td>10180</td>\n",
       "      <td>11-1011</td>\n",
       "      <td>Chief Executives</td>\n",
       "      <td>240020.0</td>\n",
       "    </tr>\n",
       "    <tr>\n",
       "      <th>3</th>\n",
       "      <td>10180</td>\n",
       "      <td>11-1021</td>\n",
       "      <td>General and Operations Managers</td>\n",
       "      <td>98480.0</td>\n",
       "    </tr>\n",
       "    <tr>\n",
       "      <th>4</th>\n",
       "      <td>10180</td>\n",
       "      <td>11-2021</td>\n",
       "      <td>Marketing Managers</td>\n",
       "      <td>116290.0</td>\n",
       "    </tr>\n",
       "  </tbody>\n",
       "</table>\n",
       "</div>"
      ],
      "text/plain": [
       "    AREA OCC_CODE                        OCC_TITLE    A_MEAN\n",
       "0  10180  00-0000                  All Occupations   49780.0\n",
       "1  10180  11-0000           Management Occupations  100690.0\n",
       "2  10180  11-1011                 Chief Executives  240020.0\n",
       "3  10180  11-1021  General and Operations Managers   98480.0\n",
       "4  10180  11-2021               Marketing Managers  116290.0"
      ]
     },
     "execution_count": 247,
     "metadata": {},
     "output_type": "execute_result"
    }
   ],
   "source": [
    "# Verify - Inspecting the dataframe visually\n",
    "oew_cleaned.head()"
   ]
  },
  {
   "cell_type": "markdown",
   "metadata": {},
   "source": [
    "Justification: \n",
    "- *Reduced the columns to just those needed for analysis*"
   ]
  },
  {
   "cell_type": "markdown",
   "metadata": {
    "id": "o51Bt8kwyTzk"
   },
   "source": [
    "### **Tidiness Issue 2: Column Headers as Variables in PUMS Dataset**"
   ]
  },
  {
   "cell_type": "code",
   "execution_count": 250,
   "metadata": {
    "id": "7zW8O5yx4Y9O"
   },
   "outputs": [],
   "source": [
    "# Cleaning strategy - Fix issue with column headers\n",
    "columns = pums_response_data[0]\n",
    "rows = pums_response_data[1:]\n",
    "pums_cleaned = pd.DataFrame(rows, columns=columns)\n",
    "\n",
    "# drop PWTP/PUMA/STATE variables\n",
    "pums_cleaned = pums_cleaned[['SOCP','SCHL_RC1', 'SCHL']].reindex()"
   ]
  },
  {
   "cell_type": "code",
   "execution_count": 251,
   "metadata": {
    "id": "q6I_Sr7lxXi5"
   },
   "outputs": [
    {
     "data": {
      "text/plain": [
       "Index(['SOCP', 'SCHL_RC1', 'SCHL'], dtype='object')"
      ]
     },
     "execution_count": 251,
     "metadata": {},
     "output_type": "execute_result"
    }
   ],
   "source": [
    "# Cleaning verification\n",
    "pums_cleaned.columns"
   ]
  },
  {
   "cell_type": "markdown",
   "metadata": {},
   "source": [
    "Justification: \n",
    "- *Easier to programmatically use column names rather than column id or number*"
   ]
  },
  {
   "cell_type": "markdown",
   "metadata": {},
   "source": [
    "### **Remove unnecessary variables and combine datasets**"
   ]
  },
  {
   "cell_type": "markdown",
   "metadata": {},
   "source": [
    "#### **Remove unnecessary variables** ###"
   ]
  },
  {
   "cell_type": "code",
   "execution_count": 255,
   "metadata": {},
   "outputs": [],
   "source": [
    "# Limit OEW dataset to Computer related occupations in the Seattle-Tacoma-Washington area only\n",
    "seattle_area = 42660\n",
    "oew_cleaned = oew_cleaned[oew_cleaned['AREA'] == seattle_area]\n",
    "assert oew_cleaned['AREA'].nunique() == 1"
   ]
  },
  {
   "cell_type": "code",
   "execution_count": 256,
   "metadata": {},
   "outputs": [],
   "source": [
    "# Limit OEW dataset to Computer related occupations \n",
    "comsci_startswith = '15-'\n",
    "oew_cleaned = oew_cleaned[ oew_cleaned['OCC_CODE'].str.startswith(comsci_startswith)]\n",
    "assert(oew_cleaned[~oew_cleaned['OCC_CODE'].str.startswith(comsci_startswith)].empty)"
   ]
  },
  {
   "cell_type": "code",
   "execution_count": 257,
   "metadata": {},
   "outputs": [],
   "source": [
    "## Limit PUMS dataset Computer-Related Occupations only\n",
    "pums_cleaned = pums_cleaned[pums_cleaned['SOCP'].str.contains(r'^15\\d{4}$', case=False, regex=True)]\n",
    "assert( pums_cleaned[~pums_cleaned['SOCP'].str.contains(r'^15\\d{4}$', case=False, regex=True)].empty)"
   ]
  },
  {
   "cell_type": "code",
   "execution_count": 258,
   "metadata": {},
   "outputs": [],
   "source": [
    "## Fix format of OEW/OCC_CODE to match PUMS/SOCP by removing hyphen\n",
    "oew_cleaned['OCC_CODE'] = oew_cleaned['OCC_CODE'].replace('-', '', regex=True)\n",
    "assert not (oew_cleaned['OCC_CODE'].str.contains('-').any())"
   ]
  },
  {
   "cell_type": "code",
   "execution_count": 259,
   "metadata": {},
   "outputs": [],
   "source": [
    "# Remove invalid Data in SOCP ( == 'N' ) Variable that is not relevant in this context\n",
    "pums_cleaned = pums_cleaned[pums_cleaned['SOCP'] != 'N']\n",
    "assert( pums_cleaned[pums_cleaned['SOCP'] == 'N'].empty)"
   ]
  },
  {
   "cell_type": "markdown",
   "metadata": {},
   "source": [
    "#### **Combine Dataset** ####"
   ]
  },
  {
   "cell_type": "code",
   "execution_count": 261,
   "metadata": {},
   "outputs": [
    {
     "data": {
      "text/html": [
       "<div>\n",
       "<style scoped>\n",
       "    .dataframe tbody tr th:only-of-type {\n",
       "        vertical-align: middle;\n",
       "    }\n",
       "\n",
       "    .dataframe tbody tr th {\n",
       "        vertical-align: top;\n",
       "    }\n",
       "\n",
       "    .dataframe thead th {\n",
       "        text-align: right;\n",
       "    }\n",
       "</style>\n",
       "<table border=\"1\" class=\"dataframe\">\n",
       "  <thead>\n",
       "    <tr style=\"text-align: right;\">\n",
       "      <th></th>\n",
       "      <th>SOCP</th>\n",
       "      <th>SCHL_RC1</th>\n",
       "      <th>SCHL</th>\n",
       "      <th>ED_LEVEL</th>\n",
       "    </tr>\n",
       "  </thead>\n",
       "  <tbody>\n",
       "    <tr>\n",
       "      <th>0</th>\n",
       "      <td>151252</td>\n",
       "      <td>4</td>\n",
       "      <td>21</td>\n",
       "      <td>Graduated College</td>\n",
       "    </tr>\n",
       "    <tr>\n",
       "      <th>1</th>\n",
       "      <td>151252</td>\n",
       "      <td>4</td>\n",
       "      <td>21</td>\n",
       "      <td>Graduated College</td>\n",
       "    </tr>\n",
       "    <tr>\n",
       "      <th>2</th>\n",
       "      <td>151252</td>\n",
       "      <td>5</td>\n",
       "      <td>22</td>\n",
       "      <td>Completed Advanced Degree</td>\n",
       "    </tr>\n",
       "    <tr>\n",
       "      <th>3</th>\n",
       "      <td>151252</td>\n",
       "      <td>5</td>\n",
       "      <td>22</td>\n",
       "      <td>Completed Advanced Degree</td>\n",
       "    </tr>\n",
       "    <tr>\n",
       "      <th>4</th>\n",
       "      <td>151252</td>\n",
       "      <td>5</td>\n",
       "      <td>22</td>\n",
       "      <td>Completed Advanced Degree</td>\n",
       "    </tr>\n",
       "  </tbody>\n",
       "</table>\n",
       "</div>"
      ],
      "text/plain": [
       "     SOCP SCHL_RC1 SCHL                   ED_LEVEL\n",
       "0  151252        4   21          Graduated College\n",
       "1  151252        4   21          Graduated College\n",
       "2  151252        5   22  Completed Advanced Degree\n",
       "3  151252        5   22  Completed Advanced Degree\n",
       "4  151252        5   22  Completed Advanced Degree"
      ]
     },
     "execution_count": 261,
     "metadata": {},
     "output_type": "execute_result"
    }
   ],
   "source": [
    "## Create lookup list for education level (ED_LEVEL)\n",
    "ed_level_data = {\n",
    "    'SCHL_RC1': ['1', '2', '3', '4', '5'],\n",
    "    'ED_LEVEL': [\n",
    "        'No high school diploma',    # SCHL_RC1 == 0\n",
    "        'High school diploma',       # SCHL_RC1 == 1\n",
    "        'Completed Some College',    # SCHL_RC1 == 2\n",
    "        'Graduated College',         # SCHL_RC1 == 3\n",
    "        'Completed Advanced Degree'   # SCHL_RC1 == 4\n",
    "    ]\n",
    "}\n",
    "\n",
    "ed_level_df = pd.DataFrame(ed_level_data)\n",
    "\n",
    "# merge with pums dataset using SCHL_RC1 as key\n",
    "pums_merged = pums_cleaned.merge(ed_level_df, on='SCHL_RC1', how='left')\n",
    "pums_merged.head()"
   ]
  },
  {
   "cell_type": "code",
   "execution_count": 262,
   "metadata": {},
   "outputs": [
    {
     "data": {
      "text/html": [
       "<div>\n",
       "<style scoped>\n",
       "    .dataframe tbody tr th:only-of-type {\n",
       "        vertical-align: middle;\n",
       "    }\n",
       "\n",
       "    .dataframe tbody tr th {\n",
       "        vertical-align: top;\n",
       "    }\n",
       "\n",
       "    .dataframe thead th {\n",
       "        text-align: right;\n",
       "    }\n",
       "</style>\n",
       "<table border=\"1\" class=\"dataframe\">\n",
       "  <thead>\n",
       "    <tr style=\"text-align: right;\">\n",
       "      <th></th>\n",
       "      <th>SOCP</th>\n",
       "      <th>SCHL_RC1</th>\n",
       "      <th>SCHL</th>\n",
       "      <th>ED_LEVEL</th>\n",
       "      <th>AREA</th>\n",
       "      <th>OCC_CODE</th>\n",
       "      <th>OCC_TITLE</th>\n",
       "      <th>A_MEAN</th>\n",
       "    </tr>\n",
       "  </thead>\n",
       "  <tbody>\n",
       "    <tr>\n",
       "      <th>0</th>\n",
       "      <td>151252</td>\n",
       "      <td>4</td>\n",
       "      <td>21</td>\n",
       "      <td>Graduated College</td>\n",
       "      <td>42660.0</td>\n",
       "      <td>151252</td>\n",
       "      <td>Software Developers</td>\n",
       "      <td>164130.0</td>\n",
       "    </tr>\n",
       "    <tr>\n",
       "      <th>1</th>\n",
       "      <td>151252</td>\n",
       "      <td>4</td>\n",
       "      <td>21</td>\n",
       "      <td>Graduated College</td>\n",
       "      <td>42660.0</td>\n",
       "      <td>151252</td>\n",
       "      <td>Software Developers</td>\n",
       "      <td>164130.0</td>\n",
       "    </tr>\n",
       "    <tr>\n",
       "      <th>2</th>\n",
       "      <td>151252</td>\n",
       "      <td>5</td>\n",
       "      <td>22</td>\n",
       "      <td>Completed Advanced Degree</td>\n",
       "      <td>42660.0</td>\n",
       "      <td>151252</td>\n",
       "      <td>Software Developers</td>\n",
       "      <td>164130.0</td>\n",
       "    </tr>\n",
       "    <tr>\n",
       "      <th>3</th>\n",
       "      <td>151252</td>\n",
       "      <td>5</td>\n",
       "      <td>22</td>\n",
       "      <td>Completed Advanced Degree</td>\n",
       "      <td>42660.0</td>\n",
       "      <td>151252</td>\n",
       "      <td>Software Developers</td>\n",
       "      <td>164130.0</td>\n",
       "    </tr>\n",
       "    <tr>\n",
       "      <th>4</th>\n",
       "      <td>151252</td>\n",
       "      <td>5</td>\n",
       "      <td>22</td>\n",
       "      <td>Completed Advanced Degree</td>\n",
       "      <td>42660.0</td>\n",
       "      <td>151252</td>\n",
       "      <td>Software Developers</td>\n",
       "      <td>164130.0</td>\n",
       "    </tr>\n",
       "    <tr>\n",
       "      <th>5</th>\n",
       "      <td>151252</td>\n",
       "      <td>5</td>\n",
       "      <td>22</td>\n",
       "      <td>Completed Advanced Degree</td>\n",
       "      <td>42660.0</td>\n",
       "      <td>151252</td>\n",
       "      <td>Software Developers</td>\n",
       "      <td>164130.0</td>\n",
       "    </tr>\n",
       "    <tr>\n",
       "      <th>6</th>\n",
       "      <td>151252</td>\n",
       "      <td>5</td>\n",
       "      <td>22</td>\n",
       "      <td>Completed Advanced Degree</td>\n",
       "      <td>42660.0</td>\n",
       "      <td>151252</td>\n",
       "      <td>Software Developers</td>\n",
       "      <td>164130.0</td>\n",
       "    </tr>\n",
       "    <tr>\n",
       "      <th>7</th>\n",
       "      <td>151252</td>\n",
       "      <td>4</td>\n",
       "      <td>21</td>\n",
       "      <td>Graduated College</td>\n",
       "      <td>42660.0</td>\n",
       "      <td>151252</td>\n",
       "      <td>Software Developers</td>\n",
       "      <td>164130.0</td>\n",
       "    </tr>\n",
       "    <tr>\n",
       "      <th>8</th>\n",
       "      <td>151252</td>\n",
       "      <td>4</td>\n",
       "      <td>21</td>\n",
       "      <td>Graduated College</td>\n",
       "      <td>42660.0</td>\n",
       "      <td>151252</td>\n",
       "      <td>Software Developers</td>\n",
       "      <td>164130.0</td>\n",
       "    </tr>\n",
       "    <tr>\n",
       "      <th>9</th>\n",
       "      <td>151252</td>\n",
       "      <td>4</td>\n",
       "      <td>21</td>\n",
       "      <td>Graduated College</td>\n",
       "      <td>42660.0</td>\n",
       "      <td>151252</td>\n",
       "      <td>Software Developers</td>\n",
       "      <td>164130.0</td>\n",
       "    </tr>\n",
       "  </tbody>\n",
       "</table>\n",
       "</div>"
      ],
      "text/plain": [
       "     SOCP SCHL_RC1 SCHL                   ED_LEVEL     AREA OCC_CODE  \\\n",
       "0  151252        4   21          Graduated College  42660.0   151252   \n",
       "1  151252        4   21          Graduated College  42660.0   151252   \n",
       "2  151252        5   22  Completed Advanced Degree  42660.0   151252   \n",
       "3  151252        5   22  Completed Advanced Degree  42660.0   151252   \n",
       "4  151252        5   22  Completed Advanced Degree  42660.0   151252   \n",
       "5  151252        5   22  Completed Advanced Degree  42660.0   151252   \n",
       "6  151252        5   22  Completed Advanced Degree  42660.0   151252   \n",
       "7  151252        4   21          Graduated College  42660.0   151252   \n",
       "8  151252        4   21          Graduated College  42660.0   151252   \n",
       "9  151252        4   21          Graduated College  42660.0   151252   \n",
       "\n",
       "             OCC_TITLE    A_MEAN  \n",
       "0  Software Developers  164130.0  \n",
       "1  Software Developers  164130.0  \n",
       "2  Software Developers  164130.0  \n",
       "3  Software Developers  164130.0  \n",
       "4  Software Developers  164130.0  \n",
       "5  Software Developers  164130.0  \n",
       "6  Software Developers  164130.0  \n",
       "7  Software Developers  164130.0  \n",
       "8  Software Developers  164130.0  \n",
       "9  Software Developers  164130.0  "
      ]
     },
     "execution_count": 262,
     "metadata": {},
     "output_type": "execute_result"
    }
   ],
   "source": [
    "# merge oew and pums\n",
    "pum_oew_merged = pums_merged.merge(oew_cleaned, left_on='SOCP', right_on='OCC_CODE', how='left')\n",
    "pum_oew_merged.head(10)"
   ]
  },
  {
   "cell_type": "markdown",
   "metadata": {
    "id": "F42urHuzttjF"
   },
   "source": [
    "## 4. Update your data store\n",
    "Updating local data store with the cleaned data"
   ]
  },
  {
   "cell_type": "code",
   "execution_count": 264,
   "metadata": {},
   "outputs": [],
   "source": [
    "#Saving cleaned OEW dataset\n",
    "oew_cleaned.to_csv('oews_2024_compsci_wages_king_county_cleaned.csv', index=False)"
   ]
  },
  {
   "cell_type": "code",
   "execution_count": 265,
   "metadata": {},
   "outputs": [],
   "source": [
    "# Saving cleaned PUMS dataset\n",
    "pums_merged.to_csv('pums_2024_compsci_edlevel_king_county_cleaned.csv', index=False)"
   ]
  },
  {
   "cell_type": "code",
   "execution_count": 266,
   "metadata": {
    "id": "V3uay7EJUV_L"
   },
   "outputs": [],
   "source": [
    "#saving data\n",
    "pum_oew_merged.to_csv('pums_oews_2024_compsci_edlevel_merged.csv', index=False)"
   ]
  },
  {
   "cell_type": "markdown",
   "metadata": {
    "id": "cGy_yddGtzhM"
   },
   "source": [
    "## 5. Answer the research question\n",
    "\n",
    "#### Research Questions ####\n",
    "1. What is the level of education of people employed in computer related roles\n",
    "2. How does the level of education influence salary for computer-realated occupations"
   ]
  },
  {
   "cell_type": "code",
   "execution_count": 268,
   "metadata": {},
   "outputs": [],
   "source": [
    "%matplotlib inline"
   ]
  },
  {
   "cell_type": "code",
   "execution_count": 269,
   "metadata": {
    "id": "Lkw3rW9kZmOm"
   },
   "outputs": [
    {
     "data": {
      "image/png": "[encoded data removed]",
      "text/plain": [
       "<Figure size 640x480 with 1 Axes>"
      ]
     },
     "metadata": {},
     "output_type": "display_data"
    }
   ],
   "source": [
    "## Plot of level of education to the size in the dataset \n",
    "pum_oew_ed_level = pum_oew_merged.groupby('ED_LEVEL').size()\n",
    "pum_oew_ed_level.plot(kind='barh', ylabel='Educational Level', legend=False, grid=True);"
   ]
  },
  {
   "cell_type": "markdown",
   "metadata": {},
   "source": [
    "*Answer to research question:* \n",
    "- A majority of those employeed in computer related occupations have graduated collegge or have advanced degrees"
   ]
  },
  {
   "cell_type": "code",
   "execution_count": 271,
   "metadata": {
    "id": "6fdK_8ZGZm9R"
   },
   "outputs": [
    {
     "data": {
      "image/png": "[encoded data removed]",
      "text/plain": [
       "<Figure size 640x480 with 1 Axes>"
      ]
     },
     "metadata": {},
     "output_type": "display_data"
    }
   ],
   "source": [
    "# Plot of impact of the level of education on salary\n",
    "pum_oew_merged.plot(kind='scatter', y='ED_LEVEL', x='A_MEAN', \n",
    "                    ylabel='Educational Level', xlabel='Mean Annual Income',\n",
    "                    legend=False,grid=True);"
   ]
  },
  {
   "cell_type": "code",
   "execution_count": 272,
   "metadata": {},
   "outputs": [
    {
     "name": "stdout",
     "output_type": "stream",
     "text": [
      "Pearson Correlation Coefficient is 0.152\n"
     ]
    }
   ],
   "source": [
    "# Calculate the Pearson correlation coefficient\n",
    "pearson_cc = pum_oew_merged['A_MEAN'].corr(pum_oew_merged['SCHL_RC1'])\n",
    "print(f'Pearson Correlation Coefficient is {pearson_cc:.3f}')"
   ]
  },
  {
   "cell_type": "markdown",
   "metadata": {
    "id": "K5RgvMGUZoHn"
   },
   "source": [
    "*Answer to research question:* \n",
    "- The scatter plot shows a weak trend, where average annual income does not increase by the level of education attained in computer related occupations. The Pearson coefficient of 0.152 confirms the weak correlation between eduational level and salary."
   ]
  },
  {
   "cell_type": "markdown",
   "metadata": {
    "id": "0ezWXXZVj-TP"
   },
   "source": [
    "### **5.2:** Reflection\n",
    "If I had more time for this project I will do more exploration in the following areas:\n",
    "#### Data Related #### \n",
    " - Investigate outliers in the mean annual income\n",
    " - Ensure data values and formatting align with industry standards\n",
    "#### Analysis Related ###\n",
    "- Analyze trends over time can help forecast salary expectations in the tech field\n",
    "- Explore job type distribution to see which occupations are more or least common"
   ]
  },
  {
   "cell_type": "code",
   "execution_count": null,
   "metadata": {},
   "outputs": [],
   "source": []
  }
 ],
 "metadata": {
  "colab": {
   "provenance": []
  },
  "kernelspec": {
   "display_name": "Python 3 (ipykernel)",
   "language": "python",
   "name": "python3"
  },
  "language_info": {
   "codemirror_mode": {
    "name": "ipython",
    "version": 3
   },
   "file_extension": ".py",
   "mimetype": "text/x-python",
   "name": "python",
   "nbconvert_exporter": "python",
   "pygments_lexer": "ipython3",
   "version": "3.12.4"
  }
 },
 "nbformat": 4,
 "nbformat_minor": 4
}
