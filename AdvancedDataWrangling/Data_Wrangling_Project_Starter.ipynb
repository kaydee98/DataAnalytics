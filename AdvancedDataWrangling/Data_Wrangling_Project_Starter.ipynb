{
 "cells": [
  {
   "cell_type": "markdown",
   "metadata": {
    "id": "GNIwe5N7s0e_"
   },
   "source": [
    "# Real-world Data Wrangling"
   ]
  },
  {
   "cell_type": "code",
   "execution_count": 156,
   "metadata": {},
   "outputs": [],
   "source": [
    "# !python -m pip install kaggle==1.6.12"
   ]
  },
  {
   "cell_type": "code",
   "execution_count": 9,
   "metadata": {},
   "outputs": [],
   "source": [
    "## !pip install --target=/workspace ucimlrepo numpy==1.24.3"
   ]
  },
  {
   "cell_type": "markdown",
   "metadata": {},
   "source": [
    "**Note:** Restart the kernel to use updated package(s)."
   ]
  },
  {
   "cell_type": "code",
   "execution_count": 11,
   "metadata": {},
   "outputs": [],
   "source": [
    "import pandas as pd\n",
    "import numpy as np\n",
    "import requests"
   ]
  },
  {
   "cell_type": "markdown",
   "metadata": {
    "id": "lDYDkH-Zs7Nn"
   },
   "source": [
    "## 1. Gather data"
   ]
  },
  {
   "cell_type": "markdown",
   "metadata": {
    "id": "LbN7z7rcuqpO"
   },
   "source": [
    "### **1.1.** Problem Statement\n",
    "In this project, we will investigate the educational attainment levels among individuals employed in computer-related occupations in King County, Washington, by gathering, cleaning, and analyzing relevant data to identify trends, distributions, and potential correlations within the local workforce"
   ]
  },
  {
   "cell_type": "markdown",
   "metadata": {
    "id": "8AQfBAdUypMm"
   },
   "source": [
    "### **1.2.** Gather at least two datasets using two different data gathering methods"
   ]
  },
  {
   "cell_type": "markdown",
   "metadata": {
    "id": "7e6gS0wL1KTu"
   },
   "source": [
    "#### **Dataset 1**\n",
    "\n",
    "Type: XLS file\n",
    "\n",
    "Method: The data was gathered using the \"Downloading files\" method from U.S Bureau of Labor Statistics (Occupational Employment and Wage Statistics tables)\n",
    "\n",
    "Dataset variables:\n",
    "\n",
    "*   *AREA:* Area code\n",
    "*   *AREA_TITLE:* Title of the metropolitan area\n",
    "*   *OCC_CODE:* Occupational Code\n",
    "*   *OCC_TITLE:* Occupational Title\n",
    "*   *A_MEAN:* Mean Annual Wage"
   ]
  },
  {
   "cell_type": "code",
   "execution_count": 16,
   "metadata": {
    "id": "Su8E0uLuYkHU"
   },
   "outputs": [],
   "source": [
    "## Load OEW Dataset to access king county/seattle-tacoma area dataset\n",
    "oew_data = pd.read_excel('MSA_M2023_dl.xlsx')"
   ]
  },
  {
   "cell_type": "markdown",
   "metadata": {},
   "source": [
    "## TODO\n",
    "## rename MSA_M2023_dl.xlsx to 'oew_research_2023.xlsx'"
   ]
  },
  {
   "cell_type": "code",
   "execution_count": 17,
   "metadata": {
    "scrolled": true
   },
   "outputs": [
    {
     "data": {
      "text/html": [
       "<div>\n",
       "<style scoped>\n",
       "    .dataframe tbody tr th:only-of-type {\n",
       "        vertical-align: middle;\n",
       "    }\n",
       "\n",
       "    .dataframe tbody tr th {\n",
       "        vertical-align: top;\n",
       "    }\n",
       "\n",
       "    .dataframe thead th {\n",
       "        text-align: right;\n",
       "    }\n",
       "</style>\n",
       "<table border=\"1\" class=\"dataframe\">\n",
       "  <thead>\n",
       "    <tr style=\"text-align: right;\">\n",
       "      <th></th>\n",
       "      <th>AREA</th>\n",
       "      <th>AREA_TITLE</th>\n",
       "      <th>AREA_TYPE</th>\n",
       "      <th>PRIM_STATE</th>\n",
       "      <th>NAICS</th>\n",
       "      <th>NAICS_TITLE</th>\n",
       "      <th>I_GROUP</th>\n",
       "      <th>OWN_CODE</th>\n",
       "      <th>OCC_CODE</th>\n",
       "      <th>OCC_TITLE</th>\n",
       "      <th>...</th>\n",
       "      <th>H_MEDIAN</th>\n",
       "      <th>H_PCT75</th>\n",
       "      <th>H_PCT90</th>\n",
       "      <th>A_PCT10</th>\n",
       "      <th>A_PCT25</th>\n",
       "      <th>A_MEDIAN</th>\n",
       "      <th>A_PCT75</th>\n",
       "      <th>A_PCT90</th>\n",
       "      <th>ANNUAL</th>\n",
       "      <th>HOURLY</th>\n",
       "    </tr>\n",
       "  </thead>\n",
       "  <tbody>\n",
       "    <tr>\n",
       "      <th>0</th>\n",
       "      <td>10180</td>\n",
       "      <td>Abilene, TX</td>\n",
       "      <td>4</td>\n",
       "      <td>TX</td>\n",
       "      <td>0</td>\n",
       "      <td>Cross-industry</td>\n",
       "      <td>cross-industry</td>\n",
       "      <td>1235</td>\n",
       "      <td>00-0000</td>\n",
       "      <td>All Occupations</td>\n",
       "      <td>...</td>\n",
       "      <td>18.6</td>\n",
       "      <td>28.03</td>\n",
       "      <td>40.08</td>\n",
       "      <td>22750</td>\n",
       "      <td>28710</td>\n",
       "      <td>38680</td>\n",
       "      <td>58310</td>\n",
       "      <td>83360</td>\n",
       "      <td>NaN</td>\n",
       "      <td>NaN</td>\n",
       "    </tr>\n",
       "    <tr>\n",
       "      <th>1</th>\n",
       "      <td>10180</td>\n",
       "      <td>Abilene, TX</td>\n",
       "      <td>4</td>\n",
       "      <td>TX</td>\n",
       "      <td>0</td>\n",
       "      <td>Cross-industry</td>\n",
       "      <td>cross-industry</td>\n",
       "      <td>1235</td>\n",
       "      <td>11-0000</td>\n",
       "      <td>Management Occupations</td>\n",
       "      <td>...</td>\n",
       "      <td>39.09</td>\n",
       "      <td>58.27</td>\n",
       "      <td>81.79</td>\n",
       "      <td>42080</td>\n",
       "      <td>59290</td>\n",
       "      <td>81310</td>\n",
       "      <td>121200</td>\n",
       "      <td>170130</td>\n",
       "      <td>NaN</td>\n",
       "      <td>NaN</td>\n",
       "    </tr>\n",
       "    <tr>\n",
       "      <th>2</th>\n",
       "      <td>10180</td>\n",
       "      <td>Abilene, TX</td>\n",
       "      <td>4</td>\n",
       "      <td>TX</td>\n",
       "      <td>0</td>\n",
       "      <td>Cross-industry</td>\n",
       "      <td>cross-industry</td>\n",
       "      <td>1235</td>\n",
       "      <td>11-1011</td>\n",
       "      <td>Chief Executives</td>\n",
       "      <td>...</td>\n",
       "      <td>97.28</td>\n",
       "      <td>#</td>\n",
       "      <td>#</td>\n",
       "      <td>98490</td>\n",
       "      <td>135280</td>\n",
       "      <td>202340</td>\n",
       "      <td>#</td>\n",
       "      <td>#</td>\n",
       "      <td>NaN</td>\n",
       "      <td>NaN</td>\n",
       "    </tr>\n",
       "    <tr>\n",
       "      <th>3</th>\n",
       "      <td>10180</td>\n",
       "      <td>Abilene, TX</td>\n",
       "      <td>4</td>\n",
       "      <td>TX</td>\n",
       "      <td>0</td>\n",
       "      <td>Cross-industry</td>\n",
       "      <td>cross-industry</td>\n",
       "      <td>1235</td>\n",
       "      <td>11-1021</td>\n",
       "      <td>General and Operations Managers</td>\n",
       "      <td>...</td>\n",
       "      <td>37.19</td>\n",
       "      <td>57.85</td>\n",
       "      <td>86.97</td>\n",
       "      <td>34440</td>\n",
       "      <td>49430</td>\n",
       "      <td>77360</td>\n",
       "      <td>120330</td>\n",
       "      <td>180900</td>\n",
       "      <td>NaN</td>\n",
       "      <td>NaN</td>\n",
       "    </tr>\n",
       "    <tr>\n",
       "      <th>4</th>\n",
       "      <td>10180</td>\n",
       "      <td>Abilene, TX</td>\n",
       "      <td>4</td>\n",
       "      <td>TX</td>\n",
       "      <td>0</td>\n",
       "      <td>Cross-industry</td>\n",
       "      <td>cross-industry</td>\n",
       "      <td>1235</td>\n",
       "      <td>11-2021</td>\n",
       "      <td>Marketing Managers</td>\n",
       "      <td>...</td>\n",
       "      <td>45.31</td>\n",
       "      <td>72.66</td>\n",
       "      <td>97.35</td>\n",
       "      <td>60130</td>\n",
       "      <td>74980</td>\n",
       "      <td>94240</td>\n",
       "      <td>151130</td>\n",
       "      <td>202490</td>\n",
       "      <td>NaN</td>\n",
       "      <td>NaN</td>\n",
       "    </tr>\n",
       "  </tbody>\n",
       "</table>\n",
       "<p>5 rows × 32 columns</p>\n",
       "</div>"
      ],
      "text/plain": [
       "    AREA   AREA_TITLE  AREA_TYPE PRIM_STATE  NAICS     NAICS_TITLE  \\\n",
       "0  10180  Abilene, TX          4         TX      0  Cross-industry   \n",
       "1  10180  Abilene, TX          4         TX      0  Cross-industry   \n",
       "2  10180  Abilene, TX          4         TX      0  Cross-industry   \n",
       "3  10180  Abilene, TX          4         TX      0  Cross-industry   \n",
       "4  10180  Abilene, TX          4         TX      0  Cross-industry   \n",
       "\n",
       "          I_GROUP  OWN_CODE OCC_CODE                        OCC_TITLE  ...  \\\n",
       "0  cross-industry      1235  00-0000                  All Occupations  ...   \n",
       "1  cross-industry      1235  11-0000           Management Occupations  ...   \n",
       "2  cross-industry      1235  11-1011                 Chief Executives  ...   \n",
       "3  cross-industry      1235  11-1021  General and Operations Managers  ...   \n",
       "4  cross-industry      1235  11-2021               Marketing Managers  ...   \n",
       "\n",
       "  H_MEDIAN H_PCT75 H_PCT90 A_PCT10 A_PCT25  A_MEDIAN  A_PCT75 A_PCT90 ANNUAL  \\\n",
       "0     18.6   28.03   40.08   22750   28710     38680    58310   83360    NaN   \n",
       "1    39.09   58.27   81.79   42080   59290     81310   121200  170130    NaN   \n",
       "2    97.28       #       #   98490  135280    202340        #       #    NaN   \n",
       "3    37.19   57.85   86.97   34440   49430     77360   120330  180900    NaN   \n",
       "4    45.31   72.66   97.35   60130   74980     94240   151130  202490    NaN   \n",
       "\n",
       "  HOURLY  \n",
       "0    NaN  \n",
       "1    NaN  \n",
       "2    NaN  \n",
       "3    NaN  \n",
       "4    NaN  \n",
       "\n",
       "[5 rows x 32 columns]"
      ]
     },
     "execution_count": 17,
     "metadata": {},
     "output_type": "execute_result"
    }
   ],
   "source": [
    "## Check the datasets' first 5 rows\n",
    "oew_data.head(5)"
   ]
  },
  {
   "cell_type": "markdown",
   "metadata": {
    "id": "hoUjq1tPzz7P"
   },
   "source": [
    "#### Dataset 2\n",
    "\n",
    "Type: API\n",
    "\n",
    "Method: The data was gathered using the \"API\" method from the United States Census Bureau Public Use Microdata Sample site\n",
    "\n",
    "Dataset variables:\n",
    "\n",
    "*   *SOCP:* Standard Occupational Classification (SOC) codes for 2018 and later based oin 2018 SOC codes\n",
    "*   *SCHL:* Educational Attainment\n",
    "*   *SCHL_RC1:* Educational Attainment recode "
   ]
  },
  {
   "cell_type": "code",
   "execution_count": 19,
   "metadata": {
    "id": "6zT0QxRyYmm7"
   },
   "outputs": [],
   "source": [
    "## Access PUMS API for census information for king county/seattle-tacoma dataset\n",
    "url = 'https://api.census.gov/data/2023/acs/acs1/pums?get=PWGTP,SOCP,SCHL_RC1,SCHL&ucgid=795P200US5323304&recode+SCHL_RC1=%7B%22b%22:%22SCHL%22,%22d%22:%5B%5B%220%22,%2201%22,%2202%22,%2203%22,%2204%22,%2205%22,%2206%22,%2207%22,%2208%22,%2209%22,%2210%22,%2211%22,%2212%22,%2213%22,%2214%22,%2215%22%5D,%5B%2216%22,%2217%22%5D,%5B%2218%22,%2219%22%5D,%5B%2220%22,%2221%22%5D,%5B%2222%22,%2223%22,%2224%22%5D%5D%7D'\n",
    "pums_response = requests.get(url)\n",
    "pums_response.raise_for_status()\n",
    "\n",
    "## Get the json\n",
    "pums_response_data = pums_response.json()\n",
    "\n",
    "## Create dataframe from json\n",
    "pums_data = pd.DataFrame(pums_response_data)"
   ]
  },
  {
   "cell_type": "code",
   "execution_count": 20,
   "metadata": {},
   "outputs": [
    {
     "name": "stdout",
     "output_type": "stream",
     "text": [
      "       0       1         2     3      4      5\n",
      "0  PWGTP    SOCP  SCHL_RC1  SCHL   PUMA  STATE\n",
      "1     68       N         5    22  23304     53\n",
      "2     63  151252         5    22  23304     53\n",
      "3     62       N         5    22  23304     53\n",
      "4     49       N         1     6  23304     53\n"
     ]
    }
   ],
   "source": [
    "## Check the data returns\n",
    "print(pums_data.head(5))"
   ]
  },
  {
   "cell_type": "markdown",
   "metadata": {},
   "source": [
    "## Assess Dataset 1 - OEW ##"
   ]
  },
  {
   "cell_type": "markdown",
   "metadata": {},
   "source": [
    "#### Framework for completion ###\n",
    "- 1. Issue Assessment\n",
    "- -- State issue\n",
    "- -- Identify issue: identification technique (visually or programmatically)\n",
    "- -- Issue type (Data quality or Tidiness)\n",
    "- -- Provide justification for issue\n",
    "- 2. Clean Issue\n",
    "- -- Cleaning strategy: \n",
    "- -- cleaning verification"
   ]
  },
  {
   "cell_type": "code",
   "execution_count": 33,
   "metadata": {},
   "outputs": [],
   "source": [
    "## Make copy of dataset before assessment and cleaning\n",
    "oew_data_copy = oew_data.copy()"
   ]
  },
  {
   "cell_type": "code",
   "execution_count": 35,
   "metadata": {},
   "outputs": [
    {
     "name": "stdout",
     "output_type": "stream",
     "text": [
      "<class 'pandas.core.frame.DataFrame'>\n",
      "RangeIndex: 149591 entries, 0 to 149590\n",
      "Data columns (total 32 columns):\n",
      " #   Column        Non-Null Count   Dtype  \n",
      "---  ------        --------------   -----  \n",
      " 0   AREA          149591 non-null  int64  \n",
      " 1   AREA_TITLE    149591 non-null  object \n",
      " 2   AREA_TYPE     149591 non-null  int64  \n",
      " 3   PRIM_STATE    149591 non-null  object \n",
      " 4   NAICS         149591 non-null  int64  \n",
      " 5   NAICS_TITLE   149591 non-null  object \n",
      " 6   I_GROUP       149591 non-null  object \n",
      " 7   OWN_CODE      149591 non-null  int64  \n",
      " 8   OCC_CODE      149591 non-null  object \n",
      " 9   OCC_TITLE     149591 non-null  object \n",
      " 10  O_GROUP       149591 non-null  object \n",
      " 11  TOT_EMP       149591 non-null  object \n",
      " 12  EMP_PRSE      149591 non-null  object \n",
      " 13  JOBS_1000     149591 non-null  object \n",
      " 14  LOC_QUOTIENT  149591 non-null  object \n",
      " 15  PCT_TOTAL     0 non-null       float64\n",
      " 16  PCT_RPT       0 non-null       float64\n",
      " 17  H_MEAN        149591 non-null  object \n",
      " 18  A_MEAN        149591 non-null  object \n",
      " 19  MEAN_PRSE     149591 non-null  object \n",
      " 20  H_PCT10       149591 non-null  object \n",
      " 21  H_PCT25       149591 non-null  object \n",
      " 22  H_MEDIAN      149591 non-null  object \n",
      " 23  H_PCT75       149591 non-null  object \n",
      " 24  H_PCT90       149591 non-null  object \n",
      " 25  A_PCT10       149591 non-null  object \n",
      " 26  A_PCT25       149591 non-null  object \n",
      " 27  A_MEDIAN      149591 non-null  object \n",
      " 28  A_PCT75       149591 non-null  object \n",
      " 29  A_PCT90       149591 non-null  object \n",
      " 30  ANNUAL        7912 non-null    object \n",
      " 31  HOURLY        228 non-null     object \n",
      "dtypes: float64(2), int64(4), object(26)\n",
      "memory usage: 36.5+ MB\n"
     ]
    }
   ],
   "source": [
    "## visual assessments\n",
    "oew_data_copy.info()"
   ]
  },
  {
   "cell_type": "markdown",
   "metadata": {
    "jp-MarkdownHeadingCollapsed": true
   },
   "source": [
    "#### AD1 - Issues List -  ####\n",
    "**Issue #1** column not needed for analysis\n",
    "Issue Assessment\n",
    "-- State issue: Dataset has columns not need for analysis, reduce footprint to only needed columns\n",
    "-- identification technique: visually\n",
    "-- Issue type: Tidiness\n",
    "-- Provide justification for issue"
   ]
  },
  {
   "cell_type": "markdown",
   "metadata": {},
   "source": [
    "#### AD1 - Issues  -  ####\n",
    "**Issue #1** column not needed for analysis\n",
    "Clean Issue\n",
    "-- Cleaning strategy: select only needed columns\n",
    "-- cleaning verification: .info() to verify columns"
   ]
  },
  {
   "cell_type": "code",
   "execution_count": 37,
   "metadata": {},
   "outputs": [],
   "source": [
    "# Create subset of dataset needed for analysis\n",
    "oew_cleaned = oew_data_copy[['AREA', 'OCC_CODE', 'OCC_TITLE', 'A_MEAN']].reindex()"
   ]
  },
  {
   "cell_type": "code",
   "execution_count": 39,
   "metadata": {
    "id": "SpW59kh-zl8d",
    "scrolled": true
   },
   "outputs": [
    {
     "name": "stdout",
     "output_type": "stream",
     "text": [
      "<class 'pandas.core.frame.DataFrame'>\n",
      "RangeIndex: 149591 entries, 0 to 149590\n",
      "Data columns (total 4 columns):\n",
      " #   Column     Non-Null Count   Dtype \n",
      "---  ------     --------------   ----- \n",
      " 0   AREA       149591 non-null  int64 \n",
      " 1   OCC_CODE   149591 non-null  object\n",
      " 2   OCC_TITLE  149591 non-null  object\n",
      " 3   A_MEAN     149591 non-null  object\n",
      "dtypes: int64(1), object(3)\n",
      "memory usage: 4.6+ MB\n"
     ]
    }
   ],
   "source": [
    "# Inspecting the dataframe visually\n",
    "oew_cleaned.info()"
   ]
  },
  {
   "cell_type": "markdown",
   "metadata": {},
   "source": [
    "#### AD1 - Issues List -  ####\n",
    "issue: A_MEAN is object instead of float\n",
    "justification: calculations/graphs with columns require conversion"
   ]
  },
  {
   "cell_type": "code",
   "execution_count": 41,
   "metadata": {},
   "outputs": [
    {
     "data": {
      "text/html": [
       "<div>\n",
       "<style scoped>\n",
       "    .dataframe tbody tr th:only-of-type {\n",
       "        vertical-align: middle;\n",
       "    }\n",
       "\n",
       "    .dataframe tbody tr th {\n",
       "        vertical-align: top;\n",
       "    }\n",
       "\n",
       "    .dataframe thead th {\n",
       "        text-align: right;\n",
       "    }\n",
       "</style>\n",
       "<table border=\"1\" class=\"dataframe\">\n",
       "  <thead>\n",
       "    <tr style=\"text-align: right;\">\n",
       "      <th></th>\n",
       "      <th>AREA</th>\n",
       "      <th>OCC_CODE</th>\n",
       "      <th>OCC_TITLE</th>\n",
       "      <th>A_MEAN</th>\n",
       "    </tr>\n",
       "  </thead>\n",
       "  <tbody>\n",
       "    <tr>\n",
       "      <th>140301</th>\n",
       "      <td>49660</td>\n",
       "      <td>17-3027</td>\n",
       "      <td>Mechanical Engineering Technologists and Techn...</td>\n",
       "      <td>63870</td>\n",
       "    </tr>\n",
       "    <tr>\n",
       "      <th>10248</th>\n",
       "      <td>12580</td>\n",
       "      <td>43-5032</td>\n",
       "      <td>Dispatchers, Except Police, Fire, and Ambulance</td>\n",
       "      <td>51220</td>\n",
       "    </tr>\n",
       "    <tr>\n",
       "      <th>72109</th>\n",
       "      <td>30460</td>\n",
       "      <td>39-5092</td>\n",
       "      <td>Manicurists and Pedicurists</td>\n",
       "      <td>41040</td>\n",
       "    </tr>\n",
       "    <tr>\n",
       "      <th>42762</th>\n",
       "      <td>22140</td>\n",
       "      <td>25-9099</td>\n",
       "      <td>Educational Instruction and Library Workers, A...</td>\n",
       "      <td>41290</td>\n",
       "    </tr>\n",
       "    <tr>\n",
       "      <th>8781</th>\n",
       "      <td>12420</td>\n",
       "      <td>21-1029</td>\n",
       "      <td>Social Workers, All Other</td>\n",
       "      <td>72250</td>\n",
       "    </tr>\n",
       "    <tr>\n",
       "      <th>64338</th>\n",
       "      <td>28140</td>\n",
       "      <td>43-4199</td>\n",
       "      <td>Information and Record Clerks, All Other</td>\n",
       "      <td>42890</td>\n",
       "    </tr>\n",
       "    <tr>\n",
       "      <th>54987</th>\n",
       "      <td>25860</td>\n",
       "      <td>29-2052</td>\n",
       "      <td>Pharmacy Technicians</td>\n",
       "      <td>39620</td>\n",
       "    </tr>\n",
       "    <tr>\n",
       "      <th>81907</th>\n",
       "      <td>33340</td>\n",
       "      <td>27-2031</td>\n",
       "      <td>Dancers</td>\n",
       "      <td>*</td>\n",
       "    </tr>\n",
       "    <tr>\n",
       "      <th>120778</th>\n",
       "      <td>43340</td>\n",
       "      <td>39-3031</td>\n",
       "      <td>Ushers, Lobby Attendants, and Ticket Takers</td>\n",
       "      <td>28790</td>\n",
       "    </tr>\n",
       "    <tr>\n",
       "      <th>129022</th>\n",
       "      <td>45940</td>\n",
       "      <td>49-9052</td>\n",
       "      <td>Telecommunications Line Installers and Repairers</td>\n",
       "      <td>95580</td>\n",
       "    </tr>\n",
       "    <tr>\n",
       "      <th>37213</th>\n",
       "      <td>20100</td>\n",
       "      <td>33-0000</td>\n",
       "      <td>Protective Service Occupations</td>\n",
       "      <td>61030</td>\n",
       "    </tr>\n",
       "    <tr>\n",
       "      <th>91069</th>\n",
       "      <td>36220</td>\n",
       "      <td>33-0000</td>\n",
       "      <td>Protective Service Occupations</td>\n",
       "      <td>54340</td>\n",
       "    </tr>\n",
       "    <tr>\n",
       "      <th>123029</th>\n",
       "      <td>44060</td>\n",
       "      <td>43-5011</td>\n",
       "      <td>Cargo and Freight Agents</td>\n",
       "      <td>53670</td>\n",
       "    </tr>\n",
       "    <tr>\n",
       "      <th>129211</th>\n",
       "      <td>46060</td>\n",
       "      <td>21-1018</td>\n",
       "      <td>Substance Abuse, Behavioral Disorder, and Ment...</td>\n",
       "      <td>56050</td>\n",
       "    </tr>\n",
       "    <tr>\n",
       "      <th>131258</th>\n",
       "      <td>46520</td>\n",
       "      <td>27-3091</td>\n",
       "      <td>Interpreters and Translators</td>\n",
       "      <td>60900</td>\n",
       "    </tr>\n",
       "    <tr>\n",
       "      <th>41866</th>\n",
       "      <td>21780</td>\n",
       "      <td>39-9032</td>\n",
       "      <td>Recreation Workers</td>\n",
       "      <td>29710</td>\n",
       "    </tr>\n",
       "    <tr>\n",
       "      <th>134468</th>\n",
       "      <td>47380</td>\n",
       "      <td>51-9195</td>\n",
       "      <td>Molders, Shapers, and Casters, Except Metal an...</td>\n",
       "      <td>31060</td>\n",
       "    </tr>\n",
       "    <tr>\n",
       "      <th>123800</th>\n",
       "      <td>44180</td>\n",
       "      <td>39-7010</td>\n",
       "      <td>Tour and Travel Guides</td>\n",
       "      <td>31700</td>\n",
       "    </tr>\n",
       "    <tr>\n",
       "      <th>2417</th>\n",
       "      <td>10740</td>\n",
       "      <td>31-0000</td>\n",
       "      <td>Healthcare Support Occupations</td>\n",
       "      <td>33470</td>\n",
       "    </tr>\n",
       "    <tr>\n",
       "      <th>117077</th>\n",
       "      <td>42200</td>\n",
       "      <td>11-9039</td>\n",
       "      <td>Education Administrators, All Other</td>\n",
       "      <td>120880</td>\n",
       "    </tr>\n",
       "  </tbody>\n",
       "</table>\n",
       "</div>"
      ],
      "text/plain": [
       "         AREA OCC_CODE                                          OCC_TITLE  \\\n",
       "140301  49660  17-3027  Mechanical Engineering Technologists and Techn...   \n",
       "10248   12580  43-5032    Dispatchers, Except Police, Fire, and Ambulance   \n",
       "72109   30460  39-5092                        Manicurists and Pedicurists   \n",
       "42762   22140  25-9099  Educational Instruction and Library Workers, A...   \n",
       "8781    12420  21-1029                          Social Workers, All Other   \n",
       "64338   28140  43-4199           Information and Record Clerks, All Other   \n",
       "54987   25860  29-2052                               Pharmacy Technicians   \n",
       "81907   33340  27-2031                                            Dancers   \n",
       "120778  43340  39-3031        Ushers, Lobby Attendants, and Ticket Takers   \n",
       "129022  45940  49-9052   Telecommunications Line Installers and Repairers   \n",
       "37213   20100  33-0000                     Protective Service Occupations   \n",
       "91069   36220  33-0000                     Protective Service Occupations   \n",
       "123029  44060  43-5011                           Cargo and Freight Agents   \n",
       "129211  46060  21-1018  Substance Abuse, Behavioral Disorder, and Ment...   \n",
       "131258  46520  27-3091                       Interpreters and Translators   \n",
       "41866   21780  39-9032                                 Recreation Workers   \n",
       "134468  47380  51-9195  Molders, Shapers, and Casters, Except Metal an...   \n",
       "123800  44180  39-7010                             Tour and Travel Guides   \n",
       "2417    10740  31-0000                     Healthcare Support Occupations   \n",
       "117077  42200  11-9039                Education Administrators, All Other   \n",
       "\n",
       "        A_MEAN  \n",
       "140301   63870  \n",
       "10248    51220  \n",
       "72109    41040  \n",
       "42762    41290  \n",
       "8781     72250  \n",
       "64338    42890  \n",
       "54987    39620  \n",
       "81907        *  \n",
       "120778   28790  \n",
       "129022   95580  \n",
       "37213    61030  \n",
       "91069    54340  \n",
       "123029   53670  \n",
       "129211   56050  \n",
       "131258   60900  \n",
       "41866    29710  \n",
       "134468   31060  \n",
       "123800   31700  \n",
       "2417     33470  \n",
       "117077  120880  "
      ]
     },
     "execution_count": 41,
     "metadata": {},
     "output_type": "execute_result"
    }
   ],
   "source": [
    "## check sample data in columns (visual assessment)\n",
    "oew_cleaned.sample(20)"
   ]
  },
  {
   "cell_type": "markdown",
   "metadata": {},
   "source": [
    "#### AD1 - Issues List -  ####\n",
    "- issue: A_MEAN has value '*'\n",
    "- "
   ]
  },
  {
   "cell_type": "code",
   "execution_count": 47,
   "metadata": {},
   "outputs": [
    {
     "data": {
      "text/plain": [
       "A_MEAN\n",
       "*         1487\n",
       "#          144\n",
       "54330       50\n",
       "46110       48\n",
       "40820       47\n",
       "          ... \n",
       "207260       1\n",
       "238120       1\n",
       "193040       1\n",
       "161570       1\n",
       "295110       1\n",
       "Name: count, Length: 15760, dtype: int64"
      ]
     },
     "execution_count": 47,
     "metadata": {},
     "output_type": "execute_result"
    }
   ],
   "source": [
    "## issue identification: Programmatic\n",
    "## issue type: validity/quality\n",
    "## issue: In addition to '*' there was a \"#\" value in the columns. This are invalid since this column represents a float value\n",
    "oew_cleaned['A_MEAN'].value_counts()"
   ]
  },
  {
   "cell_type": "code",
   "execution_count": 53,
   "metadata": {},
   "outputs": [
    {
     "data": {
      "text/plain": [
       "0          49780.0\n",
       "1         100690.0\n",
       "2         240020.0\n",
       "3          98480.0\n",
       "4         116290.0\n",
       "            ...   \n",
       "149586     44550.0\n",
       "149587     45740.0\n",
       "149588     35630.0\n",
       "149589     38900.0\n",
       "149590     52670.0\n",
       "Name: A_MEAN, Length: 149591, dtype: float64"
      ]
     },
     "execution_count": 53,
     "metadata": {},
     "output_type": "execute_result"
    }
   ],
   "source": [
    "## Cleaning strategy: Replace '*' & '#' with np.nan and convert column to float\n",
    "## justification: allows for pandas function to handle missing values consistently\n",
    "pd.set_option('future.no_silent_downcasting', True)\n",
    "\n",
    "oew_cleaned['A_MEAN'] = oew_cleaned['A_MEAN'].replace(['*','#'], [np.nan, np.nan])\n",
    "oew_cleaned['A_MEAN'].astype(float)"
   ]
  },
  {
   "cell_type": "code",
   "execution_count": 168,
   "metadata": {},
   "outputs": [
    {
     "data": {
      "text/plain": [
       "0"
      ]
     },
     "execution_count": 168,
     "metadata": {},
     "output_type": "execute_result"
    }
   ],
   "source": [
    "## cleaning verification\n",
    "oew_cleaned.isnull().sum().sum()"
   ]
  },
  {
   "cell_type": "code",
   "execution_count": 61,
   "metadata": {},
   "outputs": [
    {
     "data": {
      "text/plain": [
       "AREA   OCC_CODE  OCC_TITLE                                                      A_MEAN\n",
       "42660  00-0000   All Occupations                                                86520     1\n",
       "       43-9051   Mail Clerks and Mail Machine Operators, Except Postal Service  45490     1\n",
       "       43-4199   Information and Record Clerks, All Other                       53630     1\n",
       "       43-5011   Cargo and Freight Agents                                       56020     1\n",
       "       43-5021   Couriers and Messengers                                        46830     1\n",
       "                                                                                         ..\n",
       "       25-4022   Librarians and Media Collections Specialists                   99360     1\n",
       "       25-4031   Library Technicians                                            62270     1\n",
       "       25-9031   Instructional Coordinators                                     89850     1\n",
       "       25-9044   Teaching Assistants, Postsecondary                             51030     1\n",
       "       53-7199   Material Moving Workers, All Other                             60720     1\n",
       "Name: count, Length: 715, dtype: int64"
      ]
     },
     "execution_count": 61,
     "metadata": {},
     "output_type": "execute_result"
    }
   ],
   "source": [
    "## Issue: We are only interested in analyzing Seattle-Tacoma-Washington data only\n",
    "## Issue type: Tidyness\n",
    "## Indentification: programmatic\n",
    "## count for seattle code is 715 vs ~150k entries in dataset\n",
    "seattle_area = 42660\n",
    "oew_cleaned[oew_cleaned['AREA'] == seattle_area].value_counts()"
   ]
  },
  {
   "cell_type": "code",
   "execution_count": 65,
   "metadata": {},
   "outputs": [],
   "source": [
    "## Cleaning strategy: Filter out rows not relevant to analysis\n",
    "## justification: reducing dataset size\n",
    "seattle_area = 42660\n",
    "oew_cleaned = oew_cleaned[oew_cleaned['AREA'] == seattle_area]"
   ]
  },
  {
   "cell_type": "code",
   "execution_count": 69,
   "metadata": {},
   "outputs": [
    {
     "data": {
      "text/plain": [
       "1"
      ]
     },
     "execution_count": 69,
     "metadata": {},
     "output_type": "execute_result"
    }
   ],
   "source": [
    "## Cleaning verification\n",
    "oew_cleaned['AREA'].nunique()\n",
    "## I can probably drop this column now. it is repeated for all columns and add no value to the analysis"
   ]
  },
  {
   "cell_type": "code",
   "execution_count": 71,
   "metadata": {},
   "outputs": [
    {
     "data": {
      "text/html": [
       "<div>\n",
       "<style scoped>\n",
       "    .dataframe tbody tr th:only-of-type {\n",
       "        vertical-align: middle;\n",
       "    }\n",
       "\n",
       "    .dataframe tbody tr th {\n",
       "        vertical-align: top;\n",
       "    }\n",
       "\n",
       "    .dataframe thead th {\n",
       "        text-align: right;\n",
       "    }\n",
       "</style>\n",
       "<table border=\"1\" class=\"dataframe\">\n",
       "  <thead>\n",
       "    <tr style=\"text-align: right;\">\n",
       "      <th></th>\n",
       "      <th>AREA</th>\n",
       "      <th>OCC_CODE</th>\n",
       "      <th>OCC_TITLE</th>\n",
       "      <th>A_MEAN</th>\n",
       "    </tr>\n",
       "  </thead>\n",
       "  <tbody>\n",
       "    <tr>\n",
       "      <th>119179</th>\n",
       "      <td>42660</td>\n",
       "      <td>29-1021</td>\n",
       "      <td>Dentists, General</td>\n",
       "      <td>205140</td>\n",
       "    </tr>\n",
       "    <tr>\n",
       "      <th>119598</th>\n",
       "      <td>42660</td>\n",
       "      <td>53-3053</td>\n",
       "      <td>Shuttle Drivers and Chauffeurs</td>\n",
       "      <td>43690</td>\n",
       "    </tr>\n",
       "    <tr>\n",
       "      <th>119575</th>\n",
       "      <td>42660</td>\n",
       "      <td>51-9124</td>\n",
       "      <td>Coating, Painting, and Spraying Machine Setter...</td>\n",
       "      <td>66110</td>\n",
       "    </tr>\n",
       "    <tr>\n",
       "      <th>119202</th>\n",
       "      <td>42660</td>\n",
       "      <td>29-1215</td>\n",
       "      <td>Family Medicine Physicians</td>\n",
       "      <td>236250</td>\n",
       "    </tr>\n",
       "    <tr>\n",
       "      <th>119447</th>\n",
       "      <td>42660</td>\n",
       "      <td>47-4021</td>\n",
       "      <td>Elevator and Escalator Installers and Repairers</td>\n",
       "      <td>121110</td>\n",
       "    </tr>\n",
       "    <tr>\n",
       "      <th>119024</th>\n",
       "      <td>42660</td>\n",
       "      <td>19-1029</td>\n",
       "      <td>Biological Scientists, All Other</td>\n",
       "      <td>105820</td>\n",
       "    </tr>\n",
       "    <tr>\n",
       "      <th>119168</th>\n",
       "      <td>42660</td>\n",
       "      <td>27-3099</td>\n",
       "      <td>Media and Communication Workers, All Other</td>\n",
       "      <td>67090</td>\n",
       "    </tr>\n",
       "    <tr>\n",
       "      <th>119309</th>\n",
       "      <td>42660</td>\n",
       "      <td>39-1022</td>\n",
       "      <td>First-Line Supervisors of Personal Service Wor...</td>\n",
       "      <td>59920</td>\n",
       "    </tr>\n",
       "    <tr>\n",
       "      <th>118975</th>\n",
       "      <td>42660</td>\n",
       "      <td>15-1254</td>\n",
       "      <td>Web Developers</td>\n",
       "      <td>125040</td>\n",
       "    </tr>\n",
       "    <tr>\n",
       "      <th>119408</th>\n",
       "      <td>42660</td>\n",
       "      <td>45-2092</td>\n",
       "      <td>Farmworkers and Laborers, Crop, Nursery, and G...</td>\n",
       "      <td>43510</td>\n",
       "    </tr>\n",
       "    <tr>\n",
       "      <th>118937</th>\n",
       "      <td>42660</td>\n",
       "      <td>13-1051</td>\n",
       "      <td>Cost Estimators</td>\n",
       "      <td>92930</td>\n",
       "    </tr>\n",
       "    <tr>\n",
       "      <th>118991</th>\n",
       "      <td>42660</td>\n",
       "      <td>17-2041</td>\n",
       "      <td>Chemical Engineers</td>\n",
       "      <td>122100</td>\n",
       "    </tr>\n",
       "    <tr>\n",
       "      <th>119608</th>\n",
       "      <td>42660</td>\n",
       "      <td>53-6021</td>\n",
       "      <td>Parking Attendants</td>\n",
       "      <td>40830</td>\n",
       "    </tr>\n",
       "    <tr>\n",
       "      <th>119173</th>\n",
       "      <td>42660</td>\n",
       "      <td>27-4021</td>\n",
       "      <td>Photographers</td>\n",
       "      <td>56240</td>\n",
       "    </tr>\n",
       "    <tr>\n",
       "      <th>119451</th>\n",
       "      <td>42660</td>\n",
       "      <td>47-4061</td>\n",
       "      <td>Rail-Track Laying and Maintenance Equipment Op...</td>\n",
       "      <td>73850</td>\n",
       "    </tr>\n",
       "    <tr>\n",
       "      <th>119535</th>\n",
       "      <td>42660</td>\n",
       "      <td>51-4199</td>\n",
       "      <td>Metal Workers and Plastic Workers, All Other</td>\n",
       "      <td>63670</td>\n",
       "    </tr>\n",
       "    <tr>\n",
       "      <th>119044</th>\n",
       "      <td>42660</td>\n",
       "      <td>19-3091</td>\n",
       "      <td>Anthropologists and Archeologists</td>\n",
       "      <td>75190</td>\n",
       "    </tr>\n",
       "    <tr>\n",
       "      <th>119594</th>\n",
       "      <td>42660</td>\n",
       "      <td>53-3032</td>\n",
       "      <td>Heavy and Tractor-Trailer Truck Drivers</td>\n",
       "      <td>66270</td>\n",
       "    </tr>\n",
       "    <tr>\n",
       "      <th>119592</th>\n",
       "      <td>42660</td>\n",
       "      <td>53-2031</td>\n",
       "      <td>Flight Attendants</td>\n",
       "      <td>99440</td>\n",
       "    </tr>\n",
       "    <tr>\n",
       "      <th>119604</th>\n",
       "      <td>42660</td>\n",
       "      <td>53-5011</td>\n",
       "      <td>Sailors and Marine Oilers</td>\n",
       "      <td>59550</td>\n",
       "    </tr>\n",
       "    <tr>\n",
       "      <th>119177</th>\n",
       "      <td>42660</td>\n",
       "      <td>29-0000</td>\n",
       "      <td>Healthcare Practitioners and Technical Occupat...</td>\n",
       "      <td>124720</td>\n",
       "    </tr>\n",
       "    <tr>\n",
       "      <th>119091</th>\n",
       "      <td>42660</td>\n",
       "      <td>25-1061</td>\n",
       "      <td>Anthropology and Archeology Teachers, Postseco...</td>\n",
       "      <td>92110</td>\n",
       "    </tr>\n",
       "    <tr>\n",
       "      <th>119505</th>\n",
       "      <td>42660</td>\n",
       "      <td>51-2011</td>\n",
       "      <td>Aircraft Structure, Surfaces, Rigging, and Sys...</td>\n",
       "      <td>76100</td>\n",
       "    </tr>\n",
       "    <tr>\n",
       "      <th>119164</th>\n",
       "      <td>42660</td>\n",
       "      <td>27-3041</td>\n",
       "      <td>Editors</td>\n",
       "      <td>93220</td>\n",
       "    </tr>\n",
       "    <tr>\n",
       "      <th>119280</th>\n",
       "      <td>42660</td>\n",
       "      <td>35-1011</td>\n",
       "      <td>Chefs and Head Cooks</td>\n",
       "      <td>74100</td>\n",
       "    </tr>\n",
       "    <tr>\n",
       "      <th>119000</th>\n",
       "      <td>42660</td>\n",
       "      <td>17-2131</td>\n",
       "      <td>Materials Engineers</td>\n",
       "      <td>127590</td>\n",
       "    </tr>\n",
       "    <tr>\n",
       "      <th>119213</th>\n",
       "      <td>42660</td>\n",
       "      <td>29-1249</td>\n",
       "      <td>Surgeons, All Other</td>\n",
       "      <td>253900</td>\n",
       "    </tr>\n",
       "    <tr>\n",
       "      <th>119143</th>\n",
       "      <td>42660</td>\n",
       "      <td>27-1011</td>\n",
       "      <td>Art Directors</td>\n",
       "      <td>160140</td>\n",
       "    </tr>\n",
       "    <tr>\n",
       "      <th>119437</th>\n",
       "      <td>42660</td>\n",
       "      <td>47-2181</td>\n",
       "      <td>Roofers</td>\n",
       "      <td>71740</td>\n",
       "    </tr>\n",
       "    <tr>\n",
       "      <th>119513</th>\n",
       "      <td>42660</td>\n",
       "      <td>51-3022</td>\n",
       "      <td>Meat, Poultry, and Fish Cutters and Trimmers</td>\n",
       "      <td>40150</td>\n",
       "    </tr>\n",
       "  </tbody>\n",
       "</table>\n",
       "</div>"
      ],
      "text/plain": [
       "         AREA OCC_CODE                                          OCC_TITLE  \\\n",
       "119179  42660  29-1021                                  Dentists, General   \n",
       "119598  42660  53-3053                     Shuttle Drivers and Chauffeurs   \n",
       "119575  42660  51-9124  Coating, Painting, and Spraying Machine Setter...   \n",
       "119202  42660  29-1215                         Family Medicine Physicians   \n",
       "119447  42660  47-4021    Elevator and Escalator Installers and Repairers   \n",
       "119024  42660  19-1029                   Biological Scientists, All Other   \n",
       "119168  42660  27-3099         Media and Communication Workers, All Other   \n",
       "119309  42660  39-1022  First-Line Supervisors of Personal Service Wor...   \n",
       "118975  42660  15-1254                                     Web Developers   \n",
       "119408  42660  45-2092  Farmworkers and Laborers, Crop, Nursery, and G...   \n",
       "118937  42660  13-1051                                    Cost Estimators   \n",
       "118991  42660  17-2041                                 Chemical Engineers   \n",
       "119608  42660  53-6021                                 Parking Attendants   \n",
       "119173  42660  27-4021                                      Photographers   \n",
       "119451  42660  47-4061  Rail-Track Laying and Maintenance Equipment Op...   \n",
       "119535  42660  51-4199       Metal Workers and Plastic Workers, All Other   \n",
       "119044  42660  19-3091                  Anthropologists and Archeologists   \n",
       "119594  42660  53-3032            Heavy and Tractor-Trailer Truck Drivers   \n",
       "119592  42660  53-2031                                  Flight Attendants   \n",
       "119604  42660  53-5011                          Sailors and Marine Oilers   \n",
       "119177  42660  29-0000  Healthcare Practitioners and Technical Occupat...   \n",
       "119091  42660  25-1061  Anthropology and Archeology Teachers, Postseco...   \n",
       "119505  42660  51-2011  Aircraft Structure, Surfaces, Rigging, and Sys...   \n",
       "119164  42660  27-3041                                            Editors   \n",
       "119280  42660  35-1011                               Chefs and Head Cooks   \n",
       "119000  42660  17-2131                                Materials Engineers   \n",
       "119213  42660  29-1249                                Surgeons, All Other   \n",
       "119143  42660  27-1011                                      Art Directors   \n",
       "119437  42660  47-2181                                            Roofers   \n",
       "119513  42660  51-3022       Meat, Poultry, and Fish Cutters and Trimmers   \n",
       "\n",
       "        A_MEAN  \n",
       "119179  205140  \n",
       "119598   43690  \n",
       "119575   66110  \n",
       "119202  236250  \n",
       "119447  121110  \n",
       "119024  105820  \n",
       "119168   67090  \n",
       "119309   59920  \n",
       "118975  125040  \n",
       "119408   43510  \n",
       "118937   92930  \n",
       "118991  122100  \n",
       "119608   40830  \n",
       "119173   56240  \n",
       "119451   73850  \n",
       "119535   63670  \n",
       "119044   75190  \n",
       "119594   66270  \n",
       "119592   99440  \n",
       "119604   59550  \n",
       "119177  124720  \n",
       "119091   92110  \n",
       "119505   76100  \n",
       "119164   93220  \n",
       "119280   74100  \n",
       "119000  127590  \n",
       "119213  253900  \n",
       "119143  160140  \n",
       "119437   71740  \n",
       "119513   40150  "
      ]
     },
     "execution_count": 71,
     "metadata": {},
     "output_type": "execute_result"
    }
   ],
   "source": [
    "oew_cleaned.sample(30)"
   ]
  },
  {
   "cell_type": "code",
   "execution_count": 73,
   "metadata": {},
   "outputs": [],
   "source": [
    "## Issue: We are only interested in analyzing computer-related occupations data only\n",
    "## Issue type: Tidyness\n",
    "## Indentification: visual \n",
    "## (OCC_TITLE column has non-computer related descriptions)\n",
    "## ============================================================\n",
    "\n",
    "## cleaning strategy: Filter out all other OCC_CODEs \n",
    "comsci_startwith = '15-'\n",
    "oew_cleaned = oew_cleaned[ oew_cleaned['OCC_CODE'].str.startswith(comsci_startwith)]"
   ]
  },
  {
   "cell_type": "code",
   "execution_count": 159,
   "metadata": {},
   "outputs": [
    {
     "data": {
      "text/html": [
       "<div>\n",
       "<style scoped>\n",
       "    .dataframe tbody tr th:only-of-type {\n",
       "        vertical-align: middle;\n",
       "    }\n",
       "\n",
       "    .dataframe tbody tr th {\n",
       "        vertical-align: top;\n",
       "    }\n",
       "\n",
       "    .dataframe thead th {\n",
       "        text-align: right;\n",
       "    }\n",
       "</style>\n",
       "<table border=\"1\" class=\"dataframe\">\n",
       "  <thead>\n",
       "    <tr style=\"text-align: right;\">\n",
       "      <th></th>\n",
       "      <th>AREA</th>\n",
       "      <th>OCC_CODE</th>\n",
       "      <th>OCC_TITLE</th>\n",
       "      <th>A_MEAN</th>\n",
       "    </tr>\n",
       "  </thead>\n",
       "  <tbody>\n",
       "    <tr>\n",
       "      <th>118962</th>\n",
       "      <td>42660</td>\n",
       "      <td>15-0000</td>\n",
       "      <td>Computer and Mathematical Occupations</td>\n",
       "      <td>144530</td>\n",
       "    </tr>\n",
       "    <tr>\n",
       "      <th>118963</th>\n",
       "      <td>42660</td>\n",
       "      <td>15-1211</td>\n",
       "      <td>Computer Systems Analysts</td>\n",
       "      <td>138410</td>\n",
       "    </tr>\n",
       "    <tr>\n",
       "      <th>118964</th>\n",
       "      <td>42660</td>\n",
       "      <td>15-1212</td>\n",
       "      <td>Information Security Analysts</td>\n",
       "      <td>154600</td>\n",
       "    </tr>\n",
       "    <tr>\n",
       "      <th>118965</th>\n",
       "      <td>42660</td>\n",
       "      <td>15-1221</td>\n",
       "      <td>Computer and Information Research Scientists</td>\n",
       "      <td>211410</td>\n",
       "    </tr>\n",
       "    <tr>\n",
       "      <th>118966</th>\n",
       "      <td>42660</td>\n",
       "      <td>15-1231</td>\n",
       "      <td>Computer Network Support Specialists</td>\n",
       "      <td>100650</td>\n",
       "    </tr>\n",
       "  </tbody>\n",
       "</table>\n",
       "</div>"
      ],
      "text/plain": [
       "         AREA OCC_CODE                                     OCC_TITLE  A_MEAN\n",
       "118962  42660  15-0000         Computer and Mathematical Occupations  144530\n",
       "118963  42660  15-1211                     Computer Systems Analysts  138410\n",
       "118964  42660  15-1212                 Information Security Analysts  154600\n",
       "118965  42660  15-1221  Computer and Information Research Scientists  211410\n",
       "118966  42660  15-1231          Computer Network Support Specialists  100650"
      ]
     },
     "execution_count": 159,
     "metadata": {},
     "output_type": "execute_result"
    }
   ],
   "source": [
    "## Cleaning verification\n",
    "oew_cleaned.head()"
   ]
  },
  {
   "cell_type": "code",
   "execution_count": 83,
   "metadata": {
    "scrolled": true
   },
   "outputs": [
    {
     "data": {
      "text/plain": [
       "118962    False\n",
       "118963    False\n",
       "118964    False\n",
       "118965    False\n",
       "118966    False\n",
       "118967    False\n",
       "118968    False\n",
       "118969    False\n",
       "118970    False\n",
       "118971    False\n",
       "118972    False\n",
       "118973    False\n",
       "118974    False\n",
       "118975    False\n",
       "118976    False\n",
       "118977    False\n",
       "118978    False\n",
       "118979    False\n",
       "118980    False\n",
       "118981    False\n",
       "118982    False\n",
       "118983    False\n",
       "dtype: bool"
      ]
     },
     "execution_count": 83,
     "metadata": {},
     "output_type": "execute_result"
    }
   ],
   "source": [
    "oew_cleaned.duplicated()"
   ]
  },
  {
   "cell_type": "markdown",
   "metadata": {},
   "source": [
    "## Assess Dataset 2 ## -- PUMS"
   ]
  },
  {
   "cell_type": "markdown",
   "metadata": {},
   "source": [
    "#### Framework for completion ###\n",
    "- 1. Issue Assessment\n",
    "- -- State issue\n",
    "- -- Identify issue: identification technique (visually or programmatically)\n",
    "- -- Issue type (Data quality or Tidiness)\n",
    "- -- Provide justification for issue\n",
    "- 2. Clean Issue\n",
    "- -- Cleaning strategy: \n",
    "- -- cleaning verification"
   ]
  },
  {
   "cell_type": "code",
   "execution_count": 94,
   "metadata": {},
   "outputs": [],
   "source": [
    "## Make copy of dataset before assessment and cleaning\n",
    "pums_data_copy = pums_data.copy()"
   ]
  },
  {
   "cell_type": "code",
   "execution_count": 96,
   "metadata": {},
   "outputs": [
    {
     "name": "stdout",
     "output_type": "stream",
     "text": [
      "       0       1         2     3      4      5\n",
      "0  PWGTP    SOCP  SCHL_RC1  SCHL   PUMA  STATE\n",
      "1     68       N         5    22  23304     53\n",
      "2     63  151252         5    22  23304     53\n",
      "3     62       N         5    22  23304     53\n",
      "4     49       N         1     6  23304     53\n"
     ]
    }
   ],
   "source": [
    "### header is the first row of data \n",
    "print(pums_data_copy.head(5))"
   ]
  },
  {
   "cell_type": "code",
   "execution_count": 98,
   "metadata": {},
   "outputs": [],
   "source": [
    "## Issue columns headers are rows in the dataset\n",
    "## Identification: visual\n",
    "## issue type: Quality (?)\n",
    "## justification: fix for easy assess to column data\n",
    "\n",
    "# Cleaning strategy - Fix issue with column headers\n",
    "columns = pums_response_data[0]\n",
    "rows = pums_response_data[1:]\n",
    "pums_cleaned = pd.DataFrame(rows, columns=columns)"
   ]
  },
  {
   "cell_type": "code",
   "execution_count": 104,
   "metadata": {},
   "outputs": [
    {
     "data": {
      "text/plain": [
       "Index(['PWGTP', 'SOCP', 'SCHL_RC1', 'SCHL', 'PUMA', 'STATE'], dtype='object')"
      ]
     },
     "execution_count": 104,
     "metadata": {},
     "output_type": "execute_result"
    }
   ],
   "source": [
    "# Cleaning verification\n",
    "pums_cleaned.columns"
   ]
  },
  {
   "cell_type": "code",
   "execution_count": 114,
   "metadata": {},
   "outputs": [
    {
     "data": {
      "text/plain": [
       "count     1774\n",
       "unique     218\n",
       "top          N\n",
       "freq       691\n",
       "Name: SOCP, dtype: object"
      ]
     },
     "execution_count": 114,
     "metadata": {},
     "output_type": "execute_result"
    }
   ],
   "source": [
    "## Issue invalid data in SOCP columns\n",
    "## identification: programmatics/visual?\n",
    "## issue type: Quality - Invalid value of 'N' in this context\n",
    "pums_cleaned['SOCP'].describe()"
   ]
  },
  {
   "cell_type": "code",
   "execution_count": 116,
   "metadata": {},
   "outputs": [],
   "source": [
    "#cleaning strategy - remove the rows with SOCP value on 'N' they are not relevant in this context\n",
    "pums_cleaned = pums_cleaned[pums_cleaned['SOCP'] != 'N']"
   ]
  },
  {
   "cell_type": "code",
   "execution_count": 172,
   "metadata": {},
   "outputs": [
    {
     "name": "stdout",
     "output_type": "stream",
     "text": [
      "0\n"
     ]
    },
    {
     "data": {
      "text/plain": [
       "0"
      ]
     },
     "execution_count": 172,
     "metadata": {},
     "output_type": "execute_result"
    }
   ],
   "source": [
    "#cleaning verification\n",
    "print((pums_cleaned['SOCP'] == 'N').sum())\n",
    "pums_cleaned['SOCP'].isnull().sum()"
   ]
  },
  {
   "cell_type": "markdown",
   "metadata": {},
   "source": [
    "#### Issue SCHL_RC1 needs to be resolved to the educational attainment string value ####"
   ]
  },
  {
   "cell_type": "code",
   "execution_count": 141,
   "metadata": {},
   "outputs": [],
   "source": [
    "# Issue tidying up the dataset to leave only columns needed for analysis\n",
    "# Issue type: Tidiness\n",
    "# Identification type: Visual \n",
    "# Create subset of dataset needed for analysis\n",
    "pums_cleaned = pums_cleaned[['SOCP','SCHL_RC1', 'SCHL']].reindex()"
   ]
  },
  {
   "cell_type": "code",
   "execution_count": 174,
   "metadata": {},
   "outputs": [
    {
     "data": {
      "text/plain": [
       "False    1020\n",
       "True       63\n",
       "Name: count, dtype: int64"
      ]
     },
     "execution_count": 174,
     "metadata": {},
     "output_type": "execute_result"
    }
   ],
   "source": [
    "pums_cleaned.duplicated().value_counts()"
   ]
  },
  {
   "cell_type": "code",
   "execution_count": null,
   "metadata": {},
   "outputs": [],
   "source": [
    "### ISSUE OCC_CODE (xx-xxxx) and SOCP (xxxxxx) code are in different formats\n",
    "### issue type: consistency\n",
    "## identification type: visual"
   ]
  },
  {
   "cell_type": "markdown",
   "metadata": {
    "jp-MarkdownHeadingCollapsed": true
   },
   "source": [
    "### TODO ###\n",
    "### - Turn SCHL_RC1 into actual\n",
    "#### SCHL_RC1 == 0 => [No high school diploma] => SCHL == [0-15]\n",
    "#### SCHL_RC1 == 1 => [high school diploma] => SCHL == [16-17]\n",
    "#### SCHL_RC1 == 2 => [Completed Some College] => SCHL == [18-19]\n",
    "#### SCHL_RC1 == 3 => [Graduated College] => SCHL == [20-21]\n",
    "#### SCHL_RC1 == 4 => [Completed Advance Degree] => SCHL == [22-24]\n",
    "#### Data Quality issue - completeness address by above?\n",
    "\n",
    "### Dimensions of data quality ###\n",
    "\n",
    "**Completeness** is a metric that helps you understand whether your data is sufficient to answer interesting questions or solve your problem.\n",
    "**Validity** is a metric helping you understand how well your data conforms to a defined set of rules for data, also known as a schema.\n",
    "**Accuracy** is a metric that helps you understand whether your data accurately represents the reality it aims to depict.\n",
    "**Consistency** is a metric that helps you understand two things: whether your data follows a standard format and whether your data’s info matches with information from other data sources.\n",
    "**Uniqueness** is a metric that helps you understand whether there are duplicate or overlapping values in your data.\n",
    "\n",
    "## validity - check that salary is within range and there are no outliers ## std +-1 ) (programmatic) ##\n",
    "## DATA QUALITY check for uniqueness (programmatic assessment) ##\n",
    "\n",
    "### requirements for tidiness: ###\n",
    "Each **variable** forms a column\n",
    "Each **observation** forms a row\n",
    "Each type of **observational unit** forms a table"
   ]
  },
  {
   "cell_type": "markdown",
   "metadata": {
    "id": "QwSWIVmotLgV"
   },
   "source": [
    "## 2. Assess data\n",
    "\n",
    "Assess the data according to data quality and tidiness metrics using the report below.\n",
    "\n",
    "List **two** data quality issues and **two** tidiness issues. Assess each data issue visually **and** programmatically, then briefly describe the issue you find.  **Make sure you include justifications for the methods you use for the assessment.**"
   ]
  },
  {
   "cell_type": "markdown",
   "metadata": {
    "id": "adaK2iPNzVu4"
   },
   "source": [
    "### Quality Issue 1:"
   ]
  },
  {
   "cell_type": "code",
   "execution_count": 225,
   "metadata": {},
   "outputs": [
    {
     "name": "stdout",
     "output_type": "stream",
     "text": [
      "       0       1         2     3      4      5\n",
      "0  PWGTP    SOCP  SCHL_RC1  SCHL   PUMA  STATE\n",
      "1     47       N         3    19  23304     53\n",
      "2     74  537062         3    19  23304     53\n",
      "3     54       N         4    21  23304     53\n",
      "4     18       N         4    21  23304     53\n"
     ]
    }
   ],
   "source": [
    "### header is the first row of data \n",
    "print(pums_data.head(5))"
   ]
  },
  {
   "cell_type": "markdown",
   "metadata": {},
   "source": [
    "Issue and justification: *column header* is the first row of dataset"
   ]
  },
  {
   "cell_type": "markdown",
   "metadata": {
    "id": "8Be77N4I1AmE"
   },
   "source": [
    "### Quality Issue 2:"
   ]
  },
  {
   "cell_type": "code",
   "execution_count": 232,
   "metadata": {
    "id": "-qfcocStzsKg"
   },
   "outputs": [
    {
     "data": {
      "text/html": [
       "<div>\n",
       "<style scoped>\n",
       "    .dataframe tbody tr th:only-of-type {\n",
       "        vertical-align: middle;\n",
       "    }\n",
       "\n",
       "    .dataframe tbody tr th {\n",
       "        vertical-align: top;\n",
       "    }\n",
       "\n",
       "    .dataframe thead th {\n",
       "        text-align: right;\n",
       "    }\n",
       "</style>\n",
       "<table border=\"1\" class=\"dataframe\">\n",
       "  <thead>\n",
       "    <tr style=\"text-align: right;\">\n",
       "      <th></th>\n",
       "      <th>0</th>\n",
       "      <th>1</th>\n",
       "      <th>2</th>\n",
       "      <th>3</th>\n",
       "      <th>4</th>\n",
       "      <th>5</th>\n",
       "    </tr>\n",
       "  </thead>\n",
       "  <tbody>\n",
       "    <tr>\n",
       "      <th>count</th>\n",
       "      <td>1775</td>\n",
       "      <td>1775</td>\n",
       "      <td>1775</td>\n",
       "      <td>1775</td>\n",
       "      <td>1775</td>\n",
       "      <td>1775</td>\n",
       "    </tr>\n",
       "    <tr>\n",
       "      <th>unique</th>\n",
       "      <td>265</td>\n",
       "      <td>219</td>\n",
       "      <td>6</td>\n",
       "      <td>26</td>\n",
       "      <td>2</td>\n",
       "      <td>2</td>\n",
       "    </tr>\n",
       "    <tr>\n",
       "      <th>top</th>\n",
       "      <td>66</td>\n",
       "      <td>N</td>\n",
       "      <td>4</td>\n",
       "      <td>21</td>\n",
       "      <td>23304</td>\n",
       "      <td>53</td>\n",
       "    </tr>\n",
       "    <tr>\n",
       "      <th>freq</th>\n",
       "      <td>40</td>\n",
       "      <td>691</td>\n",
       "      <td>625</td>\n",
       "      <td>552</td>\n",
       "      <td>1774</td>\n",
       "      <td>1774</td>\n",
       "    </tr>\n",
       "  </tbody>\n",
       "</table>\n",
       "</div>"
      ],
      "text/plain": [
       "           0     1     2     3      4     5\n",
       "count   1775  1775  1775  1775   1775  1775\n",
       "unique   265   219     6    26      2     2\n",
       "top       66     N     4    21  23304    53\n",
       "freq      40   691   625   552   1774  1774"
      ]
     },
     "execution_count": 232,
     "metadata": {},
     "output_type": "execute_result"
    }
   ],
   "source": [
    "# Inspecting the dataframe programmatically\n",
    "pums_data.describe()"
   ]
  },
  {
   "cell_type": "markdown",
   "metadata": {},
   "source": [
    "Issue and justification:\n",
    "*SOCP has a value N which is invalid entry in this context and should be removed from the dataset*"
   ]
  },
  {
   "cell_type": "markdown",
   "metadata": {
    "id": "lXhGiYyiwwKN"
   },
   "source": [
    "### Tidiness Issue 1:"
   ]
  },
  {
   "cell_type": "markdown",
   "metadata": {},
   "source": [
    "Issue and justification: *For my analysis, A_MEAN should be a float/int64 and not an object. It also has values '\\*' and '#' which are invalid*\n"
   ]
  },
  {
   "cell_type": "markdown",
   "metadata": {
    "id": "4ffMoRGSwzYj"
   },
   "source": [
    "### Tidiness Issue 2: "
   ]
  },
  {
   "cell_type": "code",
   "execution_count": 325,
   "metadata": {
    "id": "XUpeoqokw5Qt"
   },
   "outputs": [
    {
     "name": "stdout",
     "output_type": "stream",
     "text": [
      "<class 'pandas.core.frame.DataFrame'>\n",
      "RangeIndex: 1775 entries, 0 to 1774\n",
      "Data columns (total 6 columns):\n",
      " #   Column  Non-Null Count  Dtype \n",
      "---  ------  --------------  ----- \n",
      " 0   0       1775 non-null   object\n",
      " 1   1       1775 non-null   object\n",
      " 2   2       1775 non-null   object\n",
      " 3   3       1775 non-null   object\n",
      " 4   4       1775 non-null   object\n",
      " 5   5       1775 non-null   object\n",
      "dtypes: object(6)\n",
      "memory usage: 83.3+ KB\n"
     ]
    }
   ],
   "source": [
    "## Inspecting the dataframe visually\n",
    "pums_data.info()"
   ]
  },
  {
   "cell_type": "code",
   "execution_count": 327,
   "metadata": {
    "id": "c8JK4DoXxtFA"
   },
   "outputs": [
    {
     "data": {
      "text/plain": [
       "0    0\n",
       "1    0\n",
       "2    0\n",
       "3    0\n",
       "4    0\n",
       "5    0\n",
       "dtype: int64"
      ]
     },
     "execution_count": 327,
     "metadata": {},
     "output_type": "execute_result"
    }
   ],
   "source": [
    "#Inspecting the dataframe programmatically\n",
    "pums_data.isnull().sum()"
   ]
  },
  {
   "cell_type": "markdown",
   "metadata": {},
   "source": [
    "Issue and justification: *FILL IN*"
   ]
  },
  {
   "cell_type": "markdown",
   "metadata": {
    "id": "D6gmLnBttpCh"
   },
   "source": [
    "## 3. Clean data\n",
    "Clean the data to solve the 4 issues corresponding to data quality and tidiness found in the assessing step. **Make sure you include justifications for your cleaning decisions.**\n",
    "\n",
    "After the cleaning for each issue, please use **either** the visually or programatical method to validate the cleaning was succesful.\n",
    "\n",
    "At this stage, you are also expected to remove variables that are unnecessary for your analysis and combine your datasets. Depending on your datasets, you may choose to perform variable combination and elimination before or after the cleaning stage. Your dataset must have **at least** 4 variables after combining the data."
   ]
  },
  {
   "cell_type": "markdown",
   "metadata": {
    "id": "FmFhN52Yyn3l"
   },
   "source": [
    "### **Quality Issue 1: FILL IN**"
   ]
  },
  {
   "cell_type": "markdown",
   "metadata": {},
   "source": [
    "Justification: *Fixing the column headers improves that handling when trying to combine the data from the two datasets to use column names instead of numbers*"
   ]
  },
  {
   "cell_type": "markdown",
   "metadata": {
    "id": "n_DAUbJrymBL"
   },
   "source": [
    "### **Quality Issue 2: FILL IN**"
   ]
  },
  {
   "cell_type": "markdown",
   "metadata": {},
   "source": [
    "Justification: *SOCP has a row with value 'N' which is invalid entry in this context and after the analysis if not removed*"
   ]
  },
  {
   "cell_type": "markdown",
   "metadata": {
    "id": "bIUrrfSNyOPR"
   },
   "source": [
    "### **Tidiness Issue 1: FILL IN**"
   ]
  },
  {
   "cell_type": "markdown",
   "metadata": {},
   "source": [
    "Justification: *Replacing this values with np.nan exlcudes them from calculations of mean and sum by default*"
   ]
  },
  {
   "cell_type": "markdown",
   "metadata": {
    "id": "o51Bt8kwyTzk"
   },
   "source": [
    "### **Tidiness Issue 2: FILL IN**"
   ]
  },
  {
   "cell_type": "code",
   "execution_count": null,
   "metadata": {
    "id": "7zW8O5yx4Y9O"
   },
   "outputs": [],
   "source": [
    "#FILL IN - Apply the cleaning strategy"
   ]
  },
  {
   "cell_type": "code",
   "execution_count": null,
   "metadata": {
    "id": "q6I_Sr7lxXi5"
   },
   "outputs": [],
   "source": [
    "#FILL IN - Validate the cleaning was successful"
   ]
  },
  {
   "cell_type": "markdown",
   "metadata": {},
   "source": [
    "Justification: *FILL IN*"
   ]
  },
  {
   "cell_type": "markdown",
   "metadata": {},
   "source": [
    "### **Remove unnecessary variables and combine datasets**\n",
    "\n",
    "Depending on the datasets, you can also peform the combination before the cleaning steps."
   ]
  },
  {
   "cell_type": "code",
   "execution_count": null,
   "metadata": {},
   "outputs": [],
   "source": [
    "#FILL IN - Remove unnecessary variables and combine datasets"
   ]
  },
  {
   "cell_type": "markdown",
   "metadata": {
    "id": "F42urHuzttjF"
   },
   "source": [
    "## 4. Update your data store\n",
    "Update your local database/data store with the cleaned data, following best practices for storing your cleaned data:\n",
    "\n",
    "- Must maintain different instances / versions of data (raw and cleaned data)\n",
    "- Must name the dataset files informatively\n",
    "- Ensure both the raw and cleaned data is saved to your database/data store"
   ]
  },
  {
   "cell_type": "code",
   "execution_count": 154,
   "metadata": {
    "id": "V3uay7EJUV_L"
   },
   "outputs": [],
   "source": [
    "#FILL IN - saving data\n",
    "# merged_df.to_csv('pums_oews_2021_ocp_gender.csv', index=False)"
   ]
  },
  {
   "cell_type": "markdown",
   "metadata": {
    "id": "cGy_yddGtzhM"
   },
   "source": [
    "## 5. Answer the research question\n",
    "\n",
    "### **5.1:** Define and answer the research question \n",
    "Going back to the problem statement in step 1, use the cleaned data to answer the question you raised. Produce **at least** two visualizations using the cleaned data and explain how they help you answer the question."
   ]
  },
  {
   "cell_type": "markdown",
   "metadata": {
    "id": "gjedE4s4ZkEd"
   },
   "source": [
    "*Research question:* FILL IN from answer to Step 1"
   ]
  },
  {
   "cell_type": "code",
   "execution_count": null,
   "metadata": {
    "id": "Lkw3rW9kZmOm"
   },
   "outputs": [],
   "source": [
    "#Visual 1 - FILL IN"
   ]
  },
  {
   "cell_type": "markdown",
   "metadata": {},
   "source": [
    "*Answer to research question:* FILL IN"
   ]
  },
  {
   "cell_type": "code",
   "execution_count": null,
   "metadata": {
    "id": "6fdK_8ZGZm9R"
   },
   "outputs": [],
   "source": [
    "#Visual 2 - FILL IN"
   ]
  },
  {
   "cell_type": "markdown",
   "metadata": {
    "id": "K5RgvMGUZoHn"
   },
   "source": [
    "*Answer to research question:* FILL IN"
   ]
  },
  {
   "cell_type": "markdown",
   "metadata": {
    "id": "0ezWXXZVj-TP"
   },
   "source": [
    "### **5.2:** Reflection\n",
    "In 2-4 sentences, if you had more time to complete the project, what actions would you take? For example, which data quality and structural issues would you look into further, and what research questions would you further explore?"
   ]
  },
  {
   "cell_type": "markdown",
   "metadata": {
    "id": "XB3RBDG5kFe1"
   },
   "source": [
    "*Answer:* FILL IN"
   ]
  }
 ],
 "metadata": {
  "colab": {
   "provenance": []
  },
  "kernelspec": {
   "display_name": "Python 3 (ipykernel)",
   "language": "python",
   "name": "python3"
  },
  "language_info": {
   "codemirror_mode": {
    "name": "ipython",
    "version": 3
   },
   "file_extension": ".py",
   "mimetype": "text/x-python",
   "name": "python",
   "nbconvert_exporter": "python",
   "pygments_lexer": "ipython3",
   "version": "3.12.4"
  }
 },
 "nbformat": 4,
 "nbformat_minor": 4
}
