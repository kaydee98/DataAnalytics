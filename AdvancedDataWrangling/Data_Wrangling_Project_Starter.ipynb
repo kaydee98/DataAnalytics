{
 "cells": [
  {
   "cell_type": "markdown",
   "metadata": {
    "id": "GNIwe5N7s0e_"
   },
   "source": [
    "# Real-world Data Wrangling"
   ]
  },
  {
   "cell_type": "code",
   "execution_count": 397,
   "metadata": {},
   "outputs": [],
   "source": [
    "# !python -m pip install kaggle==1.6.12"
   ]
  },
  {
   "cell_type": "code",
   "execution_count": 398,
   "metadata": {},
   "outputs": [],
   "source": [
    "## !pip install --target=/workspace ucimlrepo numpy==1.24.3"
   ]
  },
  {
   "cell_type": "markdown",
   "metadata": {},
   "source": [
    "**Note:** Restart the kernel to use updated package(s)."
   ]
  },
  {
   "cell_type": "code",
   "execution_count": 400,
   "metadata": {},
   "outputs": [],
   "source": [
    "import pandas as pd\n",
    "import numpy as np\n",
    "import requests"
   ]
  },
  {
   "cell_type": "markdown",
   "metadata": {
    "id": "lDYDkH-Zs7Nn"
   },
   "source": [
    "## 1. Gather data"
   ]
  },
  {
   "cell_type": "markdown",
   "metadata": {
    "id": "LbN7z7rcuqpO"
   },
   "source": [
    "### **1.1.** Problem Statement\n",
    "In this project, we will investigate the educational attainment levels among individuals employed in computer-related occupations in King County, Washington, by gathering, cleaning, and analyzing relevant data to identify trends, distributions, and potential correlations within the local workforce"
   ]
  },
  {
   "cell_type": "markdown",
   "metadata": {
    "id": "8AQfBAdUypMm"
   },
   "source": [
    "### **1.2.** Gather at least two datasets using two different data gathering methods"
   ]
  },
  {
   "cell_type": "markdown",
   "metadata": {
    "id": "7e6gS0wL1KTu"
   },
   "source": [
    "#### **Dataset 1**\n",
    "\n",
    "Type: XLS file\n",
    "\n",
    "Method: The data was gathered using the \"Downloading files\" method from U.S Bureau of Labor Statistics (Occupational Employment and Wage Statistics tables)\n",
    "\n",
    "Dataset variables:\n",
    "\n",
    "*   *AREA:* Area code\n",
    "*   *AREA_TITLE:* Title of the metropolitan area\n",
    "*   *OCC_CODE:* Occupational Code\n",
    "*   *OCC_TITLE:* Occupational Title\n",
    "*   *A_MEAN:* Mean Annual Wage"
   ]
  },
  {
   "cell_type": "code",
   "execution_count": 405,
   "metadata": {
    "id": "Su8E0uLuYkHU"
   },
   "outputs": [],
   "source": [
    "## Load OEW Dataset to access king county/seattle-tacoma area dataset\n",
    "oew_data = pd.read_excel('MSA_M2023_dl.xlsx')"
   ]
  },
  {
   "cell_type": "markdown",
   "metadata": {},
   "source": [
    "## TODO\n",
    "## rename MSA_M2023_dl.xlsx to 'oew_research_2023.xlsx'"
   ]
  },
  {
   "cell_type": "code",
   "execution_count": 407,
   "metadata": {
    "scrolled": true
   },
   "outputs": [
    {
     "data": {
      "text/html": [
       "<div>\n",
       "<style scoped>\n",
       "    .dataframe tbody tr th:only-of-type {\n",
       "        vertical-align: middle;\n",
       "    }\n",
       "\n",
       "    .dataframe tbody tr th {\n",
       "        vertical-align: top;\n",
       "    }\n",
       "\n",
       "    .dataframe thead th {\n",
       "        text-align: right;\n",
       "    }\n",
       "</style>\n",
       "<table border=\"1\" class=\"dataframe\">\n",
       "  <thead>\n",
       "    <tr style=\"text-align: right;\">\n",
       "      <th></th>\n",
       "      <th>AREA</th>\n",
       "      <th>AREA_TITLE</th>\n",
       "      <th>AREA_TYPE</th>\n",
       "      <th>PRIM_STATE</th>\n",
       "      <th>NAICS</th>\n",
       "      <th>NAICS_TITLE</th>\n",
       "      <th>I_GROUP</th>\n",
       "      <th>OWN_CODE</th>\n",
       "      <th>OCC_CODE</th>\n",
       "      <th>OCC_TITLE</th>\n",
       "      <th>...</th>\n",
       "      <th>H_MEDIAN</th>\n",
       "      <th>H_PCT75</th>\n",
       "      <th>H_PCT90</th>\n",
       "      <th>A_PCT10</th>\n",
       "      <th>A_PCT25</th>\n",
       "      <th>A_MEDIAN</th>\n",
       "      <th>A_PCT75</th>\n",
       "      <th>A_PCT90</th>\n",
       "      <th>ANNUAL</th>\n",
       "      <th>HOURLY</th>\n",
       "    </tr>\n",
       "  </thead>\n",
       "  <tbody>\n",
       "    <tr>\n",
       "      <th>0</th>\n",
       "      <td>10180</td>\n",
       "      <td>Abilene, TX</td>\n",
       "      <td>4</td>\n",
       "      <td>TX</td>\n",
       "      <td>0</td>\n",
       "      <td>Cross-industry</td>\n",
       "      <td>cross-industry</td>\n",
       "      <td>1235</td>\n",
       "      <td>00-0000</td>\n",
       "      <td>All Occupations</td>\n",
       "      <td>...</td>\n",
       "      <td>18.6</td>\n",
       "      <td>28.03</td>\n",
       "      <td>40.08</td>\n",
       "      <td>22750</td>\n",
       "      <td>28710</td>\n",
       "      <td>38680</td>\n",
       "      <td>58310</td>\n",
       "      <td>83360</td>\n",
       "      <td>NaN</td>\n",
       "      <td>NaN</td>\n",
       "    </tr>\n",
       "    <tr>\n",
       "      <th>1</th>\n",
       "      <td>10180</td>\n",
       "      <td>Abilene, TX</td>\n",
       "      <td>4</td>\n",
       "      <td>TX</td>\n",
       "      <td>0</td>\n",
       "      <td>Cross-industry</td>\n",
       "      <td>cross-industry</td>\n",
       "      <td>1235</td>\n",
       "      <td>11-0000</td>\n",
       "      <td>Management Occupations</td>\n",
       "      <td>...</td>\n",
       "      <td>39.09</td>\n",
       "      <td>58.27</td>\n",
       "      <td>81.79</td>\n",
       "      <td>42080</td>\n",
       "      <td>59290</td>\n",
       "      <td>81310</td>\n",
       "      <td>121200</td>\n",
       "      <td>170130</td>\n",
       "      <td>NaN</td>\n",
       "      <td>NaN</td>\n",
       "    </tr>\n",
       "    <tr>\n",
       "      <th>2</th>\n",
       "      <td>10180</td>\n",
       "      <td>Abilene, TX</td>\n",
       "      <td>4</td>\n",
       "      <td>TX</td>\n",
       "      <td>0</td>\n",
       "      <td>Cross-industry</td>\n",
       "      <td>cross-industry</td>\n",
       "      <td>1235</td>\n",
       "      <td>11-1011</td>\n",
       "      <td>Chief Executives</td>\n",
       "      <td>...</td>\n",
       "      <td>97.28</td>\n",
       "      <td>#</td>\n",
       "      <td>#</td>\n",
       "      <td>98490</td>\n",
       "      <td>135280</td>\n",
       "      <td>202340</td>\n",
       "      <td>#</td>\n",
       "      <td>#</td>\n",
       "      <td>NaN</td>\n",
       "      <td>NaN</td>\n",
       "    </tr>\n",
       "    <tr>\n",
       "      <th>3</th>\n",
       "      <td>10180</td>\n",
       "      <td>Abilene, TX</td>\n",
       "      <td>4</td>\n",
       "      <td>TX</td>\n",
       "      <td>0</td>\n",
       "      <td>Cross-industry</td>\n",
       "      <td>cross-industry</td>\n",
       "      <td>1235</td>\n",
       "      <td>11-1021</td>\n",
       "      <td>General and Operations Managers</td>\n",
       "      <td>...</td>\n",
       "      <td>37.19</td>\n",
       "      <td>57.85</td>\n",
       "      <td>86.97</td>\n",
       "      <td>34440</td>\n",
       "      <td>49430</td>\n",
       "      <td>77360</td>\n",
       "      <td>120330</td>\n",
       "      <td>180900</td>\n",
       "      <td>NaN</td>\n",
       "      <td>NaN</td>\n",
       "    </tr>\n",
       "    <tr>\n",
       "      <th>4</th>\n",
       "      <td>10180</td>\n",
       "      <td>Abilene, TX</td>\n",
       "      <td>4</td>\n",
       "      <td>TX</td>\n",
       "      <td>0</td>\n",
       "      <td>Cross-industry</td>\n",
       "      <td>cross-industry</td>\n",
       "      <td>1235</td>\n",
       "      <td>11-2021</td>\n",
       "      <td>Marketing Managers</td>\n",
       "      <td>...</td>\n",
       "      <td>45.31</td>\n",
       "      <td>72.66</td>\n",
       "      <td>97.35</td>\n",
       "      <td>60130</td>\n",
       "      <td>74980</td>\n",
       "      <td>94240</td>\n",
       "      <td>151130</td>\n",
       "      <td>202490</td>\n",
       "      <td>NaN</td>\n",
       "      <td>NaN</td>\n",
       "    </tr>\n",
       "  </tbody>\n",
       "</table>\n",
       "<p>5 rows × 32 columns</p>\n",
       "</div>"
      ],
      "text/plain": [
       "    AREA   AREA_TITLE  AREA_TYPE PRIM_STATE  NAICS     NAICS_TITLE  \\\n",
       "0  10180  Abilene, TX          4         TX      0  Cross-industry   \n",
       "1  10180  Abilene, TX          4         TX      0  Cross-industry   \n",
       "2  10180  Abilene, TX          4         TX      0  Cross-industry   \n",
       "3  10180  Abilene, TX          4         TX      0  Cross-industry   \n",
       "4  10180  Abilene, TX          4         TX      0  Cross-industry   \n",
       "\n",
       "          I_GROUP  OWN_CODE OCC_CODE                        OCC_TITLE  ...  \\\n",
       "0  cross-industry      1235  00-0000                  All Occupations  ...   \n",
       "1  cross-industry      1235  11-0000           Management Occupations  ...   \n",
       "2  cross-industry      1235  11-1011                 Chief Executives  ...   \n",
       "3  cross-industry      1235  11-1021  General and Operations Managers  ...   \n",
       "4  cross-industry      1235  11-2021               Marketing Managers  ...   \n",
       "\n",
       "  H_MEDIAN H_PCT75 H_PCT90 A_PCT10 A_PCT25  A_MEDIAN  A_PCT75 A_PCT90 ANNUAL  \\\n",
       "0     18.6   28.03   40.08   22750   28710     38680    58310   83360    NaN   \n",
       "1    39.09   58.27   81.79   42080   59290     81310   121200  170130    NaN   \n",
       "2    97.28       #       #   98490  135280    202340        #       #    NaN   \n",
       "3    37.19   57.85   86.97   34440   49430     77360   120330  180900    NaN   \n",
       "4    45.31   72.66   97.35   60130   74980     94240   151130  202490    NaN   \n",
       "\n",
       "  HOURLY  \n",
       "0    NaN  \n",
       "1    NaN  \n",
       "2    NaN  \n",
       "3    NaN  \n",
       "4    NaN  \n",
       "\n",
       "[5 rows x 32 columns]"
      ]
     },
     "execution_count": 407,
     "metadata": {},
     "output_type": "execute_result"
    }
   ],
   "source": [
    "## Check the datasets' first 5 rows\n",
    "oew_data.head(5)"
   ]
  },
  {
   "cell_type": "markdown",
   "metadata": {
    "id": "hoUjq1tPzz7P"
   },
   "source": [
    "#### Dataset 2\n",
    "\n",
    "Type: API\n",
    "\n",
    "Method: The data was gathered using the \"API\" method from the United States Census Bureau Public Use Microdata Sample site\n",
    "\n",
    "Dataset variables:\n",
    "\n",
    "*   *SOCP:* Standard Occupational Classification (SOC) codes for 2018 and later based oin 2018 SOC codes\n",
    "*   *SCHL:* Educational Attainment\n",
    "*   *SCHL_RC1:* Educational Attainment recode "
   ]
  },
  {
   "cell_type": "code",
   "execution_count": 409,
   "metadata": {
    "id": "6zT0QxRyYmm7"
   },
   "outputs": [],
   "source": [
    "## Access PUMS API for census information for king county/seattle-tacoma dataset\n",
    "url = 'https://api.census.gov/data/2023/acs/acs1/pums?get=PWGTP,SOCP,SCHL_RC1,SCHL&ucgid=795P200US5323304&recode+SCHL_RC1=%7B%22b%22:%22SCHL%22,%22d%22:%5B%5B%220%22,%2201%22,%2202%22,%2203%22,%2204%22,%2205%22,%2206%22,%2207%22,%2208%22,%2209%22,%2210%22,%2211%22,%2212%22,%2213%22,%2214%22,%2215%22%5D,%5B%2216%22,%2217%22%5D,%5B%2218%22,%2219%22%5D,%5B%2220%22,%2221%22%5D,%5B%2222%22,%2223%22,%2224%22%5D%5D%7D'\n",
    "pums_response = requests.get(url)\n",
    "pums_response.raise_for_status()\n",
    "\n",
    "## Get the json\n",
    "pums_response_data = pums_response.json()\n",
    "\n",
    "## Create dataframe from json\n",
    "pums_data = pd.DataFrame(pums_response_data)"
   ]
  },
  {
   "cell_type": "code",
   "execution_count": 410,
   "metadata": {},
   "outputs": [
    {
     "name": "stdout",
     "output_type": "stream",
     "text": [
      "       0       1         2     3      4      5\n",
      "0  PWGTP    SOCP  SCHL_RC1  SCHL   PUMA  STATE\n",
      "1     47       N         3    19  23304     53\n",
      "2     74  537062         3    19  23304     53\n",
      "3     54       N         4    21  23304     53\n",
      "4     18       N         4    21  23304     53\n"
     ]
    }
   ],
   "source": [
    "## Check the data returns\n",
    "print(pums_data.head(5))"
   ]
  },
  {
   "cell_type": "markdown",
   "metadata": {},
   "source": [
    "## Assess Dataset 1 - OEW ##"
   ]
  },
  {
   "cell_type": "markdown",
   "metadata": {},
   "source": [
    "#### Framework for completion ###\n",
    "- 1. Issue Assessment\n",
    "- -- State issue\n",
    "- -- Identify issue: identification technique (visually or programmatically)\n",
    "- -- Issue type (Data quality or Tidiness)\n",
    "- -- Provide justification for issue\n",
    "- 2. Clean Issue\n",
    "- -- Cleaning strategy: \n",
    "- -- cleaning verification"
   ]
  },
  {
   "cell_type": "code",
   "execution_count": 413,
   "metadata": {},
   "outputs": [],
   "source": [
    "## Make copy of dataset before assessment and cleaning\n",
    "oew_data_copy = oew_data.copy()"
   ]
  },
  {
   "cell_type": "code",
   "execution_count": 414,
   "metadata": {},
   "outputs": [
    {
     "name": "stdout",
     "output_type": "stream",
     "text": [
      "<class 'pandas.core.frame.DataFrame'>\n",
      "RangeIndex: 149591 entries, 0 to 149590\n",
      "Data columns (total 32 columns):\n",
      " #   Column        Non-Null Count   Dtype  \n",
      "---  ------        --------------   -----  \n",
      " 0   AREA          149591 non-null  int64  \n",
      " 1   AREA_TITLE    149591 non-null  object \n",
      " 2   AREA_TYPE     149591 non-null  int64  \n",
      " 3   PRIM_STATE    149591 non-null  object \n",
      " 4   NAICS         149591 non-null  int64  \n",
      " 5   NAICS_TITLE   149591 non-null  object \n",
      " 6   I_GROUP       149591 non-null  object \n",
      " 7   OWN_CODE      149591 non-null  int64  \n",
      " 8   OCC_CODE      149591 non-null  object \n",
      " 9   OCC_TITLE     149591 non-null  object \n",
      " 10  O_GROUP       149591 non-null  object \n",
      " 11  TOT_EMP       149591 non-null  object \n",
      " 12  EMP_PRSE      149591 non-null  object \n",
      " 13  JOBS_1000     149591 non-null  object \n",
      " 14  LOC_QUOTIENT  149591 non-null  object \n",
      " 15  PCT_TOTAL     0 non-null       float64\n",
      " 16  PCT_RPT       0 non-null       float64\n",
      " 17  H_MEAN        149591 non-null  object \n",
      " 18  A_MEAN        149591 non-null  object \n",
      " 19  MEAN_PRSE     149591 non-null  object \n",
      " 20  H_PCT10       149591 non-null  object \n",
      " 21  H_PCT25       149591 non-null  object \n",
      " 22  H_MEDIAN      149591 non-null  object \n",
      " 23  H_PCT75       149591 non-null  object \n",
      " 24  H_PCT90       149591 non-null  object \n",
      " 25  A_PCT10       149591 non-null  object \n",
      " 26  A_PCT25       149591 non-null  object \n",
      " 27  A_MEDIAN      149591 non-null  object \n",
      " 28  A_PCT75       149591 non-null  object \n",
      " 29  A_PCT90       149591 non-null  object \n",
      " 30  ANNUAL        7912 non-null    object \n",
      " 31  HOURLY        228 non-null     object \n",
      "dtypes: float64(2), int64(4), object(26)\n",
      "memory usage: 36.5+ MB\n"
     ]
    }
   ],
   "source": [
    "## visual assessments\n",
    "oew_data_copy.info()"
   ]
  },
  {
   "cell_type": "markdown",
   "metadata": {
    "jp-MarkdownHeadingCollapsed": true
   },
   "source": [
    "#### AD1 - Issues List -  ####\n",
    "**Issue #1** column not needed for analysis\n",
    "Issue Assessment\n",
    "-- State issue: Dataset has columns not need for analysis, reduce footprint to only needed columns\n",
    "-- identification technique: visually\n",
    "-- Issue type: Tidiness\n",
    "-- Provide justification for issue"
   ]
  },
  {
   "cell_type": "markdown",
   "metadata": {},
   "source": [
    "#### AD1 - Issues  -  ####\n",
    "**Issue #1** column not needed for analysis\n",
    "Clean Issue\n",
    "-- Cleaning strategy: select only needed columns\n",
    "-- cleaning verification: .info() to verify columns"
   ]
  },
  {
   "cell_type": "code",
   "execution_count": 417,
   "metadata": {},
   "outputs": [],
   "source": [
    "# Create subset of dataset needed for analysis\n",
    "oew_cleaned = oew_data_copy[['AREA', 'OCC_CODE', 'OCC_TITLE', 'A_MEAN']].reindex()"
   ]
  },
  {
   "cell_type": "code",
   "execution_count": 418,
   "metadata": {
    "id": "SpW59kh-zl8d",
    "scrolled": true
   },
   "outputs": [
    {
     "name": "stdout",
     "output_type": "stream",
     "text": [
      "<class 'pandas.core.frame.DataFrame'>\n",
      "RangeIndex: 149591 entries, 0 to 149590\n",
      "Data columns (total 4 columns):\n",
      " #   Column     Non-Null Count   Dtype \n",
      "---  ------     --------------   ----- \n",
      " 0   AREA       149591 non-null  int64 \n",
      " 1   OCC_CODE   149591 non-null  object\n",
      " 2   OCC_TITLE  149591 non-null  object\n",
      " 3   A_MEAN     149591 non-null  object\n",
      "dtypes: int64(1), object(3)\n",
      "memory usage: 4.6+ MB\n"
     ]
    }
   ],
   "source": [
    "# Inspecting the dataframe visually\n",
    "oew_cleaned.info()"
   ]
  },
  {
   "cell_type": "markdown",
   "metadata": {},
   "source": [
    "#### AD1 - Issues List -  ####\n",
    "issue: A_MEAN is object instead of float\n",
    "justification: calculations/graphs with columns require conversion"
   ]
  },
  {
   "cell_type": "code",
   "execution_count": 420,
   "metadata": {},
   "outputs": [
    {
     "data": {
      "text/html": [
       "<div>\n",
       "<style scoped>\n",
       "    .dataframe tbody tr th:only-of-type {\n",
       "        vertical-align: middle;\n",
       "    }\n",
       "\n",
       "    .dataframe tbody tr th {\n",
       "        vertical-align: top;\n",
       "    }\n",
       "\n",
       "    .dataframe thead th {\n",
       "        text-align: right;\n",
       "    }\n",
       "</style>\n",
       "<table border=\"1\" class=\"dataframe\">\n",
       "  <thead>\n",
       "    <tr style=\"text-align: right;\">\n",
       "      <th></th>\n",
       "      <th>AREA</th>\n",
       "      <th>OCC_CODE</th>\n",
       "      <th>OCC_TITLE</th>\n",
       "      <th>A_MEAN</th>\n",
       "    </tr>\n",
       "  </thead>\n",
       "  <tbody>\n",
       "    <tr>\n",
       "      <th>107143</th>\n",
       "      <td>40420</td>\n",
       "      <td>21-0000</td>\n",
       "      <td>Community and Social Service Occupations</td>\n",
       "      <td>54260</td>\n",
       "    </tr>\n",
       "    <tr>\n",
       "      <th>66204</th>\n",
       "      <td>28940</td>\n",
       "      <td>29-1011</td>\n",
       "      <td>Chiropractors</td>\n",
       "      <td>60240</td>\n",
       "    </tr>\n",
       "    <tr>\n",
       "      <th>142126</th>\n",
       "      <td>71650</td>\n",
       "      <td>29-1123</td>\n",
       "      <td>Physical Therapists</td>\n",
       "      <td>100700</td>\n",
       "    </tr>\n",
       "    <tr>\n",
       "      <th>99704</th>\n",
       "      <td>38900</td>\n",
       "      <td>23-2011</td>\n",
       "      <td>Paralegals and Legal Assistants</td>\n",
       "      <td>73220</td>\n",
       "    </tr>\n",
       "    <tr>\n",
       "      <th>36974</th>\n",
       "      <td>20020</td>\n",
       "      <td>43-2011</td>\n",
       "      <td>Switchboard Operators, Including Answering Ser...</td>\n",
       "      <td>28740</td>\n",
       "    </tr>\n",
       "    <tr>\n",
       "      <th>119458</th>\n",
       "      <td>42660</td>\n",
       "      <td>49-2011</td>\n",
       "      <td>Computer, Automated Teller, and Office Machine...</td>\n",
       "      <td>50290</td>\n",
       "    </tr>\n",
       "    <tr>\n",
       "      <th>149315</th>\n",
       "      <td>79600</td>\n",
       "      <td>29-1213</td>\n",
       "      <td>Dermatologists</td>\n",
       "      <td>333800</td>\n",
       "    </tr>\n",
       "    <tr>\n",
       "      <th>136695</th>\n",
       "      <td>48260</td>\n",
       "      <td>37-1011</td>\n",
       "      <td>First-Line Supervisors of Housekeeping and Jan...</td>\n",
       "      <td>39320</td>\n",
       "    </tr>\n",
       "    <tr>\n",
       "      <th>5817</th>\n",
       "      <td>11540</td>\n",
       "      <td>51-9011</td>\n",
       "      <td>Chemical Equipment Operators and Tenders</td>\n",
       "      <td>51610</td>\n",
       "    </tr>\n",
       "    <tr>\n",
       "      <th>127375</th>\n",
       "      <td>45500</td>\n",
       "      <td>29-2034</td>\n",
       "      <td>Radiologic Technologists and Technicians</td>\n",
       "      <td>65200</td>\n",
       "    </tr>\n",
       "    <tr>\n",
       "      <th>66263</th>\n",
       "      <td>28940</td>\n",
       "      <td>31-9097</td>\n",
       "      <td>Phlebotomists</td>\n",
       "      <td>35130</td>\n",
       "    </tr>\n",
       "    <tr>\n",
       "      <th>117864</th>\n",
       "      <td>42220</td>\n",
       "      <td>43-5031</td>\n",
       "      <td>Public Safety Telecommunicators</td>\n",
       "      <td>76430</td>\n",
       "    </tr>\n",
       "    <tr>\n",
       "      <th>1020</th>\n",
       "      <td>10420</td>\n",
       "      <td>53-7064</td>\n",
       "      <td>Packers and Packagers, Hand</td>\n",
       "      <td>33240</td>\n",
       "    </tr>\n",
       "    <tr>\n",
       "      <th>98884</th>\n",
       "      <td>38300</td>\n",
       "      <td>43-5051</td>\n",
       "      <td>Postal Service Clerks</td>\n",
       "      <td>57260</td>\n",
       "    </tr>\n",
       "    <tr>\n",
       "      <th>30646</th>\n",
       "      <td>18580</td>\n",
       "      <td>43-9061</td>\n",
       "      <td>Office Clerks, General</td>\n",
       "      <td>38340</td>\n",
       "    </tr>\n",
       "    <tr>\n",
       "      <th>117626</th>\n",
       "      <td>42220</td>\n",
       "      <td>17-2141</td>\n",
       "      <td>Mechanical Engineers</td>\n",
       "      <td>112500</td>\n",
       "    </tr>\n",
       "    <tr>\n",
       "      <th>81339</th>\n",
       "      <td>33220</td>\n",
       "      <td>49-3031</td>\n",
       "      <td>Bus and Truck Mechanics and Diesel Engine Spec...</td>\n",
       "      <td>57020</td>\n",
       "    </tr>\n",
       "    <tr>\n",
       "      <th>20079</th>\n",
       "      <td>16180</td>\n",
       "      <td>21-0000</td>\n",
       "      <td>Community and Social Service Occupations</td>\n",
       "      <td>63210</td>\n",
       "    </tr>\n",
       "    <tr>\n",
       "      <th>36947</th>\n",
       "      <td>20020</td>\n",
       "      <td>39-0000</td>\n",
       "      <td>Personal Care and Service Occupations</td>\n",
       "      <td>28060</td>\n",
       "    </tr>\n",
       "    <tr>\n",
       "      <th>5759</th>\n",
       "      <td>11540</td>\n",
       "      <td>47-2073</td>\n",
       "      <td>Operating Engineers and Other Construction Equ...</td>\n",
       "      <td>71320</td>\n",
       "    </tr>\n",
       "  </tbody>\n",
       "</table>\n",
       "</div>"
      ],
      "text/plain": [
       "         AREA OCC_CODE                                          OCC_TITLE  \\\n",
       "107143  40420  21-0000           Community and Social Service Occupations   \n",
       "66204   28940  29-1011                                      Chiropractors   \n",
       "142126  71650  29-1123                                Physical Therapists   \n",
       "99704   38900  23-2011                    Paralegals and Legal Assistants   \n",
       "36974   20020  43-2011  Switchboard Operators, Including Answering Ser...   \n",
       "119458  42660  49-2011  Computer, Automated Teller, and Office Machine...   \n",
       "149315  79600  29-1213                                     Dermatologists   \n",
       "136695  48260  37-1011  First-Line Supervisors of Housekeeping and Jan...   \n",
       "5817    11540  51-9011           Chemical Equipment Operators and Tenders   \n",
       "127375  45500  29-2034           Radiologic Technologists and Technicians   \n",
       "66263   28940  31-9097                                      Phlebotomists   \n",
       "117864  42220  43-5031                    Public Safety Telecommunicators   \n",
       "1020    10420  53-7064                        Packers and Packagers, Hand   \n",
       "98884   38300  43-5051                              Postal Service Clerks   \n",
       "30646   18580  43-9061                             Office Clerks, General   \n",
       "117626  42220  17-2141                               Mechanical Engineers   \n",
       "81339   33220  49-3031  Bus and Truck Mechanics and Diesel Engine Spec...   \n",
       "20079   16180  21-0000           Community and Social Service Occupations   \n",
       "36947   20020  39-0000              Personal Care and Service Occupations   \n",
       "5759    11540  47-2073  Operating Engineers and Other Construction Equ...   \n",
       "\n",
       "        A_MEAN  \n",
       "107143   54260  \n",
       "66204    60240  \n",
       "142126  100700  \n",
       "99704    73220  \n",
       "36974    28740  \n",
       "119458   50290  \n",
       "149315  333800  \n",
       "136695   39320  \n",
       "5817     51610  \n",
       "127375   65200  \n",
       "66263    35130  \n",
       "117864   76430  \n",
       "1020     33240  \n",
       "98884    57260  \n",
       "30646    38340  \n",
       "117626  112500  \n",
       "81339    57020  \n",
       "20079    63210  \n",
       "36947    28060  \n",
       "5759     71320  "
      ]
     },
     "execution_count": 420,
     "metadata": {},
     "output_type": "execute_result"
    }
   ],
   "source": [
    "## check sample data in columns (visual assessment)\n",
    "oew_cleaned.sample(20)"
   ]
  },
  {
   "cell_type": "markdown",
   "metadata": {},
   "source": [
    "#### AD1 - Issues List -  ####\n",
    "- issue: A_MEAN has value '*'\n",
    "- "
   ]
  },
  {
   "cell_type": "code",
   "execution_count": 422,
   "metadata": {},
   "outputs": [
    {
     "data": {
      "text/plain": [
       "A_MEAN\n",
       "*         1487\n",
       "#          144\n",
       "54330       50\n",
       "46110       48\n",
       "40820       47\n",
       "          ... \n",
       "207260       1\n",
       "238120       1\n",
       "193040       1\n",
       "161570       1\n",
       "295110       1\n",
       "Name: count, Length: 15760, dtype: int64"
      ]
     },
     "execution_count": 422,
     "metadata": {},
     "output_type": "execute_result"
    }
   ],
   "source": [
    "## issue identification: Programmatic\n",
    "## issue type: validity/quality\n",
    "## issue: In addition to '*' there was a \"#\" value in the columns. This are invalid since this column represents a float value\n",
    "oew_cleaned['A_MEAN'].value_counts()"
   ]
  },
  {
   "cell_type": "code",
   "execution_count": 423,
   "metadata": {},
   "outputs": [
    {
     "data": {
      "text/plain": [
       "0          49780.0\n",
       "1         100690.0\n",
       "2         240020.0\n",
       "3          98480.0\n",
       "4         116290.0\n",
       "            ...   \n",
       "149586     44550.0\n",
       "149587     45740.0\n",
       "149588     35630.0\n",
       "149589     38900.0\n",
       "149590     52670.0\n",
       "Name: A_MEAN, Length: 149591, dtype: float64"
      ]
     },
     "execution_count": 423,
     "metadata": {},
     "output_type": "execute_result"
    }
   ],
   "source": [
    "## Cleaning strategy: Replace '*' & '#' with np.nan and convert column to float\n",
    "## justification: allows for pandas function to handle missing values consistently\n",
    "pd.set_option('future.no_silent_downcasting', True)\n",
    "\n",
    "oew_cleaned['A_MEAN'] = oew_cleaned['A_MEAN'].replace(['*','#'], [np.nan, np.nan])\n",
    "oew_cleaned['A_MEAN'].astype(float)"
   ]
  },
  {
   "cell_type": "code",
   "execution_count": 424,
   "metadata": {},
   "outputs": [
    {
     "data": {
      "text/plain": [
       "1631"
      ]
     },
     "execution_count": 424,
     "metadata": {},
     "output_type": "execute_result"
    }
   ],
   "source": [
    "## cleaning verification\n",
    "oew_cleaned.isnull().sum().sum()"
   ]
  },
  {
   "cell_type": "code",
   "execution_count": 425,
   "metadata": {},
   "outputs": [
    {
     "data": {
      "text/plain": [
       "AREA   OCC_CODE  OCC_TITLE                                                      A_MEAN\n",
       "42660  00-0000   All Occupations                                                86520     1\n",
       "       43-9051   Mail Clerks and Mail Machine Operators, Except Postal Service  45490     1\n",
       "       43-4199   Information and Record Clerks, All Other                       53630     1\n",
       "       43-5011   Cargo and Freight Agents                                       56020     1\n",
       "       43-5021   Couriers and Messengers                                        46830     1\n",
       "                                                                                         ..\n",
       "       25-4022   Librarians and Media Collections Specialists                   99360     1\n",
       "       25-4031   Library Technicians                                            62270     1\n",
       "       25-9031   Instructional Coordinators                                     89850     1\n",
       "       25-9044   Teaching Assistants, Postsecondary                             51030     1\n",
       "       53-7199   Material Moving Workers, All Other                             60720     1\n",
       "Name: count, Length: 715, dtype: int64"
      ]
     },
     "execution_count": 425,
     "metadata": {},
     "output_type": "execute_result"
    }
   ],
   "source": [
    "## Issue: We are only interested in analyzing Seattle-Tacoma-Washington data only\n",
    "## Issue type: Tidyness\n",
    "## Indentification: programmatic\n",
    "## count for seattle code is 715 vs ~150k entries in dataset\n",
    "seattle_area = 42660\n",
    "oew_cleaned[oew_cleaned['AREA'] == seattle_area].value_counts()"
   ]
  },
  {
   "cell_type": "code",
   "execution_count": 426,
   "metadata": {},
   "outputs": [],
   "source": [
    "## Cleaning strategy: Filter out rows not relevant to analysis\n",
    "## justification: reducing dataset size\n",
    "seattle_area = 42660\n",
    "oew_cleaned = oew_cleaned[oew_cleaned['AREA'] == seattle_area]"
   ]
  },
  {
   "cell_type": "code",
   "execution_count": 427,
   "metadata": {},
   "outputs": [
    {
     "data": {
      "text/plain": [
       "1"
      ]
     },
     "execution_count": 427,
     "metadata": {},
     "output_type": "execute_result"
    }
   ],
   "source": [
    "## Cleaning verification\n",
    "oew_cleaned['AREA'].nunique()\n",
    "## I can probably drop this column now. it is repeated for all columns and add no value to the analysis"
   ]
  },
  {
   "cell_type": "code",
   "execution_count": 428,
   "metadata": {},
   "outputs": [
    {
     "data": {
      "text/html": [
       "<div>\n",
       "<style scoped>\n",
       "    .dataframe tbody tr th:only-of-type {\n",
       "        vertical-align: middle;\n",
       "    }\n",
       "\n",
       "    .dataframe tbody tr th {\n",
       "        vertical-align: top;\n",
       "    }\n",
       "\n",
       "    .dataframe thead th {\n",
       "        text-align: right;\n",
       "    }\n",
       "</style>\n",
       "<table border=\"1\" class=\"dataframe\">\n",
       "  <thead>\n",
       "    <tr style=\"text-align: right;\">\n",
       "      <th></th>\n",
       "      <th>AREA</th>\n",
       "      <th>OCC_CODE</th>\n",
       "      <th>OCC_TITLE</th>\n",
       "      <th>A_MEAN</th>\n",
       "    </tr>\n",
       "  </thead>\n",
       "  <tbody>\n",
       "    <tr>\n",
       "      <th>119015</th>\n",
       "      <td>42660</td>\n",
       "      <td>17-3028</td>\n",
       "      <td>Calibration Technologists and Technicians</td>\n",
       "      <td>85750</td>\n",
       "    </tr>\n",
       "    <tr>\n",
       "      <th>119386</th>\n",
       "      <td>42660</td>\n",
       "      <td>43-5051</td>\n",
       "      <td>Postal Service Clerks</td>\n",
       "      <td>60750</td>\n",
       "    </tr>\n",
       "    <tr>\n",
       "      <th>119454</th>\n",
       "      <td>42660</td>\n",
       "      <td>47-5022</td>\n",
       "      <td>Excavating and Loading Machine and Dragline Op...</td>\n",
       "      <td>78190</td>\n",
       "    </tr>\n",
       "    <tr>\n",
       "      <th>119102</th>\n",
       "      <td>42660</td>\n",
       "      <td>25-1082</td>\n",
       "      <td>Library Science Teachers, Postsecondary</td>\n",
       "      <td>116280</td>\n",
       "    </tr>\n",
       "    <tr>\n",
       "      <th>119310</th>\n",
       "      <td>42660</td>\n",
       "      <td>39-2011</td>\n",
       "      <td>Animal Trainers</td>\n",
       "      <td>58420</td>\n",
       "    </tr>\n",
       "    <tr>\n",
       "      <th>119011</th>\n",
       "      <td>42660</td>\n",
       "      <td>17-3024</td>\n",
       "      <td>Electro-Mechanical and Mechatronics Technologi...</td>\n",
       "      <td>92470</td>\n",
       "    </tr>\n",
       "    <tr>\n",
       "      <th>119519</th>\n",
       "      <td>42660</td>\n",
       "      <td>51-4021</td>\n",
       "      <td>Extruding and Drawing Machine Setters, Operato...</td>\n",
       "      <td>50910</td>\n",
       "    </tr>\n",
       "    <tr>\n",
       "      <th>119169</th>\n",
       "      <td>42660</td>\n",
       "      <td>27-4011</td>\n",
       "      <td>Audio and Video Technicians</td>\n",
       "      <td>82270</td>\n",
       "    </tr>\n",
       "    <tr>\n",
       "      <th>119266</th>\n",
       "      <td>42660</td>\n",
       "      <td>33-2011</td>\n",
       "      <td>Firefighters</td>\n",
       "      <td>92560</td>\n",
       "    </tr>\n",
       "    <tr>\n",
       "      <th>119073</th>\n",
       "      <td>42660</td>\n",
       "      <td>21-2011</td>\n",
       "      <td>Clergy</td>\n",
       "      <td>73740</td>\n",
       "    </tr>\n",
       "    <tr>\n",
       "      <th>118988</th>\n",
       "      <td>42660</td>\n",
       "      <td>17-1022</td>\n",
       "      <td>Surveyors</td>\n",
       "      <td>88200</td>\n",
       "    </tr>\n",
       "    <tr>\n",
       "      <th>119560</th>\n",
       "      <td>42660</td>\n",
       "      <td>51-9011</td>\n",
       "      <td>Chemical Equipment Operators and Tenders</td>\n",
       "      <td>63100</td>\n",
       "    </tr>\n",
       "    <tr>\n",
       "      <th>119529</th>\n",
       "      <td>42660</td>\n",
       "      <td>51-4111</td>\n",
       "      <td>Tool and Die Makers</td>\n",
       "      <td>83900</td>\n",
       "    </tr>\n",
       "    <tr>\n",
       "      <th>118955</th>\n",
       "      <td>42660</td>\n",
       "      <td>13-2053</td>\n",
       "      <td>Insurance Underwriters</td>\n",
       "      <td>115020</td>\n",
       "    </tr>\n",
       "    <tr>\n",
       "      <th>118918</th>\n",
       "      <td>42660</td>\n",
       "      <td>11-9041</td>\n",
       "      <td>Architectural and Engineering Managers</td>\n",
       "      <td>192390</td>\n",
       "    </tr>\n",
       "    <tr>\n",
       "      <th>119553</th>\n",
       "      <td>42660</td>\n",
       "      <td>51-8012</td>\n",
       "      <td>Power Distributors and Dispatchers</td>\n",
       "      <td>146980</td>\n",
       "    </tr>\n",
       "    <tr>\n",
       "      <th>119618</th>\n",
       "      <td>42660</td>\n",
       "      <td>53-7062</td>\n",
       "      <td>Laborers and Freight, Stock, and Material Move...</td>\n",
       "      <td>46730</td>\n",
       "    </tr>\n",
       "    <tr>\n",
       "      <th>118981</th>\n",
       "      <td>42660</td>\n",
       "      <td>15-2041</td>\n",
       "      <td>Statisticians</td>\n",
       "      <td>120060</td>\n",
       "    </tr>\n",
       "    <tr>\n",
       "      <th>119352</th>\n",
       "      <td>42660</td>\n",
       "      <td>41-9041</td>\n",
       "      <td>Telemarketers</td>\n",
       "      <td>40530</td>\n",
       "    </tr>\n",
       "    <tr>\n",
       "      <th>119424</th>\n",
       "      <td>42660</td>\n",
       "      <td>47-2072</td>\n",
       "      <td>Pile Driver Operators</td>\n",
       "      <td>99660</td>\n",
       "    </tr>\n",
       "    <tr>\n",
       "      <th>119604</th>\n",
       "      <td>42660</td>\n",
       "      <td>53-5011</td>\n",
       "      <td>Sailors and Marine Oilers</td>\n",
       "      <td>59550</td>\n",
       "    </tr>\n",
       "    <tr>\n",
       "      <th>119204</th>\n",
       "      <td>42660</td>\n",
       "      <td>29-1217</td>\n",
       "      <td>Neurologists</td>\n",
       "      <td>302020</td>\n",
       "    </tr>\n",
       "    <tr>\n",
       "      <th>119186</th>\n",
       "      <td>42660</td>\n",
       "      <td>29-1123</td>\n",
       "      <td>Physical Therapists</td>\n",
       "      <td>104700</td>\n",
       "    </tr>\n",
       "    <tr>\n",
       "      <th>118957</th>\n",
       "      <td>42660</td>\n",
       "      <td>13-2061</td>\n",
       "      <td>Financial Examiners</td>\n",
       "      <td>115680</td>\n",
       "    </tr>\n",
       "    <tr>\n",
       "      <th>119194</th>\n",
       "      <td>42660</td>\n",
       "      <td>29-1141</td>\n",
       "      <td>Registered Nurses</td>\n",
       "      <td>115170</td>\n",
       "    </tr>\n",
       "    <tr>\n",
       "      <th>119621</th>\n",
       "      <td>42660</td>\n",
       "      <td>53-7065</td>\n",
       "      <td>Stockers and Order Fillers</td>\n",
       "      <td>45480</td>\n",
       "    </tr>\n",
       "    <tr>\n",
       "      <th>119447</th>\n",
       "      <td>42660</td>\n",
       "      <td>47-4021</td>\n",
       "      <td>Elevator and Escalator Installers and Repairers</td>\n",
       "      <td>121110</td>\n",
       "    </tr>\n",
       "    <tr>\n",
       "      <th>119507</th>\n",
       "      <td>42660</td>\n",
       "      <td>51-2031</td>\n",
       "      <td>Engine and Other Machine Assemblers</td>\n",
       "      <td>56590</td>\n",
       "    </tr>\n",
       "    <tr>\n",
       "      <th>119338</th>\n",
       "      <td>42660</td>\n",
       "      <td>41-2021</td>\n",
       "      <td>Counter and Rental Clerks</td>\n",
       "      <td>47450</td>\n",
       "    </tr>\n",
       "    <tr>\n",
       "      <th>119542</th>\n",
       "      <td>42660</td>\n",
       "      <td>51-6041</td>\n",
       "      <td>Shoe and Leather Workers and Repairers</td>\n",
       "      <td>59840</td>\n",
       "    </tr>\n",
       "  </tbody>\n",
       "</table>\n",
       "</div>"
      ],
      "text/plain": [
       "         AREA OCC_CODE                                          OCC_TITLE  \\\n",
       "119015  42660  17-3028          Calibration Technologists and Technicians   \n",
       "119386  42660  43-5051                              Postal Service Clerks   \n",
       "119454  42660  47-5022  Excavating and Loading Machine and Dragline Op...   \n",
       "119102  42660  25-1082            Library Science Teachers, Postsecondary   \n",
       "119310  42660  39-2011                                    Animal Trainers   \n",
       "119011  42660  17-3024  Electro-Mechanical and Mechatronics Technologi...   \n",
       "119519  42660  51-4021  Extruding and Drawing Machine Setters, Operato...   \n",
       "119169  42660  27-4011                        Audio and Video Technicians   \n",
       "119266  42660  33-2011                                       Firefighters   \n",
       "119073  42660  21-2011                                             Clergy   \n",
       "118988  42660  17-1022                                          Surveyors   \n",
       "119560  42660  51-9011           Chemical Equipment Operators and Tenders   \n",
       "119529  42660  51-4111                                Tool and Die Makers   \n",
       "118955  42660  13-2053                             Insurance Underwriters   \n",
       "118918  42660  11-9041             Architectural and Engineering Managers   \n",
       "119553  42660  51-8012                 Power Distributors and Dispatchers   \n",
       "119618  42660  53-7062  Laborers and Freight, Stock, and Material Move...   \n",
       "118981  42660  15-2041                                      Statisticians   \n",
       "119352  42660  41-9041                                      Telemarketers   \n",
       "119424  42660  47-2072                              Pile Driver Operators   \n",
       "119604  42660  53-5011                          Sailors and Marine Oilers   \n",
       "119204  42660  29-1217                                       Neurologists   \n",
       "119186  42660  29-1123                                Physical Therapists   \n",
       "118957  42660  13-2061                                Financial Examiners   \n",
       "119194  42660  29-1141                                  Registered Nurses   \n",
       "119621  42660  53-7065                         Stockers and Order Fillers   \n",
       "119447  42660  47-4021    Elevator and Escalator Installers and Repairers   \n",
       "119507  42660  51-2031                Engine and Other Machine Assemblers   \n",
       "119338  42660  41-2021                          Counter and Rental Clerks   \n",
       "119542  42660  51-6041             Shoe and Leather Workers and Repairers   \n",
       "\n",
       "        A_MEAN  \n",
       "119015   85750  \n",
       "119386   60750  \n",
       "119454   78190  \n",
       "119102  116280  \n",
       "119310   58420  \n",
       "119011   92470  \n",
       "119519   50910  \n",
       "119169   82270  \n",
       "119266   92560  \n",
       "119073   73740  \n",
       "118988   88200  \n",
       "119560   63100  \n",
       "119529   83900  \n",
       "118955  115020  \n",
       "118918  192390  \n",
       "119553  146980  \n",
       "119618   46730  \n",
       "118981  120060  \n",
       "119352   40530  \n",
       "119424   99660  \n",
       "119604   59550  \n",
       "119204  302020  \n",
       "119186  104700  \n",
       "118957  115680  \n",
       "119194  115170  \n",
       "119621   45480  \n",
       "119447  121110  \n",
       "119507   56590  \n",
       "119338   47450  \n",
       "119542   59840  "
      ]
     },
     "execution_count": 428,
     "metadata": {},
     "output_type": "execute_result"
    }
   ],
   "source": [
    "oew_cleaned.sample(30)"
   ]
  },
  {
   "cell_type": "code",
   "execution_count": 429,
   "metadata": {},
   "outputs": [],
   "source": [
    "## Issue: We are only interested in analyzing computer-related occupations data only\n",
    "## Issue type: Tidyness\n",
    "## Indentification: visual \n",
    "## (OCC_TITLE column has non-computer related descriptions)\n",
    "## ============================================================\n",
    "\n",
    "## cleaning strategy: Filter out all other OCC_CODEs \n",
    "comsci_startwith = '15-'\n",
    "oew_cleaned = oew_cleaned[ oew_cleaned['OCC_CODE'].str.startswith(comsci_startwith)]"
   ]
  },
  {
   "cell_type": "code",
   "execution_count": 430,
   "metadata": {},
   "outputs": [
    {
     "data": {
      "text/html": [
       "<div>\n",
       "<style scoped>\n",
       "    .dataframe tbody tr th:only-of-type {\n",
       "        vertical-align: middle;\n",
       "    }\n",
       "\n",
       "    .dataframe tbody tr th {\n",
       "        vertical-align: top;\n",
       "    }\n",
       "\n",
       "    .dataframe thead th {\n",
       "        text-align: right;\n",
       "    }\n",
       "</style>\n",
       "<table border=\"1\" class=\"dataframe\">\n",
       "  <thead>\n",
       "    <tr style=\"text-align: right;\">\n",
       "      <th></th>\n",
       "      <th>AREA</th>\n",
       "      <th>OCC_CODE</th>\n",
       "      <th>OCC_TITLE</th>\n",
       "      <th>A_MEAN</th>\n",
       "    </tr>\n",
       "  </thead>\n",
       "  <tbody>\n",
       "    <tr>\n",
       "      <th>118962</th>\n",
       "      <td>42660</td>\n",
       "      <td>15-0000</td>\n",
       "      <td>Computer and Mathematical Occupations</td>\n",
       "      <td>144530</td>\n",
       "    </tr>\n",
       "    <tr>\n",
       "      <th>118963</th>\n",
       "      <td>42660</td>\n",
       "      <td>15-1211</td>\n",
       "      <td>Computer Systems Analysts</td>\n",
       "      <td>138410</td>\n",
       "    </tr>\n",
       "    <tr>\n",
       "      <th>118964</th>\n",
       "      <td>42660</td>\n",
       "      <td>15-1212</td>\n",
       "      <td>Information Security Analysts</td>\n",
       "      <td>154600</td>\n",
       "    </tr>\n",
       "    <tr>\n",
       "      <th>118965</th>\n",
       "      <td>42660</td>\n",
       "      <td>15-1221</td>\n",
       "      <td>Computer and Information Research Scientists</td>\n",
       "      <td>211410</td>\n",
       "    </tr>\n",
       "    <tr>\n",
       "      <th>118966</th>\n",
       "      <td>42660</td>\n",
       "      <td>15-1231</td>\n",
       "      <td>Computer Network Support Specialists</td>\n",
       "      <td>100650</td>\n",
       "    </tr>\n",
       "  </tbody>\n",
       "</table>\n",
       "</div>"
      ],
      "text/plain": [
       "         AREA OCC_CODE                                     OCC_TITLE  A_MEAN\n",
       "118962  42660  15-0000         Computer and Mathematical Occupations  144530\n",
       "118963  42660  15-1211                     Computer Systems Analysts  138410\n",
       "118964  42660  15-1212                 Information Security Analysts  154600\n",
       "118965  42660  15-1221  Computer and Information Research Scientists  211410\n",
       "118966  42660  15-1231          Computer Network Support Specialists  100650"
      ]
     },
     "execution_count": 430,
     "metadata": {},
     "output_type": "execute_result"
    }
   ],
   "source": [
    "## Cleaning verification\n",
    "oew_cleaned.head()"
   ]
  },
  {
   "cell_type": "code",
   "execution_count": 431,
   "metadata": {
    "scrolled": true
   },
   "outputs": [
    {
     "data": {
      "text/plain": [
       "118962    False\n",
       "118963    False\n",
       "118964    False\n",
       "118965    False\n",
       "118966    False\n",
       "118967    False\n",
       "118968    False\n",
       "118969    False\n",
       "118970    False\n",
       "118971    False\n",
       "118972    False\n",
       "118973    False\n",
       "118974    False\n",
       "118975    False\n",
       "118976    False\n",
       "118977    False\n",
       "118978    False\n",
       "118979    False\n",
       "118980    False\n",
       "118981    False\n",
       "118982    False\n",
       "118983    False\n",
       "dtype: bool"
      ]
     },
     "execution_count": 431,
     "metadata": {},
     "output_type": "execute_result"
    }
   ],
   "source": [
    "oew_cleaned.duplicated()"
   ]
  },
  {
   "cell_type": "code",
   "execution_count": 432,
   "metadata": {},
   "outputs": [
    {
     "data": {
      "text/html": [
       "<div>\n",
       "<style scoped>\n",
       "    .dataframe tbody tr th:only-of-type {\n",
       "        vertical-align: middle;\n",
       "    }\n",
       "\n",
       "    .dataframe tbody tr th {\n",
       "        vertical-align: top;\n",
       "    }\n",
       "\n",
       "    .dataframe thead th {\n",
       "        text-align: right;\n",
       "    }\n",
       "</style>\n",
       "<table border=\"1\" class=\"dataframe\">\n",
       "  <thead>\n",
       "    <tr style=\"text-align: right;\">\n",
       "      <th></th>\n",
       "      <th>AREA</th>\n",
       "      <th>OCC_CODE</th>\n",
       "      <th>OCC_TITLE</th>\n",
       "      <th>A_MEAN</th>\n",
       "    </tr>\n",
       "  </thead>\n",
       "  <tbody>\n",
       "    <tr>\n",
       "      <th>118962</th>\n",
       "      <td>42660</td>\n",
       "      <td>150000</td>\n",
       "      <td>Computer and Mathematical Occupations</td>\n",
       "      <td>144530</td>\n",
       "    </tr>\n",
       "    <tr>\n",
       "      <th>118963</th>\n",
       "      <td>42660</td>\n",
       "      <td>151211</td>\n",
       "      <td>Computer Systems Analysts</td>\n",
       "      <td>138410</td>\n",
       "    </tr>\n",
       "    <tr>\n",
       "      <th>118964</th>\n",
       "      <td>42660</td>\n",
       "      <td>151212</td>\n",
       "      <td>Information Security Analysts</td>\n",
       "      <td>154600</td>\n",
       "    </tr>\n",
       "    <tr>\n",
       "      <th>118965</th>\n",
       "      <td>42660</td>\n",
       "      <td>151221</td>\n",
       "      <td>Computer and Information Research Scientists</td>\n",
       "      <td>211410</td>\n",
       "    </tr>\n",
       "    <tr>\n",
       "      <th>118966</th>\n",
       "      <td>42660</td>\n",
       "      <td>151231</td>\n",
       "      <td>Computer Network Support Specialists</td>\n",
       "      <td>100650</td>\n",
       "    </tr>\n",
       "  </tbody>\n",
       "</table>\n",
       "</div>"
      ],
      "text/plain": [
       "         AREA OCC_CODE                                     OCC_TITLE  A_MEAN\n",
       "118962  42660   150000         Computer and Mathematical Occupations  144530\n",
       "118963  42660   151211                     Computer Systems Analysts  138410\n",
       "118964  42660   151212                 Information Security Analysts  154600\n",
       "118965  42660   151221  Computer and Information Research Scientists  211410\n",
       "118966  42660   151231          Computer Network Support Specialists  100650"
      ]
     },
     "execution_count": 432,
     "metadata": {},
     "output_type": "execute_result"
    }
   ],
   "source": [
    "### ISSUE OCC_CODE (xx-xxxx) and SOCP (xxxxxx) code are in different formats\n",
    "### issue type: consistency\n",
    "## identification type: visual\n",
    "oew_cleaned['OCC_CODE'] = oew_cleaned['OCC_CODE'].replace('-', '', regex=True)\n",
    "\n",
    "oew_cleaned.head()"
   ]
  },
  {
   "cell_type": "code",
   "execution_count": null,
   "metadata": {},
   "outputs": [],
   "source": []
  },
  {
   "cell_type": "markdown",
   "metadata": {},
   "source": [
    "## Assess Dataset 2 ## -- PUMS"
   ]
  },
  {
   "cell_type": "markdown",
   "metadata": {},
   "source": [
    "#### Framework for completion ###\n",
    "- 1. Issue Assessment\n",
    "- -- State issue\n",
    "- -- Identify issue: identification technique (visually or programmatically)\n",
    "- -- Issue type (Data quality or Tidiness)\n",
    "- -- Provide justification for issue\n",
    "- 2. Clean Issue\n",
    "- -- Cleaning strategy: \n",
    "- -- cleaning verification"
   ]
  },
  {
   "cell_type": "code",
   "execution_count": 435,
   "metadata": {},
   "outputs": [],
   "source": [
    "## Make copy of dataset before assessment and cleaning\n",
    "pums_data_copy = pums_data.copy()"
   ]
  },
  {
   "cell_type": "code",
   "execution_count": 436,
   "metadata": {},
   "outputs": [
    {
     "name": "stdout",
     "output_type": "stream",
     "text": [
      "       0       1         2     3      4      5\n",
      "0  PWGTP    SOCP  SCHL_RC1  SCHL   PUMA  STATE\n",
      "1     47       N         3    19  23304     53\n",
      "2     74  537062         3    19  23304     53\n",
      "3     54       N         4    21  23304     53\n",
      "4     18       N         4    21  23304     53\n"
     ]
    }
   ],
   "source": [
    "### header is the first row of data \n",
    "print(pums_data_copy.head(5))"
   ]
  },
  {
   "cell_type": "code",
   "execution_count": 437,
   "metadata": {},
   "outputs": [],
   "source": [
    "## Issue columns headers are rows in the dataset\n",
    "## Identification: visual\n",
    "## issue type: Quality (?)\n",
    "## justification: fix for easy assess to column data\n",
    "\n",
    "# Cleaning strategy - Fix issue with column headers\n",
    "columns = pums_response_data[0]\n",
    "rows = pums_response_data[1:]\n",
    "pums_cleaned = pd.DataFrame(rows, columns=columns)"
   ]
  },
  {
   "cell_type": "code",
   "execution_count": 438,
   "metadata": {},
   "outputs": [
    {
     "data": {
      "text/plain": [
       "Index(['PWGTP', 'SOCP', 'SCHL_RC1', 'SCHL', 'PUMA', 'STATE'], dtype='object')"
      ]
     },
     "execution_count": 438,
     "metadata": {},
     "output_type": "execute_result"
    }
   ],
   "source": [
    "# Cleaning verification\n",
    "pums_cleaned.columns"
   ]
  },
  {
   "cell_type": "code",
   "execution_count": 439,
   "metadata": {},
   "outputs": [
    {
     "data": {
      "text/plain": [
       "count     1774\n",
       "unique     218\n",
       "top          N\n",
       "freq       691\n",
       "Name: SOCP, dtype: object"
      ]
     },
     "execution_count": 439,
     "metadata": {},
     "output_type": "execute_result"
    }
   ],
   "source": [
    "## Issue invalid data in SOCP columns\n",
    "## identification: programmatics/visual?\n",
    "## issue type: Quality - Invalid value of 'N' in this context\n",
    "pums_cleaned['SOCP'].describe()"
   ]
  },
  {
   "cell_type": "code",
   "execution_count": 440,
   "metadata": {},
   "outputs": [],
   "source": [
    "#cleaning strategy - remove the rows with SOCP value on 'N' they are not relevant in this context\n",
    "pums_cleaned = pums_cleaned[pums_cleaned['SOCP'] != 'N']"
   ]
  },
  {
   "cell_type": "code",
   "execution_count": 441,
   "metadata": {
    "scrolled": true
   },
   "outputs": [
    {
     "name": "stdout",
     "output_type": "stream",
     "text": [
      "0\n"
     ]
    },
    {
     "data": {
      "text/plain": [
       "0"
      ]
     },
     "execution_count": 441,
     "metadata": {},
     "output_type": "execute_result"
    }
   ],
   "source": [
    "#cleaning verification\n",
    "print((pums_cleaned['SOCP'] == 'N').sum())\n",
    "pums_cleaned['SOCP'].isnull().sum()\n"
   ]
  },
  {
   "cell_type": "code",
   "execution_count": 473,
   "metadata": {},
   "outputs": [
    {
     "data": {
      "text/html": [
       "<div>\n",
       "<style scoped>\n",
       "    .dataframe tbody tr th:only-of-type {\n",
       "        vertical-align: middle;\n",
       "    }\n",
       "\n",
       "    .dataframe tbody tr th {\n",
       "        vertical-align: top;\n",
       "    }\n",
       "\n",
       "    .dataframe thead th {\n",
       "        text-align: right;\n",
       "    }\n",
       "</style>\n",
       "<table border=\"1\" class=\"dataframe\">\n",
       "  <thead>\n",
       "    <tr style=\"text-align: right;\">\n",
       "      <th></th>\n",
       "      <th>PWGTP</th>\n",
       "      <th>SOCP</th>\n",
       "      <th>SCHL_RC1</th>\n",
       "      <th>SCHL</th>\n",
       "      <th>PUMA</th>\n",
       "      <th>STATE</th>\n",
       "    </tr>\n",
       "  </thead>\n",
       "  <tbody>\n",
       "    <tr>\n",
       "      <th>34</th>\n",
       "      <td>36</td>\n",
       "      <td>151252</td>\n",
       "      <td>4</td>\n",
       "      <td>21</td>\n",
       "      <td>23304</td>\n",
       "      <td>53</td>\n",
       "    </tr>\n",
       "    <tr>\n",
       "      <th>45</th>\n",
       "      <td>59</td>\n",
       "      <td>151252</td>\n",
       "      <td>4</td>\n",
       "      <td>21</td>\n",
       "      <td>23304</td>\n",
       "      <td>53</td>\n",
       "    </tr>\n",
       "    <tr>\n",
       "      <th>50</th>\n",
       "      <td>74</td>\n",
       "      <td>151252</td>\n",
       "      <td>5</td>\n",
       "      <td>22</td>\n",
       "      <td>23304</td>\n",
       "      <td>53</td>\n",
       "    </tr>\n",
       "    <tr>\n",
       "      <th>81</th>\n",
       "      <td>81</td>\n",
       "      <td>151252</td>\n",
       "      <td>5</td>\n",
       "      <td>22</td>\n",
       "      <td>23304</td>\n",
       "      <td>53</td>\n",
       "    </tr>\n",
       "    <tr>\n",
       "      <th>82</th>\n",
       "      <td>84</td>\n",
       "      <td>151252</td>\n",
       "      <td>5</td>\n",
       "      <td>22</td>\n",
       "      <td>23304</td>\n",
       "      <td>53</td>\n",
       "    </tr>\n",
       "  </tbody>\n",
       "</table>\n",
       "</div>"
      ],
      "text/plain": [
       "   PWGTP    SOCP SCHL_RC1 SCHL   PUMA STATE\n",
       "34    36  151252        4   21  23304    53\n",
       "45    59  151252        4   21  23304    53\n",
       "50    74  151252        5   22  23304    53\n",
       "81    81  151252        5   22  23304    53\n",
       "82    84  151252        5   22  23304    53"
      ]
     },
     "execution_count": 473,
     "metadata": {},
     "output_type": "execute_result"
    }
   ],
   "source": [
    "## issue - Focus on computer related roles only so drop everything else\n",
    "pums_cleaned = pums_cleaned[pums_cleaned['SOCP'].str.contains(r'^15\\d{4}$', case=False, regex=True)]\n",
    "pums_cleaned.head()\n"
   ]
  },
  {
   "cell_type": "code",
   "execution_count": 475,
   "metadata": {},
   "outputs": [],
   "source": [
    "# Issue tidying up the dataset to leave only columns needed for analysis\n",
    "# Issue type: Tidiness\n",
    "# Identification type: Visual \n",
    "# Create subset of dataset needed for analysis\n",
    "pums_cleaned = pums_cleaned[['SOCP','SCHL_RC1', 'SCHL']].reindex()"
   ]
  },
  {
   "cell_type": "code",
   "execution_count": 477,
   "metadata": {},
   "outputs": [
    {
     "data": {
      "text/plain": [
       "True     190\n",
       "False     29\n",
       "Name: count, dtype: int64"
      ]
     },
     "execution_count": 477,
     "metadata": {},
     "output_type": "execute_result"
    }
   ],
   "source": [
    "pums_cleaned.duplicated().value_counts()"
   ]
  },
  {
   "cell_type": "markdown",
   "metadata": {},
   "source": [
    "### TODO ###\n",
    "### - Turn SCHL_RC1 into actual\n",
    "#### SCHL_RC1 == 0 => [No high school diploma] => SCHL == [0-15]\n",
    "#### SCHL_RC1 == 1 => [high school diploma] => SCHL == [16-17]\n",
    "#### SCHL_RC1 == 2 => [Completed Some College] => SCHL == [18-19]\n",
    "#### SCHL_RC1 == 3 => [Graduated College] => SCHL == [20-21]\n",
    "#### SCHL_RC1 == 4 => [Completed Advance Degree] => SCHL == [22-24]\n",
    "#### Data Quality issue - completeness address by above?\n",
    "\n",
    "### Dimensions of data quality ###\n",
    "\n",
    "**Completeness** is a metric that helps you understand whether your data is sufficient to answer interesting questions or solve your problem.\n",
    "**Validity** is a metric helping you understand how well your data conforms to a defined set of rules for data, also known as a schema.\n",
    "**Accuracy** is a metric that helps you understand whether your data accurately represents the reality it aims to depict.\n",
    "**Consistency** is a metric that helps you understand two things: whether your data follows a standard format and whether your data’s info matches with information from other data sources.\n",
    "**Uniqueness** is a metric that helps you understand whether there are duplicate or overlapping values in your data.\n",
    "\n",
    "## validity - check that salary is within range and there are no outliers ## std +-1 ) (programmatic) ##\n",
    "## DATA QUALITY check for uniqueness (programmatic assessment) ##\n",
    "\n",
    "### requirements for tidiness: ###\n",
    "Each **variable** forms a column\n",
    "Each **observation** forms a row\n",
    "Each type of **observational unit** forms a table"
   ]
  },
  {
   "cell_type": "code",
   "execution_count": 480,
   "metadata": {},
   "outputs": [
    {
     "data": {
      "text/html": [
       "<div>\n",
       "<style scoped>\n",
       "    .dataframe tbody tr th:only-of-type {\n",
       "        vertical-align: middle;\n",
       "    }\n",
       "\n",
       "    .dataframe tbody tr th {\n",
       "        vertical-align: top;\n",
       "    }\n",
       "\n",
       "    .dataframe thead th {\n",
       "        text-align: right;\n",
       "    }\n",
       "</style>\n",
       "<table border=\"1\" class=\"dataframe\">\n",
       "  <thead>\n",
       "    <tr style=\"text-align: right;\">\n",
       "      <th></th>\n",
       "      <th>SOCP</th>\n",
       "      <th>SCHL_RC1</th>\n",
       "      <th>SCHL</th>\n",
       "      <th>ED_LEVEL</th>\n",
       "    </tr>\n",
       "  </thead>\n",
       "  <tbody>\n",
       "    <tr>\n",
       "      <th>0</th>\n",
       "      <td>151252</td>\n",
       "      <td>4</td>\n",
       "      <td>21</td>\n",
       "      <td>Graduated College</td>\n",
       "    </tr>\n",
       "    <tr>\n",
       "      <th>1</th>\n",
       "      <td>151252</td>\n",
       "      <td>4</td>\n",
       "      <td>21</td>\n",
       "      <td>Graduated College</td>\n",
       "    </tr>\n",
       "    <tr>\n",
       "      <th>2</th>\n",
       "      <td>151252</td>\n",
       "      <td>5</td>\n",
       "      <td>22</td>\n",
       "      <td>Completed Advance Degree</td>\n",
       "    </tr>\n",
       "    <tr>\n",
       "      <th>3</th>\n",
       "      <td>151252</td>\n",
       "      <td>5</td>\n",
       "      <td>22</td>\n",
       "      <td>Completed Advance Degree</td>\n",
       "    </tr>\n",
       "    <tr>\n",
       "      <th>4</th>\n",
       "      <td>151252</td>\n",
       "      <td>5</td>\n",
       "      <td>22</td>\n",
       "      <td>Completed Advance Degree</td>\n",
       "    </tr>\n",
       "  </tbody>\n",
       "</table>\n",
       "</div>"
      ],
      "text/plain": [
       "     SOCP SCHL_RC1 SCHL                  ED_LEVEL\n",
       "0  151252        4   21         Graduated College\n",
       "1  151252        4   21         Graduated College\n",
       "2  151252        5   22  Completed Advance Degree\n",
       "3  151252        5   22  Completed Advance Degree\n",
       "4  151252        5   22  Completed Advance Degree"
      ]
     },
     "execution_count": 480,
     "metadata": {},
     "output_type": "execute_result"
    }
   ],
   "source": [
    "## Completeness issue with SCHL_RC1 \n",
    "## Create lookup list for education level (ED_LEVEL)\n",
    "## Add column to PUMS dataset\n",
    "## Fill ED_LEVEL by matching with SCHL_RC1\n",
    "\n",
    "ed_level_data = {\n",
    "    'SCHL_RC1': ['1', '2', '3', '4', '5'],\n",
    "    'ED_LEVEL': [\n",
    "        'No high school diploma',    # SCHL_RC1 == 0, SCHL range [0-15]\n",
    "        'High school diploma',       # SCHL_RC1 == 1, SCHL range [16-17]\n",
    "        'Completed Some College',    # SCHL_RC1 == 2, SCHL range [18-19]\n",
    "        'Graduated College',         # SCHL_RC1 == 3, SCHL range [20-21]\n",
    "        'Completed Advance Degree'   # SCHL_RC1 == 4, SCHL range [22-24]\n",
    "    ]\n",
    "}\n",
    "\n",
    "ed_level_df = pd.DataFrame(ed_level_data)\n",
    "\n",
    "# merge with pums dataset\n",
    "pums_merged = pums_cleaned.merge(ed_level_df, on='SCHL_RC1', how='left')\n",
    "pums_merged.head()"
   ]
  },
  {
   "cell_type": "code",
   "execution_count": 482,
   "metadata": {},
   "outputs": [
    {
     "data": {
      "text/html": [
       "<div>\n",
       "<style scoped>\n",
       "    .dataframe tbody tr th:only-of-type {\n",
       "        vertical-align: middle;\n",
       "    }\n",
       "\n",
       "    .dataframe tbody tr th {\n",
       "        vertical-align: top;\n",
       "    }\n",
       "\n",
       "    .dataframe thead th {\n",
       "        text-align: right;\n",
       "    }\n",
       "</style>\n",
       "<table border=\"1\" class=\"dataframe\">\n",
       "  <thead>\n",
       "    <tr style=\"text-align: right;\">\n",
       "      <th></th>\n",
       "      <th>SOCP</th>\n",
       "      <th>SCHL_RC1</th>\n",
       "      <th>SCHL</th>\n",
       "      <th>ED_LEVEL</th>\n",
       "      <th>AREA</th>\n",
       "      <th>OCC_CODE</th>\n",
       "      <th>OCC_TITLE</th>\n",
       "      <th>A_MEAN</th>\n",
       "    </tr>\n",
       "  </thead>\n",
       "  <tbody>\n",
       "    <tr>\n",
       "      <th>160</th>\n",
       "      <td>151252</td>\n",
       "      <td>5</td>\n",
       "      <td>22</td>\n",
       "      <td>Completed Advance Degree</td>\n",
       "      <td>42660.0</td>\n",
       "      <td>151252</td>\n",
       "      <td>Software Developers</td>\n",
       "      <td>164130</td>\n",
       "    </tr>\n",
       "    <tr>\n",
       "      <th>119</th>\n",
       "      <td>151252</td>\n",
       "      <td>5</td>\n",
       "      <td>22</td>\n",
       "      <td>Completed Advance Degree</td>\n",
       "      <td>42660.0</td>\n",
       "      <td>151252</td>\n",
       "      <td>Software Developers</td>\n",
       "      <td>164130</td>\n",
       "    </tr>\n",
       "    <tr>\n",
       "      <th>31</th>\n",
       "      <td>151252</td>\n",
       "      <td>5</td>\n",
       "      <td>22</td>\n",
       "      <td>Completed Advance Degree</td>\n",
       "      <td>42660.0</td>\n",
       "      <td>151252</td>\n",
       "      <td>Software Developers</td>\n",
       "      <td>164130</td>\n",
       "    </tr>\n",
       "    <tr>\n",
       "      <th>29</th>\n",
       "      <td>151252</td>\n",
       "      <td>5</td>\n",
       "      <td>22</td>\n",
       "      <td>Completed Advance Degree</td>\n",
       "      <td>42660.0</td>\n",
       "      <td>151252</td>\n",
       "      <td>Software Developers</td>\n",
       "      <td>164130</td>\n",
       "    </tr>\n",
       "    <tr>\n",
       "      <th>159</th>\n",
       "      <td>151221</td>\n",
       "      <td>5</td>\n",
       "      <td>24</td>\n",
       "      <td>Completed Advance Degree</td>\n",
       "      <td>42660.0</td>\n",
       "      <td>151221</td>\n",
       "      <td>Computer and Information Research Scientists</td>\n",
       "      <td>211410</td>\n",
       "    </tr>\n",
       "    <tr>\n",
       "      <th>66</th>\n",
       "      <td>151252</td>\n",
       "      <td>4</td>\n",
       "      <td>21</td>\n",
       "      <td>Graduated College</td>\n",
       "      <td>42660.0</td>\n",
       "      <td>151252</td>\n",
       "      <td>Software Developers</td>\n",
       "      <td>164130</td>\n",
       "    </tr>\n",
       "    <tr>\n",
       "      <th>136</th>\n",
       "      <td>151252</td>\n",
       "      <td>4</td>\n",
       "      <td>21</td>\n",
       "      <td>Graduated College</td>\n",
       "      <td>42660.0</td>\n",
       "      <td>151252</td>\n",
       "      <td>Software Developers</td>\n",
       "      <td>164130</td>\n",
       "    </tr>\n",
       "    <tr>\n",
       "      <th>12</th>\n",
       "      <td>151252</td>\n",
       "      <td>5</td>\n",
       "      <td>23</td>\n",
       "      <td>Completed Advance Degree</td>\n",
       "      <td>42660.0</td>\n",
       "      <td>151252</td>\n",
       "      <td>Software Developers</td>\n",
       "      <td>164130</td>\n",
       "    </tr>\n",
       "    <tr>\n",
       "      <th>157</th>\n",
       "      <td>151252</td>\n",
       "      <td>5</td>\n",
       "      <td>22</td>\n",
       "      <td>Completed Advance Degree</td>\n",
       "      <td>42660.0</td>\n",
       "      <td>151252</td>\n",
       "      <td>Software Developers</td>\n",
       "      <td>164130</td>\n",
       "    </tr>\n",
       "    <tr>\n",
       "      <th>207</th>\n",
       "      <td>151299</td>\n",
       "      <td>4</td>\n",
       "      <td>21</td>\n",
       "      <td>Graduated College</td>\n",
       "      <td>42660.0</td>\n",
       "      <td>151299</td>\n",
       "      <td>Computer Occupations, All Other</td>\n",
       "      <td>137130</td>\n",
       "    </tr>\n",
       "    <tr>\n",
       "      <th>209</th>\n",
       "      <td>151252</td>\n",
       "      <td>5</td>\n",
       "      <td>24</td>\n",
       "      <td>Completed Advance Degree</td>\n",
       "      <td>42660.0</td>\n",
       "      <td>151252</td>\n",
       "      <td>Software Developers</td>\n",
       "      <td>164130</td>\n",
       "    </tr>\n",
       "    <tr>\n",
       "      <th>164</th>\n",
       "      <td>151252</td>\n",
       "      <td>5</td>\n",
       "      <td>22</td>\n",
       "      <td>Completed Advance Degree</td>\n",
       "      <td>42660.0</td>\n",
       "      <td>151252</td>\n",
       "      <td>Software Developers</td>\n",
       "      <td>164130</td>\n",
       "    </tr>\n",
       "    <tr>\n",
       "      <th>128</th>\n",
       "      <td>151252</td>\n",
       "      <td>4</td>\n",
       "      <td>21</td>\n",
       "      <td>Graduated College</td>\n",
       "      <td>42660.0</td>\n",
       "      <td>151252</td>\n",
       "      <td>Software Developers</td>\n",
       "      <td>164130</td>\n",
       "    </tr>\n",
       "    <tr>\n",
       "      <th>139</th>\n",
       "      <td>151211</td>\n",
       "      <td>4</td>\n",
       "      <td>21</td>\n",
       "      <td>Graduated College</td>\n",
       "      <td>42660.0</td>\n",
       "      <td>151211</td>\n",
       "      <td>Computer Systems Analysts</td>\n",
       "      <td>138410</td>\n",
       "    </tr>\n",
       "    <tr>\n",
       "      <th>38</th>\n",
       "      <td>151252</td>\n",
       "      <td>5</td>\n",
       "      <td>24</td>\n",
       "      <td>Completed Advance Degree</td>\n",
       "      <td>42660.0</td>\n",
       "      <td>151252</td>\n",
       "      <td>Software Developers</td>\n",
       "      <td>164130</td>\n",
       "    </tr>\n",
       "    <tr>\n",
       "      <th>13</th>\n",
       "      <td>151252</td>\n",
       "      <td>5</td>\n",
       "      <td>22</td>\n",
       "      <td>Completed Advance Degree</td>\n",
       "      <td>42660.0</td>\n",
       "      <td>151252</td>\n",
       "      <td>Software Developers</td>\n",
       "      <td>164130</td>\n",
       "    </tr>\n",
       "    <tr>\n",
       "      <th>27</th>\n",
       "      <td>151212</td>\n",
       "      <td>4</td>\n",
       "      <td>21</td>\n",
       "      <td>Graduated College</td>\n",
       "      <td>42660.0</td>\n",
       "      <td>151212</td>\n",
       "      <td>Information Security Analysts</td>\n",
       "      <td>154600</td>\n",
       "    </tr>\n",
       "    <tr>\n",
       "      <th>41</th>\n",
       "      <td>151212</td>\n",
       "      <td>4</td>\n",
       "      <td>20</td>\n",
       "      <td>Graduated College</td>\n",
       "      <td>42660.0</td>\n",
       "      <td>151212</td>\n",
       "      <td>Information Security Analysts</td>\n",
       "      <td>154600</td>\n",
       "    </tr>\n",
       "    <tr>\n",
       "      <th>7</th>\n",
       "      <td>151252</td>\n",
       "      <td>4</td>\n",
       "      <td>21</td>\n",
       "      <td>Graduated College</td>\n",
       "      <td>42660.0</td>\n",
       "      <td>151252</td>\n",
       "      <td>Software Developers</td>\n",
       "      <td>164130</td>\n",
       "    </tr>\n",
       "    <tr>\n",
       "      <th>122</th>\n",
       "      <td>151252</td>\n",
       "      <td>5</td>\n",
       "      <td>22</td>\n",
       "      <td>Completed Advance Degree</td>\n",
       "      <td>42660.0</td>\n",
       "      <td>151252</td>\n",
       "      <td>Software Developers</td>\n",
       "      <td>164130</td>\n",
       "    </tr>\n",
       "    <tr>\n",
       "      <th>155</th>\n",
       "      <td>151252</td>\n",
       "      <td>5</td>\n",
       "      <td>24</td>\n",
       "      <td>Completed Advance Degree</td>\n",
       "      <td>42660.0</td>\n",
       "      <td>151252</td>\n",
       "      <td>Software Developers</td>\n",
       "      <td>164130</td>\n",
       "    </tr>\n",
       "    <tr>\n",
       "      <th>182</th>\n",
       "      <td>151244</td>\n",
       "      <td>4</td>\n",
       "      <td>21</td>\n",
       "      <td>Graduated College</td>\n",
       "      <td>42660.0</td>\n",
       "      <td>151244</td>\n",
       "      <td>Network and Computer Systems Administrators</td>\n",
       "      <td>117380</td>\n",
       "    </tr>\n",
       "    <tr>\n",
       "      <th>107</th>\n",
       "      <td>151252</td>\n",
       "      <td>4</td>\n",
       "      <td>21</td>\n",
       "      <td>Graduated College</td>\n",
       "      <td>42660.0</td>\n",
       "      <td>151252</td>\n",
       "      <td>Software Developers</td>\n",
       "      <td>164130</td>\n",
       "    </tr>\n",
       "    <tr>\n",
       "      <th>74</th>\n",
       "      <td>151252</td>\n",
       "      <td>5</td>\n",
       "      <td>22</td>\n",
       "      <td>Completed Advance Degree</td>\n",
       "      <td>42660.0</td>\n",
       "      <td>151252</td>\n",
       "      <td>Software Developers</td>\n",
       "      <td>164130</td>\n",
       "    </tr>\n",
       "    <tr>\n",
       "      <th>80</th>\n",
       "      <td>151252</td>\n",
       "      <td>5</td>\n",
       "      <td>22</td>\n",
       "      <td>Completed Advance Degree</td>\n",
       "      <td>42660.0</td>\n",
       "      <td>151252</td>\n",
       "      <td>Software Developers</td>\n",
       "      <td>164130</td>\n",
       "    </tr>\n",
       "    <tr>\n",
       "      <th>9</th>\n",
       "      <td>151252</td>\n",
       "      <td>4</td>\n",
       "      <td>21</td>\n",
       "      <td>Graduated College</td>\n",
       "      <td>42660.0</td>\n",
       "      <td>151252</td>\n",
       "      <td>Software Developers</td>\n",
       "      <td>164130</td>\n",
       "    </tr>\n",
       "    <tr>\n",
       "      <th>35</th>\n",
       "      <td>151211</td>\n",
       "      <td>4</td>\n",
       "      <td>21</td>\n",
       "      <td>Graduated College</td>\n",
       "      <td>42660.0</td>\n",
       "      <td>151211</td>\n",
       "      <td>Computer Systems Analysts</td>\n",
       "      <td>138410</td>\n",
       "    </tr>\n",
       "    <tr>\n",
       "      <th>33</th>\n",
       "      <td>151252</td>\n",
       "      <td>5</td>\n",
       "      <td>22</td>\n",
       "      <td>Completed Advance Degree</td>\n",
       "      <td>42660.0</td>\n",
       "      <td>151252</td>\n",
       "      <td>Software Developers</td>\n",
       "      <td>164130</td>\n",
       "    </tr>\n",
       "    <tr>\n",
       "      <th>214</th>\n",
       "      <td>151299</td>\n",
       "      <td>5</td>\n",
       "      <td>23</td>\n",
       "      <td>Completed Advance Degree</td>\n",
       "      <td>42660.0</td>\n",
       "      <td>151299</td>\n",
       "      <td>Computer Occupations, All Other</td>\n",
       "      <td>137130</td>\n",
       "    </tr>\n",
       "    <tr>\n",
       "      <th>178</th>\n",
       "      <td>151255</td>\n",
       "      <td>4</td>\n",
       "      <td>21</td>\n",
       "      <td>Graduated College</td>\n",
       "      <td>42660.0</td>\n",
       "      <td>151255</td>\n",
       "      <td>Web and Digital Interface Designers</td>\n",
       "      <td>128650</td>\n",
       "    </tr>\n",
       "  </tbody>\n",
       "</table>\n",
       "</div>"
      ],
      "text/plain": [
       "       SOCP SCHL_RC1 SCHL                  ED_LEVEL     AREA OCC_CODE  \\\n",
       "160  151252        5   22  Completed Advance Degree  42660.0   151252   \n",
       "119  151252        5   22  Completed Advance Degree  42660.0   151252   \n",
       "31   151252        5   22  Completed Advance Degree  42660.0   151252   \n",
       "29   151252        5   22  Completed Advance Degree  42660.0   151252   \n",
       "159  151221        5   24  Completed Advance Degree  42660.0   151221   \n",
       "66   151252        4   21         Graduated College  42660.0   151252   \n",
       "136  151252        4   21         Graduated College  42660.0   151252   \n",
       "12   151252        5   23  Completed Advance Degree  42660.0   151252   \n",
       "157  151252        5   22  Completed Advance Degree  42660.0   151252   \n",
       "207  151299        4   21         Graduated College  42660.0   151299   \n",
       "209  151252        5   24  Completed Advance Degree  42660.0   151252   \n",
       "164  151252        5   22  Completed Advance Degree  42660.0   151252   \n",
       "128  151252        4   21         Graduated College  42660.0   151252   \n",
       "139  151211        4   21         Graduated College  42660.0   151211   \n",
       "38   151252        5   24  Completed Advance Degree  42660.0   151252   \n",
       "13   151252        5   22  Completed Advance Degree  42660.0   151252   \n",
       "27   151212        4   21         Graduated College  42660.0   151212   \n",
       "41   151212        4   20         Graduated College  42660.0   151212   \n",
       "7    151252        4   21         Graduated College  42660.0   151252   \n",
       "122  151252        5   22  Completed Advance Degree  42660.0   151252   \n",
       "155  151252        5   24  Completed Advance Degree  42660.0   151252   \n",
       "182  151244        4   21         Graduated College  42660.0   151244   \n",
       "107  151252        4   21         Graduated College  42660.0   151252   \n",
       "74   151252        5   22  Completed Advance Degree  42660.0   151252   \n",
       "80   151252        5   22  Completed Advance Degree  42660.0   151252   \n",
       "9    151252        4   21         Graduated College  42660.0   151252   \n",
       "35   151211        4   21         Graduated College  42660.0   151211   \n",
       "33   151252        5   22  Completed Advance Degree  42660.0   151252   \n",
       "214  151299        5   23  Completed Advance Degree  42660.0   151299   \n",
       "178  151255        4   21         Graduated College  42660.0   151255   \n",
       "\n",
       "                                        OCC_TITLE  A_MEAN  \n",
       "160                           Software Developers  164130  \n",
       "119                           Software Developers  164130  \n",
       "31                            Software Developers  164130  \n",
       "29                            Software Developers  164130  \n",
       "159  Computer and Information Research Scientists  211410  \n",
       "66                            Software Developers  164130  \n",
       "136                           Software Developers  164130  \n",
       "12                            Software Developers  164130  \n",
       "157                           Software Developers  164130  \n",
       "207               Computer Occupations, All Other  137130  \n",
       "209                           Software Developers  164130  \n",
       "164                           Software Developers  164130  \n",
       "128                           Software Developers  164130  \n",
       "139                     Computer Systems Analysts  138410  \n",
       "38                            Software Developers  164130  \n",
       "13                            Software Developers  164130  \n",
       "27                  Information Security Analysts  154600  \n",
       "41                  Information Security Analysts  154600  \n",
       "7                             Software Developers  164130  \n",
       "122                           Software Developers  164130  \n",
       "155                           Software Developers  164130  \n",
       "182   Network and Computer Systems Administrators  117380  \n",
       "107                           Software Developers  164130  \n",
       "74                            Software Developers  164130  \n",
       "80                            Software Developers  164130  \n",
       "9                             Software Developers  164130  \n",
       "35                      Computer Systems Analysts  138410  \n",
       "33                            Software Developers  164130  \n",
       "214               Computer Occupations, All Other  137130  \n",
       "178           Web and Digital Interface Designers  128650  "
      ]
     },
     "execution_count": 482,
     "metadata": {},
     "output_type": "execute_result"
    }
   ],
   "source": [
    "# merge oew with pums\n",
    "merged_df = pums_merged.merge(oew_cleaned, left_on='SOCP', right_on='OCC_CODE', how='left')\n",
    "merged_df.sample(30)"
   ]
  },
  {
   "cell_type": "code",
   "execution_count": 504,
   "metadata": {},
   "outputs": [
    {
     "data": {
      "text/plain": [
       "<Axes: ylabel='ED_LEVEL'>"
      ]
     },
     "execution_count": 504,
     "metadata": {},
     "output_type": "execute_result"
    },
    {
     "data": {
      "image/png": "[encoded data removed]",
      "text/plain": [
       "<Figure size 640x480 with 1 Axes>"
      ]
     },
     "metadata": {},
     "output_type": "display_data"
    }
   ],
   "source": [
    "merged_df['ED_LEVEL'].value_counts().plot(kind='barh')"
   ]
  },
  {
   "cell_type": "code",
   "execution_count": 514,
   "metadata": {},
   "outputs": [
    {
     "data": {
      "text/plain": [
       "<Axes: xlabel='A_MEAN', ylabel='ED_LEVEL'>"
      ]
     },
     "execution_count": 514,
     "metadata": {},
     "output_type": "execute_result"
    },
    {
     "data": {
      "image/png": "[encoded data removed]",
      "text/plain": [
       "<Figure size 640x480 with 1 Axes>"
      ]
     },
     "metadata": {},
     "output_type": "display_data"
    }
   ],
   "source": [
    "merged_df.plot(kind='scatter', y='ED_LEVEL', x='A_MEAN')"
   ]
  },
  {
   "cell_type": "code",
   "execution_count": 498,
   "metadata": {},
   "outputs": [],
   "source": [
    "# Calculate and print the Pearson correlation coefficient\n",
    "def calculate_correlation(df, x_column, y_column):\n",
    "    pearson_cc = df[x_column].corr(df[y_column])\n",
    "    print(f'Pearson Correlation Coefficient is {pearson_cc:.3f}')"
   ]
  },
  {
   "cell_type": "code",
   "execution_count": 520,
   "metadata": {},
   "outputs": [
    {
     "name": "stdout",
     "output_type": "stream",
     "text": [
      "Pearson Correlation Coefficient is 0.152\n"
     ]
    }
   ],
   "source": [
    "calculate_correlation(merged_df, 'A_MEAN', 'SCHL_RC1')"
   ]
  },
  {
   "cell_type": "markdown",
   "metadata": {
    "id": "QwSWIVmotLgV"
   },
   "source": [
    "## 2. Assess data\n",
    "\n",
    "Assess the data according to data quality and tidiness metrics using the report below.\n",
    "\n",
    "List **two** data quality issues and **two** tidiness issues. Assess each data issue visually **and** programmatically, then briefly describe the issue you find.  **Make sure you include justifications for the methods you use for the assessment.**"
   ]
  },
  {
   "cell_type": "markdown",
   "metadata": {
    "id": "adaK2iPNzVu4"
   },
   "source": [
    "### Quality Issue 1:"
   ]
  },
  {
   "cell_type": "markdown",
   "metadata": {},
   "source": [
    "Issue and justification: *column header* is the first row of dataset"
   ]
  },
  {
   "cell_type": "markdown",
   "metadata": {
    "id": "8Be77N4I1AmE"
   },
   "source": [
    "### Quality Issue 2:"
   ]
  },
  {
   "cell_type": "markdown",
   "metadata": {},
   "source": [
    "Issue and justification:\n",
    "*SOCP has a value N which is invalid entry in this context and should be removed from the dataset*"
   ]
  },
  {
   "cell_type": "markdown",
   "metadata": {
    "id": "lXhGiYyiwwKN"
   },
   "source": [
    "### Tidiness Issue 1:"
   ]
  },
  {
   "cell_type": "markdown",
   "metadata": {},
   "source": [
    "Issue and justification: *For my analysis, A_MEAN should be a float/int64 and not an object. It also has values '\\*' and '#' which are invalid*\n"
   ]
  },
  {
   "cell_type": "markdown",
   "metadata": {
    "id": "4ffMoRGSwzYj"
   },
   "source": [
    "### Tidiness Issue 2: "
   ]
  },
  {
   "cell_type": "markdown",
   "metadata": {},
   "source": [
    "Issue and justification: *FILL IN*"
   ]
  },
  {
   "cell_type": "markdown",
   "metadata": {
    "id": "D6gmLnBttpCh"
   },
   "source": [
    "## 3. Clean data\n",
    "Clean the data to solve the 4 issues corresponding to data quality and tidiness found in the assessing step. **Make sure you include justifications for your cleaning decisions.**\n",
    "\n",
    "After the cleaning for each issue, please use **either** the visually or programatical method to validate the cleaning was succesful.\n",
    "\n",
    "At this stage, you are also expected to remove variables that are unnecessary for your analysis and combine your datasets. Depending on your datasets, you may choose to perform variable combination and elimination before or after the cleaning stage. Your dataset must have **at least** 4 variables after combining the data."
   ]
  },
  {
   "cell_type": "markdown",
   "metadata": {
    "id": "FmFhN52Yyn3l"
   },
   "source": [
    "### **Quality Issue 1: FILL IN**"
   ]
  },
  {
   "cell_type": "markdown",
   "metadata": {},
   "source": [
    "Justification: *Fixing the column headers improves that handling when trying to combine the data from the two datasets to use column names instead of numbers*"
   ]
  },
  {
   "cell_type": "markdown",
   "metadata": {
    "id": "n_DAUbJrymBL"
   },
   "source": [
    "### **Quality Issue 2: FILL IN**"
   ]
  },
  {
   "cell_type": "markdown",
   "metadata": {},
   "source": [
    "Justification: *SOCP has a row with value 'N' which is invalid entry in this context and after the analysis if not removed*"
   ]
  },
  {
   "cell_type": "markdown",
   "metadata": {
    "id": "bIUrrfSNyOPR"
   },
   "source": [
    "### **Tidiness Issue 1: FILL IN**"
   ]
  },
  {
   "cell_type": "markdown",
   "metadata": {},
   "source": [
    "Justification: *Replacing this values with np.nan exlcudes them from calculations of mean and sum by default*"
   ]
  },
  {
   "cell_type": "markdown",
   "metadata": {
    "id": "o51Bt8kwyTzk"
   },
   "source": [
    "### **Tidiness Issue 2: FILL IN**"
   ]
  },
  {
   "cell_type": "code",
   "execution_count": null,
   "metadata": {
    "id": "7zW8O5yx4Y9O"
   },
   "outputs": [],
   "source": [
    "#FILL IN - Apply the cleaning strategy"
   ]
  },
  {
   "cell_type": "code",
   "execution_count": null,
   "metadata": {
    "id": "q6I_Sr7lxXi5"
   },
   "outputs": [],
   "source": [
    "#FILL IN - Validate the cleaning was successful"
   ]
  },
  {
   "cell_type": "markdown",
   "metadata": {},
   "source": [
    "Justification: *FILL IN*"
   ]
  },
  {
   "cell_type": "markdown",
   "metadata": {},
   "source": [
    "### **Remove unnecessary variables and combine datasets**\n",
    "\n",
    "Depending on the datasets, you can also peform the combination before the cleaning steps."
   ]
  },
  {
   "cell_type": "code",
   "execution_count": null,
   "metadata": {},
   "outputs": [],
   "source": [
    "#FILL IN - Remove unnecessary variables and combine datasets"
   ]
  },
  {
   "cell_type": "markdown",
   "metadata": {
    "id": "F42urHuzttjF"
   },
   "source": [
    "## 4. Update your data store\n",
    "Update your local database/data store with the cleaned data, following best practices for storing your cleaned data:\n",
    "\n",
    "- Must maintain different instances / versions of data (raw and cleaned data)\n",
    "- Must name the dataset files informatively\n",
    "- Ensure both the raw and cleaned data is saved to your database/data store"
   ]
  },
  {
   "cell_type": "code",
   "execution_count": 154,
   "metadata": {
    "id": "V3uay7EJUV_L"
   },
   "outputs": [],
   "source": [
    "#FILL IN - saving data\n",
    "# merged_df.to_csv('pums_oews_2023_compsci_edlevel.csv', index=False)"
   ]
  },
  {
   "cell_type": "markdown",
   "metadata": {
    "id": "cGy_yddGtzhM"
   },
   "source": [
    "## 5. Answer the research question\n",
    "\n",
    "### **5.1:** Define and answer the research question \n",
    "Going back to the problem statement in step 1, use the cleaned data to answer the question you raised. Produce **at least** two visualizations using the cleaned data and explain how they help you answer the question."
   ]
  },
  {
   "cell_type": "markdown",
   "metadata": {
    "id": "gjedE4s4ZkEd"
   },
   "source": [
    "*Research question:* FILL IN from answer to Step 1"
   ]
  },
  {
   "cell_type": "code",
   "execution_count": null,
   "metadata": {
    "id": "Lkw3rW9kZmOm"
   },
   "outputs": [],
   "source": [
    "#Visual 1 - FILL IN"
   ]
  },
  {
   "cell_type": "markdown",
   "metadata": {},
   "source": [
    "*Answer to research question:* FILL IN"
   ]
  },
  {
   "cell_type": "code",
   "execution_count": null,
   "metadata": {
    "id": "6fdK_8ZGZm9R"
   },
   "outputs": [],
   "source": [
    "#Visual 2 - FILL IN"
   ]
  },
  {
   "cell_type": "markdown",
   "metadata": {
    "id": "K5RgvMGUZoHn"
   },
   "source": [
    "*Answer to research question:* FILL IN"
   ]
  },
  {
   "cell_type": "markdown",
   "metadata": {
    "id": "0ezWXXZVj-TP"
   },
   "source": [
    "### **5.2:** Reflection\n",
    "In 2-4 sentences, if you had more time to complete the project, what actions would you take? For example, which data quality and structural issues would you look into further, and what research questions would you further explore?"
   ]
  },
  {
   "cell_type": "markdown",
   "metadata": {
    "id": "XB3RBDG5kFe1"
   },
   "source": [
    "*Answer:* FILL IN"
   ]
  }
 ],
 "metadata": {
  "colab": {
   "provenance": []
  },
  "kernelspec": {
   "display_name": "Python 3 (ipykernel)",
   "language": "python",
   "name": "python3"
  },
  "language_info": {
   "codemirror_mode": {
    "name": "ipython",
    "version": 3
   },
   "file_extension": ".py",
   "mimetype": "text/x-python",
   "name": "python",
   "nbconvert_exporter": "python",
   "pygments_lexer": "ipython3",
   "version": "3.12.4"
  }
 },
 "nbformat": 4,
 "nbformat_minor": 4
}
